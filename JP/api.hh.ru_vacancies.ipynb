{
 "cells": [
  {
   "cell_type": "code",
   "execution_count": 2,
   "metadata": {},
   "outputs": [
    {
     "name": "stderr",
     "output_type": "stream",
     "text": [
      "100%|██████████| 50/50 [00:14<00:00,  3.53it/s]"
     ]
    },
    {
     "name": "stdout",
     "output_type": "stream",
     "text": [
      "188472.22222222222\n"
     ]
    },
    {
     "name": "stderr",
     "output_type": "stream",
     "text": [
      "\n"
     ]
    }
   ],
   "source": [
    "import pandas as pd\n",
    "import requests\n",
    "from tqdm import tqdm\n",
    "\n",
    "\n",
    "vacancies = []\n",
    "vacancy_query = \"data scientist\"\n",
    "\n",
    "for page_number in tqdm(range(50)):\n",
    "    try:\n",
    "        response = requests.get(\"https://api.hh.ru/vacancies\",\n",
    "                                params={\n",
    "                                    \"text\": vacancy_query,\n",
    "                                    \"page\": page_number}\n",
    "                               )\n",
    "        json_response = response.json()\n",
    "\n",
    "        vacancies += json_response[\"items\"]\n",
    "    except Exception as ex:\n",
    "        print(ex)\n",
    "\n",
    "vacancies_dataset = {\n",
    "    \"vacancy_name\": [],\n",
    "    \"employer_name\": [],\n",
    "    \"city\": [],\n",
    "    \"salary\": []\n",
    "}\n",
    "\n",
    "for vacancy in vacancies:\n",
    "    vacancies_dataset[\"vacancy_name\"].append(vacancy[\"name\"])\n",
    "    vacancies_dataset[\"employer_name\"].append(vacancy[\"employer\"][\"name\"])\n",
    "    \n",
    "    try:\n",
    "        vacancies_dataset[\"city\"].append(vacancy.get(\"address\", {}).get(\"city\", \"no city\"))\n",
    "    except:\n",
    "        vacancies_dataset[\"city\"].append(\"no city\")\n",
    "        \n",
    "    salary_from = None\n",
    "    salary_to = None\n",
    "    salary_currency = None\n",
    "    \n",
    "    try:\n",
    "        salary_from = vacancy.get('salary', {}).get('from', None)\n",
    "    except:\n",
    "        pass\n",
    "    \n",
    "    try:\n",
    "        salary_to = vacancy.get('salary', {}).get('to', None)\n",
    "    except:\n",
    "        pass\n",
    "    \n",
    "    try:\n",
    "        salary_currency = vacancy.get('salary', {}).get('currency', None)\n",
    "    except:\n",
    "        pass\n",
    "\n",
    "    \n",
    "    if salary_currency != 'RUR' or (salary_from is None and salary_to is None):\n",
    "        vacancies_dataset[\"salary\"].append(None)\n",
    "    elif salary_from is not None and salary_to is not None:\n",
    "        vacancies_dataset[\"salary\"].append((salary_from + salary_to) / 2.0)\n",
    "    elif salary_from is not None:\n",
    "        vacancies_dataset[\"salary\"].append(salary_from)\n",
    "    elif salary_to is not None:\n",
    "        vacancies_dataset[\"salary\"].append(salary_to)\n",
    "    \n",
    "vacancies_dataset = pd.DataFrame(vacancies_dataset)\n",
    "\n",
    "print(vacancies_dataset.salary.mean())"
   ]
  },
  {
   "cell_type": "code",
   "execution_count": 7,
   "metadata": {},
   "outputs": [
    {
     "name": "stderr",
     "output_type": "stream",
     "text": [
      "100%|██████████| 50/50 [00:13<00:00,  3.59it/s]"
     ]
    },
    {
     "name": "stdout",
     "output_type": "stream",
     "text": [
      "0.5523809523809524\n"
     ]
    },
    {
     "name": "stderr",
     "output_type": "stream",
     "text": [
      "\n"
     ]
    }
   ],
   "source": [
    "import pandas as pd\n",
    "import requests\n",
    "from tqdm import tqdm\n",
    "\n",
    "\n",
    "vacancies = []\n",
    "vacancy_query = \"data scientist\"\n",
    "\n",
    "for page_number in tqdm(range(50)):\n",
    "    try:\n",
    "        response = requests.get(\"https://api.hh.ru/vacancies\",\n",
    "                                params={\n",
    "                                    \"text\": vacancy_query,\n",
    "                                    \"page\": page_number}\n",
    "                               )\n",
    "        json_response = response.json()\n",
    "\n",
    "        vacancies += json_response[\"items\"]\n",
    "    except Exception as ex:\n",
    "        print(ex)\n",
    "\n",
    "moscow_counter = 0\n",
    "\n",
    "for vacancy in vacancies:\n",
    "    try:\n",
    "        city = vacancy.get(\"area\").get(\"name\")\n",
    "        \n",
    "        if city == 'Москва':\n",
    "            moscow_counter += 1\n",
    "    except:\n",
    "        pass\n",
    "\n",
    "print(moscow_counter / len(vacancies))"
   ]
  },
  {
   "cell_type": "code",
   "execution_count": 8,
   "metadata": {},
   "outputs": [
    {
     "data": {
      "text/plain": [
       "348"
      ]
     },
     "execution_count": 8,
     "metadata": {},
     "output_type": "execute_result"
    }
   ],
   "source": [
    "moscow_counter"
   ]
  },
  {
   "cell_type": "code",
   "execution_count": null,
   "metadata": {},
   "outputs": [],
   "source": []
  }
 ],
 "metadata": {
  "kernelspec": {
   "display_name": "Python 3",
   "language": "python",
   "name": "python3"
  },
  "language_info": {
   "codemirror_mode": {
    "name": "ipython",
    "version": 3
   },
   "file_extension": ".py",
   "mimetype": "text/x-python",
   "name": "python",
   "nbconvert_exporter": "python",
   "pygments_lexer": "ipython3",
   "version": "3.8.8"
  }
 },
 "nbformat": 4,
 "nbformat_minor": 4
}
