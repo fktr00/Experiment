{
 "cells": [
  {
   "cell_type": "code",
   "execution_count": 1,
   "metadata": {},
   "outputs": [
    {
     "name": "stdout",
     "output_type": "stream",
     "text": [
      "Collecting psycopg2\n",
      "  Downloading psycopg2-2.8.6-cp38-cp38-win_amd64.whl (1.1 MB)\n",
      "Installing collected packages: psycopg2\n",
      "Successfully installed psycopg2-2.8.6\n"
     ]
    }
   ],
   "source": [
    "#!pip install psycopg2  "
   ]
  },
  {
   "cell_type": "code",
   "execution_count": null,
   "metadata": {},
   "outputs": [],
   "source": [
    "#psql \\! chcp 1251"
   ]
  },
  {
   "cell_type": "code",
   "execution_count": 2,
   "metadata": {},
   "outputs": [
    {
     "name": "stdout",
     "output_type": "stream",
     "text": [
      "You are connected to -  PostgreSQL 11.11, compiled by Visual C++ build 1914, 64-bit \n",
      "\n",
      "PostgreSQL connection is closed\n"
     ]
    }
   ],
   "source": [
    "import psycopg2  \n",
    "try:  \n",
    "    connection = psycopg2.connect(user = \"postgres\",  \n",
    "                                  password = \"19970908\",  \n",
    "                                  host = \"127.0.0.1\",  \n",
    "                                  port = \"5432\",  \n",
    "                                  database = \"sf_test\")  \n",
    "    cursor = connection.cursor()  \n",
    "    cursor.execute(\"SELECT version();\")  \n",
    "    record = cursor.fetchone()  \n",
    "    print(\"You are connected to - \", record[0], \"\\n\")  \n",
    "except (Exception, psycopg2.Error) as error:  \n",
    "    print(\"Error while connecting to PostgreSQL\", error)  \n",
    "finally:  \n",
    "    if (connection):  \n",
    "        cursor.close()  \n",
    "        connection.close()  \n",
    "        print(\"PostgreSQL connection is closed\")  "
   ]
  },
  {
   "cell_type": "code",
   "execution_count": 4,
   "metadata": {},
   "outputs": [
    {
     "data": {
      "text/plain": [
       "99.498743710662"
      ]
     },
     "execution_count": 4,
     "metadata": {},
     "output_type": "execute_result"
    }
   ],
   "source": [
    "((1.1*0.9)**0.5)*100=99.4987"
   ]
  },
  {
   "cell_type": "code",
   "execution_count": null,
   "metadata": {},
   "outputs": [],
   "source": [
    "15000"
   ]
  },
  {
   "cell_type": "code",
   "execution_count": 1,
   "metadata": {},
   "outputs": [
    {
     "name": "stdout",
     "output_type": "stream",
     "text": [
      "Table created successfully in PostgreSQL \n",
      "PostgreSQL connection is closed\n"
     ]
    }
   ],
   "source": [
    "import psycopg2  \n",
    "try:  \n",
    "    connection = psycopg2.connect(user = \"postgres\",  \n",
    "                                  password = \"19970908\",  \n",
    "                                  host = \"127.0.0.1\",  \n",
    "                                  port = \"5432\",  \n",
    "                                  database = \"sf_test\")  \n",
    "    cursor = connection.cursor()  \n",
    "      \n",
    "    create_table_query = '''CREATE TABLE mobile \n",
    "          (ID INT PRIMARY KEY     NOT NULL, \n",
    "          MODEL           TEXT    NOT NULL, \n",
    "          PRICE         REAL); '''  \n",
    "      \n",
    "    cursor.execute(create_table_query)  \n",
    "    connection.commit()  \n",
    "    print(\"Table created successfully in PostgreSQL \")  \n",
    "except (Exception, psycopg2.DatabaseError) as error :  \n",
    "    print (\"Error while creating PostgreSQL table\", error)  \n",
    "finally:   \n",
    "        if(connection):  \n",
    "            cursor.close()  \n",
    "            connection.close()  \n",
    "            print(\"PostgreSQL connection is closed\") "
   ]
  },
  {
   "cell_type": "code",
   "execution_count": 5,
   "metadata": {},
   "outputs": [
    {
     "name": "stdout",
     "output_type": "stream",
     "text": [
      "1 Record inserted successfully into mobile table\n"
     ]
    }
   ],
   "source": [
    "try:  \n",
    "    connection = psycopg2.connect(user=\"postgres\",  \n",
    "                                  password=\"19970908\",  \n",
    "                                  host=\"127.0.0.1\",  \n",
    "                                  port=\"5432\",  \n",
    "                                  database=\"sf_test\")  \n",
    "    cursor = connection.cursor()  \n",
    "    postgres_insert_query = \"\"\" INSERT INTO mobile (ID, MODEL, PRICE) VALUES (%s, %s, %s)\"\"\"  \n",
    "    record_to_insert = (5, 'One Plus 6', 950)  \n",
    "    cursor.execute(postgres_insert_query, record_to_insert)  \n",
    "    connection.commit()  \n",
    "    count = cursor.rowcount  \n",
    "    print (count, \"Record inserted successfully into mobile table\")    \n",
    "except (Exception, psycopg2.Error) as error :  \n",
    "    if(connection):  \n",
    "        print(\"Error\", error)  \n",
    "finally:  \n",
    "    if(connection):  \n",
    "        cursor.close()  \n",
    "        connection.close() "
   ]
  },
  {
   "cell_type": "code",
   "execution_count": 19,
   "metadata": {},
   "outputs": [],
   "source": [
    "try:  \n",
    "    connection = psycopg2.connect(user=\"postgres\",  \n",
    "                                  password=\"19970908\",  \n",
    "                                  host=\"127.0.0.1\",  \n",
    "                                  port=\"5432\",  \n",
    "                                  database=\"sf_test\")  \n",
    "    cursor = connection.cursor()  \n",
    "  \n",
    "    postgreSQL_select_Query = \"select model from mobile\"  \n",
    "    cursor.execute(postgreSQL_select_Query)  \n",
    "    mobile_records = cursor.fetchall()   \n",
    "    connection.commit()\n",
    "except (Exception, psycopg2.Error) as error :  \n",
    "    if(connection):  \n",
    "        print(\"Error\", error)  \n",
    "finally:  \n",
    "    if(connection):  \n",
    "        cursor.close()  \n",
    "        connection.close() "
   ]
  },
  {
   "cell_type": "code",
   "execution_count": 20,
   "metadata": {},
   "outputs": [
    {
     "data": {
      "text/plain": [
       "[('One Plus 6',), ('Nutella',), ('Iphone XS',), ('Pixel',)]"
      ]
     },
     "execution_count": 20,
     "metadata": {},
     "output_type": "execute_result"
    }
   ],
   "source": [
    "mobile_records"
   ]
  },
  {
   "cell_type": "code",
   "execution_count": 18,
   "metadata": {},
   "outputs": [],
   "source": [
    "try:  \n",
    "    connection = psycopg2.connect(user=\"postgres\",  \n",
    "                                  password=\"19970908\",  \n",
    "                                  host=\"127.0.0.1\",  \n",
    "                                  port=\"5432\",  \n",
    "                                  database=\"sf_test\")  \n",
    "    cursor = connection.cursor()  \n",
    "  \n",
    "    # Добавление новых строк  \n",
    "    postgres_insert_query = \"\"\" INSERT INTO mobile (ID, MODEL, PRICE) VALUES (%s,%s,%s)\"\"\"  \n",
    "    records_to_insert = [  \n",
    "        (1, 'Iphone XS', 1050),  \n",
    "        (2, 'Nutella', 30),  \n",
    "        (3, 'Pixel', 970)  \n",
    "    ]  \n",
    "    for record in records_to_insert:  \n",
    "        cursor.execute(postgres_insert_query, record)  \n",
    "  \n",
    "    # Обновление строк  \n",
    "    postgreSQL_update_Query = \"update mobile set price = 900 where price > 900\"  \n",
    "    cursor.execute(postgreSQL_update_Query)  \n",
    "    connection.commit()  \n",
    "except (Exception, psycopg2.Error) as error :  \n",
    "    if(connection):  \n",
    "        print(\"Error\", error)  \n",
    "finally:  \n",
    "    if(connection):  \n",
    "        cursor.close()  \n",
    "        connection.close() "
   ]
  },
  {
   "cell_type": "code",
   "execution_count": 22,
   "metadata": {},
   "outputs": [
    {
     "data": {
      "text/plain": [
       "4"
      ]
     },
     "execution_count": 22,
     "metadata": {},
     "output_type": "execute_result"
    }
   ],
   "source": [
    "cursor.rowcount\n"
   ]
  },
  {
   "cell_type": "code",
   "execution_count": 23,
   "metadata": {},
   "outputs": [],
   "source": [
    "try:  \n",
    "    connection = psycopg2.connect(user=\"postgres\",  \n",
    "                                  password=\"19970908\",  \n",
    "                                  host=\"127.0.0.1\",  \n",
    "                                  port=\"5432\",  \n",
    "                                  database=\"sf_test\")  \n",
    "    cursor = connection.cursor()  \n",
    "  \n",
    "    query = \"\"\"delete from mobile where id = %s\"\"\"  \n",
    "    cursor.execute(query, (2,))  \n",
    "    connection.commit()   \n",
    "except (Exception, psycopg2.Error) as error :  \n",
    "    if(connection):  \n",
    "        print(\"Error\", error)  \n",
    "finally:  \n",
    "    if(connection):  \n",
    "        cursor.close()  \n",
    "        connection.close() "
   ]
  },
  {
   "cell_type": "code",
   "execution_count": null,
   "metadata": {},
   "outputs": [],
   "source": []
  },
  {
   "cell_type": "code",
   "execution_count": 28,
   "metadata": {},
   "outputs": [],
   "source": [
    "try:  \n",
    "    connection = psycopg2.connect(user=\"postgres\",  \n",
    "                                  password=\"19970908\",  \n",
    "                                  host=\"127.0.0.1\",  \n",
    "                                  port=\"5432\",  \n",
    "                                  database=\"sf_test\")  \n",
    "    cursor = connection.cursor()  \n",
    "  \n",
    "    # Удалим все данные (без условия)  \n",
    "    cursor.execute(\"DELETE FROM mobile\")\n",
    "  \n",
    "    # Теперь вставим строки в таблицу\n",
    "    sql_insert_query = \"\"\" INSERT INTO mobile (id, model, price) VALUES (%s,%s,%s) \"\"\"  \n",
    "    records_to_insert = [  \n",
    "        (1, 'Iphone XS', 1050),  \n",
    "        (2, 'Nutella', 30),  \n",
    "        (3, 'Pixel', 970)  \n",
    "    ]  \n",
    "    result = cursor.executemany(sql_insert_query, records_to_insert)  \n",
    "    connection.commit()  \n",
    "except (Exception, psycopg2.Error) as error :  \n",
    "    if(connection):  \n",
    "        print(\"Error\", error)  \n",
    "finally:  \n",
    "    if(connection):  \n",
    "        cursor.close()  \n",
    "        connection.close() "
   ]
  },
  {
   "cell_type": "code",
   "execution_count": 25,
   "metadata": {},
   "outputs": [],
   "source": [
    "try:  \n",
    "    connection = psycopg2.connect(user=\"postgres\",  \n",
    "                                  password=\"19970908\",  \n",
    "                                  host=\"127.0.0.1\",  \n",
    "                                  port=\"5432\",  \n",
    "                                  database=\"sf_test\")  \n",
    "    cursor = connection.cursor()  \n",
    "  \n",
    "    sql_update_query = \"\"\" UPDATE  mobile set model = %s where model = %s \"\"\"  \n",
    "    records_to_update = [  \n",
    "        ('Nutella', 'Iphone XS',),  \n",
    "        ('Nutella', 'Pixel',)  \n",
    "    ]  \n",
    "    result = cursor.executemany(sql_update_query, records_to_update)  \n",
    "    connection.commit()  \n",
    "except (Exception, psycopg2.Error) as error :  \n",
    "    if(connection):  \n",
    "        print(\"Error\", error)  \n",
    "finally:  \n",
    "    if(connection):  \n",
    "        cursor.close()  \n",
    "        connection.close() "
   ]
  },
  {
   "cell_type": "code",
   "execution_count": 26,
   "metadata": {},
   "outputs": [
    {
     "data": {
      "text/plain": [
       "2"
      ]
     },
     "execution_count": 26,
     "metadata": {},
     "output_type": "execute_result"
    }
   ],
   "source": [
    "cursor.rowcount"
   ]
  },
  {
   "cell_type": "code",
   "execution_count": 27,
   "metadata": {},
   "outputs": [],
   "source": [
    "try:  \n",
    "    connection = psycopg2.connect(user=\"postgres\",  \n",
    "                                  password=\"19970908\",  \n",
    "                                  host=\"127.0.0.1\",  \n",
    "                                  port=\"5432\",  \n",
    "                                  database=\"sf_test\")  \n",
    "    cursor = connection.cursor()  \n",
    "  \n",
    "    # Найдем список цен, которые не удовлетворяют нашему условию  \n",
    "    cursor.execute(\"select price from mobile where price not between 900 and 1000\")  \n",
    "    prices_to_delete = cursor.fetchall()  \n",
    "  \n",
    "    # Теперь удалим строки с найденными ценами  \n",
    "    sql_delete_query = \"\"\" DELETE FROM mobile WHERE price = %s \"\"\"  \n",
    "    result = cursor.executemany(sql_delete_query, prices_to_delete)  \n",
    "    connection.commit()    \n",
    "except (Exception, psycopg2.Error) as error :  \n",
    "    if(connection):  \n",
    "        print(\"Error\", error)  \n",
    "finally:  \n",
    "    if(connection):  \n",
    "        cursor.close()  \n",
    "        connection.close() "
   ]
  },
  {
   "cell_type": "code",
   "execution_count": null,
   "metadata": {},
   "outputs": [],
   "source": [
    "try:  \n",
    "    connection = psycopg2.connect(user=\"postgres\",  \n",
    "                                  password=\"19970908\",  \n",
    "                                  host=\"127.0.0.1\",  \n",
    "                                  port=\"5432\",  \n",
    "                                  database=\"sf_test\")  \n",
    "    cursor = connection.cursor()  \n",
    "  \n",
    "   # Наш код будет здесь  \n",
    "  \n",
    "except (Exception, psycopg2.Error) as error :  \n",
    "    if(connection):  \n",
    "        print(\"Error\", error)  \n",
    "finally:  \n",
    "    if(connection):  \n",
    "        cursor.close()  \n",
    "        connection.close() "
   ]
  },
  {
   "cell_type": "code",
   "execution_count": 63,
   "metadata": {},
   "outputs": [],
   "source": [
    "import pandas as pd\n",
    "import psycopg2\n",
    "connection = psycopg2.connect(host=\"localhost\",\n",
    "                             password=\"19970908\",\n",
    "                             user=\"postgres\",\n",
    "                             database=\"sf_test\")"
   ]
  },
  {
   "cell_type": "code",
   "execution_count": 64,
   "metadata": {},
   "outputs": [],
   "source": [
    "cursor = connection.cursor()"
   ]
  },
  {
   "cell_type": "code",
   "execution_count": 43,
   "metadata": {},
   "outputs": [],
   "source": [
    "connection.commit() "
   ]
  },
  {
   "cell_type": "code",
   "execution_count": 69,
   "metadata": {},
   "outputs": [],
   "source": [
    "connection.rollback()"
   ]
  },
  {
   "cell_type": "code",
   "execution_count": 61,
   "metadata": {},
   "outputs": [],
   "source": [
    "cursor.close()  \n",
    "connection.close()"
   ]
  },
  {
   "cell_type": "code",
   "execution_count": 70,
   "metadata": {},
   "outputs": [],
   "source": [
    "cursor.execute('select * from mobile')"
   ]
  },
  {
   "cell_type": "code",
   "execution_count": 71,
   "metadata": {},
   "outputs": [
    {
     "data": {
      "text/plain": [
       "[(1, 'Iphone XS', 1050.0), (2, 'Nutella', 30.0), (3, 'Pixel', 970.0)]"
      ]
     },
     "execution_count": 71,
     "metadata": {},
     "output_type": "execute_result"
    }
   ],
   "source": [
    "cursor.fetchall()"
   ]
  },
  {
   "cell_type": "code",
   "execution_count": 60,
   "metadata": {},
   "outputs": [
    {
     "data": {
      "text/html": [
       "<div>\n",
       "<style scoped>\n",
       "    .dataframe tbody tr th:only-of-type {\n",
       "        vertical-align: middle;\n",
       "    }\n",
       "\n",
       "    .dataframe tbody tr th {\n",
       "        vertical-align: top;\n",
       "    }\n",
       "\n",
       "    .dataframe thead th {\n",
       "        text-align: right;\n",
       "    }\n",
       "</style>\n",
       "<table border=\"1\" class=\"dataframe\">\n",
       "  <thead>\n",
       "    <tr style=\"text-align: right;\">\n",
       "      <th></th>\n",
       "      <th>id</th>\n",
       "      <th>model</th>\n",
       "      <th>price</th>\n",
       "    </tr>\n",
       "  </thead>\n",
       "  <tbody>\n",
       "    <tr>\n",
       "      <th>0</th>\n",
       "      <td>1</td>\n",
       "      <td>Iphone XS</td>\n",
       "      <td>1050.0</td>\n",
       "    </tr>\n",
       "    <tr>\n",
       "      <th>1</th>\n",
       "      <td>2</td>\n",
       "      <td>Nutella</td>\n",
       "      <td>30.0</td>\n",
       "    </tr>\n",
       "    <tr>\n",
       "      <th>2</th>\n",
       "      <td>3</td>\n",
       "      <td>Pixel</td>\n",
       "      <td>970.0</td>\n",
       "    </tr>\n",
       "  </tbody>\n",
       "</table>\n",
       "</div>"
      ],
      "text/plain": [
       "   id      model   price\n",
       "0   1  Iphone XS  1050.0\n",
       "1   2    Nutella    30.0\n",
       "2   3      Pixel   970.0"
      ]
     },
     "execution_count": 60,
     "metadata": {},
     "output_type": "execute_result"
    }
   ],
   "source": [
    "pd.read_sql('select * from mobile', connection)"
   ]
  },
  {
   "cell_type": "code",
   "execution_count": null,
   "metadata": {},
   "outputs": [],
   "source": []
  }
 ],
 "metadata": {
  "kernelspec": {
   "display_name": "Python 3",
   "language": "python",
   "name": "python3"
  },
  "language_info": {
   "codemirror_mode": {
    "name": "ipython",
    "version": 3
   },
   "file_extension": ".py",
   "mimetype": "text/x-python",
   "name": "python",
   "nbconvert_exporter": "python",
   "pygments_lexer": "ipython3",
   "version": "3.8.5"
  }
 },
 "nbformat": 4,
 "nbformat_minor": 4
}
