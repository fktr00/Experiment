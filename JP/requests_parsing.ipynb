{
 "cells": [
  {
   "cell_type": "code",
   "execution_count": null,
   "metadata": {},
   "outputs": [],
   "source": [
    "import requests\n",
    "from pprint import pprint\n",
    "response = requests.get('https://www.cbr-xml-daily.ru/daily_json.js')  "
   ]
  },
  {
   "cell_type": "code",
   "execution_count": null,
   "metadata": {},
   "outputs": [],
   "source": [
    "print(response)  "
   ]
  },
  {
   "cell_type": "code",
   "execution_count": null,
   "metadata": {},
   "outputs": [],
   "source": [
    "print(response.status_code)"
   ]
  },
  {
   "cell_type": "code",
   "execution_count": null,
   "metadata": {},
   "outputs": [],
   "source": [
    "print(response.text)"
   ]
  },
  {
   "cell_type": "code",
   "execution_count": null,
   "metadata": {},
   "outputs": [],
   "source": [
    "currencies = response.json()\n",
    "pprint(currencies)"
   ]
  },
  {
   "cell_type": "code",
   "execution_count": null,
   "metadata": {},
   "outputs": [],
   "source": [
    "currencies['Valute']['CZK']"
   ]
  },
  {
   "cell_type": "code",
   "execution_count": null,
   "metadata": {},
   "outputs": [],
   "source": [
    "print(currencies['Valute']['CZK']['Name'])"
   ]
  },
  {
   "cell_type": "code",
   "execution_count": null,
   "metadata": {},
   "outputs": [],
   "source": [
    "def exchange_rates(currency, format='full'):\n",
    "    response = requests.get('https://www.cbr-xml-daily.ru/daily_json.js')  \n",
    "    currencies = response.json()['Valute']\n",
    "    d = currencies[currency]\n",
    "    if format=='full':\n",
    "        return d\n",
    "    elif format=='value':\n",
    "        return d['Value']"
   ]
  },
  {
   "cell_type": "code",
   "execution_count": null,
   "metadata": {},
   "outputs": [],
   "source": [
    "exchange_rates('EUR', format='value')"
   ]
  },
  {
   "cell_type": "code",
   "execution_count": null,
   "metadata": {},
   "outputs": [],
   "source": [
    "requests.get('https://www.cbr-xml-daily.ru/daily_json.js')  \n",
    "currencies = response.json()['Valute']\n",
    "currencies['EUR']"
   ]
  },
  {
   "cell_type": "code",
   "execution_count": null,
   "metadata": {},
   "outputs": [],
   "source": [
    "def currency_name(g):\n",
    "    url = 'https://www.cbr-xml-daily.ru/daily_json.js'  \n",
    "    response = requests.get(url).json()['Valute']    \n",
    "    for i in response:\n",
    "        if currencies[i]['ID'] == g:\n",
    "            return currencies[i]['Name']"
   ]
  },
  {
   "cell_type": "code",
   "execution_count": null,
   "metadata": {},
   "outputs": [],
   "source": [
    "currency_name('R01700J')"
   ]
  },
  {
   "cell_type": "code",
   "execution_count": null,
   "metadata": {},
   "outputs": [],
   "source": [
    "currency_name('R01700J')"
   ]
  },
  {
   "cell_type": "code",
   "execution_count": null,
   "metadata": {},
   "outputs": [],
   "source": [
    "import requests  \n",
    "  \n",
    "url = 'https://nplus1.ru/news/2019/06/04/slothbot'   \n",
    "  \n",
    "response = requests.get(url)  \n",
    "  \n",
    "# Убедимся, что мы успешно получили ответ     \n",
    "print(response.status_code)    \n",
    "# => 200   "
   ]
  },
  {
   "cell_type": "code",
   "execution_count": null,
   "metadata": {},
   "outputs": [],
   "source": [
    "print(response.text)   "
   ]
  },
  {
   "cell_type": "code",
   "execution_count": null,
   "metadata": {},
   "outputs": [],
   "source": [
    "from bs4 import BeautifulSoup    \n",
    "import requests  \n",
    "# Получаем данные, как и ранее    \n",
    "url = 'https://nplus1.ru/news/2019/06/04/slothbot'   \n",
    "response = requests.get(url)    \n",
    "    \n",
    "# Теперь создаим объект BeautifulSoup, указывая html парсер    \n",
    "page = BeautifulSoup(response.text, 'html.parser')    \n",
    "    \n",
    "# Всё готово, чтобы получать данные из страницы    \n",
    "# Для начала получим title, отображающийся на закладках браузера    \n",
    "print(page.title)  \n",
    "# => <title>Робота-ленивца научили лазать по паутине из тросов</title>  \n",
    "    \n",
    "# Мы получили тэг. Чтобы достать из него текст, вызовем атрибут text    \n",
    "page.title.text    \n",
    "# => 'Робота-ленивца научили лазать по паутине из тросов'   "
   ]
  },
  {
   "cell_type": "code",
   "execution_count": null,
   "metadata": {},
   "outputs": [],
   "source": [
    "soup = BeautifulSoup(response.text, 'html.parser')\n",
    "soup.title.text"
   ]
  },
  {
   "cell_type": "code",
   "execution_count": null,
   "metadata": {},
   "outputs": [],
   "source": [
    "print(soup.find('h1'))"
   ]
  },
  {
   "cell_type": "code",
   "execution_count": null,
   "metadata": {},
   "outputs": [],
   "source": [
    "print(soup.find('time').text)"
   ]
  },
  {
   "cell_type": "code",
   "execution_count": null,
   "metadata": {},
   "outputs": [],
   "source": [
    "j = requests.get('https://ru.wikipedia.org/wiki/Pink_Floyd')"
   ]
  },
  {
   "cell_type": "code",
   "execution_count": null,
   "metadata": {},
   "outputs": [],
   "source": [
    "h = BeautifulSoup(j.text,'html.parser')"
   ]
  },
  {
   "cell_type": "code",
   "execution_count": null,
   "metadata": {},
   "outputs": [],
   "source": [
    "print(h.find('h1').text)"
   ]
  },
  {
   "cell_type": "code",
   "execution_count": null,
   "metadata": {},
   "outputs": [],
   "source": [
    "def wiki_header(k):\n",
    "    j = requests.get(k)\n",
    "    h = BeautifulSoup(j.text,'html.parser')\n",
    "    return h.find('h1').text"
   ]
  },
  {
   "cell_type": "code",
   "execution_count": null,
   "metadata": {},
   "outputs": [],
   "source": [
    "wiki_header('https://en.wikipedia.org/wiki/Operating_system')"
   ]
  },
  {
   "cell_type": "code",
   "execution_count": null,
   "metadata": {
    "scrolled": true
   },
   "outputs": [],
   "source": [
    "print(soup.find('div',class_='body').text)"
   ]
  },
  {
   "cell_type": "code",
   "execution_count": null,
   "metadata": {},
   "outputs": [],
   "source": [
    "value = page.find('span',id_='target')"
   ]
  },
  {
   "cell_type": "code",
   "execution_count": null,
   "metadata": {},
   "outputs": [],
   "source": [
    "print(soup.find('span'))"
   ]
  },
  {
   "cell_type": "code",
   "execution_count": null,
   "metadata": {},
   "outputs": [],
   "source": [
    "url = 'https://en.wikipedia.org/wiki/List_of_programming_languages'  \n",
    "\n",
    "response = requests.get(url)\n",
    "page = BeautifulSoup(response.text)\n",
    "print(page.find('a'))"
   ]
  },
  {
   "cell_type": "code",
   "execution_count": null,
   "metadata": {},
   "outputs": [],
   "source": [
    " = page.find_all('a')"
   ]
  },
  {
   "cell_type": "code",
   "execution_count": null,
   "metadata": {},
   "outputs": [],
   "source": [
    "links = page.find_all('a')  \n",
    "# Посмотрим, сколько всего мы получили  \n",
    "len(links)  \n",
    "# => 946  "
   ]
  },
  {
   "cell_type": "code",
   "execution_count": null,
   "metadata": {},
   "outputs": [],
   "source": [
    "# Посмотрим на некоторые из ссылок  \n",
    "print([link.text for link in links[500:510]])  \n",
    "# => ['Opa', 'Opal', 'OpenCL', 'OpenEdge ABL', 'OPL', 'OpenVera', 'OPS5', 'OptimJ', 'Orc', 'ORCA/Modula-2']  "
   ]
  },
  {
   "cell_type": "code",
   "execution_count": null,
   "metadata": {},
   "outputs": [],
   "source": [
    "first_block = page.find('div', class_='div-col')  \n",
    "  \n",
    "# Берём оттуда все ссылки  \n",
    "links = first_block.find_all('a')  \n",
    "print([link.text for link in links[:10]])  \n",
    "# => ['A# .NET', 'A-0 System', 'A+', 'A++', 'ABAP', 'ABC', 'ABC ALGOL', 'ABSET', 'ABSYS', 'ACC']  "
   ]
  },
  {
   "cell_type": "code",
   "execution_count": null,
   "metadata": {},
   "outputs": [],
   "source": [
    "import requests  \n",
    "  \n",
    "url = 'https://www.kinopoisk.ru/film/42326/'   \n",
    "  \n",
    "response = requests.get(url)  \n",
    "  \n",
    "# Убедимся, что мы успешно получили ответ     \n",
    "print(response.status_code)    \n",
    "# => 200   "
   ]
  },
  {
   "cell_type": "code",
   "execution_count": null,
   "metadata": {},
   "outputs": [],
   "source": [
    "def get_actors(x):\n",
    "    import requests  \n",
    "    from bs4 import BeautifulSoup \n",
    "    url = x   \n",
    "    response = requests.get(url)  \n",
    "    first_block = page.find('ul', class_='styles_list__I97eu')    \n",
    "    links = first_block.find_all('a') \n",
    "    return [link.text for link in links]"
   ]
  },
  {
   "cell_type": "code",
   "execution_count": null,
   "metadata": {},
   "outputs": [],
   "source": [
    "import requests  \n",
    "from bs4 import BeautifulSoup \n",
    "def get_actors(x):\n",
    "    url = x   \n",
    "    response = requests.get(url)\n",
    "    page = BeautifulSoup(response.text, 'html.parser')\n",
    "    block = page.find('ul', class_='styles_list__I97eu')    \n",
    "    links = block.find_all('a') \n",
    "    return [link.text for link in links]\n",
    "    "
   ]
  },
  {
   "cell_type": "code",
   "execution_count": null,
   "metadata": {},
   "outputs": [],
   "source": [
    "from bs4 import BeautifulSoup\n",
    "import requests\n",
    "def get_actors(url):\n",
    "    response = requests.get(url)\n",
    "    page = BeautifulSoup(response.text, 'html.parser')\n",
    "    block = page.find('div', id='actorList')\n",
    "    links = block.find_all('a')\n",
    "    return [link.text for link in links]\n",
    "    "
   ]
  },
  {
   "cell_type": "code",
   "execution_count": null,
   "metadata": {},
   "outputs": [],
   "source": [
    "get_actors('https://www.kinopoisk.ru/film/391177/')"
   ]
  },
  {
   "cell_type": "code",
   "execution_count": null,
   "metadata": {},
   "outputs": [],
   "source": [
    "import pandas as pd  \n",
    "url = 'https://www.cbr.ru/key-indicators/'  \n",
    "# Таблица с драгметаллами оказалась второй по счёту  \n",
    "pd.read_html(url)[0]"
   ]
  },
  {
   "cell_type": "code",
   "execution_count": null,
   "metadata": {},
   "outputs": [],
   "source": [
    "from bs4 import BeautifulSoup  \n",
    "import pandas as pd  \n",
    "import requests  \n",
    "  \n",
    "url = 'https://www.cbr.ru/key-indicators/'\n",
    "soup = BeautifulSoup(requests.get(url, headers={'User-Agent': 'Mozilla/5.0'}).text, 'html.parser')  "
   ]
  },
  {
   "cell_type": "code",
   "execution_count": null,
   "metadata": {
    "scrolled": true
   },
   "outputs": [],
   "source": [
    "all_blocks = soup.find_all('div', class_='table key-indicator_table')\n",
    "\n",
    "data = all_blocks[1].find_all('table')\n",
    "data"
   ]
  },
  {
   "cell_type": "code",
   "execution_count": null,
   "metadata": {},
   "outputs": [],
   "source": [
    "df = pd.read_html(str(data))[0]"
   ]
  },
  {
   "cell_type": "code",
   "execution_count": null,
   "metadata": {},
   "outputs": [],
   "source": [
    "df"
   ]
  },
  {
   "cell_type": "code",
   "execution_count": null,
   "metadata": {},
   "outputs": [],
   "source": [
    "url = 'https://www.banki.ru/banks/ratings/'\n",
    "soup = BeautifulSoup(requests.get(url, headers={'User-Agent': 'Mozilla/5.0'}).text, 'html.parser')"
   ]
  },
  {
   "cell_type": "code",
   "execution_count": null,
   "metadata": {},
   "outputs": [],
   "source": [
    "data = soup.find_all('table')\n",
    "a = data[0].find_all('tbody')\n",
    "df = pd.read_html(str(data))[0]\n",
    "df"
   ]
  },
  {
   "cell_type": "code",
   "execution_count": null,
   "metadata": {},
   "outputs": [],
   "source": [
    "import requests      # Библиотека для отправки запросов\n",
    "import numpy as np   # Библиотека для матриц, векторов и линала\n",
    "import pandas as pd  # Библиотека для табличек\n",
    "import time          # Библиотека для тайм-менеджмента"
   ]
  },
  {
   "cell_type": "code",
   "execution_count": null,
   "metadata": {},
   "outputs": [],
   "source": [
    "page_link = 'http://knowyourmeme.com/memes/all/page/1'\n",
    "response = requests.get(page_link)\n",
    "response"
   ]
  },
  {
   "cell_type": "code",
   "execution_count": null,
   "metadata": {},
   "outputs": [],
   "source": [
    "for key, value in response.request.headers.items():\n",
    "    print(key+\": \"+value)"
   ]
  },
  {
   "cell_type": "code",
   "execution_count": null,
   "metadata": {},
   "outputs": [],
   "source": [
    "from fake_useragent import UserAgent\n",
    "UserAgent().chrome"
   ]
  },
  {
   "cell_type": "code",
   "execution_count": null,
   "metadata": {},
   "outputs": [],
   "source": [
    "response = requests.get(page_link, headers={'User-Agent': UserAgent().chrome})\n",
    "response"
   ]
  },
  {
   "cell_type": "code",
   "execution_count": null,
   "metadata": {},
   "outputs": [],
   "source": [
    "html = response.content\n",
    "html[:1000]"
   ]
  },
  {
   "cell_type": "code",
   "execution_count": null,
   "metadata": {},
   "outputs": [],
   "source": [
    "from bs4 import BeautifulSoup"
   ]
  },
  {
   "cell_type": "code",
   "execution_count": null,
   "metadata": {},
   "outputs": [],
   "source": [
    "soup = BeautifulSoup(html,'html.parser') # В опции также можно указать lxml,\n",
    "                                         # если предварительно установить одноименный пакет"
   ]
  },
  {
   "cell_type": "code",
   "execution_count": null,
   "metadata": {},
   "outputs": [],
   "source": [
    "soup"
   ]
  },
  {
   "cell_type": "code",
   "execution_count": null,
   "metadata": {},
   "outputs": [],
   "source": [
    "soup.html.head.title"
   ]
  },
  {
   "cell_type": "code",
   "execution_count": null,
   "metadata": {},
   "outputs": [],
   "source": [
    "soup.html.head.title.text"
   ]
  },
  {
   "cell_type": "code",
   "execution_count": null,
   "metadata": {},
   "outputs": [],
   "source": [
    "obj = soup.find('a', attrs = {'class':'photo'})\n",
    "obj"
   ]
  },
  {
   "cell_type": "code",
   "execution_count": null,
   "metadata": {},
   "outputs": [],
   "source": [
    "obj = soup.find(lambda tag: tag.name == 'a' and tag.get('class') == ['photo'])\n",
    "obj"
   ]
  },
  {
   "cell_type": "code",
   "execution_count": null,
   "metadata": {},
   "outputs": [],
   "source": [
    "obj.attrs['href']"
   ]
  },
  {
   "cell_type": "code",
   "execution_count": null,
   "metadata": {},
   "outputs": [],
   "source": [
    "print(\"Тип данных до вытаскивания ссылки:\", type(obj))\n",
    "print(\"Тип данных после вытаскивания ссылки:\", type(obj.attrs['href']))"
   ]
  },
  {
   "cell_type": "code",
   "execution_count": null,
   "metadata": {},
   "outputs": [],
   "source": [
    "meme_links = soup.findAll(lambda tag: tag.name == 'a' and tag.get('class') == ['photo'])\n",
    "meme_links[:3]"
   ]
  },
  {
   "cell_type": "code",
   "execution_count": null,
   "metadata": {},
   "outputs": [],
   "source": [
    "meme_links = [link.attrs['href'] for link in meme_links]\n",
    "meme_links[:10]"
   ]
  },
  {
   "cell_type": "code",
   "execution_count": null,
   "metadata": {},
   "outputs": [],
   "source": [
    "def getPageLinks(page_number):\n",
    "    \"\"\"\n",
    "        Возвращает список ссылок на мемы, полученный с текущей страницы\n",
    "\n",
    "        page_number: int/string\n",
    "            номер страницы для парсинга\n",
    "\n",
    "    \"\"\"\n",
    "    # составляем ссылку на страницу поиска\n",
    "    page_link = 'http://knowyourmeme.com/memes/all/page/{}'.format(page_number)\n",
    "\n",
    "    # запрашиваем данные по ней\n",
    "    response = requests.get(page_link, headers={'User-Agent': UserAgent().chrome})\n",
    "\n",
    "    if not response.ok:\n",
    "        # если сервер нам отказал, вернем пустой лист для текущей страницы\n",
    "        return []\n",
    "\n",
    "    # получаем содержимое страницы и переводим в суп\n",
    "    html = response.content\n",
    "    soup = BeautifulSoup(html,'html.parser')\n",
    "\n",
    "    # наконец, ищем ссылки на мемы и очищаем их от ненужных тэгов\n",
    "    meme_links = soup.findAll(lambda tag: tag.name == 'a' and tag.get('class') == ['photo'])\n",
    "    meme_links = ['http://knowyourmeme.com' + link.attrs['href'] for link in meme_links]\n",
    "\n",
    "    return meme_links"
   ]
  },
  {
   "cell_type": "code",
   "execution_count": null,
   "metadata": {},
   "outputs": [],
   "source": [
    "meme_links = getPageLinks(1)\n",
    "meme_links[:2]"
   ]
  },
  {
   "cell_type": "code",
   "execution_count": null,
   "metadata": {},
   "outputs": [],
   "source": [
    "meme_page = 'http://knowyourmeme.com/memes/doge'\n",
    "response = requests.get(meme_page, headers={'User-Agent': UserAgent().chrome})\n",
    "html = response.content\n",
    "soup = BeautifulSoup(html,'html.parser')"
   ]
  },
  {
   "cell_type": "code",
   "execution_count": null,
   "metadata": {},
   "outputs": [],
   "source": [
    "views = soup.find_all('a', attrs={'class':'stat-item'})\n",
    "#views = views.find\n",
    "obj = views[0].div['title']\n",
    "j = obj.find(' ')\n",
    "print(obj[:j])"
   ]
  },
  {
   "cell_type": "code",
   "execution_count": null,
   "metadata": {},
   "outputs": [],
   "source": [
    "views = soup.find_all('div', attrs={'class':'stat-item'})\n",
    "obj = views[0].div['title']\n",
    "j = obj.find(' ')\n",
    "obj = int(obj[:j].replace(',', ''))\n",
    "print(obj)"
   ]
  },
  {
   "cell_type": "code",
   "execution_count": null,
   "metadata": {},
   "outputs": [],
   "source": [
    "views1 = soup.find('div', attrs={'class':'views'})\n",
    "print(views1)\n",
    "print(views1.attrs['title'])#[0].get_text())\n",
    "#views = int(views.replace(',', ''))\n",
    "#print(views)"
   ]
  },
  {
   "cell_type": "code",
   "execution_count": null,
   "metadata": {},
   "outputs": [],
   "source": [
    "def getStats(soup, stats):\n",
    "    \"\"\"\n",
    "        Возвращает очищенное число просмотров/коментариев/...\n",
    "\n",
    "        soup: объект bs4.BeautifulSoup \n",
    "            суп текущей страницы\n",
    "\n",
    "        stats: string\n",
    "            views/videos/photos/comments\n",
    "\n",
    "    \"\"\"\n",
    "    if stats != 3:\n",
    "        views = soup.find_all('a', attrs={'class':'stat-item'})\n",
    "        obj = views[stats].div['title']\n",
    "        j = obj.find(' ')\n",
    "        obj = int(obj[:j].replace(',', ''))\n",
    "    else:\n",
    "        views = soup.find_all('div', attrs={'class':'stat-item'})\n",
    "        obj = views[0].div['title']\n",
    "        j = obj.find(' ')\n",
    "        obj = int(obj[:j].replace(',', ''))\n",
    "    \n",
    "    return obj"
   ]
  },
  {
   "cell_type": "code",
   "execution_count": null,
   "metadata": {},
   "outputs": [],
   "source": [
    "views = getStats(soup, stats=3)\n",
    "videos = getStats(soup, stats=0)\n",
    "photos = getStats(soup, stats=1)\n",
    "comments = getStats(soup, stats=2)\n",
    "\n",
    "print(\"Просмотры: {}\\nВидео: {}\\nФото: {}\\nКомментарии: {}\".format(views, videos, photos, comments))"
   ]
  },
  {
   "cell_type": "code",
   "execution_count": null,
   "metadata": {},
   "outputs": [],
   "source": [
    "date = soup.find('abbr', attrs={'class':'timeago'}).attrs['title']\n",
    "date"
   ]
  },
  {
   "cell_type": "code",
   "execution_count": null,
   "metadata": {},
   "outputs": [],
   "source": [
    "properties = soup.find('aside', attrs={'class':'stats'})\n",
    "meme_status = properties.find(\"div\")\n",
    "meme_status.text.strip()"
   ]
  },
  {
   "cell_type": "code",
   "execution_count": null,
   "metadata": {},
   "outputs": [],
   "source": [
    "# Делай раз! Ищем статус мема, но не находим его\n",
    "#meme_status = None\n",
    "\n",
    "# Делай два! Пытаемся вытащить его...\n",
    "\n",
    "# ... с исключениями\n",
    "try:\n",
    "    print(meme_status.text.strip()) \n",
    "# Ежели возникает ошибка, статус не найден, выдаём пустоту.\n",
    "except:\n",
    "    print('')\n",
    "\n",
    "# ... с проверкой на пустой элемент\n",
    "if meme_status:\n",
    "    print(meme_status.text.strip())\n",
    "else:\n",
    "    print(\"Empty\")"
   ]
  },
  {
   "cell_type": "code",
   "execution_count": null,
   "metadata": {},
   "outputs": [],
   "source": [
    "# снова найдем настоящий статус\n",
    "properties = soup.find('aside', attrs={'class':'stats'})\n",
    "meme_status = properties.find(\"div\")\n",
    "\n",
    "meme_status = \"\" if not meme_status else meme_status.text.strip()\n",
    "print(meme_status)"
   ]
  },
  {
   "cell_type": "code",
   "execution_count": null,
   "metadata": {},
   "outputs": [],
   "source": [
    "def getProperties(soup):\n",
    "    \"\"\"\n",
    "        Возвращает список (tuple) с названием, статусом, типом, \n",
    "        годом и местом происхождения и тэгами\n",
    "\n",
    "        soup: объект bs4.BeautifulSoup \n",
    "            суп текущей страницы\n",
    "\n",
    "    \"\"\"\n",
    "    # название - идёт с самым большим заголовком h1, легко найти\n",
    "    meme_name = soup.find('section', attrs={'class':'info'}).find('h1').text.strip()\n",
    "\n",
    "    # достаём все данные справа от картинки \n",
    "    properties = soup.find('aside', attrs={'class':'left'})\n",
    "\n",
    "    # статус идет первым - можно не уточнять класс\n",
    "    meme_status = properties.find(\"dd\")\n",
    "    # oneliner, заменяющий try-except: если тэга нет в properties, вернётся объект NoneType,\n",
    "    # у которого аттрибут text отсутствует, и в этом случае он заменится на пустую строку\n",
    "    meme_status = \"\" if not meme_status else meme_status.text.strip()\n",
    "\n",
    "    # тип мема - обладает уникальным классом\n",
    "    meme_type = properties.find('a', attrs={'class':'entry-type-link'})\n",
    "    meme_type = \"\" if not meme_type else meme_type.text \n",
    "\n",
    "    # год происхождения первоисточника можно найти после заголовка Year, \n",
    "    # находим заголовок, определяем родителя и ищем следущего ребенка - наш раздел\n",
    "    meme_origin_year = properties.find(text='\\nYear\\n')\n",
    "    meme_origin_year = \"\" if not meme_origin_year else meme_origin_year.parent.find_next()\n",
    "    meme_origin_year = meme_origin_year.text.strip()\n",
    "\n",
    "    # сам первоисточник\n",
    "    meme_origin_place = properties.find('dd', attrs={'class':'entry_origin_link'})\n",
    "    meme_origin_place = \"\" if not meme_origin_place else meme_origin_place.text.strip()\n",
    "\n",
    "    # тэги, связанные с мемом\n",
    "    meme_tags = properties.find('dl', attrs={'id':'entry_tags'}).find('dd')\n",
    "    meme_tags = \"\" if not meme_tags else meme_tags.text.strip()\n",
    "\n",
    "    return meme_name, meme_status, meme_type, meme_origin_year, meme_origin_place, meme_tags"
   ]
  },
  {
   "cell_type": "code",
   "execution_count": null,
   "metadata": {},
   "outputs": [],
   "source": [
    "getProperties(soup)"
   ]
  },
  {
   "cell_type": "code",
   "execution_count": null,
   "metadata": {
    "scrolled": true
   },
   "outputs": [],
   "source": [
    "import requests  \n",
    "  \n",
    "url = 'https://api.vk.com/method/users.get'   \n",
    "params = {'user_id': 1, 'v': 5.95, 'fields': 'sex,bdate', 'access_token': 'f9e6379cf9e6379cf9e6379c7ff990fc99ff9e6f9e6379c99a14f2aa959ce3cd9594459', 'lang': 'ru'}  \n",
    "  \n",
    "# Мы можем выставить параметры запроса через аргумент params  \n",
    "response = requests.get(url, params=params)  \n",
    "response.text  \n",
    "# => '{\"response\":[{\"id\":1,\"first_name\":\"Павел\",\"last_name\":\"Дуров\",\"is_closed\":false,\"can_access_closed\":true,\"sex\":2,\"bdate\":\"10.10.1984\"}]}'"
   ]
  },
  {
   "cell_type": "code",
   "execution_count": null,
   "metadata": {},
   "outputs": [],
   "source": [
    "from pprint import pprint  \n",
    "  \n",
    "pprint(response.json())  \n",
    "# =>   \n",
    "# {'response': [{'bdate': '10.10.1984',  \n",
    "#                'can_access_closed': True,  \n",
    "#                'first_name': 'Павел',  \n",
    "#                'id': 1,  \n",
    "#                'is_closed': False,\n",
    "#                'last_name': 'Дуров',  \n",
    "#                'sex': 2}]}  \n",
    "  \n",
    "user = response.json()['response'][0]  \n",
    "  \n",
    "# Выведем дату рождения  \n",
    "print(user['bdate'])  \n",
    "# => 10.10.1984  \n",
    "  \n",
    "# Выведем имя  \n",
    "print(user['first_name'])  \n",
    "# => Павел  "
   ]
  },
  {
   "cell_type": "code",
   "execution_count": null,
   "metadata": {},
   "outputs": [],
   "source": [
    "ids = \",\".join(map(str, range(1, 501)))  \n",
    "#print(ids)  \n",
    "# => 1,2,3  \n",
    "  \n",
    "params = {'user_ids': ids, 'v': 5.95, 'fields': 'sex,bday', 'access_token': 'f9e6379cf9e6379cf9e6379c7ff990fc99ff9e6f9e6379c99a14f2aa959ce3cd9594459', 'lang': 'ru'}  \n",
    "  \n",
    "pprint(requests.get(url, params=params).json()) \n",
    "# {'response': [{'can_access_closed': True,  \n",
    "#                'first_name': 'Павел',  \n",
    "#                'id': 1,  \n",
    "#                ''is_closed': False',  \n",
    "#                'last_name': 'Дуров'},  \n",
    "#               {'can_access_closed': False,  \n",
    "#                'first_name': 'Александра',  \n",
    "#                'id': 2,  \n",
    "#                'is_closed': True,  \n",
    "#                'last_name': 'Владимирова'},  \n",
    "#               {'deactivated': 'deleted',  \n",
    "#                'first_name': 'DELETED',  \n",
    "#                'id': 3,  \n",
    "#                'last_name': ''}]}"
   ]
  },
  {
   "cell_type": "code",
   "execution_count": null,
   "metadata": {},
   "outputs": [],
   "source": [
    "jj = requests.get(url, params=params).json()['response']"
   ]
  },
  {
   "cell_type": "code",
   "execution_count": null,
   "metadata": {},
   "outputs": [],
   "source": [
    "m = 0\n",
    "j = 0\n",
    "u = 0\n",
    "for i in range(len(jj)):\n",
    "    if jj[i]['sex'] == 2:\n",
    "        m += 1\n",
    "    elif jj[i]['sex'] == 1:\n",
    "        j += 1 \n",
    "    else:\n",
    "        u += 1"
   ]
  },
  {
   "cell_type": "code",
   "execution_count": null,
   "metadata": {},
   "outputs": [],
   "source": [
    "print(j/(m+j),u)"
   ]
  },
  {
   "cell_type": "code",
   "execution_count": null,
   "metadata": {
    "scrolled": true
   },
   "outputs": [],
   "source": [
    "import requests  \n",
    "url = 'https://api.vk.com/method/groups.getMembers'  \n",
    "params = {  \n",
    "    'group_id': 'vk',  \n",
    "    'v': 5.95,  \n",
    "    'access_token': 'f9e6379cf9e6379cf9e6379c7ff990fc99ff9e6f9e6379c99a14f2aa959ce3cd9594459' \n",
    "}  \n",
    "response = requests.get(url, params = params)  \n",
    "data = response.json()  \n",
    "print(data)  \n",
    "# => {'response': {'count': 11240724, 'items': [5, 6, 10, 19, 34, 47, 54, 79, 177, 193, 205, 219... \n",
    "  \n",
    "len(data['response']['items'])  \n",
    "# => 1000"
   ]
  },
  {
   "cell_type": "code",
   "execution_count": null,
   "metadata": {},
   "outputs": [],
   "source": [
    "users_for_checking = data['response']['items'][:20]  \n",
    "print(users_for_checking)  "
   ]
  },
  {
   "cell_type": "code",
   "execution_count": null,
   "metadata": {},
   "outputs": [],
   "source": [
    "count = 5  \n",
    "offset = 0  \n",
    "user_ids = []\n",
    "max_count = 20  \n",
    "while offset < max_count:  \n",
    "    print('Выгружаю {} пользователей с offset = {}'.format(count, offset))     \n",
    "    params = {  \n",
    "        'group_id': 'vk',  \n",
    "        'v': 5.95,  \n",
    "        'count': count,  \n",
    "        'offset': offset,  \n",
    "        'access_token': 'f9e6379cf9e6379cf9e6379c7ff990fc99ff9e6f9e6379c99a14f2aa959ce3cd9594459'\n",
    "    }     \n",
    "    # такой же запрос как в прошлый раз  \n",
    "    r = requests.get(url, params = params)  \n",
    "    data = r.json()     \n",
    "    user_ids += data['response']['items']   \n",
    "  \n",
    "    # увеличиваем смещение на количество строк выгрузки  \n",
    "    offset += count  \n",
    "      \n",
    "# Выгружаю 5 пользователей с offset = 0  \n",
    "# Выгружаю 5 пользователей с offset = 5  \n",
    "# Выгружаю 5 пользователей с offset = 10  \n",
    "# Выгружаю 5 пользователей с offset = 15  \n",
    "print(user_ids)  \n",
    "# => [5, 6, 10, 19, 34, 47, 54, 79, 177, 193, 205, 219, 239, 243, 345, 404, 406, 407, 467, 485]\n",
    "  \n",
    "user_ids == users_for_checking  \n",
    "# => True  "
   ]
  },
  {
   "cell_type": "code",
   "execution_count": null,
   "metadata": {},
   "outputs": [],
   "source": [
    "def checkIP():\n",
    "    ip = requests.get('http://checkip.dyndns.org').content\n",
    "    soup = BeautifulSoup(ip, 'html.parser')\n",
    "    print(soup.find('body').text)\n",
    "\n",
    "checkIP()"
   ]
  },
  {
   "cell_type": "code",
   "execution_count": null,
   "metadata": {},
   "outputs": [],
   "source": [
    "import socks\n",
    "import socket\n",
    "socks.set_default_proxy(socks.SOCKS5, \"localhost\", 9150)\n",
    "socket.socket = socks.socksocket"
   ]
  },
  {
   "cell_type": "code",
   "execution_count": null,
   "metadata": {},
   "outputs": [],
   "source": [
    "checkIP()"
   ]
  },
  {
   "cell_type": "code",
   "execution_count": null,
   "metadata": {},
   "outputs": [],
   "source": [
    "import requests  \n",
    "url = 'https://api.vk.com/method/groups.getMembers'  \n",
    "params = {  \n",
    "    'group_id': 'vk',  \n",
    "    'v': 5.95,  \n",
    "    'access_token': 'f9e6379cf9e6379cf9e6379c7ff990fc99ff9e6f9e6379c99a14f2aa959ce3cd9594459'\n",
    "}  \n",
    "response = requests.get(url, params = params)  \n",
    "data = response.json()  \n",
    "print(data)  \n",
    "# => {'response': {'count': 11240724, 'items': [5, 6, 10, 19, 34, 47, 54, 79, 177, 193, 205, 219... \n",
    "  \n",
    "len(data['response']['items'])  \n",
    "# => 1000"
   ]
  },
  {
   "cell_type": "code",
   "execution_count": null,
   "metadata": {},
   "outputs": [],
   "source": [
    "users_for_checking = data['response']['items'][:20]  \n",
    "print(users_for_checking)  \n",
    "# => [5, 6, 10, 19, 34, 47, 54, 79, 177, 193, 205, 219, 239, 243, 345, 404, 406, 407, 467, 485]"
   ]
  },
  {
   "cell_type": "code",
   "execution_count": null,
   "metadata": {},
   "outputs": [],
   "source": [
    "count = 1  \n",
    "offset = 99999  \n",
    "user_ids = []\n",
    "max_count = 100000\n",
    "while offset < max_count:  \n",
    "    print('Выгружаю {} пользователей с offset = {}'.format(count, offset))     \n",
    "    params = {  \n",
    "        'group_id': 'vk',  \n",
    "        'v': 5.95,  \n",
    "        'count': count,  \n",
    "        'offset': offset,  \n",
    "        'access_token': 'f9e6379cf9e6379cf9e6379c7ff990fc99ff9e6f9e6379c99a14f2aa959ce3cd9594459'\n",
    "    }     \n",
    "    # такой же запрос как в прошлый раз  \n",
    "    r = requests.get(url, params = params)  \n",
    "    data = r.json()     \n",
    "    user_ids += data['response']['items']   \n",
    "  \n",
    "    # увеличиваем смещение на количество строк выгрузки  \n",
    "    offset += count  \n",
    "      \n",
    "# Выгружаю 5 пользователей с offset = 0  \n",
    "# Выгружаю 5 пользователей с offset = 5  \n",
    "# Выгружаю 5 пользователей с offset = 10  \n",
    "# Выгружаю 5 пользователей с offset = 15  \n",
    "print(user_ids)  \n",
    "# => [5, 6, 10, 19, 34, 47, 54, 79, 177, 193, 205, 219, 239, 243, 345, 404, 406, 407, 467, 485]\n",
    "  \n",
    "user_ids == users_for_checking  \n",
    "# => True  "
   ]
  },
  {
   "cell_type": "code",
   "execution_count": null,
   "metadata": {},
   "outputs": [],
   "source": [
    "data"
   ]
  },
  {
   "cell_type": "code",
   "execution_count": null,
   "metadata": {},
   "outputs": [],
   "source": [
    "user_ids"
   ]
  },
  {
   "cell_type": "code",
   "execution_count": null,
   "metadata": {},
   "outputs": [],
   "source": [
    "import time  \n",
    "  \n",
    "count = 1000  \n",
    "offset = 0  \n",
    "user_ids = []  \n",
    "while offset < 10000:  \n",
    "    print('Выгружаю {} пользователей с offset = {}'.format(count, offset))     \n",
    "    params = {  \n",
    "        'group_id': 'vk',  \n",
    "        'v': 5.95,  \n",
    "        'count': count,  \n",
    "        'offset': offset,  \n",
    "        'access_token': 'f9e6379cf9e6379cf9e6379c7ff990fc99ff9e6f9e6379c99a14f2aa959ce3cd9594459'\n",
    "    }    \n",
    "    # такой же запрос, как в прошлый раз  \n",
    "    r = requests.get(url, params = params)  \n",
    "    data = r.json()     \n",
    "    user_ids += data['response']['items']    \n",
    "  \n",
    "    # увеличиваем смещение на количество строк выгрузки  \n",
    "    offset += count  \n",
    "    \n",
    "    print('Ожидаю 0.5 секунды...')  \n",
    "    time.sleep(0.5)  "
   ]
  },
  {
   "cell_type": "code",
   "execution_count": null,
   "metadata": {},
   "outputs": [],
   "source": [
    "import requests  \n",
    "from pprint import pprint  \n",
    "  \n",
    "url = 'https://api.vk.com/method/wall.get'  \n",
    "params = {  \n",
    "    'domain': 'vk',  \n",
    "    'filter': 'owner',  \n",
    "    'count': 10,  \n",
    "    'offset': 0,  \n",
    "    'access_token': 'f9e6379cf9e6379cf9e6379c7ff990fc99ff9e6f9e6379c99a14f2aa959ce3cd9594459',  \n",
    "    'v': 5.95  \n",
    "}  \n",
    "response = requests.get(url, params = params)  \n",
    "response.json()\n",
    "# => {'response': {'count': 421,\n",
    "#      'items': [{'id': 1132798, \n",
    "#        'from_id': -22822305,\n",
    "#        'owner_id': -22822305,\n",
    "#        'date': 1603796912, \n",
    "#        'marked_as_ads': 0,  \n",
    "#        'post_type': 'post',\n",
    "#        'text': 'Встречайте музыкальных кураторов... "
   ]
  },
  {
   "cell_type": "code",
   "execution_count": null,
   "metadata": {
    "scrolled": true
   },
   "outputs": [],
   "source": [
    "response.json()['response']['items'][2]"
   ]
  },
  {
   "cell_type": "code",
   "execution_count": null,
   "metadata": {},
   "outputs": [],
   "source": [
    "stats = {}  \n",
    "              \n",
    "for record in response.json()['response']['items'][:]:  \n",
    "    title = record['text'][:30]  \n",
    "    if title:  \n",
    "        stats[title] = [record['comments']['count'], record['likes']['count'], record['reposts']['count'], record['date'] ]\n",
    "    else:\n",
    "        title = record['copy_history'][0]['text'][:30]\n",
    "        stats[title] = [record['comments']['count'], record['likes']['count'], record['reposts']['count'], record['date'] ]\n",
    "pprint(stats)  \n",
    "  \n",
    "# => {'Встречайте музыкальных куратор': [1150, 1762, 260, 1603796912], \n",
    "#     'Встречать день рождения приятн': [763, 2946, 106, 1602320413],\n",
    "#     'Обмениваться сообщениями ВКонт': [1382, 2079, 258, 1601370979], \n",
    "#     'Получать поздравления приятно,': [1189, 2329, 94, 1602506077],\n",
    "#     'Помните то чувство, когда полу': [153, 643, 108, 1600864213],\n",
    "#     'Скоро начнётся розыгрыш суперп': [3453, 8953, 293, 1602338438], \n",
    "#     'Совсем скоро нам исполнится 14': [538, 1828, 159, 1601624922],\n",
    "#     'Уже завтра нам исполнится 14 л': [1395, 2786, 168, 1602238852]}"
   ]
  },
  {
   "cell_type": "code",
   "execution_count": null,
   "metadata": {},
   "outputs": [],
   "source": [
    "token = 'f9e6379cf9e6379cf9e6379c7ff990fc99ff9e6f9e6379c99a14f2aa959ce3cd9594459'\n",
    "group_name = 'vk'\n",
    "\n",
    "import requests  \n",
    "from pprint import pprint\n",
    "\n",
    "def get_smm_index(group_name, token):\n",
    "    \n",
    "    url = 'https://api.vk.com/method/groups.getMembers'  \n",
    "    params = {  \n",
    "        'group_id': group_name,  \n",
    "        'v': 5.95,  \n",
    "        'count': 1,  \n",
    "        #'offset': offset,  \n",
    "        'access_token': token\n",
    "    }    \n",
    "    # такой же запрос, как в прошлый раз  \n",
    "    r = requests.get(url, params = params)  \n",
    "    data = r.json()\n",
    "    \n",
    "    time.sleep(0.5) \n",
    "    \n",
    "    url = 'https://api.vk.com/method/wall.get'  \n",
    "    params = {  \n",
    "        'domain': group_name,  \n",
    "        'filter': 'owner',  \n",
    "        'count': 10,  \n",
    "        'offset': 0,  \n",
    "        'access_token': token,  \n",
    "        'v': 5.95  \n",
    "    }  \n",
    "    response = requests.get(url, params = params)  \n",
    "    response.json()\n",
    "    \n",
    "    stats = 0  \n",
    "    \n",
    "    for record in response.json()['response']['items'][:]:  \n",
    "        title = record['text'][:30]  \n",
    "        if title:  \n",
    "            stats += record['likes']['count'] + record['comments']['count'] + record['reposts']['count']\n",
    "    \n",
    "    return stats/data['response']['count']"
   ]
  },
  {
   "cell_type": "code",
   "execution_count": null,
   "metadata": {},
   "outputs": [],
   "source": [
    "get_smm_index(group_name, token)"
   ]
  },
  {
   "cell_type": "code",
   "execution_count": null,
   "metadata": {},
   "outputs": [],
   "source": [
    "id_yandex = 'c5fea66d13a241abbb05e71a7fe1154f' #приложение яндекса https://oauth.yandex.ru/client/c5fea66d13a241abbb05e71a7fe1154f\n",
    "https://oauth.yandex.ru/authorize?response_type=token&client_id=c5fea66d13a241abbb05e71a7fe1154f"
   ]
  },
  {
   "cell_type": "code",
   "execution_count": null,
   "metadata": {},
   "outputs": [],
   "source": [
    "import json \n",
    "import requests\n",
    "from pprint import pprint"
   ]
  },
  {
   "cell_type": "code",
   "execution_count": null,
   "metadata": {},
   "outputs": [],
   "source": [
    "token = 'AgAAAAAi9SWgAAb2OB2emwqJm0hKqwMaECu3w98'\n",
    "headers = {'Authorization': 'OAuth ' + token}"
   ]
  },
  {
   "cell_type": "code",
   "execution_count": null,
   "metadata": {},
   "outputs": [],
   "source": [
    "#url = 'https://api-metrika.yandex.net/stat/v1/data'\n",
    "params = {'metrics': 'ym:s:visits,ym:s:pageviews', \n",
    "          'dimensions': 'ym:s:referer',  \n",
    "          'date1': '2019-06-01',  \n",
    "          'date2': '2019-06-10',     \n",
    "          'ids': 30177909}\n",
    "response = requests.get('https://api-metrika.yandex.net/stat/v1/data', params=params, headers=headers)"
   ]
  },
  {
   "cell_type": "code",
   "execution_count": null,
   "metadata": {},
   "outputs": [],
   "source": [
    "print(response)"
   ]
  },
  {
   "cell_type": "code",
   "execution_count": null,
   "metadata": {},
   "outputs": [],
   "source": [
    "print (response.status_code)"
   ]
  },
  {
   "cell_type": "code",
   "execution_count": null,
   "metadata": {},
   "outputs": [],
   "source": [
    "metrika_data = response.json()"
   ]
  },
  {
   "cell_type": "code",
   "execution_count": null,
   "metadata": {},
   "outputs": [],
   "source": [
    "metrika_data"
   ]
  },
  {
   "cell_type": "code",
   "execution_count": null,
   "metadata": {},
   "outputs": [],
   "source": [
    "print (metrika_data.keys())"
   ]
  },
  {
   "cell_type": "code",
   "execution_count": null,
   "metadata": {},
   "outputs": [],
   "source": [
    "print (metrika_data['total_rows'])"
   ]
  },
  {
   "cell_type": "code",
   "execution_count": null,
   "metadata": {},
   "outputs": [],
   "source": [
    "h = 0\n",
    "for i in metrika_data['data']:\n",
    "    if i['metrics'][1] == 1:\n",
    "        h += 1\n",
    "h"
   ]
  },
  {
   "cell_type": "code",
   "execution_count": null,
   "metadata": {},
   "outputs": [],
   "source": [
    "metrika_data"
   ]
  },
  {
   "cell_type": "code",
   "execution_count": null,
   "metadata": {},
   "outputs": [],
   "source": [
    "metrika_data['query']['dimensions'][0]"
   ]
  },
  {
   "cell_type": "code",
   "execution_count": null,
   "metadata": {},
   "outputs": [],
   "source": [
    "metrika_data['query']['metrics'][0]\n",
    "metrika_data['query']['metrics'][1]"
   ]
  },
  {
   "cell_type": "code",
   "execution_count": null,
   "metadata": {},
   "outputs": [],
   "source": [
    "lisf = []\n",
    "metrika_data['data']\n",
    "for i in metrika_data['data']:\n",
    "    name = i['dimensions'][0]['name']\n",
    "    visits = i['metrics'][0]\n",
    "    pageviews = i['metrics'][1]\n",
    "    #print({1:name,2:visits,3:pageviews})\n",
    "    lisf.append({metrika_data['query']['dimensions'][0]:name,\n",
    "                 metrika_data['query']['metrics'][0]:visits,\n",
    "                 metrika_data['query']['metrics'][1]:pageviews})"
   ]
  },
  {
   "cell_type": "code",
   "execution_count": null,
   "metadata": {},
   "outputs": [],
   "source": [
    "pprint(lisf)"
   ]
  },
  {
   "cell_type": "code",
   "execution_count": null,
   "metadata": {},
   "outputs": [],
   "source": [
    "jj = pd.DataFrame(lisf)"
   ]
  },
  {
   "cell_type": "code",
   "execution_count": null,
   "metadata": {},
   "outputs": [],
   "source": [
    "jj"
   ]
  },
  {
   "cell_type": "code",
   "execution_count": null,
   "metadata": {},
   "outputs": [],
   "source": [
    "# Создаём пустой список, в который будем добавлять словари в новом формате\n",
    "result = []\n",
    "# Начинаем перебор элементов старого отчёта (только раздел с данными)\n",
    "for data_item in metrika_data['data']:\n",
    "    # Создаём словарь для хранения текущих данных в новом формате \n",
    "    new_dict = {}  \n",
    "    # Обращаемся к разделу отчёта, содержащего метаданные\n",
    "    # Перебираем названия группировок, которые использовались в отчёте\n",
    "    for i,dimension in enumerate(data_item['dimensions']):\n",
    "        # Создаём в новом словаре ключ для каждой группировки\n",
    "        # Устанавливаем значение для каждого ключа\n",
    "        new_dict[metrika_data['query']['dimensions'][i]] = dimension['name']\n",
    "    # Те же действия выполняем для метрик\n",
    "    for i,metric in enumerate(data_item['metrics']):\n",
    "        new_dict[metrika_data['query']['metrics'][i]] = metric\n",
    "    # Добавляем созданный словарь в итоговый список result\n",
    "    result.append(new_dict)"
   ]
  },
  {
   "cell_type": "code",
   "execution_count": null,
   "metadata": {},
   "outputs": [],
   "source": []
  },
  {
   "cell_type": "code",
   "execution_count": null,
   "metadata": {},
   "outputs": [],
   "source": [
    "lis = []\n",
    "metrika_data['data']\n",
    "for i in metrika_data['data']:\n",
    "    lis.append(i['dimensions'][0]['favicon'])"
   ]
  },
  {
   "cell_type": "code",
   "execution_count": null,
   "metadata": {},
   "outputs": [],
   "source": [
    "if 'facebook.ru' in lis:\n",
    "    print('Yes')"
   ]
  },
  {
   "cell_type": "code",
   "execution_count": null,
   "metadata": {},
   "outputs": [],
   "source": [
    "g = pd.DataFrame(metrika_data['data'])\n",
    "h = pd.DataFrame(metrika_data['data']['dimensions'])"
   ]
  },
  {
   "cell_type": "code",
   "execution_count": null,
   "metadata": {},
   "outputs": [],
   "source": [
    "pd.set_option('display.max_columns', None)  "
   ]
  },
  {
   "cell_type": "code",
   "execution_count": null,
   "metadata": {},
   "outputs": [],
   "source": [
    "g"
   ]
  },
  {
   "cell_type": "code",
   "execution_count": null,
   "metadata": {},
   "outputs": [],
   "source": [
    "g['dimensions']"
   ]
  },
  {
   "cell_type": "code",
   "execution_count": null,
   "metadata": {},
   "outputs": [],
   "source": [
    "params = {'metrics': 'ym:s:users', \n",
    "          'dimensions': 'ym:s:date',  \n",
    "          'date1': '2019-05-01',  \n",
    "          'date2': '2019-05-31',     \n",
    "          'ids': 30177909}\n",
    "response = requests.get('https://api-metrika.yandex.net/stat/v1/data', params=params, headers=headers)"
   ]
  },
  {
   "cell_type": "code",
   "execution_count": null,
   "metadata": {},
   "outputs": [],
   "source": [
    "print(response)"
   ]
  },
  {
   "cell_type": "code",
   "execution_count": null,
   "metadata": {},
   "outputs": [],
   "source": [
    "metrika_data = response.json()"
   ]
  },
  {
   "cell_type": "code",
   "execution_count": null,
   "metadata": {
    "scrolled": true
   },
   "outputs": [],
   "source": [
    "fhj = 0 \n",
    "for i in metrika_data['data']:\n",
    "    fhj += i['metrics'][0]\n",
    "fhj"
   ]
  },
  {
   "cell_type": "code",
   "execution_count": null,
   "metadata": {},
   "outputs": [],
   "source": [
    "metrika_data['totals'][0] / len(metrika_data['data'])"
   ]
  },
  {
   "cell_type": "code",
   "execution_count": null,
   "metadata": {},
   "outputs": [],
   "source": [
    "fhj / len(metrika_data['data'])"
   ]
  },
  {
   "cell_type": "code",
   "execution_count": null,
   "metadata": {},
   "outputs": [],
   "source": [
    "params = {'metrics': 'ym:s:visits', \n",
    "          'dimensions': 'ym:s:lastSearchPhrase',\n",
    "          'limit': 100000,\n",
    "          'date1': '2019-05-01',  \n",
    "          'date2': '2019-05-31',     \n",
    "          'ids': 30177909}\n",
    "response = requests.get('https://api-metrika.yandex.net/stat/v1/data', params=params, headers=headers)"
   ]
  },
  {
   "cell_type": "code",
   "execution_count": null,
   "metadata": {},
   "outputs": [],
   "source": [
    "import re"
   ]
  },
  {
   "cell_type": "code",
   "execution_count": null,
   "metadata": {},
   "outputs": [],
   "source": [
    "metrika_data"
   ]
  },
  {
   "cell_type": "code",
   "execution_count": null,
   "metadata": {},
   "outputs": [],
   "source": [
    "hk = 0\n",
    "for i in metrika_data['data']:\n",
    "    if re.search('Python', i['dimensions'][0]['name'] , re.IGNORECASE) != None:\n",
    "        print(i['dimensions'][0]['name'])\n",
    "        print(i['metrics'][0])\n",
    "        hk += i['metrics'][0]\n",
    "hk"
   ]
  },
  {
   "cell_type": "code",
   "execution_count": null,
   "metadata": {},
   "outputs": [],
   "source": [
    "params = {'metrics': 'ym:s:visits', \n",
    "          'dimensions': 'ym:s:startURL,ym:s:month',\n",
    "          'limit': 100000,\n",
    "          'date1': '2019-04-01',  \n",
    "          'date2': '2019-04-30',     \n",
    "          'ids': 30177909}\n",
    "response = requests.get('https://api-metrika.yandex.net/stat/v1/data', params=params, headers=headers)"
   ]
  },
  {
   "cell_type": "code",
   "execution_count": null,
   "metadata": {},
   "outputs": [],
   "source": [
    "metrika_dataapr = response.json()"
   ]
  },
  {
   "cell_type": "code",
   "execution_count": null,
   "metadata": {},
   "outputs": [],
   "source": [
    "for i in metrika_datamay['data']:\n",
    "    if re.search('http://datalytics.ru/all/stanovyas-guru-api-yandeks-metriki/', i['dimensions'][0]['name'] ) != None:\n",
    "        print(i['metrics'][0])\n",
    "        m = i['metrics'][0]"
   ]
  },
  {
   "cell_type": "code",
   "execution_count": null,
   "metadata": {},
   "outputs": [],
   "source": [
    "for i in metrika_dataapr['data']:\n",
    "    if re.search('http://datalytics.ru/all/stanovyas-guru-api-yandeks-metriki/', i['dimensions'][0]['name'] ) != None:\n",
    "        print(i['metrics'][0])\n",
    "        a = i['metrics'][0]"
   ]
  },
  {
   "cell_type": "code",
   "execution_count": null,
   "metadata": {},
   "outputs": [],
   "source": [
    "m = 0\n",
    "a = 0"
   ]
  },
  {
   "cell_type": "code",
   "execution_count": null,
   "metadata": {},
   "outputs": [],
   "source": [
    "a2/a1*100"
   ]
  },
  {
   "cell_type": "code",
   "execution_count": null,
   "metadata": {},
   "outputs": [],
   "source": [
    "a1/a2*100"
   ]
  },
  {
   "cell_type": "code",
   "execution_count": null,
   "metadata": {},
   "outputs": [],
   "source": [
    "a1/100"
   ]
  },
  {
   "cell_type": "code",
   "execution_count": null,
   "metadata": {},
   "outputs": [],
   "source": [
    "a2/100"
   ]
  },
  {
   "cell_type": "code",
   "execution_count": null,
   "metadata": {},
   "outputs": [],
   "source": [
    "a2-a1"
   ]
  },
  {
   "cell_type": "code",
   "execution_count": null,
   "metadata": {},
   "outputs": [],
   "source": [
    "100//2.0"
   ]
  },
  {
   "cell_type": "code",
   "execution_count": null,
   "metadata": {},
   "outputs": [],
   "source": [
    "100//3.0"
   ]
  },
  {
   "cell_type": "code",
   "execution_count": null,
   "metadata": {},
   "outputs": [],
   "source": [
    "a1 = 200\n",
    "a2 = 300\n"
   ]
  },
  {
   "cell_type": "code",
   "execution_count": null,
   "metadata": {},
   "outputs": [],
   "source": [
    "import json \n",
    "import requests\n",
    "from pprint import pprint"
   ]
  },
  {
   "cell_type": "code",
   "execution_count": null,
   "metadata": {},
   "outputs": [],
   "source": [
    "token = '<ваш_токен>'\n",
    "# token = '<ваш_токен>' # вместо слов \"ваш_токен\" нужно вставить свой токен\n",
    "\n",
    "headers = {'Authorization': 'OAuth ' + token}"
   ]
  },
  {
   "cell_type": "code",
   "execution_count": null,
   "metadata": {},
   "outputs": [],
   "source": [
    "token = 'AgAAAAAi9SWgAAb2OB2emwqJm0hKqwMaECu3w98'\n",
    "\n",
    "headers = {'Authorization': 'OAuth ' + token}"
   ]
  },
  {
   "cell_type": "code",
   "execution_count": null,
   "metadata": {},
   "outputs": [],
   "source": [
    "params = {'metrics': 'ym:s:visits,ym:s:goal137595631reaches',\n",
    "          'dimensions': 'ym:s:lastsignTrafficSource',  \n",
    "          'date1': '2020-10-07',  \n",
    "          'date2': '2020-10-09',     \n",
    "          'ids': 30177909,\n",
    "          'accuracy':'full',\n",
    "          'limit':100000}"
   ]
  },
  {
   "cell_type": "code",
   "execution_count": null,
   "metadata": {},
   "outputs": [],
   "source": [
    "params = {'metrics': 'ym:s:visits,ym:s:goal137595631reaches',\n",
    "          'dimensions': 'ym:s:lastTrafficSource',  \n",
    "          'date1': '2020-10-07',  \n",
    "          'date2': '2020-10-09',     \n",
    "          'ids': 30177909,\n",
    "          'accuracy':'full',\n",
    "          'limit':100000}"
   ]
  },
  {
   "cell_type": "code",
   "execution_count": null,
   "metadata": {},
   "outputs": [],
   "source": [
    "response = requests.get('https://api-metrika.yandex.net/stat/v1/data', params=params, headers=headers)\n",
    "print (response.status_code)"
   ]
  },
  {
   "cell_type": "code",
   "execution_count": null,
   "metadata": {},
   "outputs": [],
   "source": [
    "metrika_data = response.json()"
   ]
  },
  {
   "cell_type": "code",
   "execution_count": null,
   "metadata": {},
   "outputs": [],
   "source": [
    "print(type(metrika_data))"
   ]
  },
  {
   "cell_type": "code",
   "execution_count": null,
   "metadata": {},
   "outputs": [],
   "source": [
    "print(metrika_data.keys())"
   ]
  },
  {
   "cell_type": "code",
   "execution_count": null,
   "metadata": {},
   "outputs": [],
   "source": [
    "metrika_data['total_rows']\n"
   ]
  },
  {
   "cell_type": "code",
   "execution_count": null,
   "metadata": {},
   "outputs": [],
   "source": [
    "pprint(metrika_data['data'][0:5])"
   ]
  },
  {
   "cell_type": "code",
   "execution_count": null,
   "metadata": {},
   "outputs": [],
   "source": [
    "import pandas as pd # Обратите внимание, что мы импортируем библиотеку pandas под псевдонимом pd.\n",
    "# Это означает, что в дальнейшем мы сможем обращаться к ней именно под этим псевнонимом"
   ]
  },
  {
   "cell_type": "code",
   "execution_count": null,
   "metadata": {},
   "outputs": [],
   "source": [
    "metrika_df = pd.DataFrame(metrika_data['data'])\n",
    "display(metrika_df.head(10)) # Функция .head(10) позволяет выбрать только 10 первые строк датафрейма "
   ]
  },
  {
   "cell_type": "code",
   "execution_count": null,
   "metadata": {},
   "outputs": [],
   "source": [
    "def getMetrikaDataInListOfDicts(metrika_data):\n",
    "    list_of_dicts = []\n",
    "    dimensions_list = metrika_data['query']['dimensions']\n",
    "    metrics_list = metrika_data['query']['metrics']\n",
    "    for data_item in metrika_data['data']:\n",
    "        d = {}\n",
    "        for i,dimension in enumerate(data_item['dimensions']):\n",
    "            d[dimensions_list[i]] = dimension['name']\n",
    "        for i,metric in enumerate(data_item['metrics']):\n",
    "            d[metrics_list[i]] = metric\n",
    "        list_of_dicts.append(d)\n",
    "    return list_of_dicts"
   ]
  },
  {
   "cell_type": "code",
   "execution_count": null,
   "metadata": {},
   "outputs": [],
   "source": [
    "lisf = []\n",
    "\n",
    "for i in metrika_data['data']:\n",
    "    name = i['dimensions'][0]['name']\n",
    "    visits = i['metrics'][0]\n",
    "    pageviews = i['metrics'][1]\n",
    "    #print({1:name,2:visits,3:pageviews})\n",
    "    lisf.append({metrika_data['query']['dimensions'][0]:name,\n",
    "                 metrika_data['query']['metrics'][0]:visits,\n",
    "                 metrika_data['query']['metrics'][1]:pageviews})"
   ]
  },
  {
   "cell_type": "code",
   "execution_count": null,
   "metadata": {},
   "outputs": [],
   "source": [
    "lisf"
   ]
  },
  {
   "cell_type": "code",
   "execution_count": null,
   "metadata": {},
   "outputs": [],
   "source": [
    "metrika_list_of_dicts = getMetrikaDataInListOfDicts(metrika_data)"
   ]
  },
  {
   "cell_type": "code",
   "execution_count": null,
   "metadata": {},
   "outputs": [],
   "source": [
    "metrika_df = pd.DataFrame(metrika_list_of_dicts)\n",
    "display(metrika_df.head(10))"
   ]
  },
  {
   "cell_type": "code",
   "execution_count": null,
   "metadata": {},
   "outputs": [],
   "source": [
    "metrika_df.columns=['Source','Visits','Conversions']\n",
    "metrika_df['Last non-direct CR%'] = metrika_df['Conversions']/metrika_df['Visits']*100\n"
   ]
  },
  {
   "cell_type": "code",
   "execution_count": null,
   "metadata": {},
   "outputs": [],
   "source": [
    "# last\n",
    "display(metrika_df.head(10))"
   ]
  },
  {
   "cell_type": "code",
   "execution_count": null,
   "metadata": {},
   "outputs": [],
   "source": [
    "#lastsign\n",
    "display(metrika_df.head(10))"
   ]
  },
  {
   "cell_type": "code",
   "execution_count": null,
   "metadata": {},
   "outputs": [],
   "source": [
    "metrika_df.drop()"
   ]
  },
  {
   "cell_type": "code",
   "execution_count": null,
   "metadata": {},
   "outputs": [],
   "source": [
    "df1 = metrika_df.loc[:,['Source','Last non-direct CR%']]\n",
    "df2 = metrika_df2.loc[:,['Source','Last click CR%']]\n",
    "attribution_compare_df = df1.merge(df2, on='Source')\n",
    "attribution_compare_df['Last click to Last non-direct Difference'] = attribution_compare_df['Last click CR%']/attribution_compare_df['Last non-direct CR%'] -1\n",
    "attribution_compare_df"
   ]
  },
  {
   "cell_type": "code",
   "execution_count": null,
   "metadata": {},
   "outputs": [],
   "source": [
    "!pip install beautifulsoup4"
   ]
  },
  {
   "cell_type": "code",
   "execution_count": null,
   "metadata": {},
   "outputs": [],
   "source": [
    "import pandas as pd\n",
    "import requests\n",
    "\n",
    "from bs4 import BeautifulSoup\n"
   ]
  },
  {
   "cell_type": "code",
   "execution_count": null,
   "metadata": {},
   "outputs": [],
   "source": [
    "webpage_countries_population = requests.get(\n",
    "    \"https://ru.wikipedia.org/w/index.php?title=%D0%A1%D0%BF%D0%B8%D1%81%D0%BE%D0%BA_%D0%B3%D0%BE%D1%80%D0%BE%D0%B4%D0%BE%D0%B2_%D0%A0%D0%BE%D1%81%D1%81%D0%B8%D0%B8_%D1%81_%D0%BD%D0%B0%D1%81%D0%B5%D0%BB%D0%B5%D0%BD%D0%B8%D0%B5%D0%BC_%D0%B1%D0%BE%D0%BB%D0%B5%D0%B5_100_%D1%82%D1%8B%D1%81%D1%8F%D1%87_%D0%B6%D0%B8%D1%82%D0%B5%D0%BB%D0%B5%D0%B9&stable=1\").text\n",
    "\n",
    "souped_webpage = BeautifulSoup(webpage_countries_population, \"lxml\")"
   ]
  },
  {
   "cell_type": "code",
   "execution_count": null,
   "metadata": {},
   "outputs": [],
   "source": [
    "population_table = souped_webpage.find(\"table\", {\"class\": \"wikitable sortable\"})\n",
    "population_table = pd.read_html(str(population_table))[0]"
   ]
  },
  {
   "cell_type": "code",
   "execution_count": null,
   "metadata": {},
   "outputs": [],
   "source": [
    "pd.read_html(str(population_table))[0]"
   ]
  },
  {
   "cell_type": "code",
   "execution_count": null,
   "metadata": {},
   "outputs": [],
   "source": [
    "population_table['Население, тыс. человек']['2020']"
   ]
  },
  {
   "cell_type": "code",
   "execution_count": null,
   "metadata": {},
   "outputs": [],
   "source": [
    "population_table['Население, тыс. человек']['2020'].mean()"
   ]
  },
  {
   "cell_type": "code",
   "execution_count": null,
   "metadata": {},
   "outputs": [],
   "source": []
  }
 ],
 "metadata": {
  "kernelspec": {
   "display_name": "Python 3",
   "language": "python",
   "name": "python3"
  },
  "language_info": {
   "codemirror_mode": {
    "name": "ipython",
    "version": 3
   },
   "file_extension": ".py",
   "mimetype": "text/x-python",
   "name": "python",
   "nbconvert_exporter": "python",
   "pygments_lexer": "ipython3",
   "version": "3.8.8"
  }
 },
 "nbformat": 4,
 "nbformat_minor": 4
}
