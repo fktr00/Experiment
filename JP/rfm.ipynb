{
 "cells": [
  {
   "cell_type": "code",
   "execution_count": 1,
   "metadata": {},
   "outputs": [],
   "source": [
    "import pandas as pd"
   ]
  },
  {
   "cell_type": "code",
   "execution_count": 2,
   "metadata": {},
   "outputs": [],
   "source": [
    "orders = pd.read_csv('data.csv',sep=',')"
   ]
  },
  {
   "cell_type": "code",
   "execution_count": 3,
   "metadata": {},
   "outputs": [
    {
     "data": {
      "text/html": [
       "<div>\n",
       "<style scoped>\n",
       "    .dataframe tbody tr th:only-of-type {\n",
       "        vertical-align: middle;\n",
       "    }\n",
       "\n",
       "    .dataframe tbody tr th {\n",
       "        vertical-align: top;\n",
       "    }\n",
       "\n",
       "    .dataframe thead th {\n",
       "        text-align: right;\n",
       "    }\n",
       "</style>\n",
       "<table border=\"1\" class=\"dataframe\">\n",
       "  <thead>\n",
       "    <tr style=\"text-align: right;\">\n",
       "      <th></th>\n",
       "      <th>order_date</th>\n",
       "      <th>order_id</th>\n",
       "      <th>customer</th>\n",
       "      <th>grand_total</th>\n",
       "    </tr>\n",
       "  </thead>\n",
       "  <tbody>\n",
       "    <tr>\n",
       "      <th>0</th>\n",
       "      <td>9/7/11</td>\n",
       "      <td>CA-2011-100006</td>\n",
       "      <td>Dennis Kane</td>\n",
       "      <td>378</td>\n",
       "    </tr>\n",
       "    <tr>\n",
       "      <th>1</th>\n",
       "      <td>7/8/11</td>\n",
       "      <td>CA-2011-100090</td>\n",
       "      <td>Ed Braxton</td>\n",
       "      <td>699</td>\n",
       "    </tr>\n",
       "    <tr>\n",
       "      <th>2</th>\n",
       "      <td>3/14/11</td>\n",
       "      <td>CA-2011-100293</td>\n",
       "      <td>Neil Franz�sisch</td>\n",
       "      <td>91</td>\n",
       "    </tr>\n",
       "    <tr>\n",
       "      <th>3</th>\n",
       "      <td>1/29/11</td>\n",
       "      <td>CA-2011-100328</td>\n",
       "      <td>Jasper Cacioppo</td>\n",
       "      <td>4</td>\n",
       "    </tr>\n",
       "    <tr>\n",
       "      <th>4</th>\n",
       "      <td>4/8/11</td>\n",
       "      <td>CA-2011-100363</td>\n",
       "      <td>Jim Mitchum</td>\n",
       "      <td>21</td>\n",
       "    </tr>\n",
       "    <tr>\n",
       "      <th>...</th>\n",
       "      <td>...</td>\n",
       "      <td>...</td>\n",
       "      <td>...</td>\n",
       "      <td>...</td>\n",
       "    </tr>\n",
       "    <tr>\n",
       "      <th>5004</th>\n",
       "      <td>11/4/14</td>\n",
       "      <td>US-2014-168802</td>\n",
       "      <td>Jack O'Briant</td>\n",
       "      <td>18</td>\n",
       "    </tr>\n",
       "    <tr>\n",
       "      <th>5005</th>\n",
       "      <td>7/24/14</td>\n",
       "      <td>US-2014-169320</td>\n",
       "      <td>Lena Hernandez</td>\n",
       "      <td>171</td>\n",
       "    </tr>\n",
       "    <tr>\n",
       "      <th>5006</th>\n",
       "      <td>9/8/14</td>\n",
       "      <td>US-2014-169488</td>\n",
       "      <td>Allen Armold</td>\n",
       "      <td>57</td>\n",
       "    </tr>\n",
       "    <tr>\n",
       "      <th>5007</th>\n",
       "      <td>8/29/14</td>\n",
       "      <td>US-2014-169502</td>\n",
       "      <td>Matthew Grinstein</td>\n",
       "      <td>113</td>\n",
       "    </tr>\n",
       "    <tr>\n",
       "      <th>5008</th>\n",
       "      <td>7/8/14</td>\n",
       "      <td>US-2014-169551</td>\n",
       "      <td>Rob Lucas</td>\n",
       "      <td>1345</td>\n",
       "    </tr>\n",
       "  </tbody>\n",
       "</table>\n",
       "<p>5009 rows × 4 columns</p>\n",
       "</div>"
      ],
      "text/plain": [
       "     order_date        order_id           customer  grand_total\n",
       "0        9/7/11  CA-2011-100006        Dennis Kane          378\n",
       "1        7/8/11  CA-2011-100090         Ed Braxton          699\n",
       "2       3/14/11  CA-2011-100293   Neil Franz�sisch           91\n",
       "3       1/29/11  CA-2011-100328    Jasper Cacioppo            4\n",
       "4        4/8/11  CA-2011-100363        Jim Mitchum           21\n",
       "...         ...             ...                ...          ...\n",
       "5004    11/4/14  US-2014-168802      Jack O'Briant           18\n",
       "5005    7/24/14  US-2014-169320     Lena Hernandez          171\n",
       "5006     9/8/14  US-2014-169488       Allen Armold           57\n",
       "5007    8/29/14  US-2014-169502  Matthew Grinstein          113\n",
       "5008     7/8/14  US-2014-169551          Rob Lucas         1345\n",
       "\n",
       "[5009 rows x 4 columns]"
      ]
     },
     "execution_count": 3,
     "metadata": {},
     "output_type": "execute_result"
    }
   ],
   "source": [
    "orders"
   ]
  },
  {
   "cell_type": "code",
   "execution_count": 4,
   "metadata": {},
   "outputs": [],
   "source": [
    "orders['order_date'] = pd.to_datetime(orders['order_date'])\n"
   ]
  },
  {
   "cell_type": "code",
   "execution_count": 5,
   "metadata": {},
   "outputs": [
    {
     "name": "stdout",
     "output_type": "stream",
     "text": [
      "<class 'pandas.core.frame.DataFrame'>\n",
      "RangeIndex: 5009 entries, 0 to 5008\n",
      "Data columns (total 4 columns):\n",
      " #   Column       Non-Null Count  Dtype         \n",
      "---  ------       --------------  -----         \n",
      " 0   order_date   5009 non-null   datetime64[ns]\n",
      " 1   order_id     5009 non-null   object        \n",
      " 2   customer     5009 non-null   object        \n",
      " 3   grand_total  5009 non-null   int64         \n",
      "dtypes: datetime64[ns](1), int64(1), object(2)\n",
      "memory usage: 156.7+ KB\n"
     ]
    }
   ],
   "source": [
    "orders.info()"
   ]
  },
  {
   "cell_type": "code",
   "execution_count": 6,
   "metadata": {},
   "outputs": [
    {
     "data": {
      "text/plain": [
       "order_date     0\n",
       "order_id       0\n",
       "customer       0\n",
       "grand_total    0\n",
       "dtype: int64"
      ]
     },
     "execution_count": 6,
     "metadata": {},
     "output_type": "execute_result"
    }
   ],
   "source": [
    "orders.isna().sum()"
   ]
  },
  {
   "cell_type": "code",
   "execution_count": 7,
   "metadata": {},
   "outputs": [
    {
     "data": {
      "text/plain": [
       "order_date     2014-12-31 00:00:00\n",
       "order_id            US-2014-169551\n",
       "customer        Zuschuss Donatelli\n",
       "grand_total                  23661\n",
       "dtype: object"
      ]
     },
     "execution_count": 7,
     "metadata": {},
     "output_type": "execute_result"
    }
   ],
   "source": [
    "orders.max()"
   ]
  },
  {
   "cell_type": "code",
   "execution_count": 8,
   "metadata": {},
   "outputs": [],
   "source": [
    "import datetime as dt\n",
    "NOW = dt.datetime(2014,12,31)"
   ]
  },
  {
   "cell_type": "code",
   "execution_count": 9,
   "metadata": {},
   "outputs": [],
   "source": [
    "rfmTable = orders.groupby('customer').agg({'order_date': lambda x: (NOW - x.max()).days, # Recency #Количество дней с последнего заказа\n",
    "                                        'order_id': lambda x: len(x),      # Frequency #Количество заказов\n",
    "                                        'grand_total': lambda x: x.sum()}) # Monetary Value #Общая сумма по всем заказам"
   ]
  },
  {
   "cell_type": "code",
   "execution_count": 10,
   "metadata": {},
   "outputs": [
    {
     "data": {
      "text/html": [
       "<div>\n",
       "<style scoped>\n",
       "    .dataframe tbody tr th:only-of-type {\n",
       "        vertical-align: middle;\n",
       "    }\n",
       "\n",
       "    .dataframe tbody tr th {\n",
       "        vertical-align: top;\n",
       "    }\n",
       "\n",
       "    .dataframe thead th {\n",
       "        text-align: right;\n",
       "    }\n",
       "</style>\n",
       "<table border=\"1\" class=\"dataframe\">\n",
       "  <thead>\n",
       "    <tr style=\"text-align: right;\">\n",
       "      <th></th>\n",
       "      <th>order_date</th>\n",
       "      <th>order_id</th>\n",
       "      <th>grand_total</th>\n",
       "    </tr>\n",
       "    <tr>\n",
       "      <th>customer</th>\n",
       "      <th></th>\n",
       "      <th></th>\n",
       "      <th></th>\n",
       "    </tr>\n",
       "  </thead>\n",
       "  <tbody>\n",
       "    <tr>\n",
       "      <th>Aaron Bergman</th>\n",
       "      <td>415</td>\n",
       "      <td>3</td>\n",
       "      <td>887</td>\n",
       "    </tr>\n",
       "    <tr>\n",
       "      <th>Aaron Hawkins</th>\n",
       "      <td>12</td>\n",
       "      <td>7</td>\n",
       "      <td>1744</td>\n",
       "    </tr>\n",
       "    <tr>\n",
       "      <th>Aaron Smayling</th>\n",
       "      <td>88</td>\n",
       "      <td>7</td>\n",
       "      <td>3050</td>\n",
       "    </tr>\n",
       "    <tr>\n",
       "      <th>Adam Bellavance</th>\n",
       "      <td>54</td>\n",
       "      <td>8</td>\n",
       "      <td>7756</td>\n",
       "    </tr>\n",
       "    <tr>\n",
       "      <th>Adam Hart</th>\n",
       "      <td>34</td>\n",
       "      <td>10</td>\n",
       "      <td>3249</td>\n",
       "    </tr>\n",
       "    <tr>\n",
       "      <th>...</th>\n",
       "      <td>...</td>\n",
       "      <td>...</td>\n",
       "      <td>...</td>\n",
       "    </tr>\n",
       "    <tr>\n",
       "      <th>Xylona Preis</th>\n",
       "      <td>43</td>\n",
       "      <td>11</td>\n",
       "      <td>2375</td>\n",
       "    </tr>\n",
       "    <tr>\n",
       "      <th>Yana Sorensen</th>\n",
       "      <td>9</td>\n",
       "      <td>8</td>\n",
       "      <td>6721</td>\n",
       "    </tr>\n",
       "    <tr>\n",
       "      <th>Yoseph Carroll</th>\n",
       "      <td>4</td>\n",
       "      <td>5</td>\n",
       "      <td>5455</td>\n",
       "    </tr>\n",
       "    <tr>\n",
       "      <th>Zuschuss Carroll</th>\n",
       "      <td>54</td>\n",
       "      <td>13</td>\n",
       "      <td>8027</td>\n",
       "    </tr>\n",
       "    <tr>\n",
       "      <th>Zuschuss Donatelli</th>\n",
       "      <td>202</td>\n",
       "      <td>5</td>\n",
       "      <td>1494</td>\n",
       "    </tr>\n",
       "  </tbody>\n",
       "</table>\n",
       "<p>793 rows × 3 columns</p>\n",
       "</div>"
      ],
      "text/plain": [
       "                    order_date  order_id  grand_total\n",
       "customer                                             \n",
       "Aaron Bergman              415         3          887\n",
       "Aaron Hawkins               12         7         1744\n",
       "Aaron Smayling              88         7         3050\n",
       "Adam Bellavance             54         8         7756\n",
       "Adam Hart                   34        10         3249\n",
       "...                        ...       ...          ...\n",
       "Xylona Preis                43        11         2375\n",
       "Yana Sorensen                9         8         6721\n",
       "Yoseph Carroll               4         5         5455\n",
       "Zuschuss Carroll            54        13         8027\n",
       "Zuschuss Donatelli         202         5         1494\n",
       "\n",
       "[793 rows x 3 columns]"
      ]
     },
     "execution_count": 10,
     "metadata": {},
     "output_type": "execute_result"
    }
   ],
   "source": [
    "rfmTable\n"
   ]
  },
  {
   "cell_type": "code",
   "execution_count": 11,
   "metadata": {},
   "outputs": [
    {
     "name": "stdout",
     "output_type": "stream",
     "text": [
      "<class 'pandas.core.frame.DataFrame'>\n",
      "Index: 793 entries, Aaron Bergman to Zuschuss Donatelli\n",
      "Data columns (total 3 columns):\n",
      " #   Column       Non-Null Count  Dtype\n",
      "---  ------       --------------  -----\n",
      " 0   order_date   793 non-null    int64\n",
      " 1   order_id     793 non-null    int64\n",
      " 2   grand_total  793 non-null    int64\n",
      "dtypes: int64(3)\n",
      "memory usage: 24.8+ KB\n"
     ]
    }
   ],
   "source": [
    "rfmTable.info()"
   ]
  },
  {
   "cell_type": "code",
   "execution_count": 12,
   "metadata": {},
   "outputs": [],
   "source": [
    "rfmTable['order_date'] = rfmTable['order_date'].astype(int)"
   ]
  },
  {
   "cell_type": "code",
   "execution_count": 13,
   "metadata": {},
   "outputs": [],
   "source": [
    "rfmTable.rename(columns={'order_date': 'recency', \n",
    "                         'order_id': 'frequency', \n",
    "                         'grand_total': 'monetary_value'}, inplace=True)"
   ]
  },
  {
   "cell_type": "code",
   "execution_count": 14,
   "metadata": {},
   "outputs": [],
   "source": [
    "quantiles = rfmTable.quantile(q=[0.25,0.5,0.75])"
   ]
  },
  {
   "cell_type": "code",
   "execution_count": 15,
   "metadata": {},
   "outputs": [
    {
     "data": {
      "text/html": [
       "<div>\n",
       "<style scoped>\n",
       "    .dataframe tbody tr th:only-of-type {\n",
       "        vertical-align: middle;\n",
       "    }\n",
       "\n",
       "    .dataframe tbody tr th {\n",
       "        vertical-align: top;\n",
       "    }\n",
       "\n",
       "    .dataframe thead th {\n",
       "        text-align: right;\n",
       "    }\n",
       "</style>\n",
       "<table border=\"1\" class=\"dataframe\">\n",
       "  <thead>\n",
       "    <tr style=\"text-align: right;\">\n",
       "      <th></th>\n",
       "      <th>recency</th>\n",
       "      <th>frequency</th>\n",
       "      <th>monetary_value</th>\n",
       "    </tr>\n",
       "  </thead>\n",
       "  <tbody>\n",
       "    <tr>\n",
       "      <th>0.25</th>\n",
       "      <td>30.0</td>\n",
       "      <td>5.0</td>\n",
       "      <td>1145.0</td>\n",
       "    </tr>\n",
       "    <tr>\n",
       "      <th>0.50</th>\n",
       "      <td>75.0</td>\n",
       "      <td>6.0</td>\n",
       "      <td>2257.0</td>\n",
       "    </tr>\n",
       "    <tr>\n",
       "      <th>0.75</th>\n",
       "      <td>183.0</td>\n",
       "      <td>8.0</td>\n",
       "      <td>3784.0</td>\n",
       "    </tr>\n",
       "  </tbody>\n",
       "</table>\n",
       "</div>"
      ],
      "text/plain": [
       "      recency  frequency  monetary_value\n",
       "0.25     30.0        5.0          1145.0\n",
       "0.50     75.0        6.0          2257.0\n",
       "0.75    183.0        8.0          3784.0"
      ]
     },
     "execution_count": 15,
     "metadata": {},
     "output_type": "execute_result"
    }
   ],
   "source": [
    "quantiles"
   ]
  },
  {
   "cell_type": "code",
   "execution_count": 16,
   "metadata": {},
   "outputs": [],
   "source": [
    "quantiles = quantiles.to_dict()"
   ]
  },
  {
   "cell_type": "code",
   "execution_count": 17,
   "metadata": {},
   "outputs": [
    {
     "data": {
      "text/plain": [
       "{'recency': {0.25: 30.0, 0.5: 75.0, 0.75: 183.0},\n",
       " 'frequency': {0.25: 5.0, 0.5: 6.0, 0.75: 8.0},\n",
       " 'monetary_value': {0.25: 1145.0, 0.5: 2257.0, 0.75: 3784.0}}"
      ]
     },
     "execution_count": 17,
     "metadata": {},
     "output_type": "execute_result"
    }
   ],
   "source": [
    "quantiles"
   ]
  },
  {
   "cell_type": "code",
   "execution_count": 18,
   "metadata": {},
   "outputs": [],
   "source": [
    "rfmSegmentation = rfmTable"
   ]
  },
  {
   "cell_type": "code",
   "execution_count": 19,
   "metadata": {},
   "outputs": [],
   "source": [
    "# Arguments (x = value, p = recency, monetary_value, frequency, k = quartiles dict)\n",
    "def RClass(x,p,d):\n",
    "    if x <= d[p][0.25]:\n",
    "        return 1\n",
    "    elif x <= d[p][0.50]:\n",
    "        return 2\n",
    "    elif x <= d[p][0.75]: \n",
    "        return 3\n",
    "    else:\n",
    "        return 4\n",
    "# Arguments (x = value, p = recency, monetary_value, frequency, k = quartiles dict)\n",
    "def FMClass(x,p,d):\n",
    "    if x <= d[p][0.25]:\n",
    "        return 4\n",
    "    elif x <= d[p][0.50]:\n",
    "        return 3\n",
    "    elif x <= d[p][0.75]: \n",
    "        return 2\n",
    "    else:\n",
    "        return 1"
   ]
  },
  {
   "cell_type": "code",
   "execution_count": 20,
   "metadata": {},
   "outputs": [],
   "source": [
    "rfmSegmentation['R_Quartile'] = rfmSegmentation['recency'].apply(RClass, args=('recency',quantiles,))\n",
    "\n",
    "rfmSegmentation['F_Quartile'] = rfmSegmentation['frequency'].apply(FMClass, args=('frequency',quantiles,))\n",
    "\n",
    "rfmSegmentation['M_Quartile'] = rfmSegmentation['monetary_value'].apply(FMClass, args=('monetary_value',quantiles,))"
   ]
  },
  {
   "cell_type": "code",
   "execution_count": 21,
   "metadata": {},
   "outputs": [
    {
     "data": {
      "text/html": [
       "<div>\n",
       "<style scoped>\n",
       "    .dataframe tbody tr th:only-of-type {\n",
       "        vertical-align: middle;\n",
       "    }\n",
       "\n",
       "    .dataframe tbody tr th {\n",
       "        vertical-align: top;\n",
       "    }\n",
       "\n",
       "    .dataframe thead th {\n",
       "        text-align: right;\n",
       "    }\n",
       "</style>\n",
       "<table border=\"1\" class=\"dataframe\">\n",
       "  <thead>\n",
       "    <tr style=\"text-align: right;\">\n",
       "      <th></th>\n",
       "      <th>recency</th>\n",
       "      <th>frequency</th>\n",
       "      <th>monetary_value</th>\n",
       "      <th>R_Quartile</th>\n",
       "      <th>F_Quartile</th>\n",
       "      <th>M_Quartile</th>\n",
       "    </tr>\n",
       "    <tr>\n",
       "      <th>customer</th>\n",
       "      <th></th>\n",
       "      <th></th>\n",
       "      <th></th>\n",
       "      <th></th>\n",
       "      <th></th>\n",
       "      <th></th>\n",
       "    </tr>\n",
       "  </thead>\n",
       "  <tbody>\n",
       "    <tr>\n",
       "      <th>Aaron Bergman</th>\n",
       "      <td>415</td>\n",
       "      <td>3</td>\n",
       "      <td>887</td>\n",
       "      <td>4</td>\n",
       "      <td>4</td>\n",
       "      <td>4</td>\n",
       "    </tr>\n",
       "    <tr>\n",
       "      <th>Aaron Hawkins</th>\n",
       "      <td>12</td>\n",
       "      <td>7</td>\n",
       "      <td>1744</td>\n",
       "      <td>1</td>\n",
       "      <td>2</td>\n",
       "      <td>3</td>\n",
       "    </tr>\n",
       "    <tr>\n",
       "      <th>Aaron Smayling</th>\n",
       "      <td>88</td>\n",
       "      <td>7</td>\n",
       "      <td>3050</td>\n",
       "      <td>3</td>\n",
       "      <td>2</td>\n",
       "      <td>2</td>\n",
       "    </tr>\n",
       "    <tr>\n",
       "      <th>Adam Bellavance</th>\n",
       "      <td>54</td>\n",
       "      <td>8</td>\n",
       "      <td>7756</td>\n",
       "      <td>2</td>\n",
       "      <td>2</td>\n",
       "      <td>1</td>\n",
       "    </tr>\n",
       "    <tr>\n",
       "      <th>Adam Hart</th>\n",
       "      <td>34</td>\n",
       "      <td>10</td>\n",
       "      <td>3249</td>\n",
       "      <td>2</td>\n",
       "      <td>1</td>\n",
       "      <td>2</td>\n",
       "    </tr>\n",
       "    <tr>\n",
       "      <th>...</th>\n",
       "      <td>...</td>\n",
       "      <td>...</td>\n",
       "      <td>...</td>\n",
       "      <td>...</td>\n",
       "      <td>...</td>\n",
       "      <td>...</td>\n",
       "    </tr>\n",
       "    <tr>\n",
       "      <th>Xylona Preis</th>\n",
       "      <td>43</td>\n",
       "      <td>11</td>\n",
       "      <td>2375</td>\n",
       "      <td>2</td>\n",
       "      <td>1</td>\n",
       "      <td>2</td>\n",
       "    </tr>\n",
       "    <tr>\n",
       "      <th>Yana Sorensen</th>\n",
       "      <td>9</td>\n",
       "      <td>8</td>\n",
       "      <td>6721</td>\n",
       "      <td>1</td>\n",
       "      <td>2</td>\n",
       "      <td>1</td>\n",
       "    </tr>\n",
       "    <tr>\n",
       "      <th>Yoseph Carroll</th>\n",
       "      <td>4</td>\n",
       "      <td>5</td>\n",
       "      <td>5455</td>\n",
       "      <td>1</td>\n",
       "      <td>4</td>\n",
       "      <td>1</td>\n",
       "    </tr>\n",
       "    <tr>\n",
       "      <th>Zuschuss Carroll</th>\n",
       "      <td>54</td>\n",
       "      <td>13</td>\n",
       "      <td>8027</td>\n",
       "      <td>2</td>\n",
       "      <td>1</td>\n",
       "      <td>1</td>\n",
       "    </tr>\n",
       "    <tr>\n",
       "      <th>Zuschuss Donatelli</th>\n",
       "      <td>202</td>\n",
       "      <td>5</td>\n",
       "      <td>1494</td>\n",
       "      <td>4</td>\n",
       "      <td>4</td>\n",
       "      <td>3</td>\n",
       "    </tr>\n",
       "  </tbody>\n",
       "</table>\n",
       "<p>793 rows × 6 columns</p>\n",
       "</div>"
      ],
      "text/plain": [
       "                    recency  frequency  monetary_value  R_Quartile  \\\n",
       "customer                                                             \n",
       "Aaron Bergman           415          3             887           4   \n",
       "Aaron Hawkins            12          7            1744           1   \n",
       "Aaron Smayling           88          7            3050           3   \n",
       "Adam Bellavance          54          8            7756           2   \n",
       "Adam Hart                34         10            3249           2   \n",
       "...                     ...        ...             ...         ...   \n",
       "Xylona Preis             43         11            2375           2   \n",
       "Yana Sorensen             9          8            6721           1   \n",
       "Yoseph Carroll            4          5            5455           1   \n",
       "Zuschuss Carroll         54         13            8027           2   \n",
       "Zuschuss Donatelli      202          5            1494           4   \n",
       "\n",
       "                    F_Quartile  M_Quartile  \n",
       "customer                                    \n",
       "Aaron Bergman                4           4  \n",
       "Aaron Hawkins                2           3  \n",
       "Aaron Smayling               2           2  \n",
       "Adam Bellavance              2           1  \n",
       "Adam Hart                    1           2  \n",
       "...                        ...         ...  \n",
       "Xylona Preis                 1           2  \n",
       "Yana Sorensen                2           1  \n",
       "Yoseph Carroll               4           1  \n",
       "Zuschuss Carroll             1           1  \n",
       "Zuschuss Donatelli           4           3  \n",
       "\n",
       "[793 rows x 6 columns]"
      ]
     },
     "execution_count": 21,
     "metadata": {},
     "output_type": "execute_result"
    }
   ],
   "source": [
    "rfmSegmentation"
   ]
  },
  {
   "cell_type": "code",
   "execution_count": 22,
   "metadata": {},
   "outputs": [],
   "source": [
    "rfmSegmentation['RFMClass'] = rfmSegmentation.R_Quartile.map(str) \\\n",
    "                            + rfmSegmentation.F_Quartile.map(str) \\\n",
    "                            + rfmSegmentation.M_Quartile.map(str)"
   ]
  },
  {
   "cell_type": "code",
   "execution_count": 23,
   "metadata": {},
   "outputs": [
    {
     "data": {
      "text/html": [
       "<div>\n",
       "<style scoped>\n",
       "    .dataframe tbody tr th:only-of-type {\n",
       "        vertical-align: middle;\n",
       "    }\n",
       "\n",
       "    .dataframe tbody tr th {\n",
       "        vertical-align: top;\n",
       "    }\n",
       "\n",
       "    .dataframe thead th {\n",
       "        text-align: right;\n",
       "    }\n",
       "</style>\n",
       "<table border=\"1\" class=\"dataframe\">\n",
       "  <thead>\n",
       "    <tr style=\"text-align: right;\">\n",
       "      <th></th>\n",
       "      <th>recency</th>\n",
       "      <th>frequency</th>\n",
       "      <th>monetary_value</th>\n",
       "      <th>R_Quartile</th>\n",
       "      <th>F_Quartile</th>\n",
       "      <th>M_Quartile</th>\n",
       "      <th>RFMClass</th>\n",
       "    </tr>\n",
       "    <tr>\n",
       "      <th>customer</th>\n",
       "      <th></th>\n",
       "      <th></th>\n",
       "      <th></th>\n",
       "      <th></th>\n",
       "      <th></th>\n",
       "      <th></th>\n",
       "      <th></th>\n",
       "    </tr>\n",
       "  </thead>\n",
       "  <tbody>\n",
       "    <tr>\n",
       "      <th>Aaron Bergman</th>\n",
       "      <td>415</td>\n",
       "      <td>3</td>\n",
       "      <td>887</td>\n",
       "      <td>4</td>\n",
       "      <td>4</td>\n",
       "      <td>4</td>\n",
       "      <td>444</td>\n",
       "    </tr>\n",
       "    <tr>\n",
       "      <th>Aaron Hawkins</th>\n",
       "      <td>12</td>\n",
       "      <td>7</td>\n",
       "      <td>1744</td>\n",
       "      <td>1</td>\n",
       "      <td>2</td>\n",
       "      <td>3</td>\n",
       "      <td>123</td>\n",
       "    </tr>\n",
       "    <tr>\n",
       "      <th>Aaron Smayling</th>\n",
       "      <td>88</td>\n",
       "      <td>7</td>\n",
       "      <td>3050</td>\n",
       "      <td>3</td>\n",
       "      <td>2</td>\n",
       "      <td>2</td>\n",
       "      <td>322</td>\n",
       "    </tr>\n",
       "    <tr>\n",
       "      <th>Adam Bellavance</th>\n",
       "      <td>54</td>\n",
       "      <td>8</td>\n",
       "      <td>7756</td>\n",
       "      <td>2</td>\n",
       "      <td>2</td>\n",
       "      <td>1</td>\n",
       "      <td>221</td>\n",
       "    </tr>\n",
       "    <tr>\n",
       "      <th>Adam Hart</th>\n",
       "      <td>34</td>\n",
       "      <td>10</td>\n",
       "      <td>3249</td>\n",
       "      <td>2</td>\n",
       "      <td>1</td>\n",
       "      <td>2</td>\n",
       "      <td>212</td>\n",
       "    </tr>\n",
       "    <tr>\n",
       "      <th>...</th>\n",
       "      <td>...</td>\n",
       "      <td>...</td>\n",
       "      <td>...</td>\n",
       "      <td>...</td>\n",
       "      <td>...</td>\n",
       "      <td>...</td>\n",
       "      <td>...</td>\n",
       "    </tr>\n",
       "    <tr>\n",
       "      <th>Xylona Preis</th>\n",
       "      <td>43</td>\n",
       "      <td>11</td>\n",
       "      <td>2375</td>\n",
       "      <td>2</td>\n",
       "      <td>1</td>\n",
       "      <td>2</td>\n",
       "      <td>212</td>\n",
       "    </tr>\n",
       "    <tr>\n",
       "      <th>Yana Sorensen</th>\n",
       "      <td>9</td>\n",
       "      <td>8</td>\n",
       "      <td>6721</td>\n",
       "      <td>1</td>\n",
       "      <td>2</td>\n",
       "      <td>1</td>\n",
       "      <td>121</td>\n",
       "    </tr>\n",
       "    <tr>\n",
       "      <th>Yoseph Carroll</th>\n",
       "      <td>4</td>\n",
       "      <td>5</td>\n",
       "      <td>5455</td>\n",
       "      <td>1</td>\n",
       "      <td>4</td>\n",
       "      <td>1</td>\n",
       "      <td>141</td>\n",
       "    </tr>\n",
       "    <tr>\n",
       "      <th>Zuschuss Carroll</th>\n",
       "      <td>54</td>\n",
       "      <td>13</td>\n",
       "      <td>8027</td>\n",
       "      <td>2</td>\n",
       "      <td>1</td>\n",
       "      <td>1</td>\n",
       "      <td>211</td>\n",
       "    </tr>\n",
       "    <tr>\n",
       "      <th>Zuschuss Donatelli</th>\n",
       "      <td>202</td>\n",
       "      <td>5</td>\n",
       "      <td>1494</td>\n",
       "      <td>4</td>\n",
       "      <td>4</td>\n",
       "      <td>3</td>\n",
       "      <td>443</td>\n",
       "    </tr>\n",
       "  </tbody>\n",
       "</table>\n",
       "<p>793 rows × 7 columns</p>\n",
       "</div>"
      ],
      "text/plain": [
       "                    recency  frequency  monetary_value  R_Quartile  \\\n",
       "customer                                                             \n",
       "Aaron Bergman           415          3             887           4   \n",
       "Aaron Hawkins            12          7            1744           1   \n",
       "Aaron Smayling           88          7            3050           3   \n",
       "Adam Bellavance          54          8            7756           2   \n",
       "Adam Hart                34         10            3249           2   \n",
       "...                     ...        ...             ...         ...   \n",
       "Xylona Preis             43         11            2375           2   \n",
       "Yana Sorensen             9          8            6721           1   \n",
       "Yoseph Carroll            4          5            5455           1   \n",
       "Zuschuss Carroll         54         13            8027           2   \n",
       "Zuschuss Donatelli      202          5            1494           4   \n",
       "\n",
       "                    F_Quartile  M_Quartile RFMClass  \n",
       "customer                                             \n",
       "Aaron Bergman                4           4      444  \n",
       "Aaron Hawkins                2           3      123  \n",
       "Aaron Smayling               2           2      322  \n",
       "Adam Bellavance              2           1      221  \n",
       "Adam Hart                    1           2      212  \n",
       "...                        ...         ...      ...  \n",
       "Xylona Preis                 1           2      212  \n",
       "Yana Sorensen                2           1      121  \n",
       "Yoseph Carroll               4           1      141  \n",
       "Zuschuss Carroll             1           1      211  \n",
       "Zuschuss Donatelli           4           3      443  \n",
       "\n",
       "[793 rows x 7 columns]"
      ]
     },
     "execution_count": 23,
     "metadata": {},
     "output_type": "execute_result"
    }
   ],
   "source": [
    "rfmSegmentation"
   ]
  },
  {
   "cell_type": "code",
   "execution_count": 24,
   "metadata": {},
   "outputs": [],
   "source": [
    "orders = pd.read_csv('RFM201810.csv',sep=',',low_memory=False)"
   ]
  },
  {
   "cell_type": "code",
   "execution_count": 25,
   "metadata": {},
   "outputs": [
    {
     "data": {
      "text/html": [
       "<div>\n",
       "<style scoped>\n",
       "    .dataframe tbody tr th:only-of-type {\n",
       "        vertical-align: middle;\n",
       "    }\n",
       "\n",
       "    .dataframe tbody tr th {\n",
       "        vertical-align: top;\n",
       "    }\n",
       "\n",
       "    .dataframe thead th {\n",
       "        text-align: right;\n",
       "    }\n",
       "</style>\n",
       "<table border=\"1\" class=\"dataframe\">\n",
       "  <thead>\n",
       "    <tr style=\"text-align: right;\">\n",
       "      <th></th>\n",
       "      <th>InvoiceNo</th>\n",
       "      <th>CustomerCode</th>\n",
       "      <th>InvoiceDate</th>\n",
       "      <th>Amount</th>\n",
       "    </tr>\n",
       "  </thead>\n",
       "  <tbody>\n",
       "    <tr>\n",
       "      <th>0</th>\n",
       "      <td>C0011810010001</td>\n",
       "      <td>19067290</td>\n",
       "      <td>2018-10-01 00:00:00.000</td>\n",
       "      <td>1716.00</td>\n",
       "    </tr>\n",
       "    <tr>\n",
       "      <th>1</th>\n",
       "      <td>C0011810010017</td>\n",
       "      <td>13233933</td>\n",
       "      <td>2018-10-01 00:00:00.000</td>\n",
       "      <td>1489.74</td>\n",
       "    </tr>\n",
       "    <tr>\n",
       "      <th>2</th>\n",
       "      <td>C0011810010020</td>\n",
       "      <td>99057968</td>\n",
       "      <td>2018-10-01 00:00:00.000</td>\n",
       "      <td>151.47</td>\n",
       "    </tr>\n",
       "    <tr>\n",
       "      <th>3</th>\n",
       "      <td>C0011810010021</td>\n",
       "      <td>80007276</td>\n",
       "      <td>2018-10-01 00:00:00.000</td>\n",
       "      <td>146.72</td>\n",
       "    </tr>\n",
       "    <tr>\n",
       "      <th>4</th>\n",
       "      <td>C0011810010024</td>\n",
       "      <td>13164076</td>\n",
       "      <td>2018-10-01 00:00:00.000</td>\n",
       "      <td>104.00</td>\n",
       "    </tr>\n",
       "    <tr>\n",
       "      <th>...</th>\n",
       "      <td>...</td>\n",
       "      <td>...</td>\n",
       "      <td>...</td>\n",
       "      <td>...</td>\n",
       "    </tr>\n",
       "    <tr>\n",
       "      <th>332725</th>\n",
       "      <td>S0081810310459</td>\n",
       "      <td>14092500</td>\n",
       "      <td>2018-10-31 00:00:00.000</td>\n",
       "      <td>3801.87</td>\n",
       "    </tr>\n",
       "    <tr>\n",
       "      <th>332726</th>\n",
       "      <td>S0081810310461</td>\n",
       "      <td>99065678</td>\n",
       "      <td>2018-10-31 00:00:00.000</td>\n",
       "      <td>5769.88</td>\n",
       "    </tr>\n",
       "    <tr>\n",
       "      <th>332727</th>\n",
       "      <td>S0081810310462</td>\n",
       "      <td>19029918</td>\n",
       "      <td>2018-10-31 00:00:00.000</td>\n",
       "      <td>736.88</td>\n",
       "    </tr>\n",
       "    <tr>\n",
       "      <th>332728</th>\n",
       "      <td>S0081810310463</td>\n",
       "      <td>13020033</td>\n",
       "      <td>2018-10-31 00:00:00.000</td>\n",
       "      <td>1475.20</td>\n",
       "    </tr>\n",
       "    <tr>\n",
       "      <th>332729</th>\n",
       "      <td>S0081810310466</td>\n",
       "      <td>13046679</td>\n",
       "      <td>2018-10-31 00:00:00.000</td>\n",
       "      <td>709.56</td>\n",
       "    </tr>\n",
       "  </tbody>\n",
       "</table>\n",
       "<p>332730 rows × 4 columns</p>\n",
       "</div>"
      ],
      "text/plain": [
       "             InvoiceNo CustomerCode              InvoiceDate   Amount\n",
       "0       C0011810010001     19067290  2018-10-01 00:00:00.000  1716.00\n",
       "1       C0011810010017     13233933  2018-10-01 00:00:00.000  1489.74\n",
       "2       C0011810010020     99057968  2018-10-01 00:00:00.000   151.47\n",
       "3       C0011810010021     80007276  2018-10-01 00:00:00.000   146.72\n",
       "4       C0011810010024     13164076  2018-10-01 00:00:00.000   104.00\n",
       "...                ...          ...                      ...      ...\n",
       "332725  S0081810310459     14092500  2018-10-31 00:00:00.000  3801.87\n",
       "332726  S0081810310461     99065678  2018-10-31 00:00:00.000  5769.88\n",
       "332727  S0081810310462     19029918  2018-10-31 00:00:00.000   736.88\n",
       "332728  S0081810310463     13020033  2018-10-31 00:00:00.000  1475.20\n",
       "332729  S0081810310466     13046679  2018-10-31 00:00:00.000   709.56\n",
       "\n",
       "[332730 rows x 4 columns]"
      ]
     },
     "execution_count": 25,
     "metadata": {},
     "output_type": "execute_result"
    }
   ],
   "source": [
    "orders"
   ]
  },
  {
   "cell_type": "code",
   "execution_count": 26,
   "metadata": {},
   "outputs": [
    {
     "name": "stdout",
     "output_type": "stream",
     "text": [
      "<class 'pandas.core.frame.DataFrame'>\n",
      "RangeIndex: 332730 entries, 0 to 332729\n",
      "Data columns (total 4 columns):\n",
      " #   Column        Non-Null Count   Dtype  \n",
      "---  ------        --------------   -----  \n",
      " 0   InvoiceNo     332730 non-null  object \n",
      " 1   CustomerCode  332730 non-null  object \n",
      " 2   InvoiceDate   332730 non-null  object \n",
      " 3   Amount        332730 non-null  float64\n",
      "dtypes: float64(1), object(3)\n",
      "memory usage: 10.2+ MB\n"
     ]
    }
   ],
   "source": [
    "orders.info()"
   ]
  },
  {
   "cell_type": "code",
   "execution_count": 27,
   "metadata": {},
   "outputs": [],
   "source": [
    "orders['InvoiceDate'] = pd.to_datetime(orders['InvoiceDate'])\n",
    "orders['CustomerCode'] = orders['CustomerCode'].apply(str)"
   ]
  },
  {
   "cell_type": "code",
   "execution_count": 28,
   "metadata": {},
   "outputs": [
    {
     "name": "stdout",
     "output_type": "stream",
     "text": [
      "<class 'pandas.core.frame.DataFrame'>\n",
      "RangeIndex: 332730 entries, 0 to 332729\n",
      "Data columns (total 4 columns):\n",
      " #   Column        Non-Null Count   Dtype         \n",
      "---  ------        --------------   -----         \n",
      " 0   InvoiceNo     332730 non-null  object        \n",
      " 1   CustomerCode  332730 non-null  object        \n",
      " 2   InvoiceDate   332730 non-null  datetime64[ns]\n",
      " 3   Amount        332730 non-null  float64       \n",
      "dtypes: datetime64[ns](1), float64(1), object(2)\n",
      "memory usage: 10.2+ MB\n"
     ]
    }
   ],
   "source": [
    "orders.info()"
   ]
  },
  {
   "cell_type": "code",
   "execution_count": 29,
   "metadata": {},
   "outputs": [
    {
     "data": {
      "text/plain": [
       "InvoiceNo            S0081810310466\n",
       "CustomerCode               99099972\n",
       "InvoiceDate     2018-10-31 00:00:00\n",
       "Amount                       131874\n",
       "dtype: object"
      ]
     },
     "execution_count": 29,
     "metadata": {},
     "output_type": "execute_result"
    }
   ],
   "source": [
    "orders.max()"
   ]
  },
  {
   "cell_type": "code",
   "execution_count": 30,
   "metadata": {},
   "outputs": [],
   "source": [
    "rfmTable = orders.groupby('CustomerCode').agg({'InvoiceDate': lambda x: (NOW - x.max()).days, # Recency #Количество дней с последнего заказа\n",
    "                                        'InvoiceNo': lambda x: len(x),      # Frequency #Количество заказов\n",
    "                                        'Amount': lambda x: x.sum()}) # Monetary Value #Общая сумма по всем заказам"
   ]
  },
  {
   "cell_type": "code",
   "execution_count": 31,
   "metadata": {},
   "outputs": [
    {
     "name": "stdout",
     "output_type": "stream",
     "text": [
      "<class 'pandas.core.frame.DataFrame'>\n",
      "Index: 123593 entries, 02213019 to 99099972\n",
      "Data columns (total 3 columns):\n",
      " #   Column       Non-Null Count   Dtype  \n",
      "---  ------       --------------   -----  \n",
      " 0   InvoiceDate  123593 non-null  int64  \n",
      " 1   InvoiceNo    123593 non-null  int64  \n",
      " 2   Amount       123593 non-null  float64\n",
      "dtypes: float64(1), int64(2)\n",
      "memory usage: 3.8+ MB\n"
     ]
    }
   ],
   "source": [
    "rfmTable.info()"
   ]
  },
  {
   "cell_type": "code",
   "execution_count": 32,
   "metadata": {},
   "outputs": [
    {
     "data": {
      "text/plain": [
       "204"
      ]
     },
     "execution_count": 32,
     "metadata": {},
     "output_type": "execute_result"
    }
   ],
   "source": [
    "rfmTable['InvoiceNo'].max()"
   ]
  },
  {
   "cell_type": "code",
   "execution_count": 33,
   "metadata": {},
   "outputs": [],
   "source": [
    "rfmTable.rename(columns={'InvoiceDate': 'recency', \n",
    "                         'InvoiceNo': 'frequency', \n",
    "                         'Amount': 'monetary_value'}, inplace=True)"
   ]
  },
  {
   "cell_type": "code",
   "execution_count": 34,
   "metadata": {},
   "outputs": [
    {
     "data": {
      "text/plain": [
       "{'recency': {0.25: 30.0, 0.5: 75.0, 0.75: 183.0},\n",
       " 'frequency': {0.25: 5.0, 0.5: 6.0, 0.75: 8.0},\n",
       " 'monetary_value': {0.25: 1145.0, 0.5: 2257.0, 0.75: 3784.0}}"
      ]
     },
     "execution_count": 34,
     "metadata": {},
     "output_type": "execute_result"
    }
   ],
   "source": [
    "quantiles"
   ]
  },
  {
   "cell_type": "code",
   "execution_count": 35,
   "metadata": {},
   "outputs": [],
   "source": [
    "quantiles = rfmTable.quantile(q=[0.25,0.5,0.75])"
   ]
  },
  {
   "cell_type": "code",
   "execution_count": 36,
   "metadata": {},
   "outputs": [],
   "source": [
    "rfmSegmentation = rfmTable"
   ]
  },
  {
   "cell_type": "code",
   "execution_count": 37,
   "metadata": {},
   "outputs": [],
   "source": [
    "rfmSegmentation['R_Quartile'] = rfmSegmentation['recency'].apply(RClass, args=('recency',quantiles,))\n",
    "\n",
    "rfmSegmentation['F_Quartile'] = rfmSegmentation['frequency'].apply(FMClass, args=('frequency',quantiles,))\n",
    "\n",
    "rfmSegmentation['M_Quartile'] = rfmSegmentation['monetary_value'].apply(FMClass, args=('monetary_value',quantiles,))"
   ]
  },
  {
   "cell_type": "code",
   "execution_count": 38,
   "metadata": {},
   "outputs": [],
   "source": [
    "rfmSegmentation['RFMClass'] = rfmSegmentation.R_Quartile.map(str) \\\n",
    "                            + rfmSegmentation.F_Quartile.map(str) \\\n",
    "                            + rfmSegmentation.M_Quartile.map(str)"
   ]
  },
  {
   "cell_type": "code",
   "execution_count": 39,
   "metadata": {},
   "outputs": [
    {
     "data": {
      "text/html": [
       "<div>\n",
       "<style scoped>\n",
       "    .dataframe tbody tr th:only-of-type {\n",
       "        vertical-align: middle;\n",
       "    }\n",
       "\n",
       "    .dataframe tbody tr th {\n",
       "        vertical-align: top;\n",
       "    }\n",
       "\n",
       "    .dataframe thead th {\n",
       "        text-align: right;\n",
       "    }\n",
       "</style>\n",
       "<table border=\"1\" class=\"dataframe\">\n",
       "  <thead>\n",
       "    <tr style=\"text-align: right;\">\n",
       "      <th></th>\n",
       "      <th>recency</th>\n",
       "      <th>frequency</th>\n",
       "      <th>monetary_value</th>\n",
       "      <th>R_Quartile</th>\n",
       "      <th>F_Quartile</th>\n",
       "      <th>M_Quartile</th>\n",
       "      <th>RFMClass</th>\n",
       "    </tr>\n",
       "    <tr>\n",
       "      <th>CustomerCode</th>\n",
       "      <th></th>\n",
       "      <th></th>\n",
       "      <th></th>\n",
       "      <th></th>\n",
       "      <th></th>\n",
       "      <th></th>\n",
       "      <th></th>\n",
       "    </tr>\n",
       "  </thead>\n",
       "  <tbody>\n",
       "    <tr>\n",
       "      <th>02213019</th>\n",
       "      <td>-1393</td>\n",
       "      <td>2</td>\n",
       "      <td>3770.76</td>\n",
       "      <td>2</td>\n",
       "      <td>3</td>\n",
       "      <td>2</td>\n",
       "      <td>232</td>\n",
       "    </tr>\n",
       "    <tr>\n",
       "      <th>02213042</th>\n",
       "      <td>-1377</td>\n",
       "      <td>3</td>\n",
       "      <td>9685.48</td>\n",
       "      <td>4</td>\n",
       "      <td>2</td>\n",
       "      <td>1</td>\n",
       "      <td>421</td>\n",
       "    </tr>\n",
       "    <tr>\n",
       "      <th>02213071</th>\n",
       "      <td>-1392</td>\n",
       "      <td>2</td>\n",
       "      <td>833.00</td>\n",
       "      <td>2</td>\n",
       "      <td>3</td>\n",
       "      <td>3</td>\n",
       "      <td>233</td>\n",
       "    </tr>\n",
       "    <tr>\n",
       "      <th>02213081</th>\n",
       "      <td>-1390</td>\n",
       "      <td>1</td>\n",
       "      <td>276.98</td>\n",
       "      <td>3</td>\n",
       "      <td>4</td>\n",
       "      <td>4</td>\n",
       "      <td>344</td>\n",
       "    </tr>\n",
       "    <tr>\n",
       "      <th>02213082</th>\n",
       "      <td>-1389</td>\n",
       "      <td>2</td>\n",
       "      <td>1215.96</td>\n",
       "      <td>3</td>\n",
       "      <td>3</td>\n",
       "      <td>3</td>\n",
       "      <td>333</td>\n",
       "    </tr>\n",
       "    <tr>\n",
       "      <th>...</th>\n",
       "      <td>...</td>\n",
       "      <td>...</td>\n",
       "      <td>...</td>\n",
       "      <td>...</td>\n",
       "      <td>...</td>\n",
       "      <td>...</td>\n",
       "      <td>...</td>\n",
       "    </tr>\n",
       "    <tr>\n",
       "      <th>99099927</th>\n",
       "      <td>-1389</td>\n",
       "      <td>1</td>\n",
       "      <td>961.10</td>\n",
       "      <td>3</td>\n",
       "      <td>4</td>\n",
       "      <td>3</td>\n",
       "      <td>343</td>\n",
       "    </tr>\n",
       "    <tr>\n",
       "      <th>99099936</th>\n",
       "      <td>-1399</td>\n",
       "      <td>1</td>\n",
       "      <td>1521.78</td>\n",
       "      <td>1</td>\n",
       "      <td>4</td>\n",
       "      <td>3</td>\n",
       "      <td>143</td>\n",
       "    </tr>\n",
       "    <tr>\n",
       "      <th>99099959</th>\n",
       "      <td>-1391</td>\n",
       "      <td>2</td>\n",
       "      <td>1444.56</td>\n",
       "      <td>2</td>\n",
       "      <td>3</td>\n",
       "      <td>3</td>\n",
       "      <td>233</td>\n",
       "    </tr>\n",
       "    <tr>\n",
       "      <th>99099963</th>\n",
       "      <td>-1380</td>\n",
       "      <td>1</td>\n",
       "      <td>3018.91</td>\n",
       "      <td>4</td>\n",
       "      <td>4</td>\n",
       "      <td>2</td>\n",
       "      <td>442</td>\n",
       "    </tr>\n",
       "    <tr>\n",
       "      <th>99099972</th>\n",
       "      <td>-1399</td>\n",
       "      <td>2</td>\n",
       "      <td>4577.37</td>\n",
       "      <td>1</td>\n",
       "      <td>3</td>\n",
       "      <td>1</td>\n",
       "      <td>131</td>\n",
       "    </tr>\n",
       "  </tbody>\n",
       "</table>\n",
       "<p>123593 rows × 7 columns</p>\n",
       "</div>"
      ],
      "text/plain": [
       "              recency  frequency  monetary_value  R_Quartile  F_Quartile  \\\n",
       "CustomerCode                                                               \n",
       "02213019        -1393          2         3770.76           2           3   \n",
       "02213042        -1377          3         9685.48           4           2   \n",
       "02213071        -1392          2          833.00           2           3   \n",
       "02213081        -1390          1          276.98           3           4   \n",
       "02213082        -1389          2         1215.96           3           3   \n",
       "...               ...        ...             ...         ...         ...   \n",
       "99099927        -1389          1          961.10           3           4   \n",
       "99099936        -1399          1         1521.78           1           4   \n",
       "99099959        -1391          2         1444.56           2           3   \n",
       "99099963        -1380          1         3018.91           4           4   \n",
       "99099972        -1399          2         4577.37           1           3   \n",
       "\n",
       "              M_Quartile RFMClass  \n",
       "CustomerCode                       \n",
       "02213019               2      232  \n",
       "02213042               1      421  \n",
       "02213071               3      233  \n",
       "02213081               4      344  \n",
       "02213082               3      333  \n",
       "...                  ...      ...  \n",
       "99099927               3      343  \n",
       "99099936               3      143  \n",
       "99099959               3      233  \n",
       "99099963               2      442  \n",
       "99099972               1      131  \n",
       "\n",
       "[123593 rows x 7 columns]"
      ]
     },
     "execution_count": 39,
     "metadata": {},
     "output_type": "execute_result"
    }
   ],
   "source": [
    "rfmSegmentation"
   ]
  },
  {
   "cell_type": "code",
   "execution_count": 40,
   "metadata": {},
   "outputs": [
    {
     "data": {
      "text/html": [
       "<div>\n",
       "<style scoped>\n",
       "    .dataframe tbody tr th:only-of-type {\n",
       "        vertical-align: middle;\n",
       "    }\n",
       "\n",
       "    .dataframe tbody tr th {\n",
       "        vertical-align: top;\n",
       "    }\n",
       "\n",
       "    .dataframe thead th {\n",
       "        text-align: right;\n",
       "    }\n",
       "</style>\n",
       "<table border=\"1\" class=\"dataframe\">\n",
       "  <thead>\n",
       "    <tr style=\"text-align: right;\">\n",
       "      <th></th>\n",
       "      <th>recency</th>\n",
       "      <th>frequency</th>\n",
       "      <th>monetary_value</th>\n",
       "      <th>R_Quartile</th>\n",
       "      <th>F_Quartile</th>\n",
       "      <th>M_Quartile</th>\n",
       "      <th>RFMClass</th>\n",
       "    </tr>\n",
       "    <tr>\n",
       "      <th>CustomerCode</th>\n",
       "      <th></th>\n",
       "      <th></th>\n",
       "      <th></th>\n",
       "      <th></th>\n",
       "      <th></th>\n",
       "      <th></th>\n",
       "      <th></th>\n",
       "    </tr>\n",
       "  </thead>\n",
       "  <tbody>\n",
       "    <tr>\n",
       "      <th>02213214</th>\n",
       "      <td>-1398</td>\n",
       "      <td>7</td>\n",
       "      <td>5880.07</td>\n",
       "      <td>1</td>\n",
       "      <td>1</td>\n",
       "      <td>1</td>\n",
       "      <td>111</td>\n",
       "    </tr>\n",
       "    <tr>\n",
       "      <th>02213280</th>\n",
       "      <td>-1399</td>\n",
       "      <td>7</td>\n",
       "      <td>7104.71</td>\n",
       "      <td>1</td>\n",
       "      <td>1</td>\n",
       "      <td>1</td>\n",
       "      <td>111</td>\n",
       "    </tr>\n",
       "    <tr>\n",
       "      <th>02213315</th>\n",
       "      <td>-1400</td>\n",
       "      <td>5</td>\n",
       "      <td>13856.00</td>\n",
       "      <td>1</td>\n",
       "      <td>1</td>\n",
       "      <td>1</td>\n",
       "      <td>111</td>\n",
       "    </tr>\n",
       "    <tr>\n",
       "      <th>02213383</th>\n",
       "      <td>-1397</td>\n",
       "      <td>12</td>\n",
       "      <td>9383.87</td>\n",
       "      <td>1</td>\n",
       "      <td>1</td>\n",
       "      <td>1</td>\n",
       "      <td>111</td>\n",
       "    </tr>\n",
       "    <tr>\n",
       "      <th>02213478</th>\n",
       "      <td>-1399</td>\n",
       "      <td>6</td>\n",
       "      <td>8635.13</td>\n",
       "      <td>1</td>\n",
       "      <td>1</td>\n",
       "      <td>1</td>\n",
       "      <td>111</td>\n",
       "    </tr>\n",
       "    <tr>\n",
       "      <th>...</th>\n",
       "      <td>...</td>\n",
       "      <td>...</td>\n",
       "      <td>...</td>\n",
       "      <td>...</td>\n",
       "      <td>...</td>\n",
       "      <td>...</td>\n",
       "      <td>...</td>\n",
       "    </tr>\n",
       "    <tr>\n",
       "      <th>99099136</th>\n",
       "      <td>-1397</td>\n",
       "      <td>8</td>\n",
       "      <td>6341.23</td>\n",
       "      <td>1</td>\n",
       "      <td>1</td>\n",
       "      <td>1</td>\n",
       "      <td>111</td>\n",
       "    </tr>\n",
       "    <tr>\n",
       "      <th>99099219</th>\n",
       "      <td>-1400</td>\n",
       "      <td>6</td>\n",
       "      <td>4084.83</td>\n",
       "      <td>1</td>\n",
       "      <td>1</td>\n",
       "      <td>1</td>\n",
       "      <td>111</td>\n",
       "    </tr>\n",
       "    <tr>\n",
       "      <th>99099587</th>\n",
       "      <td>-1398</td>\n",
       "      <td>6</td>\n",
       "      <td>5375.69</td>\n",
       "      <td>1</td>\n",
       "      <td>1</td>\n",
       "      <td>1</td>\n",
       "      <td>111</td>\n",
       "    </tr>\n",
       "    <tr>\n",
       "      <th>99099814</th>\n",
       "      <td>-1398</td>\n",
       "      <td>11</td>\n",
       "      <td>9610.69</td>\n",
       "      <td>1</td>\n",
       "      <td>1</td>\n",
       "      <td>1</td>\n",
       "      <td>111</td>\n",
       "    </tr>\n",
       "    <tr>\n",
       "      <th>99099889</th>\n",
       "      <td>-1400</td>\n",
       "      <td>8</td>\n",
       "      <td>6874.10</td>\n",
       "      <td>1</td>\n",
       "      <td>1</td>\n",
       "      <td>1</td>\n",
       "      <td>111</td>\n",
       "    </tr>\n",
       "  </tbody>\n",
       "</table>\n",
       "<p>9712 rows × 7 columns</p>\n",
       "</div>"
      ],
      "text/plain": [
       "              recency  frequency  monetary_value  R_Quartile  F_Quartile  \\\n",
       "CustomerCode                                                               \n",
       "02213214        -1398          7         5880.07           1           1   \n",
       "02213280        -1399          7         7104.71           1           1   \n",
       "02213315        -1400          5        13856.00           1           1   \n",
       "02213383        -1397         12         9383.87           1           1   \n",
       "02213478        -1399          6         8635.13           1           1   \n",
       "...               ...        ...             ...         ...         ...   \n",
       "99099136        -1397          8         6341.23           1           1   \n",
       "99099219        -1400          6         4084.83           1           1   \n",
       "99099587        -1398          6         5375.69           1           1   \n",
       "99099814        -1398         11         9610.69           1           1   \n",
       "99099889        -1400          8         6874.10           1           1   \n",
       "\n",
       "              M_Quartile RFMClass  \n",
       "CustomerCode                       \n",
       "02213214               1      111  \n",
       "02213280               1      111  \n",
       "02213315               1      111  \n",
       "02213383               1      111  \n",
       "02213478               1      111  \n",
       "...                  ...      ...  \n",
       "99099136               1      111  \n",
       "99099219               1      111  \n",
       "99099587               1      111  \n",
       "99099814               1      111  \n",
       "99099889               1      111  \n",
       "\n",
       "[9712 rows x 7 columns]"
      ]
     },
     "execution_count": 40,
     "metadata": {},
     "output_type": "execute_result"
    }
   ],
   "source": [
    "rfmSegmentation[rfmSegmentation['RFMClass']=='111']"
   ]
  },
  {
   "cell_type": "code",
   "execution_count": 41,
   "metadata": {},
   "outputs": [
    {
     "data": {
      "text/html": [
       "<div>\n",
       "<style scoped>\n",
       "    .dataframe tbody tr th:only-of-type {\n",
       "        vertical-align: middle;\n",
       "    }\n",
       "\n",
       "    .dataframe tbody tr th {\n",
       "        vertical-align: top;\n",
       "    }\n",
       "\n",
       "    .dataframe thead th {\n",
       "        text-align: right;\n",
       "    }\n",
       "</style>\n",
       "<table border=\"1\" class=\"dataframe\">\n",
       "  <thead>\n",
       "    <tr style=\"text-align: right;\">\n",
       "      <th></th>\n",
       "      <th>recency</th>\n",
       "      <th>frequency</th>\n",
       "      <th>monetary_value</th>\n",
       "      <th>R_Quartile</th>\n",
       "      <th>F_Quartile</th>\n",
       "      <th>M_Quartile</th>\n",
       "      <th>RFMClass</th>\n",
       "    </tr>\n",
       "    <tr>\n",
       "      <th>CustomerCode</th>\n",
       "      <th></th>\n",
       "      <th></th>\n",
       "      <th></th>\n",
       "      <th></th>\n",
       "      <th></th>\n",
       "      <th></th>\n",
       "      <th></th>\n",
       "    </tr>\n",
       "  </thead>\n",
       "  <tbody>\n",
       "    <tr>\n",
       "      <th>02213019</th>\n",
       "      <td>-1393</td>\n",
       "      <td>2</td>\n",
       "      <td>3770.76</td>\n",
       "      <td>2</td>\n",
       "      <td>3</td>\n",
       "      <td>2</td>\n",
       "      <td>232</td>\n",
       "    </tr>\n",
       "    <tr>\n",
       "      <th>02213042</th>\n",
       "      <td>-1377</td>\n",
       "      <td>3</td>\n",
       "      <td>9685.48</td>\n",
       "      <td>4</td>\n",
       "      <td>2</td>\n",
       "      <td>1</td>\n",
       "      <td>421</td>\n",
       "    </tr>\n",
       "    <tr>\n",
       "      <th>02213071</th>\n",
       "      <td>-1392</td>\n",
       "      <td>2</td>\n",
       "      <td>833.00</td>\n",
       "      <td>2</td>\n",
       "      <td>3</td>\n",
       "      <td>3</td>\n",
       "      <td>233</td>\n",
       "    </tr>\n",
       "    <tr>\n",
       "      <th>02213081</th>\n",
       "      <td>-1390</td>\n",
       "      <td>1</td>\n",
       "      <td>276.98</td>\n",
       "      <td>3</td>\n",
       "      <td>4</td>\n",
       "      <td>4</td>\n",
       "      <td>344</td>\n",
       "    </tr>\n",
       "    <tr>\n",
       "      <th>02213082</th>\n",
       "      <td>-1389</td>\n",
       "      <td>2</td>\n",
       "      <td>1215.96</td>\n",
       "      <td>3</td>\n",
       "      <td>3</td>\n",
       "      <td>3</td>\n",
       "      <td>333</td>\n",
       "    </tr>\n",
       "    <tr>\n",
       "      <th>...</th>\n",
       "      <td>...</td>\n",
       "      <td>...</td>\n",
       "      <td>...</td>\n",
       "      <td>...</td>\n",
       "      <td>...</td>\n",
       "      <td>...</td>\n",
       "      <td>...</td>\n",
       "    </tr>\n",
       "    <tr>\n",
       "      <th>99099927</th>\n",
       "      <td>-1389</td>\n",
       "      <td>1</td>\n",
       "      <td>961.10</td>\n",
       "      <td>3</td>\n",
       "      <td>4</td>\n",
       "      <td>3</td>\n",
       "      <td>343</td>\n",
       "    </tr>\n",
       "    <tr>\n",
       "      <th>99099936</th>\n",
       "      <td>-1399</td>\n",
       "      <td>1</td>\n",
       "      <td>1521.78</td>\n",
       "      <td>1</td>\n",
       "      <td>4</td>\n",
       "      <td>3</td>\n",
       "      <td>143</td>\n",
       "    </tr>\n",
       "    <tr>\n",
       "      <th>99099959</th>\n",
       "      <td>-1391</td>\n",
       "      <td>2</td>\n",
       "      <td>1444.56</td>\n",
       "      <td>2</td>\n",
       "      <td>3</td>\n",
       "      <td>3</td>\n",
       "      <td>233</td>\n",
       "    </tr>\n",
       "    <tr>\n",
       "      <th>99099963</th>\n",
       "      <td>-1380</td>\n",
       "      <td>1</td>\n",
       "      <td>3018.91</td>\n",
       "      <td>4</td>\n",
       "      <td>4</td>\n",
       "      <td>2</td>\n",
       "      <td>442</td>\n",
       "    </tr>\n",
       "    <tr>\n",
       "      <th>99099972</th>\n",
       "      <td>-1399</td>\n",
       "      <td>2</td>\n",
       "      <td>4577.37</td>\n",
       "      <td>1</td>\n",
       "      <td>3</td>\n",
       "      <td>1</td>\n",
       "      <td>131</td>\n",
       "    </tr>\n",
       "  </tbody>\n",
       "</table>\n",
       "<p>123593 rows × 7 columns</p>\n",
       "</div>"
      ],
      "text/plain": [
       "              recency  frequency  monetary_value  R_Quartile  F_Quartile  \\\n",
       "CustomerCode                                                               \n",
       "02213019        -1393          2         3770.76           2           3   \n",
       "02213042        -1377          3         9685.48           4           2   \n",
       "02213071        -1392          2          833.00           2           3   \n",
       "02213081        -1390          1          276.98           3           4   \n",
       "02213082        -1389          2         1215.96           3           3   \n",
       "...               ...        ...             ...         ...         ...   \n",
       "99099927        -1389          1          961.10           3           4   \n",
       "99099936        -1399          1         1521.78           1           4   \n",
       "99099959        -1391          2         1444.56           2           3   \n",
       "99099963        -1380          1         3018.91           4           4   \n",
       "99099972        -1399          2         4577.37           1           3   \n",
       "\n",
       "              M_Quartile RFMClass  \n",
       "CustomerCode                       \n",
       "02213019               2      232  \n",
       "02213042               1      421  \n",
       "02213071               3      233  \n",
       "02213081               4      344  \n",
       "02213082               3      333  \n",
       "...                  ...      ...  \n",
       "99099927               3      343  \n",
       "99099936               3      143  \n",
       "99099959               3      233  \n",
       "99099963               2      442  \n",
       "99099972               1      131  \n",
       "\n",
       "[123593 rows x 7 columns]"
      ]
     },
     "execution_count": 41,
     "metadata": {},
     "output_type": "execute_result"
    }
   ],
   "source": [
    "rfm = rfmSegmentation\n",
    "rfm"
   ]
  },
  {
   "cell_type": "code",
   "execution_count": 42,
   "metadata": {},
   "outputs": [],
   "source": [
    "import matplotlib.pyplot as plt\n",
    "import seaborn as sns\n",
    "%matplotlib inline"
   ]
  },
  {
   "cell_type": "code",
   "execution_count": 43,
   "metadata": {},
   "outputs": [
    {
     "data": {
      "text/plain": [
       "<AxesSubplot:>"
      ]
     },
     "execution_count": 43,
     "metadata": {},
     "output_type": "execute_result"
    },
    {
     "data": {
      "image/png": "[encoded data removed]",
      "text/plain": [
       "<Figure size 432x288 with 1 Axes>"
      ]
     },
     "metadata": {
      "needs_background": "light"
     },
     "output_type": "display_data"
    }
   ],
   "source": [
    "rfm['RFMClass'].value_counts().plot()\n"
   ]
  },
  {
   "cell_type": "code",
   "execution_count": 44,
   "metadata": {},
   "outputs": [],
   "source": [
    "sns.set()"
   ]
  },
  {
   "cell_type": "code",
   "execution_count": 45,
   "metadata": {},
   "outputs": [
    {
     "data": {
      "text/plain": [
       "<AxesSubplot:xlabel='CustomerCode'>"
      ]
     },
     "execution_count": 45,
     "metadata": {},
     "output_type": "execute_result"
    },
    {
     "data": {
      "image/png": "[encoded data removed]",
      "text/plain": [
       "<Figure size 432x288 with 1 Axes>"
      ]
     },
     "metadata": {},
     "output_type": "display_data"
    }
   ],
   "source": [
    "rfm.plot()"
   ]
  },
  {
   "cell_type": "code",
   "execution_count": 46,
   "metadata": {
    "scrolled": false
   },
   "outputs": [
    {
     "data": {
      "text/plain": [
       "<seaborn.axisgrid.PairGrid at 0x1ac10bfb940>"
      ]
     },
     "execution_count": 46,
     "metadata": {},
     "output_type": "execute_result"
    },
    {
     "data": {
      "image/png": "[encoded data removed]",
      "text/plain": [
       "<Figure size 1080x1080 with 42 Axes>"
      ]
     },
     "metadata": {},
     "output_type": "display_data"
    }
   ],
   "source": [
    "sns.pairplot(rfm)"
   ]
  },
  {
   "cell_type": "code",
   "execution_count": 47,
   "metadata": {},
   "outputs": [
    {
     "data": {
      "text/plain": [
       "<BarContainer object of 4 artists>"
      ]
     },
     "execution_count": 47,
     "metadata": {},
     "output_type": "execute_result"
    },
    {
     "data": {
      "image/png": "[encoded data removed]",
      "text/plain": [
       "<Figure size 432x288 with 1 Axes>"
      ]
     },
     "metadata": {},
     "output_type": "display_data"
    }
   ],
   "source": [
    "fig = plt.figure()\n",
    "axes1 = fig.add_axes([0,0,1,1])\n",
    "\n",
    "axes1.bar(x=['1','2','3','4'],height = rfm['R_Quartile'].value_counts())\n"
   ]
  },
  {
   "cell_type": "code",
   "execution_count": 48,
   "metadata": {},
   "outputs": [
    {
     "data": {
      "text/plain": [
       "<BarContainer object of 4 artists>"
      ]
     },
     "execution_count": 48,
     "metadata": {},
     "output_type": "execute_result"
    },
    {
     "data": {
      "image/png": "[encoded data removed]",
      "text/plain": [
       "<Figure size 432x288 with 1 Axes>"
      ]
     },
     "metadata": {},
     "output_type": "display_data"
    }
   ],
   "source": [
    "fig = plt.figure()\n",
    "axes1 = fig.add_axes([0,0,1,1])\n",
    "\n",
    "axes1.bar(x=['1','2','3','4'],height = rfm['F_Quartile'].value_counts())"
   ]
  },
  {
   "cell_type": "code",
   "execution_count": 49,
   "metadata": {},
   "outputs": [
    {
     "data": {
      "text/plain": [
       "<BarContainer object of 4 artists>"
      ]
     },
     "execution_count": 49,
     "metadata": {},
     "output_type": "execute_result"
    },
    {
     "data": {
      "image/png": "[encoded data removed]",
      "text/plain": [
       "<Figure size 432x288 with 1 Axes>"
      ]
     },
     "metadata": {},
     "output_type": "display_data"
    }
   ],
   "source": [
    "fig = plt.figure()\n",
    "axes1 = fig.add_axes([0,0,1,1])\n",
    "\n",
    "axes1.bar(x=['1','2','3','4'],height = rfm['M_Quartile'].value_counts())"
   ]
  },
  {
   "cell_type": "code",
   "execution_count": 50,
   "metadata": {},
   "outputs": [
    {
     "data": {
      "text/plain": [
       "<BarContainer object of 4 artists>"
      ]
     },
     "execution_count": 50,
     "metadata": {},
     "output_type": "execute_result"
    },
    {
     "data": {
      "image/png": "[encoded data removed]",
      "text/plain": [
       "<Figure size 432x288 with 1 Axes>"
      ]
     },
     "metadata": {},
     "output_type": "display_data"
    }
   ],
   "source": [
    "fig = plt.figure()\n",
    "axes2 = fig.add_axes([0, 0, 1, 1])\n",
    "\n",
    "axes2.bar(x=['1','2','3','4'],height = rfm['M_Quartile'].value_counts())"
   ]
  },
  {
   "cell_type": "code",
   "execution_count": 51,
   "metadata": {},
   "outputs": [
    {
     "data": {
      "text/plain": [
       "(array([2.7210e+03, 4.0800e+02, 2.8640e+03, 6.5780e+03, 2.5970e+03,\n",
       "        1.0603e+04, 6.7260e+03, 2.8730e+03, 3.6120e+03, 1.3620e+03,\n",
       "        1.3570e+03, 2.0810e+03, 9.7120e+03, 1.6770e+03, 1.5200e+03,\n",
       "        4.9720e+03, 3.8770e+03, 2.9200e+02, 1.7420e+03, 3.1480e+03,\n",
       "        1.7830e+03, 4.0940e+03, 1.7070e+03, 1.7400e+03, 1.2220e+03,\n",
       "        5.8530e+03, 1.4200e+03, 2.0350e+03, 1.0690e+03, 1.6090e+03,\n",
       "        1.0440e+03, 2.4580e+03, 9.9700e+02, 1.6340e+03, 1.2000e+03,\n",
       "        1.9120e+03, 1.6920e+03, 1.0220e+03, 2.1490e+03, 6.2200e+02,\n",
       "        1.4130e+03, 9.5400e+02, 1.3110e+03, 3.0680e+03, 3.5700e+02,\n",
       "        1.0670e+03, 1.6980e+03, 6.8400e+02, 2.5300e+02, 9.7500e+02,\n",
       "        2.0500e+02, 4.8100e+02, 8.8700e+02, 8.6300e+02, 2.7900e+02,\n",
       "        2.2900e+02, 8.0000e+01, 4.0600e+02, 6.3000e+01, 1.8100e+02,\n",
       "        6.0000e+01, 6.0000e+01, 3.3000e+01, 2.0000e+00]),\n",
       " array([ 0.      ,  0.984375,  1.96875 ,  2.953125,  3.9375  ,  4.921875,\n",
       "         5.90625 ,  6.890625,  7.875   ,  8.859375,  9.84375 , 10.828125,\n",
       "        11.8125  , 12.796875, 13.78125 , 14.765625, 15.75    , 16.734375,\n",
       "        17.71875 , 18.703125, 19.6875  , 20.671875, 21.65625 , 22.640625,\n",
       "        23.625   , 24.609375, 25.59375 , 26.578125, 27.5625  , 28.546875,\n",
       "        29.53125 , 30.515625, 31.5     , 32.484375, 33.46875 , 34.453125,\n",
       "        35.4375  , 36.421875, 37.40625 , 38.390625, 39.375   , 40.359375,\n",
       "        41.34375 , 42.328125, 43.3125  , 44.296875, 45.28125 , 46.265625,\n",
       "        47.25    , 48.234375, 49.21875 , 50.203125, 51.1875  , 52.171875,\n",
       "        53.15625 , 54.140625, 55.125   , 56.109375, 57.09375 , 58.078125,\n",
       "        59.0625  , 60.046875, 61.03125 , 62.015625, 63.      ]),\n",
       " <BarContainer object of 64 artists>)"
      ]
     },
     "execution_count": 51,
     "metadata": {},
     "output_type": "execute_result"
    },
    {
     "data": {
      "image/png": "[encoded data removed]",
      "text/plain": [
       "<Figure size 432x288 with 1 Axes>"
      ]
     },
     "metadata": {},
     "output_type": "display_data"
    }
   ],
   "source": [
    "fig = plt.figure()\n",
    "axes = fig.add_axes([0,0,5,5])\n",
    "axes.hist(rfm['RFMClass'],bins = 64)"
   ]
  },
  {
   "cell_type": "code",
   "execution_count": 52,
   "metadata": {},
   "outputs": [
    {
     "data": {
      "text/plain": [
       "Text(0, 0.5, 'recency')"
      ]
     },
     "execution_count": 52,
     "metadata": {},
     "output_type": "execute_result"
    },
    {
     "data": {
      "image/png": "[encoded data removed]",
      "text/plain": [
       "<Figure size 432x288 with 1 Axes>"
      ]
     },
     "metadata": {},
     "output_type": "display_data"
    }
   ],
   "source": [
    "fig = plt.figure()\n",
    "axes = fig.add_axes([0,0,5,5])\n",
    "axes.scatter(x = rfm['recency'],y = rfm['monetary_value'])\n",
    "axes.set_xlabel('monetary_value')\n",
    "axes.set_ylabel('recency')"
   ]
  },
  {
   "cell_type": "code",
   "execution_count": 53,
   "metadata": {},
   "outputs": [
    {
     "data": {
      "text/html": [
       "        <script type=\"text/javascript\">\n",
       "        window.PlotlyConfig = {MathJaxConfig: 'local'};\n",
       "        if (window.MathJax) {MathJax.Hub.Config({SVG: {font: \"STIX-Web\"}});}\n",
       "        if (typeof require !== 'undefined') {\n",
       "        require.undef(\"plotly\");\n",
       "        requirejs.config({\n",
       "            paths: {\n",
       "                'plotly': ['https://cdn.plot.ly/plotly-2.1.0.min']\n",
       "            }\n",
       "        });\n",
       "        require(['plotly'], function(Plotly) {\n",
       "            window._Plotly = Plotly;\n",
       "        });\n",
       "        }\n",
       "        </script>\n",
       "        "
      ]
     },
     "metadata": {},
     "output_type": "display_data"
    }
   ],
   "source": [
    "import cufflinks as cf\n",
    "from plotly.offline import download_plotlyjs, init_notebook_mode,plot, iplot"
   ]
  },
  {
   "cell_type": "code",
   "execution_count": 54,
   "metadata": {},
   "outputs": [
    {
     "data": {
      "text/html": [
       "        <script type=\"text/javascript\">\n",
       "        window.PlotlyConfig = {MathJaxConfig: 'local'};\n",
       "        if (window.MathJax) {MathJax.Hub.Config({SVG: {font: \"STIX-Web\"}});}\n",
       "        if (typeof require !== 'undefined') {\n",
       "        require.undef(\"plotly\");\n",
       "        requirejs.config({\n",
       "            paths: {\n",
       "                'plotly': ['https://cdn.plot.ly/plotly-2.1.0.min']\n",
       "            }\n",
       "        });\n",
       "        require(['plotly'], function(Plotly) {\n",
       "            window._Plotly = Plotly;\n",
       "        });\n",
       "        }\n",
       "        </script>\n",
       "        "
      ]
     },
     "metadata": {},
     "output_type": "display_data"
    },
    {
     "data": {
      "text/html": [
       "        <script type=\"text/javascript\">\n",
       "        window.PlotlyConfig = {MathJaxConfig: 'local'};\n",
       "        if (window.MathJax) {MathJax.Hub.Config({SVG: {font: \"STIX-Web\"}});}\n",
       "        if (typeof require !== 'undefined') {\n",
       "        require.undef(\"plotly\");\n",
       "        requirejs.config({\n",
       "            paths: {\n",
       "                'plotly': ['https://cdn.plot.ly/plotly-2.1.0.min']\n",
       "            }\n",
       "        });\n",
       "        require(['plotly'], function(Plotly) {\n",
       "            window._Plotly = Plotly;\n",
       "        });\n",
       "        }\n",
       "        </script>\n",
       "        "
      ]
     },
     "metadata": {},
     "output_type": "display_data"
    }
   ],
   "source": [
    "init_notebook_mode(connected = True)\n",
    "cf.go_offline()"
   ]
  },
  {
   "cell_type": "code",
   "execution_count": 55,
   "metadata": {},
   "outputs": [],
   "source": [
    "#rfm.iplot(kind  = 'scatter', x = 'recency', y = 'monetary_value', mode = 'markers')"
   ]
  },
  {
   "cell_type": "code",
   "execution_count": null,
   "metadata": {},
   "outputs": [],
   "source": []
  }
 ],
 "metadata": {
  "kernelspec": {
   "display_name": "Python 3",
   "language": "python",
   "name": "python3"
  },
  "language_info": {
   "codemirror_mode": {
    "name": "ipython",
    "version": 3
   },
   "file_extension": ".py",
   "mimetype": "text/x-python",
   "name": "python",
   "nbconvert_exporter": "python",
   "pygments_lexer": "ipython3",
   "version": "3.8.5"
  }
 },
 "nbformat": 4,
 "nbformat_minor": 4
}
