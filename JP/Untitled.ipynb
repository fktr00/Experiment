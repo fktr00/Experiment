{
 "cells": [
  {
   "cell_type": "code",
   "execution_count": 5,
   "metadata": {},
   "outputs": [
    {
     "name": "stderr",
     "output_type": "stream",
     "text": [
      "100%|██████████| 100/100 [00:36<00:00,  2.71it/s]\n"
     ]
    }
   ],
   "source": [
    "import pandas as pd\n",
    "import requests\n",
    "from tqdm import tqdm\n",
    "\n",
    "import collections\n",
    "import random\n",
    "\n",
    "\n",
    "vacancies = []\n",
    "vacancy_query = \"product analyst\"\n",
    "\n",
    "for page_number in tqdm(range(100)):\n",
    "    try:\n",
    "        response = requests.get(\"https://api.hh.ru/vacancies\",\n",
    "                                params={\n",
    "                                    \"text\": vacancy_query,\n",
    "                                    \"page\": page_number}\n",
    "                               )\n",
    "        json_response = response.json()\n",
    "\n",
    "        vacancies += json_response[\"items\"]\n",
    "    except Exception as ex:\n",
    "        print(ex)"
   ]
  },
  {
   "cell_type": "code",
   "execution_count": 23,
   "metadata": {},
   "outputs": [
    {
     "name": "stdout",
     "output_type": "stream",
     "text": [
      "['Екатеринбург', 'Минск', 'Москва', 'Москва', 'Москва', 'Москва', 'Москва', 'Москва', 'Москва', 'Москва', 'Москва', 'Пермь', 'Минск', 'Москва', 'Москва', 'Воронеж', 'Киев', 'Москва', 'Минск', 'Киев', 'Москва', 'Москва', 'Санкт-Петербург', 'Москва', 'Москва', 'Санкт-Петербург', 'Минск', 'Москва', 'Санкт-Петербург', 'Москва', 'Минск', 'Москва', 'Санкт-Петербург', 'Москва', 'Санкт-Петербург', 'Москва', 'Минск', 'Москва', 'Казань', 'Москва', 'Москва', 'Москва', 'Барнаул', 'Москва', 'Москва', 'Москва', 'Владивосток', 'Москва', 'Москва', 'Ульяновск', 'Санкт-Петербург', 'Москва', 'Минск', 'Санкт-Петербург', 'Москва', 'Гомель', 'Москва', 'Москва', 'Харьков', 'Москва', 'Санкт-Петербург', 'Москва', 'Москва', 'Москва', 'Москва', 'Москва', 'Москва', 'Новосибирск', 'Санкт-Петербург', 'Санкт-Петербург', 'Санкт-Петербург', 'Москва', 'Москва', 'Москва', 'Москва', 'Санкт-Петербург', 'Санкт-Петербург', 'Москва', 'Самара', 'Москва', 'Москва', 'Минск', 'Москва', 'Москва', 'Москва', 'Москва', 'Тюмень', 'Москва', 'Москва', 'Санкт-Петербург', 'Москва', 'Москва', 'Минск', 'Санкт-Петербург', 'Санкт-Петербург', 'Москва', 'Москва', 'Москва', 'Москва', 'Алматы']\n"
     ]
    }
   ],
   "source": [
    "ccollection = collections.Counter()\n",
    "for vacancy in vacancies:\n",
    "    try:\n",
    "        ccollection[vacancy[\"area\"][\"name\"]] += 1\n",
    "    except:\n",
    "        pass\n",
    "sum_s = len(list(ccollection.elements()))\n",
    "\n",
    "city_l = list(city_counter.items())\n",
    "\n",
    "city_sampling_borders = []\n",
    "    \n",
    "prefix_sum = 0\n",
    "for city in city_l:\n",
    "    prefix_sum += city[1]\n",
    "    city_sampling_borders.append(prefix_sum / sum_s) \n",
    "        \n",
    "answer_samples = []\n",
    "for i in range(100):\n",
    "    random_number = random.random() # 100 рас рандомит какоето число\n",
    "        \n",
    "    current_city = city_l[0][0]\n",
    "    for i in range(len(city_sampling_borders)):\n",
    "        current_city = city_l[i][0]\n",
    "            \n",
    "        if random_number < city_sampling_borders[i]:\n",
    "            break\n",
    "                \n",
    "    answer_samples.append(current_city)\n",
    "        \n",
    "print(answer_samples)"
   ]
  },
  {
   "cell_type": "code",
   "execution_count": 13,
   "metadata": {},
   "outputs": [
    {
     "data": {
      "text/plain": [
       "0.7766190750966706"
      ]
     },
     "execution_count": 13,
     "metadata": {},
     "output_type": "execute_result"
    }
   ],
   "source": [
    "random_number"
   ]
  },
  {
   "cell_type": "code",
   "execution_count": null,
   "metadata": {},
   "outputs": [],
   "source": []
  }
 ],
 "metadata": {
  "kernelspec": {
   "display_name": "Python 3",
   "language": "python",
   "name": "python3"
  },
  "language_info": {
   "codemirror_mode": {
    "name": "ipython",
    "version": 3
   },
   "file_extension": ".py",
   "mimetype": "text/x-python",
   "name": "python",
   "nbconvert_exporter": "python",
   "pygments_lexer": "ipython3",
   "version": "3.8.5"
  }
 },
 "nbformat": 4,
 "nbformat_minor": 4
}
