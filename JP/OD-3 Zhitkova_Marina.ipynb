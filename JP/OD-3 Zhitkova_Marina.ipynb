{
 "cells": [
  {
   "cell_type": "code",
   "execution_count": 1,
   "metadata": {},
   "outputs": [],
   "source": [
    "# Импорты нужных библиотек и функций\n",
    "import pandas as pd\n",
    "import numpy as np\n",
    "import matplotlib.pyplot as plt\n",
    "from scipy import stats\n",
    "from statsmodels.stats.proportion import proportion_confint\n",
    "from statsmodels.stats.weightstats import ztest\n",
    "from datetime import datetime"
   ]
  },
  {
   "cell_type": "code",
   "execution_count": 2,
   "metadata": {},
   "outputs": [
    {
     "data": {
      "text/html": [
       "<div>\n",
       "<style scoped>\n",
       "    .dataframe tbody tr th:only-of-type {\n",
       "        vertical-align: middle;\n",
       "    }\n",
       "\n",
       "    .dataframe tbody tr th {\n",
       "        vertical-align: top;\n",
       "    }\n",
       "\n",
       "    .dataframe thead th {\n",
       "        text-align: right;\n",
       "    }\n",
       "</style>\n",
       "<table border=\"1\" class=\"dataframe\">\n",
       "  <thead>\n",
       "    <tr style=\"text-align: right;\">\n",
       "      <th></th>\n",
       "      <th>user_id</th>\n",
       "      <th>grp</th>\n",
       "      <th>ab_test_id</th>\n",
       "    </tr>\n",
       "  </thead>\n",
       "  <tbody>\n",
       "    <tr>\n",
       "      <th>0</th>\n",
       "      <td>1</td>\n",
       "      <td>B</td>\n",
       "      <td>132</td>\n",
       "    </tr>\n",
       "    <tr>\n",
       "      <th>1</th>\n",
       "      <td>2</td>\n",
       "      <td>A</td>\n",
       "      <td>132</td>\n",
       "    </tr>\n",
       "    <tr>\n",
       "      <th>2</th>\n",
       "      <td>3</td>\n",
       "      <td>B</td>\n",
       "      <td>132</td>\n",
       "    </tr>\n",
       "    <tr>\n",
       "      <th>3</th>\n",
       "      <td>4</td>\n",
       "      <td>A</td>\n",
       "      <td>132</td>\n",
       "    </tr>\n",
       "    <tr>\n",
       "      <th>4</th>\n",
       "      <td>5</td>\n",
       "      <td>B</td>\n",
       "      <td>132</td>\n",
       "    </tr>\n",
       "  </tbody>\n",
       "</table>\n",
       "</div>"
      ],
      "text/plain": [
       "   user_id grp  ab_test_id\n",
       "0        1   B         132\n",
       "1        2   A         132\n",
       "2        3   B         132\n",
       "3        4   A         132\n",
       "4        5   B         132"
      ]
     },
     "execution_count": 2,
     "metadata": {},
     "output_type": "execute_result"
    }
   ],
   "source": [
    "#Читаем таблицу с данными теста\n",
    "ab_test_groups = pd.read_csv('ab_test_groups.csv')\n",
    "ab_test_groups.head()"
   ]
  },
  {
   "cell_type": "code",
   "execution_count": 3,
   "metadata": {},
   "outputs": [
    {
     "data": {
      "text/html": [
       "<div>\n",
       "<style scoped>\n",
       "    .dataframe tbody tr th:only-of-type {\n",
       "        vertical-align: middle;\n",
       "    }\n",
       "\n",
       "    .dataframe tbody tr th {\n",
       "        vertical-align: top;\n",
       "    }\n",
       "\n",
       "    .dataframe thead th {\n",
       "        text-align: right;\n",
       "    }\n",
       "</style>\n",
       "<table border=\"1\" class=\"dataframe\">\n",
       "  <thead>\n",
       "    <tr style=\"text-align: right;\">\n",
       "      <th></th>\n",
       "      <th>user_id</th>\n",
       "      <th>grp</th>\n",
       "      <th>ab_test_id</th>\n",
       "    </tr>\n",
       "  </thead>\n",
       "  <tbody>\n",
       "    <tr>\n",
       "      <th>11999</th>\n",
       "      <td>1</td>\n",
       "      <td>B</td>\n",
       "      <td>127</td>\n",
       "    </tr>\n",
       "    <tr>\n",
       "      <th>12000</th>\n",
       "      <td>2</td>\n",
       "      <td>B</td>\n",
       "      <td>127</td>\n",
       "    </tr>\n",
       "    <tr>\n",
       "      <th>12001</th>\n",
       "      <td>3</td>\n",
       "      <td>B</td>\n",
       "      <td>127</td>\n",
       "    </tr>\n",
       "    <tr>\n",
       "      <th>12002</th>\n",
       "      <td>4</td>\n",
       "      <td>B</td>\n",
       "      <td>127</td>\n",
       "    </tr>\n",
       "    <tr>\n",
       "      <th>12003</th>\n",
       "      <td>5</td>\n",
       "      <td>A</td>\n",
       "      <td>127</td>\n",
       "    </tr>\n",
       "  </tbody>\n",
       "</table>\n",
       "</div>"
      ],
      "text/plain": [
       "       user_id grp  ab_test_id\n",
       "11999        1   B         127\n",
       "12000        2   B         127\n",
       "12001        3   B         127\n",
       "12002        4   B         127\n",
       "12003        5   A         127"
      ]
     },
     "execution_count": 3,
     "metadata": {},
     "output_type": "execute_result"
    }
   ],
   "source": [
    "#Выбираем id 132 (по заданию)\n",
    "ab_test_groups=ab_test_groups[ab_test_groups['ab_test_id']==127]\n",
    "ab_test_groups.head()"
   ]
  },
  {
   "cell_type": "code",
   "execution_count": 4,
   "metadata": {},
   "outputs": [
    {
     "data": {
      "text/plain": [
       "user_id\n",
       "1         140.0\n",
       "10        140.0\n",
       "23        140.0\n",
       "24        700.0\n",
       "39        140.0\n",
       "          ...  \n",
       "153184    140.0\n",
       "153190    140.0\n",
       "153205    140.0\n",
       "153212    700.0\n",
       "153215    140.0\n",
       "Name: price, Length: 13706, dtype: float64"
      ]
     },
     "execution_count": 4,
     "metadata": {},
     "output_type": "execute_result"
    }
   ],
   "source": [
    "#Читаем таблицу с данными об оплатах \n",
    "payments=pd.read_csv('payments.csv')\n",
    "# Выбираем нужные данные: нам нужны только столбцы user_id и price. И даты проведения теста: с 2019-08-05 до 2019-08-11\n",
    "payments=payments.loc[(payments.created_at.astype(str)>='2019-08-05')\n",
    "                 & (payments.created_at.astype(str)<'2019-08-12'),['user_id','price']]\n",
    "#Т.к у одно пользлвателя может быть больше одной покупки, мы сгруппируем таблицу по user_id\n",
    "payments=payments.groupby(['user_id'])['price'].sum()\n",
    "payments"
   ]
  },
  {
   "cell_type": "code",
   "execution_count": 5,
   "metadata": {},
   "outputs": [
    {
     "data": {
      "text/html": [
       "<div>\n",
       "<style scoped>\n",
       "    .dataframe tbody tr th:only-of-type {\n",
       "        vertical-align: middle;\n",
       "    }\n",
       "\n",
       "    .dataframe tbody tr th {\n",
       "        vertical-align: top;\n",
       "    }\n",
       "\n",
       "    .dataframe thead th {\n",
       "        text-align: right;\n",
       "    }\n",
       "</style>\n",
       "<table border=\"1\" class=\"dataframe\">\n",
       "  <thead>\n",
       "    <tr style=\"text-align: right;\">\n",
       "      <th></th>\n",
       "      <th>user_id</th>\n",
       "      <th>grp</th>\n",
       "      <th>ab_test_id</th>\n",
       "      <th>price</th>\n",
       "    </tr>\n",
       "  </thead>\n",
       "  <tbody>\n",
       "    <tr>\n",
       "      <th>0</th>\n",
       "      <td>1</td>\n",
       "      <td>B</td>\n",
       "      <td>127</td>\n",
       "      <td>140.0</td>\n",
       "    </tr>\n",
       "    <tr>\n",
       "      <th>1</th>\n",
       "      <td>2</td>\n",
       "      <td>B</td>\n",
       "      <td>127</td>\n",
       "      <td>NaN</td>\n",
       "    </tr>\n",
       "    <tr>\n",
       "      <th>2</th>\n",
       "      <td>3</td>\n",
       "      <td>B</td>\n",
       "      <td>127</td>\n",
       "      <td>NaN</td>\n",
       "    </tr>\n",
       "    <tr>\n",
       "      <th>3</th>\n",
       "      <td>4</td>\n",
       "      <td>B</td>\n",
       "      <td>127</td>\n",
       "      <td>NaN</td>\n",
       "    </tr>\n",
       "    <tr>\n",
       "      <th>4</th>\n",
       "      <td>5</td>\n",
       "      <td>A</td>\n",
       "      <td>127</td>\n",
       "      <td>NaN</td>\n",
       "    </tr>\n",
       "    <tr>\n",
       "      <th>...</th>\n",
       "      <td>...</td>\n",
       "      <td>...</td>\n",
       "      <td>...</td>\n",
       "      <td>...</td>\n",
       "    </tr>\n",
       "    <tr>\n",
       "      <th>153227</th>\n",
       "      <td>153228</td>\n",
       "      <td>A</td>\n",
       "      <td>127</td>\n",
       "      <td>NaN</td>\n",
       "    </tr>\n",
       "    <tr>\n",
       "      <th>153228</th>\n",
       "      <td>153229</td>\n",
       "      <td>B</td>\n",
       "      <td>127</td>\n",
       "      <td>NaN</td>\n",
       "    </tr>\n",
       "    <tr>\n",
       "      <th>153229</th>\n",
       "      <td>153230</td>\n",
       "      <td>B</td>\n",
       "      <td>127</td>\n",
       "      <td>NaN</td>\n",
       "    </tr>\n",
       "    <tr>\n",
       "      <th>153230</th>\n",
       "      <td>153231</td>\n",
       "      <td>B</td>\n",
       "      <td>127</td>\n",
       "      <td>NaN</td>\n",
       "    </tr>\n",
       "    <tr>\n",
       "      <th>153231</th>\n",
       "      <td>153232</td>\n",
       "      <td>B</td>\n",
       "      <td>127</td>\n",
       "      <td>NaN</td>\n",
       "    </tr>\n",
       "  </tbody>\n",
       "</table>\n",
       "<p>153232 rows × 4 columns</p>\n",
       "</div>"
      ],
      "text/plain": [
       "        user_id grp  ab_test_id  price\n",
       "0             1   B         127  140.0\n",
       "1             2   B         127    NaN\n",
       "2             3   B         127    NaN\n",
       "3             4   B         127    NaN\n",
       "4             5   A         127    NaN\n",
       "...         ...  ..         ...    ...\n",
       "153227   153228   A         127    NaN\n",
       "153228   153229   B         127    NaN\n",
       "153229   153230   B         127    NaN\n",
       "153230   153231   B         127    NaN\n",
       "153231   153232   B         127    NaN\n",
       "\n",
       "[153232 rows x 4 columns]"
      ]
     },
     "execution_count": 5,
     "metadata": {},
     "output_type": "execute_result"
    }
   ],
   "source": [
    "#Соединим получившиеся таблицы\n",
    "ab_data=ab_test_groups.merge(payments, on='user_id', how='left')\n",
    "ab_data"
   ]
  },
  {
   "cell_type": "code",
   "execution_count": 6,
   "metadata": {},
   "outputs": [
    {
     "data": {
      "text/html": [
       "<div>\n",
       "<style scoped>\n",
       "    .dataframe tbody tr th:only-of-type {\n",
       "        vertical-align: middle;\n",
       "    }\n",
       "\n",
       "    .dataframe tbody tr th {\n",
       "        vertical-align: top;\n",
       "    }\n",
       "\n",
       "    .dataframe thead th {\n",
       "        text-align: right;\n",
       "    }\n",
       "</style>\n",
       "<table border=\"1\" class=\"dataframe\">\n",
       "  <thead>\n",
       "    <tr style=\"text-align: right;\">\n",
       "      <th></th>\n",
       "      <th>user_count</th>\n",
       "      <th>buyers_count</th>\n",
       "    </tr>\n",
       "    <tr>\n",
       "      <th>grp</th>\n",
       "      <th></th>\n",
       "      <th></th>\n",
       "    </tr>\n",
       "  </thead>\n",
       "  <tbody>\n",
       "    <tr>\n",
       "      <th>A</th>\n",
       "      <td>76605</td>\n",
       "      <td>4279</td>\n",
       "    </tr>\n",
       "    <tr>\n",
       "      <th>B</th>\n",
       "      <td>76627</td>\n",
       "      <td>9427</td>\n",
       "    </tr>\n",
       "  </tbody>\n",
       "</table>\n",
       "</div>"
      ],
      "text/plain": [
       "     user_count  buyers_count\n",
       "grp                          \n",
       "A         76605          4279\n",
       "B         76627          9427"
      ]
     },
     "metadata": {},
     "output_type": "display_data"
    }
   ],
   "source": [
    "#Сгруппируем данные по группе и посмотрим сколько пользователей в каждой из них что-то купило:\n",
    "ab_summary=ab_data.groupby(['grp']).count()[['user_id','price']]\n",
    "ab_summary.rename(columns={'user_id':'user_count','price':'buyers_count'}, inplace=True)\n",
    "display(ab_summary)"
   ]
  },
  {
   "cell_type": "code",
   "execution_count": 7,
   "metadata": {},
   "outputs": [
    {
     "data": {
      "text/plain": [
       "grp\n",
       "A    49.992821\n",
       "Name: user_count, dtype: float64"
      ]
     },
     "execution_count": 7,
     "metadata": {},
     "output_type": "execute_result"
    }
   ],
   "source": [
    "#Посчитаем долю пользователей в группе \n",
    "ab_summary[ab_summary.index=='A']['user_count']/ab_summary['user_count'].sum()*100"
   ]
  },
  {
   "cell_type": "code",
   "execution_count": 8,
   "metadata": {},
   "outputs": [
    {
     "data": {
      "text/html": [
       "<div>\n",
       "<style scoped>\n",
       "    .dataframe tbody tr th:only-of-type {\n",
       "        vertical-align: middle;\n",
       "    }\n",
       "\n",
       "    .dataframe tbody tr th {\n",
       "        vertical-align: top;\n",
       "    }\n",
       "\n",
       "    .dataframe thead th {\n",
       "        text-align: right;\n",
       "    }\n",
       "</style>\n",
       "<table border=\"1\" class=\"dataframe\">\n",
       "  <thead>\n",
       "    <tr style=\"text-align: right;\">\n",
       "      <th></th>\n",
       "      <th>user_count</th>\n",
       "      <th>buyers_count</th>\n",
       "      <th>convertion</th>\n",
       "    </tr>\n",
       "    <tr>\n",
       "      <th>grp</th>\n",
       "      <th></th>\n",
       "      <th></th>\n",
       "      <th></th>\n",
       "    </tr>\n",
       "  </thead>\n",
       "  <tbody>\n",
       "    <tr>\n",
       "      <th>A</th>\n",
       "      <td>76605</td>\n",
       "      <td>4279</td>\n",
       "      <td>0.055858</td>\n",
       "    </tr>\n",
       "    <tr>\n",
       "      <th>B</th>\n",
       "      <td>76627</td>\n",
       "      <td>9427</td>\n",
       "      <td>0.123025</td>\n",
       "    </tr>\n",
       "  </tbody>\n",
       "</table>\n",
       "</div>"
      ],
      "text/plain": [
       "     user_count  buyers_count  convertion\n",
       "grp                                      \n",
       "A         76605          4279    0.055858\n",
       "B         76627          9427    0.123025"
      ]
     },
     "execution_count": 8,
     "metadata": {},
     "output_type": "execute_result"
    }
   ],
   "source": [
    "#Постичтаем конверисю из пользователя в покупателя\n",
    "ab_summary['convertion']=ab_summary['buyers_count']/ab_summary['user_count']\n",
    "ab_summary"
   ]
  },
  {
   "cell_type": "code",
   "execution_count": 9,
   "metadata": {},
   "outputs": [
    {
     "data": {
      "text/html": [
       "<div>\n",
       "<style scoped>\n",
       "    .dataframe tbody tr th:only-of-type {\n",
       "        vertical-align: middle;\n",
       "    }\n",
       "\n",
       "    .dataframe tbody tr th {\n",
       "        vertical-align: top;\n",
       "    }\n",
       "\n",
       "    .dataframe thead th {\n",
       "        text-align: right;\n",
       "    }\n",
       "</style>\n",
       "<table border=\"1\" class=\"dataframe\">\n",
       "  <thead>\n",
       "    <tr style=\"text-align: right;\">\n",
       "      <th></th>\n",
       "      <th>user_count</th>\n",
       "      <th>buyers_count</th>\n",
       "      <th>convertion</th>\n",
       "      <th>avg_bill</th>\n",
       "    </tr>\n",
       "    <tr>\n",
       "      <th>grp</th>\n",
       "      <th></th>\n",
       "      <th></th>\n",
       "      <th></th>\n",
       "      <th></th>\n",
       "    </tr>\n",
       "  </thead>\n",
       "  <tbody>\n",
       "    <tr>\n",
       "      <th>A</th>\n",
       "      <td>76605</td>\n",
       "      <td>4279</td>\n",
       "      <td>0.055858</td>\n",
       "      <td>396.120589</td>\n",
       "    </tr>\n",
       "    <tr>\n",
       "      <th>B</th>\n",
       "      <td>76627</td>\n",
       "      <td>9427</td>\n",
       "      <td>0.123025</td>\n",
       "      <td>348.804498</td>\n",
       "    </tr>\n",
       "  </tbody>\n",
       "</table>\n",
       "</div>"
      ],
      "text/plain": [
       "     user_count  buyers_count  convertion    avg_bill\n",
       "grp                                                  \n",
       "A         76605          4279    0.055858  396.120589\n",
       "B         76627          9427    0.123025  348.804498"
      ]
     },
     "execution_count": 9,
     "metadata": {},
     "output_type": "execute_result"
    }
   ],
   "source": [
    "#Посчитаем средний чек\n",
    "ab_summary = ab_summary.merge(ab_data.groupby('grp').agg({'price':'mean'}).rename(columns = {'price':'avg_bill'}), \n",
    "                 left_index = True, right_index = True) #Сделали агрегацию и прикрепили её к ab_summary\n",
    "ab_summary"
   ]
  },
  {
   "cell_type": "code",
   "execution_count": 10,
   "metadata": {},
   "outputs": [
    {
     "data": {
      "text/html": [
       "<div>\n",
       "<style scoped>\n",
       "    .dataframe tbody tr th:only-of-type {\n",
       "        vertical-align: middle;\n",
       "    }\n",
       "\n",
       "    .dataframe tbody tr th {\n",
       "        vertical-align: top;\n",
       "    }\n",
       "\n",
       "    .dataframe thead th {\n",
       "        text-align: right;\n",
       "    }\n",
       "</style>\n",
       "<table border=\"1\" class=\"dataframe\">\n",
       "  <thead>\n",
       "    <tr style=\"text-align: right;\">\n",
       "      <th></th>\n",
       "      <th>user_count</th>\n",
       "      <th>buyers_count</th>\n",
       "      <th>convertion</th>\n",
       "      <th>avg_bill</th>\n",
       "      <th>revenue</th>\n",
       "      <th>ARPU</th>\n",
       "      <th>Add_revenue</th>\n",
       "    </tr>\n",
       "    <tr>\n",
       "      <th>grp</th>\n",
       "      <th></th>\n",
       "      <th></th>\n",
       "      <th></th>\n",
       "      <th></th>\n",
       "      <th></th>\n",
       "      <th></th>\n",
       "      <th></th>\n",
       "    </tr>\n",
       "  </thead>\n",
       "  <tbody>\n",
       "    <tr>\n",
       "      <th>A</th>\n",
       "      <td>76605</td>\n",
       "      <td>4279</td>\n",
       "      <td>0.055858</td>\n",
       "      <td>396.120589</td>\n",
       "      <td>1695000.0</td>\n",
       "      <td>22.126493</td>\n",
       "      <td>0.000000e+00</td>\n",
       "    </tr>\n",
       "    <tr>\n",
       "      <th>B</th>\n",
       "      <td>76627</td>\n",
       "      <td>9427</td>\n",
       "      <td>0.123025</td>\n",
       "      <td>348.804498</td>\n",
       "      <td>3288180.0</td>\n",
       "      <td>42.911506</td>\n",
       "      <td>1.592693e+06</td>\n",
       "    </tr>\n",
       "  </tbody>\n",
       "</table>\n",
       "</div>"
      ],
      "text/plain": [
       "     user_count  buyers_count  convertion    avg_bill    revenue       ARPU  \\\n",
       "grp                                                                           \n",
       "A         76605          4279    0.055858  396.120589  1695000.0  22.126493   \n",
       "B         76627          9427    0.123025  348.804498  3288180.0  42.911506   \n",
       "\n",
       "      Add_revenue  \n",
       "grp                \n",
       "A    0.000000e+00  \n",
       "B    1.592693e+06  "
      ]
     },
     "execution_count": 10,
     "metadata": {},
     "output_type": "execute_result"
    }
   ],
   "source": [
    "#Постичтаем ARPU\n",
    "ab_summary = ab_summary.merge(ab_data.groupby('grp').agg({'price':'sum'}).rename(columns = {'price':'revenue'}), \n",
    "                 left_index = True, right_index = True) \n",
    "ab_summary['ARPU']=ab_summary['revenue']/ab_summary['user_count']\n",
    "ab_summary['Add_revenue']=ab_summary['user_count']*(ab_summary['ARPU']-ab_summary.loc['A','ARPU'])\n",
    "ab_summary"
   ]
  },
  {
   "cell_type": "code",
   "execution_count": 11,
   "metadata": {},
   "outputs": [
    {
     "data": {
      "text/plain": [
       "(-46.38627328408593, 0.0)"
      ]
     },
     "execution_count": 11,
     "metadata": {},
     "output_type": "execute_result"
    }
   ],
   "source": [
    "ztest(ab_data.loc[ab_data.grp == 'A', 'price'].apply(lambda x: 1 if pd.notnull(x) else 0),#Конверсии пользователей группы А\n",
    "     ab_data.loc[ab_data.grp == 'B', 'price'].apply(lambda x: 1 if pd.notnull(x) else 0) #Конверсии пользователей группы B\n",
    "     ) "
   ]
  },
  {
   "cell_type": "code",
   "execution_count": 12,
   "metadata": {},
   "outputs": [
    {
     "data": {
      "image/png": "[encoded data removed]",
      "text/plain": [
       "<Figure size 432x288 with 1 Axes>"
      ]
     },
     "metadata": {
      "needs_background": "light"
     },
     "output_type": "display_data"
    },
    {
     "name": "stdout",
     "output_type": "stream",
     "text": [
      "Shapiro-Wilk p-value is 0.0\n"
     ]
    },
    {
     "data": {
      "image/png": "[encoded data removed]",
      "text/plain": [
       "<Figure size 432x288 with 1 Axes>"
      ]
     },
     "metadata": {
      "needs_background": "light"
     },
     "output_type": "display_data"
    },
    {
     "name": "stdout",
     "output_type": "stream",
     "text": [
      "Shapiro-Wilk p-value is 0.0\n"
     ]
    },
    {
     "name": "stderr",
     "output_type": "stream",
     "text": [
      "/home/fktr0/anaconda3/lib/python3.8/site-packages/scipy/stats/morestats.py:1681: UserWarning: p-value may not be accurate for N > 5000.\n",
      "  warnings.warn(\"p-value may not be accurate for N > 5000.\")\n"
     ]
    }
   ],
   "source": [
    "ax = plt.subplot()\n",
    "ab_data.loc[ab_data.grp == 'A', 'price'].dropna().hist()\n",
    "ax.set_xlabel('Чек, руб')\n",
    "ax.set_ylabel('Количество пользователей')\n",
    "ax.set_title('Гистограмма распределения чеков на платящих пользователей')\n",
    "plt.show()\n",
    "print('Shapiro-Wilk p-value is', stats.shapiro(ab_data.loc[ab_data.grp == 'A', 'price'].dropna())[1])\n",
    "\n",
    "ax = plt.subplot()\n",
    "ab_data.loc[ab_data.grp == 'A', 'price'].fillna(0).hist()\n",
    "ax.set_xlabel('Выручка, руб')\n",
    "ax.set_ylabel('Количество пользователей')\n",
    "ax.set_title('Гистограмма распределения выручки на пользователей')\n",
    "plt.show()\n",
    "print('Shapiro-Wilk p-value is', stats.shapiro(ab_data.loc[ab_data.grp == 'A', 'price'].fillna(0))[1])"
   ]
  },
  {
   "cell_type": "code",
   "execution_count": 13,
   "metadata": {},
   "outputs": [
    {
     "name": "stdout",
     "output_type": "stream",
     "text": [
      "MannwhitneyuResult(statistic=11353450.0, pvalue=0.0)\n",
      "Ttest_indResult(statistic=8.681488291725874, pvalue=4.342920451712972e-18)\n"
     ]
    }
   ],
   "source": [
    "# Сравниваем средние чеки\n",
    "print(stats.mannwhitneyu(ab_data.loc[ab_data.grp == 'A', 'price'].dropna(), ab_data.loc[ab_data.grp == 'B', 'price'].dropna()),\n",
    "stats.ttest_ind(ab_data.loc[ab_data.grp == 'A', 'price'].dropna(), ab_data.loc[ab_data.grp == 'B', 'price'].dropna())\n",
    "      , sep = '\\n')\n",
    "#Как мы видим, средние чеки также значимо различаются (так как p-значение << 0.05) по каждому из тестов."
   ]
  },
  {
   "cell_type": "code",
   "execution_count": 14,
   "metadata": {},
   "outputs": [
    {
     "name": "stdout",
     "output_type": "stream",
     "text": [
      "MannwhitneyuResult(statistic=2746687083.0, pvalue=0.0)\n",
      "Ttest_indResult(statistic=-29.893345238870868, pvalue=8.818064407002295e-196)\n"
     ]
    }
   ],
   "source": [
    "#Сравниваем ARPU\n",
    "print(stats.mannwhitneyu(ab_data.loc[ab_data.grp == 'A', 'price'].fillna(0), ab_data.loc[ab_data.grp == 'B', 'price'].fillna(0)),\n",
    "      stats.ttest_ind(ab_data.loc[ab_data.grp == 'A', 'price'].fillna(0), ab_data.loc[ab_data.grp == 'B', 'price'].fillna(0)),\n",
    "     sep = '\\n')"
   ]
  },
  {
   "cell_type": "code",
   "execution_count": 15,
   "metadata": {},
   "outputs": [],
   "source": [
    "#Важные функции для получения доверительных интервалов\n",
    "def get_conf_interval(data, conf_level = 0.95):  \n",
    "# Считает доверительные интервалы для средних\n",
    "        buf = (stats.t.interval(conf_level, len(data),\n",
    "                             loc=np.mean(data), scale=stats.sem(data)))\n",
    "        return (buf[1] - buf[0])/2\n",
    "    \n",
    "def get_conf_interval_z(succ, tot):  \n",
    "#Считает доверительные интервалы для бинарных величин\n",
    "    buf = proportion_confint(succ, tot)\n",
    "    return buf[1] - buf[0]"
   ]
  },
  {
   "cell_type": "code",
   "execution_count": 16,
   "metadata": {},
   "outputs": [
    {
     "data": {
      "text/plain": [
       "0.8641428736438357"
      ]
     },
     "execution_count": 16,
     "metadata": {},
     "output_type": "execute_result"
    }
   ],
   "source": [
    "get_conf_interval(ab_data.loc[ab_data.grp == 'A', 'price'].fillna(0)) \n",
    "#Доверительный полуинтервал для АРПУ пользователей в группе А"
   ]
  },
  {
   "cell_type": "code",
   "execution_count": 17,
   "metadata": {},
   "outputs": [
    {
     "data": {
      "text/plain": [
       "{'ARPU': {'A': 0.8641428736438357, 'B': 1.0537383983825563},\n",
       " 'conversion': {'A': 0.0032524511174824022, 'B': 0.004651325604805509},\n",
       " 'avg_bill': {'A': 10.315428393735829, 'B': 5.467446406040892}}"
      ]
     },
     "execution_count": 17,
     "metadata": {},
     "output_type": "execute_result"
    }
   ],
   "source": [
    "#Составляем словарь с доверительными интервалами для каждой метрики и для каждой группы\n",
    "conf_intervals = {'ARPU':{'A':get_conf_interval(ab_data.loc[ab_data.grp == 'A', 'price'].fillna(0)),\n",
    "                          'B':get_conf_interval(ab_data.loc[ab_data.grp == 'B', 'price'].fillna(0))},\n",
    "                  'conversion':{'A':get_conf_interval_z(ab_data.loc[ab_data.grp == 'A', 'price'].dropna().count(),\n",
    "                                                        ab_data.loc[ab_data.grp == 'A', 'user_id'].count()),\n",
    "                               'B':get_conf_interval_z(ab_data.loc[ab_data.grp == 'B', 'price'].dropna().count(),\n",
    "                                                        ab_data.loc[ab_data.grp == 'B', 'user_id'].count())},\n",
    "                  'avg_bill':{'A':get_conf_interval(ab_data.loc[ab_data.grp == 'A', 'price'].dropna()),\n",
    "                          'B':get_conf_interval(ab_data.loc[ab_data.grp == 'B', 'price'].dropna())}\n",
    "                 }\n",
    "conf_intervals"
   ]
  },
  {
   "cell_type": "code",
   "execution_count": 18,
   "metadata": {},
   "outputs": [],
   "source": [
    "#Удобная функция для подстановки подписей на barplot\n",
    "def set_labels(axes):  \n",
    "#Расставляет подписи столбцов на барплоты\n",
    "    y0, y1 = axes.get_ybound()  \n",
    "#Размер графика по оси Y\n",
    "    y_shift = 0.15* (y1 - y0)  \n",
    "#Дополнительное место под надписи\n",
    "\n",
    "    for i, rect in enumerate(axes.patches):  \n",
    "#По всем нарисованным прямоугольникам\n",
    "        height = rect.get_height()\n",
    "        if abs(height) <= 10000:\n",
    "            label = str(round(height, 2))\n",
    "            if label[-1] == '0':\n",
    "                label = label[:-1]\n",
    "        elif abs(height) <= 1000000:\n",
    "            label = str(round(height/1000, 1))\n",
    "            if label[-1] == '0':\n",
    "                label = label[:-1] + 'k'\n",
    "            else:\n",
    "                label = label + 'k'\n",
    "        else:\n",
    "            label = str(round(height/1000000, 2))\n",
    "            if label[-1] == '0':\n",
    "                label = label[:-1] + 'm'\n",
    "            else:\n",
    "                label = label + 'm'\n",
    "        x = rect.get_x() + rect.get_width() / 2  \n",
    "#Посередине прямоугольника\n",
    "        y = height + y_shift * 0.8  \n",
    "#Над прямоугольником в середине доп. места\n",
    "        if height < 0:\n",
    "            y = y_shift * 0.8 \n",
    "        axes.text(x, y, label, ha='center', va='center', alpha = 0.7)\n",
    "        axes.set_ybound(y0, y1 + 1.5*y_shift)\n"
   ]
  },
  {
   "cell_type": "code",
   "execution_count": 19,
   "metadata": {},
   "outputs": [],
   "source": [
    "plot_summary = ab_summary.T \n",
    "#Транспонированная таблица для удобства использования\n",
    "significant_changes = ['conversion', 'avg_bill'] \n",
    "#Метрики со статзначимыми различиями"
   ]
  },
  {
   "cell_type": "code",
   "execution_count": 20,
   "metadata": {},
   "outputs": [
    {
     "data": {
      "image/png": "[encoded data removed]",
      "text/plain": [
       "<Figure size 1008x288 with 7 Axes>"
      ]
     },
     "metadata": {
      "needs_background": "light"
     },
     "output_type": "display_data"
    }
   ],
   "source": [
    "from matplotlib import gridspec\n",
    "from math import ceil\n",
    "\n",
    "ax = []\n",
    "#Массив для складирования графиков\n",
    "n_pict_in_line = 4\n",
    "#Количество картинок в одной линии\n",
    "\n",
    "gs = gridspec.GridSpec(ceil(len(plot_summary) / float(n_pict_in_line)), n_pict_in_line)\n",
    "#Создаём сетку для графиков\n",
    "fig = plt.figure(figsize=(n_pict_in_line*3 + 2, ceil(len(plot_summary) / n_pict_in_line) * 2))\n",
    "\n",
    "##Считаем изменение метрики в процентах\n",
    "delta_percent = {}\n",
    "for row in plot_summary.index:  \n",
    "    if 'user_count' != row and 'buyers_count' != row and 'revenue' != row and \"Add_revenue\" != row:\n",
    "        delta_percent[row] = '(' + str(round(plot_summary.loc[row, :].max()/\\\n",
    "                                  plot_summary.loc[row, :].min()*100 - 100, 1)) + '%)'\n",
    "        \n",
    "fig.suptitle('Результаты АБ-теста со скидками от 5 августа 2019 до 11 августа 2019')\n",
    "\n",
    "##Строим графики\n",
    "for i, col in enumerate(plot_summary.index):\n",
    "    ax.append(plt.subplot(gs[i // n_pict_in_line, i % n_pict_in_line]))\n",
    "#Добавляем subplot в нужную клетку\n",
    "    plot_summary.loc[[col], :].plot(kind='bar', rot=0, ax=ax[i], alpha=0.8,\n",
    "#Строим график в нужной клетке\n",
    "                                   yerr=conf_intervals[col] if col in conf_intervals else 0) \n",
    "#Редактируем подпись к графику, чтобы в ней хранилась информация о значимости различий \n",
    "    stars = ' * ' if col in significant_changes else '' \n",
    "    ticks = ax[-1].get_xticklabels()\n",
    "    ticks[0] = col + stars + delta_percent[col] if col in delta_percent else col + stars\n",
    "    ax[-1].set_xticklabels(ticks)\n",
    "    ax[-1].set_yticks([])\n",
    "    set_labels(axes=ax[i])"
   ]
  },
  {
   "cell_type": "markdown",
   "metadata": {},
   "source": [
    "## Выводы\n",
    "1. Тест значимо увеличил ARPU на 94% \n",
    "2. Тест значимо увеличил конверсию на 120% верно \n",
    "3. Тест значимо уменьшил средний чек на 13,6%  "
   ]
  },
  {
   "cell_type": "markdown",
   "metadata": {},
   "source": [
    "## Рекомендации\n",
    "Скидки способствуют мгновенному увеличению выручки, поэтому их можно проводить время от времени. "
   ]
  },
  {
   "cell_type": "code",
   "execution_count": null,
   "metadata": {},
   "outputs": [],
   "source": []
  }
 ],
 "metadata": {
  "kernelspec": {
   "display_name": "Python 3",
   "language": "python",
   "name": "python3"
  },
  "language_info": {
   "codemirror_mode": {
    "name": "ipython",
    "version": 3
   },
   "file_extension": ".py",
   "mimetype": "text/x-python",
   "name": "python",
   "nbconvert_exporter": "python",
   "pygments_lexer": "ipython3",
   "version": "3.8.8"
  }
 },
 "nbformat": 4,
 "nbformat_minor": 4
}
