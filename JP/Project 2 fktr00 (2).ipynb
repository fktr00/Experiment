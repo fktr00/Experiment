{
 "cells": [
  {
   "cell_type": "markdown",
   "metadata": {},
   "source": [
    "<div class=\"alert alert-block alert-warning\">\n",
    "    \n",
    "\n",
    "### Комментарий\n",
    "Дальше по ходу работы будут даны комментарии в подобном виде.\n",
    "\n",
    "</div>"
   ]
  },
  {
   "cell_type": "markdown",
   "metadata": {},
   "source": [
    "**_PROJECT-2 Маляренко Алексей DAPR-17_** 01.03.2021"
   ]
  },
  {
   "cell_type": "markdown",
   "metadata": {},
   "source": [
    "### Описание гипотезы\n",
    "\n",
    "Проверим два предположения:\n",
    "\n",
    "1. Отличается ли время прохождения различных этапов для пользователей, которые прошли обучение, от пользователей, не начинавших обучение? Насколько обучение сокращает время прохождения этапов?\n",
    "\n",
    "2. Существует ли зависимость между вероятностью оплаты вопросов и количеством обучений, которые начинал или завершал пользователь?\n",
    "\n",
    "А Также  вопрос:\n",
    "Как часто пользователи начинают обучение после того, как они выбрали уровень сложности?\n",
    "\n",
    "Проверку будем производить на основе данных пользователей, которые зарегистрировались в 2018 году.\n",
    "\n",
    "### Ход проверки"
   ]
  },
  {
   "cell_type": "markdown",
   "metadata": {},
   "source": [
    "<div class=\"alert alert-block alert-warning\">\n",
    "    \n",
    "\n",
    "### Комментарий\n",
    "Отлично, что в начале работы обозначены цели и задачи проекта, также можно дать вводную информацию о бизнесе - это будет полезно, если вы собираетесь выложить работу в портфолио и ваши пользователи не знакомы с условиями.\n",
    "\n",
    "</div>"
   ]
  },
  {
   "cell_type": "markdown",
   "metadata": {},
   "source": [
    "#### Импорт библиотек, загрузка данных, получение данных от 2018 года"
   ]
  },
  {
   "cell_type": "code",
   "execution_count": 1,
   "metadata": {},
   "outputs": [],
   "source": [
    "import pandas as pd\n",
    "from datetime import datetime, timedelta\n",
    "\n",
    "import matplotlib.pyplot as plt\n",
    "\n",
    "import seaborn as sns\n",
    "\n",
    "%matplotlib inline"
   ]
  },
  {
   "cell_type": "code",
   "execution_count": 2,
   "metadata": {},
   "outputs": [],
   "source": [
    "# действие и время пользователя\n",
    "events_df = pd.read_csv('7_4_Events.csv')\n",
    "# действие покупки пользователей \n",
    "# purchase_df = pd.read_csv('7_4_Purchase.csv')\n",
    "purchase_df = pd.read_csv('purchase.csv')"
   ]
  },
  {
   "cell_type": "markdown",
   "metadata": {},
   "source": [
    "##### Смена формата даты"
   ]
  },
  {
   "cell_type": "code",
   "execution_count": 3,
   "metadata": {},
   "outputs": [],
   "source": [
    "# пред обработка events_df\n",
    "events_df['year'] = pd.to_numeric(events_df['start_time'].str[:4]) \n",
    "id_2018 = events_df['user_id'][(events_df['year'] == 2018)&(events_df['event_type'] == 'registration')]\n",
    "events_df = events_df.drop('year', 1)\n",
    "id_2018_list = id_2018.to_list()\n",
    "events_df = events_df[events_df['user_id'].isin(id_2018_list)]\n",
    "events_df = events_df.rename(columns={'id':'event_id'})\n",
    "events_df['start_time'] = pd.to_datetime(events_df['start_time'],format='%Y-%m-%dT%H:%M:%S') # дата в правильном виде"
   ]
  },
  {
   "cell_type": "code",
   "execution_count": 4,
   "metadata": {},
   "outputs": [],
   "source": [
    "# пред обработка purchase_df\n",
    "purchase_df = purchase_df[purchase_df['user_id'].isin(id_2018_list)]\n",
    "purchase_df = purchase_df.rename(columns={'id':'purchase_id'})\n",
    "purchase_df['event_type'] = 'purchase'\n",
    "purchase_df['event_datetime'] = pd.to_datetime(purchase_df['event_datetime'],format='%Y-%m-%dT%H:%M:%S') # дата в правильном виде"
   ]
  },
  {
   "cell_type": "code",
   "execution_count": 5,
   "metadata": {},
   "outputs": [],
   "source": [
    "# таблица с объединёнными входными таблицами\n",
    "total_events_df = pd.concat([events_df,purchase_df],sort=False)\n",
    "total_events_df = total_events_df.reset_index(drop=True).sort_values('start_time')"
   ]
  },
  {
   "cell_type": "markdown",
   "metadata": {},
   "source": [
    "### Основные таблицы используемые в работе"
   ]
  },
  {
   "cell_type": "code",
   "execution_count": 6,
   "metadata": {
    "scrolled": true
   },
   "outputs": [
    {
     "data": {
      "text/html": [
       "<div>\n",
       "<style scoped>\n",
       "    .dataframe tbody tr th:only-of-type {\n",
       "        vertical-align: middle;\n",
       "    }\n",
       "\n",
       "    .dataframe tbody tr th {\n",
       "        vertical-align: top;\n",
       "    }\n",
       "\n",
       "    .dataframe thead th {\n",
       "        text-align: right;\n",
       "    }\n",
       "</style>\n",
       "<table border=\"1\" class=\"dataframe\">\n",
       "  <thead>\n",
       "    <tr style=\"text-align: right;\">\n",
       "      <th></th>\n",
       "      <th>event_id</th>\n",
       "      <th>event_type</th>\n",
       "      <th>selected_level</th>\n",
       "      <th>start_time</th>\n",
       "      <th>tutorial_id</th>\n",
       "      <th>user_id</th>\n",
       "      <th>purchase_id</th>\n",
       "      <th>event_datetime</th>\n",
       "      <th>amount</th>\n",
       "    </tr>\n",
       "  </thead>\n",
       "  <tbody>\n",
       "    <tr>\n",
       "      <th>0</th>\n",
       "      <td>80308.0</td>\n",
       "      <td>registration</td>\n",
       "      <td>NaN</td>\n",
       "      <td>2018-01-01 03:48:40</td>\n",
       "      <td>NaN</td>\n",
       "      <td>27832</td>\n",
       "      <td>NaN</td>\n",
       "      <td>NaT</td>\n",
       "      <td>NaN</td>\n",
       "    </tr>\n",
       "    <tr>\n",
       "      <th>1</th>\n",
       "      <td>80309.0</td>\n",
       "      <td>registration</td>\n",
       "      <td>NaN</td>\n",
       "      <td>2018-01-01 04:07:25</td>\n",
       "      <td>NaN</td>\n",
       "      <td>27833</td>\n",
       "      <td>NaN</td>\n",
       "      <td>NaT</td>\n",
       "      <td>NaN</td>\n",
       "    </tr>\n",
       "    <tr>\n",
       "      <th>2</th>\n",
       "      <td>80310.0</td>\n",
       "      <td>registration</td>\n",
       "      <td>NaN</td>\n",
       "      <td>2018-01-01 08:35:10</td>\n",
       "      <td>NaN</td>\n",
       "      <td>27834</td>\n",
       "      <td>NaN</td>\n",
       "      <td>NaT</td>\n",
       "      <td>NaN</td>\n",
       "    </tr>\n",
       "    <tr>\n",
       "      <th>3</th>\n",
       "      <td>80311.0</td>\n",
       "      <td>registration</td>\n",
       "      <td>NaN</td>\n",
       "      <td>2018-01-01 11:54:47</td>\n",
       "      <td>NaN</td>\n",
       "      <td>27835</td>\n",
       "      <td>NaN</td>\n",
       "      <td>NaT</td>\n",
       "      <td>NaN</td>\n",
       "    </tr>\n",
       "    <tr>\n",
       "      <th>4</th>\n",
       "      <td>80312.0</td>\n",
       "      <td>registration</td>\n",
       "      <td>NaN</td>\n",
       "      <td>2018-01-01 13:28:07</td>\n",
       "      <td>NaN</td>\n",
       "      <td>27836</td>\n",
       "      <td>NaN</td>\n",
       "      <td>NaT</td>\n",
       "      <td>NaN</td>\n",
       "    </tr>\n",
       "    <tr>\n",
       "      <th>...</th>\n",
       "      <td>...</td>\n",
       "      <td>...</td>\n",
       "      <td>...</td>\n",
       "      <td>...</td>\n",
       "      <td>...</td>\n",
       "      <td>...</td>\n",
       "      <td>...</td>\n",
       "      <td>...</td>\n",
       "      <td>...</td>\n",
       "    </tr>\n",
       "    <tr>\n",
       "      <th>68554</th>\n",
       "      <td>NaN</td>\n",
       "      <td>purchase</td>\n",
       "      <td>NaN</td>\n",
       "      <td>NaT</td>\n",
       "      <td>NaN</td>\n",
       "      <td>47498</td>\n",
       "      <td>18441.0</td>\n",
       "      <td>2019-01-02 03:48:19</td>\n",
       "      <td>100.0</td>\n",
       "    </tr>\n",
       "    <tr>\n",
       "      <th>68555</th>\n",
       "      <td>NaN</td>\n",
       "      <td>purchase</td>\n",
       "      <td>NaN</td>\n",
       "      <td>NaT</td>\n",
       "      <td>NaN</td>\n",
       "      <td>47647</td>\n",
       "      <td>18442.0</td>\n",
       "      <td>2019-01-02 23:26:26</td>\n",
       "      <td>150.0</td>\n",
       "    </tr>\n",
       "    <tr>\n",
       "      <th>68556</th>\n",
       "      <td>NaN</td>\n",
       "      <td>purchase</td>\n",
       "      <td>NaN</td>\n",
       "      <td>NaT</td>\n",
       "      <td>NaN</td>\n",
       "      <td>47554</td>\n",
       "      <td>18443.0</td>\n",
       "      <td>2019-01-03 00:36:36</td>\n",
       "      <td>50.0</td>\n",
       "    </tr>\n",
       "    <tr>\n",
       "      <th>68557</th>\n",
       "      <td>NaN</td>\n",
       "      <td>purchase</td>\n",
       "      <td>NaN</td>\n",
       "      <td>NaT</td>\n",
       "      <td>NaN</td>\n",
       "      <td>47742</td>\n",
       "      <td>18448.0</td>\n",
       "      <td>2019-01-04 12:51:41</td>\n",
       "      <td>50.0</td>\n",
       "    </tr>\n",
       "    <tr>\n",
       "      <th>68558</th>\n",
       "      <td>NaN</td>\n",
       "      <td>purchase</td>\n",
       "      <td>NaN</td>\n",
       "      <td>NaT</td>\n",
       "      <td>NaN</td>\n",
       "      <td>47732</td>\n",
       "      <td>18452.0</td>\n",
       "      <td>2019-01-06 07:14:25</td>\n",
       "      <td>150.0</td>\n",
       "    </tr>\n",
       "  </tbody>\n",
       "</table>\n",
       "<p>68559 rows × 9 columns</p>\n",
       "</div>"
      ],
      "text/plain": [
       "       event_id    event_type selected_level          start_time  tutorial_id  \\\n",
       "0       80308.0  registration            NaN 2018-01-01 03:48:40          NaN   \n",
       "1       80309.0  registration            NaN 2018-01-01 04:07:25          NaN   \n",
       "2       80310.0  registration            NaN 2018-01-01 08:35:10          NaN   \n",
       "3       80311.0  registration            NaN 2018-01-01 11:54:47          NaN   \n",
       "4       80312.0  registration            NaN 2018-01-01 13:28:07          NaN   \n",
       "...         ...           ...            ...                 ...          ...   \n",
       "68554       NaN      purchase            NaN                 NaT          NaN   \n",
       "68555       NaN      purchase            NaN                 NaT          NaN   \n",
       "68556       NaN      purchase            NaN                 NaT          NaN   \n",
       "68557       NaN      purchase            NaN                 NaT          NaN   \n",
       "68558       NaN      purchase            NaN                 NaT          NaN   \n",
       "\n",
       "       user_id  purchase_id      event_datetime  amount  \n",
       "0        27832          NaN                 NaT     NaN  \n",
       "1        27833          NaN                 NaT     NaN  \n",
       "2        27834          NaN                 NaT     NaN  \n",
       "3        27835          NaN                 NaT     NaN  \n",
       "4        27836          NaN                 NaT     NaN  \n",
       "...        ...          ...                 ...     ...  \n",
       "68554    47498      18441.0 2019-01-02 03:48:19   100.0  \n",
       "68555    47647      18442.0 2019-01-02 23:26:26   150.0  \n",
       "68556    47554      18443.0 2019-01-03 00:36:36    50.0  \n",
       "68557    47742      18448.0 2019-01-04 12:51:41    50.0  \n",
       "68558    47732      18452.0 2019-01-06 07:14:25   150.0  \n",
       "\n",
       "[68559 rows x 9 columns]"
      ]
     },
     "execution_count": 6,
     "metadata": {},
     "output_type": "execute_result"
    }
   ],
   "source": [
    "total_events_df"
   ]
  },
  {
   "cell_type": "code",
   "execution_count": 7,
   "metadata": {
    "scrolled": true
   },
   "outputs": [
    {
     "data": {
      "text/html": [
       "<div>\n",
       "<style scoped>\n",
       "    .dataframe tbody tr th:only-of-type {\n",
       "        vertical-align: middle;\n",
       "    }\n",
       "\n",
       "    .dataframe tbody tr th {\n",
       "        vertical-align: top;\n",
       "    }\n",
       "\n",
       "    .dataframe thead th {\n",
       "        text-align: right;\n",
       "    }\n",
       "</style>\n",
       "<table border=\"1\" class=\"dataframe\">\n",
       "  <thead>\n",
       "    <tr style=\"text-align: right;\">\n",
       "      <th></th>\n",
       "      <th>event_id</th>\n",
       "      <th>event_type</th>\n",
       "      <th>selected_level</th>\n",
       "      <th>start_time</th>\n",
       "      <th>tutorial_id</th>\n",
       "      <th>user_id</th>\n",
       "    </tr>\n",
       "  </thead>\n",
       "  <tbody>\n",
       "    <tr>\n",
       "      <th>51405</th>\n",
       "      <td>80308</td>\n",
       "      <td>registration</td>\n",
       "      <td>NaN</td>\n",
       "      <td>2018-01-01 03:48:40</td>\n",
       "      <td>NaN</td>\n",
       "      <td>27832</td>\n",
       "    </tr>\n",
       "    <tr>\n",
       "      <th>51406</th>\n",
       "      <td>80309</td>\n",
       "      <td>registration</td>\n",
       "      <td>NaN</td>\n",
       "      <td>2018-01-01 04:07:25</td>\n",
       "      <td>NaN</td>\n",
       "      <td>27833</td>\n",
       "    </tr>\n",
       "    <tr>\n",
       "      <th>51407</th>\n",
       "      <td>80310</td>\n",
       "      <td>registration</td>\n",
       "      <td>NaN</td>\n",
       "      <td>2018-01-01 08:35:10</td>\n",
       "      <td>NaN</td>\n",
       "      <td>27834</td>\n",
       "    </tr>\n",
       "    <tr>\n",
       "      <th>51408</th>\n",
       "      <td>80311</td>\n",
       "      <td>registration</td>\n",
       "      <td>NaN</td>\n",
       "      <td>2018-01-01 11:54:47</td>\n",
       "      <td>NaN</td>\n",
       "      <td>27835</td>\n",
       "    </tr>\n",
       "    <tr>\n",
       "      <th>51409</th>\n",
       "      <td>80312</td>\n",
       "      <td>registration</td>\n",
       "      <td>NaN</td>\n",
       "      <td>2018-01-01 13:28:07</td>\n",
       "      <td>NaN</td>\n",
       "      <td>27836</td>\n",
       "    </tr>\n",
       "    <tr>\n",
       "      <th>...</th>\n",
       "      <td>...</td>\n",
       "      <td>...</td>\n",
       "      <td>...</td>\n",
       "      <td>...</td>\n",
       "      <td>...</td>\n",
       "      <td>...</td>\n",
       "    </tr>\n",
       "    <tr>\n",
       "      <th>118359</th>\n",
       "      <td>147262</td>\n",
       "      <td>tutorial_start</td>\n",
       "      <td>NaN</td>\n",
       "      <td>2019-01-01 03:26:18</td>\n",
       "      <td>49554.0</td>\n",
       "      <td>47756</td>\n",
       "    </tr>\n",
       "    <tr>\n",
       "      <th>118360</th>\n",
       "      <td>147263</td>\n",
       "      <td>tutorial_finish</td>\n",
       "      <td>NaN</td>\n",
       "      <td>2019-01-01 03:29:25</td>\n",
       "      <td>49554.0</td>\n",
       "      <td>47756</td>\n",
       "    </tr>\n",
       "    <tr>\n",
       "      <th>118362</th>\n",
       "      <td>147265</td>\n",
       "      <td>level_choice</td>\n",
       "      <td>easy</td>\n",
       "      <td>2019-01-01 05:04:52</td>\n",
       "      <td>NaN</td>\n",
       "      <td>47755</td>\n",
       "    </tr>\n",
       "    <tr>\n",
       "      <th>118363</th>\n",
       "      <td>147266</td>\n",
       "      <td>level_choice</td>\n",
       "      <td>medium</td>\n",
       "      <td>2019-01-01 05:42:11</td>\n",
       "      <td>NaN</td>\n",
       "      <td>47756</td>\n",
       "    </tr>\n",
       "    <tr>\n",
       "      <th>118364</th>\n",
       "      <td>147267</td>\n",
       "      <td>pack_choice</td>\n",
       "      <td>NaN</td>\n",
       "      <td>2019-01-01 05:50:36</td>\n",
       "      <td>NaN</td>\n",
       "      <td>47756</td>\n",
       "    </tr>\n",
       "  </tbody>\n",
       "</table>\n",
       "<p>66959 rows × 6 columns</p>\n",
       "</div>"
      ],
      "text/plain": [
       "        event_id       event_type selected_level          start_time  \\\n",
       "51405      80308     registration            NaN 2018-01-01 03:48:40   \n",
       "51406      80309     registration            NaN 2018-01-01 04:07:25   \n",
       "51407      80310     registration            NaN 2018-01-01 08:35:10   \n",
       "51408      80311     registration            NaN 2018-01-01 11:54:47   \n",
       "51409      80312     registration            NaN 2018-01-01 13:28:07   \n",
       "...          ...              ...            ...                 ...   \n",
       "118359    147262   tutorial_start            NaN 2019-01-01 03:26:18   \n",
       "118360    147263  tutorial_finish            NaN 2019-01-01 03:29:25   \n",
       "118362    147265     level_choice           easy 2019-01-01 05:04:52   \n",
       "118363    147266     level_choice         medium 2019-01-01 05:42:11   \n",
       "118364    147267      pack_choice            NaN 2019-01-01 05:50:36   \n",
       "\n",
       "        tutorial_id  user_id  \n",
       "51405           NaN    27832  \n",
       "51406           NaN    27833  \n",
       "51407           NaN    27834  \n",
       "51408           NaN    27835  \n",
       "51409           NaN    27836  \n",
       "...             ...      ...  \n",
       "118359      49554.0    47756  \n",
       "118360      49554.0    47756  \n",
       "118362          NaN    47755  \n",
       "118363          NaN    47756  \n",
       "118364          NaN    47756  \n",
       "\n",
       "[66959 rows x 6 columns]"
      ]
     },
     "execution_count": 7,
     "metadata": {},
     "output_type": "execute_result"
    }
   ],
   "source": [
    "events_df"
   ]
  },
  {
   "cell_type": "code",
   "execution_count": 8,
   "metadata": {
    "scrolled": true
   },
   "outputs": [
    {
     "data": {
      "text/html": [
       "<div>\n",
       "<style scoped>\n",
       "    .dataframe tbody tr th:only-of-type {\n",
       "        vertical-align: middle;\n",
       "    }\n",
       "\n",
       "    .dataframe tbody tr th {\n",
       "        vertical-align: top;\n",
       "    }\n",
       "\n",
       "    .dataframe thead th {\n",
       "        text-align: right;\n",
       "    }\n",
       "</style>\n",
       "<table border=\"1\" class=\"dataframe\">\n",
       "  <thead>\n",
       "    <tr style=\"text-align: right;\">\n",
       "      <th></th>\n",
       "      <th>purchase_id</th>\n",
       "      <th>user_id</th>\n",
       "      <th>event_datetime</th>\n",
       "      <th>amount</th>\n",
       "      <th>event_type</th>\n",
       "    </tr>\n",
       "  </thead>\n",
       "  <tbody>\n",
       "    <tr>\n",
       "      <th>1171</th>\n",
       "      <td>16845</td>\n",
       "      <td>27845</td>\n",
       "      <td>2018-01-03 18:53:43</td>\n",
       "      <td>100</td>\n",
       "      <td>purchase</td>\n",
       "    </tr>\n",
       "    <tr>\n",
       "      <th>1172</th>\n",
       "      <td>16846</td>\n",
       "      <td>27865</td>\n",
       "      <td>2018-01-04 14:46:10</td>\n",
       "      <td>250</td>\n",
       "      <td>purchase</td>\n",
       "    </tr>\n",
       "    <tr>\n",
       "      <th>1174</th>\n",
       "      <td>16848</td>\n",
       "      <td>27911</td>\n",
       "      <td>2018-01-07 08:19:12</td>\n",
       "      <td>50</td>\n",
       "      <td>purchase</td>\n",
       "    </tr>\n",
       "    <tr>\n",
       "      <th>1175</th>\n",
       "      <td>16849</td>\n",
       "      <td>27910</td>\n",
       "      <td>2018-01-07 12:11:34</td>\n",
       "      <td>100</td>\n",
       "      <td>purchase</td>\n",
       "    </tr>\n",
       "    <tr>\n",
       "      <th>1176</th>\n",
       "      <td>16850</td>\n",
       "      <td>27940</td>\n",
       "      <td>2018-01-07 13:16:41</td>\n",
       "      <td>200</td>\n",
       "      <td>purchase</td>\n",
       "    </tr>\n",
       "    <tr>\n",
       "      <th>...</th>\n",
       "      <td>...</td>\n",
       "      <td>...</td>\n",
       "      <td>...</td>\n",
       "      <td>...</td>\n",
       "      <td>...</td>\n",
       "    </tr>\n",
       "    <tr>\n",
       "      <th>2767</th>\n",
       "      <td>18441</td>\n",
       "      <td>47498</td>\n",
       "      <td>2019-01-02 03:48:19</td>\n",
       "      <td>100</td>\n",
       "      <td>purchase</td>\n",
       "    </tr>\n",
       "    <tr>\n",
       "      <th>2768</th>\n",
       "      <td>18442</td>\n",
       "      <td>47647</td>\n",
       "      <td>2019-01-02 23:26:26</td>\n",
       "      <td>150</td>\n",
       "      <td>purchase</td>\n",
       "    </tr>\n",
       "    <tr>\n",
       "      <th>2769</th>\n",
       "      <td>18443</td>\n",
       "      <td>47554</td>\n",
       "      <td>2019-01-03 00:36:36</td>\n",
       "      <td>50</td>\n",
       "      <td>purchase</td>\n",
       "    </tr>\n",
       "    <tr>\n",
       "      <th>2774</th>\n",
       "      <td>18448</td>\n",
       "      <td>47742</td>\n",
       "      <td>2019-01-04 12:51:41</td>\n",
       "      <td>50</td>\n",
       "      <td>purchase</td>\n",
       "    </tr>\n",
       "    <tr>\n",
       "      <th>2778</th>\n",
       "      <td>18452</td>\n",
       "      <td>47732</td>\n",
       "      <td>2019-01-06 07:14:25</td>\n",
       "      <td>150</td>\n",
       "      <td>purchase</td>\n",
       "    </tr>\n",
       "  </tbody>\n",
       "</table>\n",
       "<p>1600 rows × 5 columns</p>\n",
       "</div>"
      ],
      "text/plain": [
       "      purchase_id  user_id      event_datetime  amount event_type\n",
       "1171        16845    27845 2018-01-03 18:53:43     100   purchase\n",
       "1172        16846    27865 2018-01-04 14:46:10     250   purchase\n",
       "1174        16848    27911 2018-01-07 08:19:12      50   purchase\n",
       "1175        16849    27910 2018-01-07 12:11:34     100   purchase\n",
       "1176        16850    27940 2018-01-07 13:16:41     200   purchase\n",
       "...           ...      ...                 ...     ...        ...\n",
       "2767        18441    47498 2019-01-02 03:48:19     100   purchase\n",
       "2768        18442    47647 2019-01-02 23:26:26     150   purchase\n",
       "2769        18443    47554 2019-01-03 00:36:36      50   purchase\n",
       "2774        18448    47742 2019-01-04 12:51:41      50   purchase\n",
       "2778        18452    47732 2019-01-06 07:14:25     150   purchase\n",
       "\n",
       "[1600 rows x 5 columns]"
      ]
     },
     "execution_count": 8,
     "metadata": {},
     "output_type": "execute_result"
    }
   ],
   "source": [
    "purchase_df"
   ]
  },
  {
   "cell_type": "markdown",
   "metadata": {},
   "source": [
    "#### Проверка для понимания свойств таблиц"
   ]
  },
  {
   "cell_type": "code",
   "execution_count": 9,
   "metadata": {},
   "outputs": [
    {
     "name": "stdout",
     "output_type": "stream",
     "text": [
      "<class 'pandas.core.frame.DataFrame'>\n",
      "Int64Index: 66959 entries, 51405 to 118364\n",
      "Data columns (total 6 columns):\n",
      " #   Column          Non-Null Count  Dtype         \n",
      "---  ------          --------------  -----         \n",
      " 0   event_id        66959 non-null  int64         \n",
      " 1   event_type      66959 non-null  object        \n",
      " 2   selected_level  8342 non-null   object        \n",
      " 3   start_time      66959 non-null  datetime64[ns]\n",
      " 4   tutorial_id     32954 non-null  float64       \n",
      " 5   user_id         66959 non-null  int64         \n",
      "dtypes: datetime64[ns](1), float64(1), int64(2), object(2)\n",
      "memory usage: 3.6+ MB\n"
     ]
    }
   ],
   "source": [
    "# проверяю не пропущены ли где значения\n",
    "events_df.info()"
   ]
  },
  {
   "cell_type": "code",
   "execution_count": 10,
   "metadata": {},
   "outputs": [
    {
     "name": "stdout",
     "output_type": "stream",
     "text": [
      "<class 'pandas.core.frame.DataFrame'>\n",
      "Int64Index: 1600 entries, 1171 to 2778\n",
      "Data columns (total 5 columns):\n",
      " #   Column          Non-Null Count  Dtype         \n",
      "---  ------          --------------  -----         \n",
      " 0   purchase_id     1600 non-null   int64         \n",
      " 1   user_id         1600 non-null   int64         \n",
      " 2   event_datetime  1600 non-null   datetime64[ns]\n",
      " 3   amount          1600 non-null   int64         \n",
      " 4   event_type      1600 non-null   object        \n",
      "dtypes: datetime64[ns](1), int64(3), object(1)\n",
      "memory usage: 75.0+ KB\n"
     ]
    }
   ],
   "source": [
    "purchase_df.info()"
   ]
  },
  {
   "cell_type": "code",
   "execution_count": 11,
   "metadata": {},
   "outputs": [
    {
     "name": "stdout",
     "output_type": "stream",
     "text": [
      "<class 'pandas.core.frame.DataFrame'>\n",
      "Int64Index: 68559 entries, 0 to 68558\n",
      "Data columns (total 9 columns):\n",
      " #   Column          Non-Null Count  Dtype         \n",
      "---  ------          --------------  -----         \n",
      " 0   event_id        66959 non-null  float64       \n",
      " 1   event_type      68559 non-null  object        \n",
      " 2   selected_level  8342 non-null   object        \n",
      " 3   start_time      66959 non-null  datetime64[ns]\n",
      " 4   tutorial_id     32954 non-null  float64       \n",
      " 5   user_id         68559 non-null  int64         \n",
      " 6   purchase_id     1600 non-null   float64       \n",
      " 7   event_datetime  1600 non-null   datetime64[ns]\n",
      " 8   amount          1600 non-null   float64       \n",
      "dtypes: datetime64[ns](2), float64(4), int64(1), object(2)\n",
      "memory usage: 5.2+ MB\n"
     ]
    }
   ],
   "source": [
    "# суммы совпадают\n",
    "total_events_df.info()"
   ]
  },
  {
   "cell_type": "code",
   "execution_count": 12,
   "metadata": {},
   "outputs": [
    {
     "data": {
      "text/plain": [
       "registration       19926\n",
       "tutorial_start     18050\n",
       "tutorial_finish    14904\n",
       "level_choice        8342\n",
       "pack_choice         5737\n",
       "Name: event_type, dtype: int64"
      ]
     },
     "execution_count": 12,
     "metadata": {},
     "output_type": "execute_result"
    }
   ],
   "source": [
    "# просмотр сум всех действий\n",
    "events_df['event_type'].value_counts()"
   ]
  },
  {
   "cell_type": "code",
   "execution_count": 13,
   "metadata": {},
   "outputs": [
    {
     "name": "stdout",
     "output_type": "stream",
     "text": [
      "1.0\n",
      "1.522179119581717\n",
      "1.4540487804878048\n",
      "1.0\n",
      "1.0\n",
      "1.0\n"
     ]
    }
   ],
   "source": [
    "# тут проверяться и объявляться переменные для облегчения ориентирования по переменным\n",
    "registration_df = events_df[events_df['event_type'] == 'registration']\n",
    "print(registration_df['user_id'].value_counts().mean())\n",
    "tutorial_start_df = events_df[events_df['event_type']=='tutorial_start']\n",
    "print(tutorial_start_df['user_id'].value_counts().mean())\n",
    "tutorial_finish_df = events_df[events_df['event_type']=='tutorial_finish']\n",
    "print(tutorial_finish_df['user_id'].value_counts().mean())\n",
    "level_choice_df = events_df[events_df['event_type']=='level_choice']\n",
    "print(level_choice_df['user_id'].value_counts().mean())\n",
    "pack_choice_df = events_df[events_df['event_type']=='pack_choice']\n",
    "print(pack_choice_df['user_id'].value_counts().mean())\n",
    "print(purchase_df['user_id'].value_counts().mean())"
   ]
  },
  {
   "cell_type": "code",
   "execution_count": 14,
   "metadata": {
    "scrolled": true
   },
   "outputs": [
    {
     "name": "stdout",
     "output_type": "stream",
     "text": [
      "1.0\n",
      "1.0\n"
     ]
    }
   ],
   "source": [
    "# изменения для удобства в анализе\n",
    "tutorial_start_df = tutorial_start_df.drop_duplicates('user_id')\n",
    "print(tutorial_start_df['user_id'].value_counts().mean())\n",
    "tutorial_finish_df = tutorial_finish_df.drop_duplicates('user_id')\n",
    "print(tutorial_finish_df['user_id'].value_counts().mean())"
   ]
  },
  {
   "cell_type": "markdown",
   "metadata": {},
   "source": [
    "<div class=\"alert alert-block alert-warning\">\n",
    "    \n",
    "\n",
    "### Комментарий\n",
    "Отличное начало с изучения данных, приведение к нужным типам, проверки на дубликаты и пустые значения!\n",
    "\n",
    "</div>"
   ]
  },
  {
   "cell_type": "markdown",
   "metadata": {},
   "source": [
    "### Отличается ли время прохождения различных этапов для пользователей, которые прошли обучение, от пользователей, не начинавших обучение"
   ]
  },
  {
   "cell_type": "markdown",
   "metadata": {},
   "source": [
    "#### Деление"
   ]
  },
  {
   "cell_type": "code",
   "execution_count": 15,
   "metadata": {},
   "outputs": [],
   "source": [
    "tutorial_start_user_id_set = set(tutorial_start_df['user_id'])\n",
    "user_id_events_set = set(events_df['user_id'])\n",
    "# выделил пользователей ни разу не начавших обучение \n",
    "tutorial_not_start_user_id_set = user_id_events_set.difference(tutorial_start_user_id_set)\n",
    "\n",
    "# пользователи завершившие туториал\n",
    "tutorial_finish_total_events_df = total_events_df[total_events_df['user_id'].isin(tutorial_finish_df['user_id'])]\n",
    "# пользователи не начавшие обучение\n",
    "tutorial_not_start_total_events_df = total_events_df[total_events_df['user_id'].isin(tutorial_not_start_user_id_set)]"
   ]
  },
  {
   "cell_type": "code",
   "execution_count": 16,
   "metadata": {},
   "outputs": [],
   "source": [
    "# сводные таблицы для пользователей двух групп\n",
    "tutorial_finish_pt = tutorial_finish_total_events_df.pivot_table(values=['start_time'], index=['user_id'], columns=['event_type'], aggfunc='min')\n",
    "tutorial_not_start_pt = tutorial_not_start_total_events_df.pivot_table(values=['start_time'], index=['user_id'], columns=['event_type'], aggfunc='min')\n",
    "# делаем обращение удобней\n",
    "tutorial_finish_pt.columns = [tup[1] if tup[1] else tup[0] for tup in tutorial_finish_pt.columns]\n",
    "tutorial_not_start_pt.columns = [tup[1] if tup[1] else tup[0] for tup in tutorial_not_start_pt.columns]"
   ]
  },
  {
   "cell_type": "code",
   "execution_count": 17,
   "metadata": {},
   "outputs": [],
   "source": [
    "# удобно фильтруем сеты\n",
    "# прошедшие обучение \n",
    "tutorial_start_f = tutorial_finish_pt.merge(tutorial_start_df['user_id'],on='user_id',how='inner')\n",
    "pack_choice_f = tutorial_finish_pt.merge(pack_choice_df['user_id'],on='user_id',how='inner')\n",
    "purchase_f = tutorial_finish_pt.merge(purchase_df[['user_id','event_datetime']],on='user_id',how='inner')\n",
    "# не начали\n",
    "not_level_choice_f = tutorial_not_start_pt.merge(level_choice_df['user_id'],on='user_id',how='inner')\n",
    "not_pack_choice_f = tutorial_not_start_pt.merge(pack_choice_df['user_id'],on='user_id',how='inner')\n",
    "not_purchase_f = tutorial_not_start_pt.merge(purchase_df[['user_id','event_datetime']],on='user_id',how='inner')"
   ]
  },
  {
   "cell_type": "markdown",
   "metadata": {},
   "source": [
    "#### Код для проверки первой гипотезы"
   ]
  },
  {
   "cell_type": "code",
   "execution_count": 18,
   "metadata": {},
   "outputs": [],
   "source": [
    "# ищем timedelta\n",
    "# прошедшие обучение\n",
    "tutorial_start_f['timedelta'] = tutorial_start_f['tutorial_start'] - tutorial_start_f['registration']\n",
    "pack_choice_f['timedelta'] = pack_choice_f['pack_choice'] - pack_choice_f['level_choice']\n",
    "purchase_f['timedelta'] = purchase_f['event_datetime'] - purchase_f['pack_choice']\n",
    "purchase_f['r_p'] = purchase_f['event_datetime'] - purchase_f['registration']\n",
    "# не начали\n",
    "not_level_choice_f['timedelta'] = not_level_choice_f['level_choice'] - not_level_choice_f['registration']\n",
    "not_pack_choice_f['timedelta'] = not_pack_choice_f['pack_choice'] - not_pack_choice_f['level_choice']\n",
    "not_purchase_f['timedelta'] = not_purchase_f['event_datetime'] - not_purchase_f['pack_choice']\n",
    "not_purchase_f['r_p'] = not_purchase_f['event_datetime'] - not_purchase_f['registration']\n",
    "\n",
    "# вывод данных\n",
    "# прошедшие обучение\n",
    "r_t = tutorial_start_f['timedelta'].mean()\n",
    "r_p = pack_choice_f['timedelta'].mean()\n",
    "r_pu = purchase_f['timedelta'].mean()\n",
    "r_r = purchase_f['r_p'].mean()\n",
    "# не начали\n",
    "not_r_l = not_level_choice_f['timedelta'].mean()\n",
    "not_r_p = not_pack_choice_f['timedelta'].mean()\n",
    "not_r_pu = not_purchase_f['timedelta'].mean()\n",
    "not_r_r = not_purchase_f['r_p'].mean()\n"
   ]
  },
  {
   "cell_type": "code",
   "execution_count": 19,
   "metadata": {},
   "outputs": [],
   "source": [
    "# получаю два словаря\n",
    "hg = {'Прошедшие обучение':{'Регистрация-(обучениe-выбор cлож.)':r_t,'выбор сложности-пак вопросов':r_p,'выбор пака вопросов-покупка':r_pu},\n",
    "      'Не начали обучение':{'Регистрация-(обучениe-выбор cлож.)':not_r_l,'выбор сложности-пак вопросов':not_r_p,'выбор пака вопросов-покупка':not_r_pu}}\n",
    "hk = {'Прошедшие обучение':{'Регистрация-покупка':r_r},\n",
    "      'Не начали обучение':{'Регистрация-покупка':not_r_r}}"
   ]
  },
  {
   "cell_type": "code",
   "execution_count": 20,
   "metadata": {},
   "outputs": [],
   "source": [
    "# преобразую словари в датафреймы\n",
    "hg_df = pd.DataFrame(data=hg)\n",
    "hk_df = pd.DataFrame(data=hk)"
   ]
  },
  {
   "cell_type": "code",
   "execution_count": 21,
   "metadata": {},
   "outputs": [],
   "source": [
    "# редактирую датафреймы для тадлиц\n",
    "hg_df.loc['Регистрация-(обучениe-выбор cлож.)'] = hg_df.loc['Регистрация-(обучениe-выбор cлож.)'].apply(lambda x: round(x.total_seconds()/60,0))\n",
    "hg_df.loc['выбор сложности-пак вопросов'] = hg_df.loc['выбор сложности-пак вопросов'].apply(lambda x: round(x.total_seconds()/1,0))\n",
    "hg_df.loc['выбор пака вопросов-покупка'] = hg_df.loc['выбор пака вопросов-покупка'].apply(lambda x: round(x.total_seconds()/3600,0))\n",
    "hk_df.loc['Регистрация-покупка'] = hk_df.loc['Регистрация-покупка'].apply(lambda x: round(x.total_seconds()/3600,0))"
   ]
  },
  {
   "cell_type": "code",
   "execution_count": 22,
   "metadata": {},
   "outputs": [],
   "source": [
    "# добавляю разницу\n",
    "hg_df['Разниц 1 и 2 показателей'] = hg_df['Не начали обучение'] - hg_df['Прошедшие обучение']\n",
    "hg_df['Разниц 1 и 2 показателей'] = hg_df['Разниц 1 и 2 показателей'].apply(lambda x: round(x,0))\n",
    "hk_df['Разниц 1 и 2 показателей'] = hk_df['Не начали обучение'] - hk_df['Прошедшие обучение']\n",
    "hk_df['Разниц 1 и 2 показателей'] = hk_df['Разниц 1 и 2 показателей'].apply(lambda x: round(x,0))"
   ]
  },
  {
   "cell_type": "markdown",
   "metadata": {},
   "source": [
    "#### Числовые выводы по 1 гипотезе"
   ]
  },
  {
   "cell_type": "code",
   "execution_count": 23,
   "metadata": {},
   "outputs": [
    {
     "data": {
      "image/png": "[encoded data removed]",
      "text/plain": [
       "<Figure size 1152x288 with 3 Axes>"
      ]
     },
     "metadata": {
      "needs_background": "light"
     },
     "output_type": "display_data"
    }
   ],
   "source": [
    "# тройной график\n",
    "fig, axes = plt.subplots(1, 3, figsize=(16,4))\n",
    "# цвета и структура первого грфика\n",
    "axes[0].bar(x = hg_df.T.index, height=hg_df.T['Регистрация-(обучениe-выбор cлож.)'],\n",
    "            align = 'edge',color=[[0.04794151, 0.08893703, 0.90630365],[0.56296929, 0.97291764, 0.41094361],[0.82394557, 0.75060714, 0.71378445]])\n",
    "# остальные элементы\n",
    "axes[0].set_title('Регистрация-(обучениe-выбор cлож.) \\n \\n на {} Минут'.format(hg_df.iloc[0][2])) \n",
    "axes[0].grid(True) # сетка\n",
    "axes[0].set_ylabel('Минуты') # у подпись\n",
    "axes[0].tick_params(pad = 1,    #  Расстояние между черточкой и ее подписью\n",
    "               labelsize = 9,    #  Размер подписи\n",
    "               labelcolor = 'b',    #  Цвет подписи\n",
    "               labelrotation = 35)    #  Поворот подписей\n",
    "\n",
    "axes[1].bar(x = hg_df.T.index, height=hg_df.T['выбор сложности-пак вопросов'],\n",
    "            align='edge',color=[[0.04794151, 0.08893703, 0.90630365],[0.56296929, 0.97291764, 0.41094361],[0.82394557, 0.75060714, 0.71378445]])\n",
    "axes[1].set_title('Отличая время различных этапов \\n Выбор сложности-пак вопросов \\n В среднем обучение сократило время прохождения этапа в приложении \\n на {} Секунд'.format(hg_df.iloc[1][2]))\n",
    "axes[1].grid(True)\n",
    "axes[1].set_ylabel('Секунды')\n",
    "axes[1].tick_params(pad = 1,    \n",
    "               labelsize = 9,   \n",
    "               labelcolor = 'b',  \n",
    "               labelrotation = 35)   \n",
    "\n",
    "axes[2].bar(x = hg_df.T.index, height=hg_df.T['выбор пака вопросов-покупка'],\n",
    "            align='edge',color=[[0.04794151, 0.08893703, 0.90630365],[0.56296929, 0.97291764, 0.41094361],[0.82394557, 0.75060714, 0.71378445]])\n",
    "axes[2].set_title('Выбор пака вопросов-покупка \\n \\n на {} Часов'.format(hg_df.iloc[2][2]))\n",
    "axes[2].grid(True)\n",
    "axes[2].set_ylabel('Часы')\n",
    "axes[2].tick_params(pad = 1,  \n",
    "               labelsize = 9,  \n",
    "               labelcolor = 'b',  \n",
    "               labelrotation = 30) \n"
   ]
  },
  {
   "cell_type": "code",
   "execution_count": 24,
   "metadata": {},
   "outputs": [
    {
     "data": {
      "image/png": "[encoded data removed]",
      "text/plain": [
       "<Figure size 432x288 with 1 Axes>"
      ]
     },
     "metadata": {
      "needs_background": "light"
     },
     "output_type": "display_data"
    }
   ],
   "source": [
    "# график обобщение временные данные\n",
    "fig = plt.figure()\n",
    "axes = fig.add_axes([0, 0, 1, 1])\n",
    "axes.bar(x = hk_df.T.index, height=hk_df.T['Регистрация-покупка'],\n",
    "            align = 'edge',color=[[0.04794151, 0.08893703, 0.90630365],[0.56296929, 0.97291764, 0.41094361],[0.82394557, 0.75060714, 0.71378445]])\n",
    "axes.set_title('График Регистрация-покупка \\n В среднем обучение сократило время прохождения этапа в приложении на {} Часов'.format(hk_df.iloc[0][2]))\n",
    "axes.grid(True)\n",
    "axes.set_ylabel('Часы')\n",
    "axes.tick_params(pad = 1,    \n",
    "               labelsize = 9,   \n",
    "               labelcolor = 'b',  \n",
    "               labelrotation = 20)   \n"
   ]
  },
  {
   "cell_type": "code",
   "execution_count": 25,
   "metadata": {},
   "outputs": [
    {
     "name": "stdout",
     "output_type": "stream",
     "text": [
      "0 days 04:31:04.938146341 Регистрация-наячало обучения (прошедшие обучение)\n",
      "0 days 05:15:33.122448979 Регистрация-выбор сложности (не начали обучение)\n",
      "\n",
      "0 days 00:05:18.146058732 выбор сложности-пак вопросов (прошедшие обучение)\n",
      "0 days 00:05:23.824324324 выбор сложности-пак вопросов (не начали обучение)\n",
      "\n",
      "3 days 17:17:59.641326883 выбор пака вопросов-покупка (прошедшие обучение)\n",
      "4 days 04:49:33.590909090 выбор пака вопросов-покупка (не начали обучение)\n",
      "\n",
      "4 days 00:30:03.247408431 Регистрация-покупка (прошедшие обучение)\n",
      "4 days 09:06:01.909090909 Регистрация-покупка (не начали обучение)\n"
     ]
    }
   ],
   "source": [
    "# вывод данных\n",
    "print('{} Регистрация-наячало обучения (прошедшие обучение)'.format(r_t))\n",
    "print('{} Регистрация-выбор сложности (не начали обучение)'.format(not_r_l))\n",
    "print()\n",
    "print('{} выбор сложности-пак вопросов (прошедшие обучение)'.format(r_p))\n",
    "print('{} выбор сложности-пак вопросов (не начали обучение)'.format(not_r_p))\n",
    "print()\n",
    "print('{} выбор пака вопросов-покупка (прошедшие обучение)'.format(r_pu))\n",
    "print('{} выбор пака вопросов-покупка (не начали обучение)'.format(not_r_pu))\n",
    "print()\n",
    "print('{} Регистрация-покупка (прошедшие обучение)'.format(r_r))\n",
    "print('{} Регистрация-покупка (не начали обучение)'.format(not_r_r))"
   ]
  },
  {
   "cell_type": "markdown",
   "metadata": {},
   "source": [
    "### Вывод по первой гипотезе \n",
    "\n",
    "Как видно из выше приведённых графиков, обучение, как правило, сокращает время для прохождения этапов. Выше приведено в графическом виде общее время от регистрации до покупки (усреднённое). Как можно видеть, весь путь пользователя в усреднённом варианте сократился на 8 часов, что хорошо тем, что клиент начнёт окупать потраченные на поддержку приложения средства раньше. В этапы ускорились на:\n",
    "\n",
    "Регистрация-(обучениe-выбор cлож.) - 45 минут\n",
    "\n",
    "Выбор сложности-пак вопросов - 6 секунд\n",
    "\n",
    "Выбор пака вопросов-покупка - 12 часов\n",
    "\n",
    "Регистрация-покупка - 8 часов\n",
    "\n",
    "Значит, можно смело утверждать, что гипотеза полностью верна, и сделать обучение более привлекательным к прохождению. Можно поднять награду или предложить \"сюрприз коробку\" со случайным призом по окончанию прохождения."
   ]
  },
  {
   "cell_type": "markdown",
   "metadata": {},
   "source": [
    "<div class=\"alert alert-block alert-warning\">\n",
    "    \n",
    "\n",
    "### Комментарий\n",
    "Отлично, что вам удалось справиться с первой гипотезой и визуализацией к ней! Отдельный плюс за рассмотрение всего пути - от регистрации до покупки, это дало возможность определить в целом не отдаляет ли обучение от покупки.  \n",
    "Что можно сделать лучше - вы создаете много однотипных датафреймов, можно оптимизировать путем создания датафрейма с началом каждого этапа для пользователей, также дополнить признаком принадлежности к группе.\n",
    "\n",
    "</div>"
   ]
  },
  {
   "cell_type": "markdown",
   "metadata": {},
   "source": [
    "### Существует ли зависимость между вероятностью оплаты вопросов и количеством обучений, которые начинал или завершал пользователь"
   ]
  },
  {
   "cell_type": "markdown",
   "metadata": {},
   "source": [
    "#### Деление"
   ]
  },
  {
   "cell_type": "code",
   "execution_count": 26,
   "metadata": {},
   "outputs": [
    {
     "name": "stdout",
     "output_type": "stream",
     "text": [
      "1.522179119581717\n",
      "1.4540487804878048\n"
     ]
    }
   ],
   "source": [
    "# берём данные\n",
    "tutorial_start_df = events_df[events_df['event_type']=='tutorial_start']\n",
    "print(tutorial_start_df['user_id'].value_counts().mean())\n",
    "tutorial_finish_df = events_df[events_df['event_type']=='tutorial_finish']\n",
    "print(tutorial_finish_df['user_id'].value_counts().mean())"
   ]
  },
  {
   "cell_type": "markdown",
   "metadata": {},
   "source": [
    "<div class=\"alert alert-block alert-warning\">\n",
    "    \n",
    "\n",
    "### Комментарий\n",
    "Хотелось бы пояснения с какой целью вы выводите данный результат.\n",
    "   \n",
    "\n",
    "</div>"
   ]
  },
  {
   "cell_type": "markdown",
   "metadata": {},
   "source": [
    "#### Код для проверки второй гипотезы"
   ]
  },
  {
   "cell_type": "code",
   "execution_count": 27,
   "metadata": {},
   "outputs": [],
   "source": [
    "# подготовка с переименованием\n",
    "tutorial_start = tutorial_start_df['user_id'].value_counts().reset_index()\n",
    "tutorial_finish = tutorial_finish_df['user_id'].value_counts().reset_index()\n",
    "\n",
    "tutorial_start = tutorial_start.rename(columns={'index':'user_id','user_id':'count'})\n",
    "tutorial_finish = tutorial_finish.rename(columns={'index':'user_id','user_id':'count'})\n",
    "# пробная проверка \n",
    "#print(tutorial_start['count'].value_counts())\n",
    "#print(tutorial_finish['count'].value_counts())\n",
    "\n",
    "# пользователи не начавшие обучение\n",
    "tutorial_not_start_total_events_df \n",
    "\n",
    "# подсчёт процента\n",
    "def user_id_set(x,y): \n",
    "    user_co = x[x['count']==y]\n",
    "    lne_x = len(user_co)\n",
    "    lne_pu = len(user_co.merge(purchase_df['user_id'],on='user_id',how='inner'))\n",
    "    pro = lne_pu/lne_x\n",
    "    return pro\n",
    "    \n",
    "# вывод для второго вопроса \n",
    "def resolt(x):\n",
    "    l = len(tutorial_start)\n",
    "    for i in range(1,len(tutorial_start['count'].unique())+1):\n",
    "        if len(x) == l:\n",
    "            print('Процент оплативших пользователей, начавших обучение {}р. {:.2%}'.format(i,user_id_set(x,i)))\n",
    "        else:\n",
    "            print('Процент оплативших пользователей, закончивших обучение {}р. {:.2%}'.format(i,user_id_set(x,i)))\n",
    "            \n",
    "# получение дата фрейма для столбчатой диаграммы\n",
    "def table(g,j):\n",
    "    di = dict()\n",
    "    li1 = []\n",
    "    li2 = []\n",
    "    for i in range(1,len(tutorial_start['count'].unique())+1):\n",
    "        li1.append(user_id_set(g,i))\n",
    "        li2.append(user_id_set(j,i))\n",
    "    di['начавших обучение'] = li1\n",
    "    di['закончивших обучение'] = li2\n",
    "    return di\n",
    "# процент оплативших из тех пользователей кто не начал обучение\n",
    "not_user_id_un = tutorial_not_start_total_events_df['user_id'].nunique()\n",
    "\n",
    "not_user_id_un_purchase = tutorial_not_start_total_events_df.merge(purchase_df['user_id'],on='user_id',how='inner')['user_id'].nunique()"
   ]
  },
  {
   "cell_type": "markdown",
   "metadata": {},
   "source": [
    "#### Числовые выводы по 2 гипотезе"
   ]
  },
  {
   "cell_type": "code",
   "execution_count": 28,
   "metadata": {},
   "outputs": [
    {
     "name": "stdout",
     "output_type": "stream",
     "text": [
      "Процент оплативших пользователей, не начавших обучение 0.27%\n",
      "\n",
      "Процент оплативших пользователей, начавших обучение 1р. 13.26%\n",
      "Процент оплативших пользователей, начавших обучение 2р. 13.72%\n",
      "Процент оплативших пользователей, начавших обучение 3р. 11.94%\n",
      "Процент оплативших пользователей, начавших обучение 4р. 13.57%\n",
      "Процент оплативших пользователей, начавших обучение 5р. 14.68%\n",
      "Процент оплативших пользователей, начавших обучение 6р. 12.07%\n",
      "Процент оплативших пользователей, начавших обучение 7р. 12.77%\n",
      "Процент оплативших пользователей, начавших обучение 8р. 15.12%\n",
      "Процент оплативших пользователей, начавших обучение 9р. 15.04%\n"
     ]
    }
   ],
   "source": [
    "print('Процент оплативших пользователей, не начавших обучение {:.2%}'.format(not_user_id_un_purchase/not_user_id_un))\n",
    "print()\n",
    "resolt(tutorial_start)"
   ]
  },
  {
   "cell_type": "code",
   "execution_count": 29,
   "metadata": {},
   "outputs": [
    {
     "name": "stdout",
     "output_type": "stream",
     "text": [
      "Процент оплативших пользователей, закончивших обучение 1р. 14.26%\n",
      "Процент оплативших пользователей, закончивших обучение 2р. 13.78%\n",
      "Процент оплативших пользователей, закончивших обучение 3р. 12.75%\n",
      "Процент оплативших пользователей, закончивших обучение 4р. 10.67%\n",
      "Процент оплативших пользователей, закончивших обучение 5р. 16.24%\n",
      "Процент оплативших пользователей, закончивших обучение 6р. 14.85%\n",
      "Процент оплативших пользователей, закончивших обучение 7р. 15.46%\n",
      "Процент оплативших пользователей, закончивших обучение 8р. 11.11%\n",
      "Процент оплативших пользователей, закончивших обучение 9р. 18.18%\n"
     ]
    }
   ],
   "source": [
    "resolt(tutorial_finish)"
   ]
  },
  {
   "cell_type": "code",
   "execution_count": 30,
   "metadata": {},
   "outputs": [],
   "source": [
    "# датафрейм под график\n",
    "gr_tutorial_df = pd.DataFrame(data=table(tutorial_start,tutorial_finish),index=[1,2,3,4,5,6,7,8,9])"
   ]
  },
  {
   "cell_type": "code",
   "execution_count": 31,
   "metadata": {},
   "outputs": [
    {
     "data": {
      "text/plain": [
       "Text(0.5, 0, 'Количество прохождений обучения')"
      ]
     },
     "execution_count": 31,
     "metadata": {},
     "output_type": "execute_result"
    },
    {
     "data": {
      "image/png": "[encoded data removed]",
      "text/plain": [
       "<Figure size 432x288 with 1 Axes>"
      ]
     },
     "metadata": {
      "needs_background": "light"
     },
     "output_type": "display_data"
    }
   ],
   "source": [
    "# просто график ничего особенного\n",
    "fig = plt.figure()\n",
    "h = [0.01,0.1,0.15]\n",
    "axes = fig.add_axes([0, 0, 3, 2])\n",
    "axes.bar(x = gr_tutorial_df.index, height = gr_tutorial_df['начавших обучение'], \n",
    "         width = 0.4, align = 'edge', label = 'начавших обучение',)\n",
    "axes.bar(x = gr_tutorial_df.index, height = gr_tutorial_df['закончивших обучение'], \n",
    "         width = -0.4, align = 'edge', label = 'закончивших обучение',)\n",
    "axes.legend(loc = 0)\n",
    "axes.set_title('Вероятность оплаты вопросов двух исследуемых групп')\n",
    "axes.set_xticks(gr_tutorial_df.index) # исправляю значения по х оси\n",
    "axes.set_xticklabels(gr_tutorial_df.index)\n",
    "axes.grid(True)\n",
    "axes.set_xlabel('Количество прохождений обучения')"
   ]
  },
  {
   "cell_type": "markdown",
   "metadata": {},
   "source": [
    "### Вывод по второй гипотезе \n",
    "\n",
    "Зависимость между вероятностью оплаты вопросов, и количеством обучений, которые начинал или завершал пользователь, не выявлена, также было отмечено другой важные факты. \n",
    "Пользователи прошедшие или просто начавшие обучение, делают покупку с сильно большой вероятностью, но следующее знакомство с обучением кроме первого, влияет на покупку скорей случайно. Вывод из этого, что стоит более настойчиво предлагать пользователям эго пройти сразу после регистрации."
   ]
  },
  {
   "cell_type": "markdown",
   "metadata": {},
   "source": [
    "<div class=\"alert alert-block alert-warning\">\n",
    "    \n",
    "\n",
    "### Комментарий\n",
    "Отлично, что вам удалось справиться со второй гипотезой и визуализацией к ней! Отдельный плюс, что вы рассмотрели конверсии как для тех кто просто начал обучение, так и кто его завершил.   \n",
    "    \n",
    "Вы делаете вывод: \"стоит более настойчиво предлагать пользователям эго пройти сразу после регистрации.\" - если посмотреть внимательно в данные, то у нас большая доля пользователей, которые не совершали никаких действий после регистрации. Скорее всего мы привлекли нецелевую аудиторию, данные которых влияет на наш анализ (существенно уменьшает конверсию не прошедших обучение). Стоит отметить данный факт и сделать его более детальный анализ.\n",
    "\n",
    "</div>"
   ]
  },
  {
   "cell_type": "markdown",
   "metadata": {},
   "source": [
    "### Как часто пользователи начинают обучение после того, как они выбрали уровень сложности?"
   ]
  },
  {
   "cell_type": "code",
   "execution_count": 32,
   "metadata": {},
   "outputs": [],
   "source": [
    "# получение списка с путями пользователей\n",
    "user_path_df = total_events_df.groupby(['user_id'])['event_type'].apply(list).reset_index()"
   ]
  },
  {
   "cell_type": "code",
   "execution_count": 33,
   "metadata": {},
   "outputs": [],
   "source": [
    "# всего пользователей \n",
    "tot = total_events_df['user_id'].nunique()"
   ]
  },
  {
   "cell_type": "code",
   "execution_count": 34,
   "metadata": {},
   "outputs": [],
   "source": [
    "# получение ответа на вопрос чрез универсальный код\n",
    "def hg(x=0):\n",
    "    count_tut_aft_lvl_choi = 0\n",
    "    for i in range(len(user_path_df)):\n",
    "        if 'level_choice' in user_path_df['event_type'][i]:\n",
    "            ind = user_path_df['event_type'][i].index('level_choice')\n",
    "            for g in user_path_df['event_type'][i][ind:]:\n",
    "                if g == 'tutorial_start':\n",
    "                    count_tut_aft_lvl_choi += 1\n",
    "                    if x == 1: # использование функции повторно\n",
    "                        break\n",
    "    return count_tut_aft_lvl_choi"
   ]
  },
  {
   "cell_type": "markdown",
   "metadata": {},
   "source": [
    "#### Числовые выводы по дополнительному вопросу"
   ]
  },
  {
   "cell_type": "code",
   "execution_count": 35,
   "metadata": {},
   "outputs": [
    {
     "name": "stdout",
     "output_type": "stream",
     "text": [
      "Число пользователей начавших обучение повторно 1386 и количество обучений после выбора уровня сложности 2792\n",
      "Процент пользователей начавших обучение после выбора сложности 6.96%\n",
      "Среднее число повторений обучения после выбора сложности 2.01 (для проходивших эго несколько раз)\n"
     ]
    }
   ],
   "source": [
    "# вывод \n",
    "print('Число пользователей начавших обучение повторно {} и количество обучений после выбора уровня сложности {}'\n",
    "      .format(hg(x=1),hg()))\n",
    "print('Процент пользователей начавших обучение после выбора сложности {:.2%}'.format(hg(x=1)/tot))\n",
    "print('Среднее число повторений обучения после выбора сложности {:.2f} (для проходивших эго несколько раз)'.format(hg()/hg(x=1)))"
   ]
  },
  {
   "cell_type": "markdown",
   "metadata": {},
   "source": [
    "### Вывод по дополнительному вопросу\n",
    "\n",
    "Около 7 процентов пользователей проходят обучение повторно, и делают в среднем 2 обучения после выбора уровня сложности. Обучение в игре выполняет свою функцию, процент не чересчур большой. А значит, срочных мер по исправлению этой части приложения сейчас не нужно. Но улучшить результат было бы хорошим планом на развитие проекта."
   ]
  },
  {
   "cell_type": "markdown",
   "metadata": {},
   "source": [
    "<div class=\"alert alert-block alert-warning\">\n",
    "    \n",
    "\n",
    "### Комментарий\n",
    "Хороший код, даны комментарии по ходу работы, ответы на все поставленные вопросы. Можно было бы в конце работы сделать выводы по всей работе.  \n",
    "<br/> Хорошая работа, успехов в дальнейшем обучении!🙂\n",
    "\n",
    "</div>"
   ]
  },
  {
   "cell_type": "code",
   "execution_count": null,
   "metadata": {},
   "outputs": [],
   "source": []
  }
 ],
 "metadata": {
  "kernelspec": {
   "display_name": "Python 3",
   "language": "python",
   "name": "python3"
  },
  "language_info": {
   "codemirror_mode": {
    "name": "ipython",
    "version": 3
   },
   "file_extension": ".py",
   "mimetype": "text/x-python",
   "name": "python",
   "nbconvert_exporter": "python",
   "pygments_lexer": "ipython3",
   "version": "3.8.8"
  }
 },
 "nbformat": 4,
 "nbformat_minor": 4
}
