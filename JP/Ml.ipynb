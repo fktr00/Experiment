{
 "cells": [
  {
   "cell_type": "code",
   "execution_count": 2,
   "id": "c5c824bd",
   "metadata": {},
   "outputs": [],
   "source": [
    "import numpy as np\n",
    "import pandas as pd"
   ]
  },
  {
   "cell_type": "code",
   "execution_count": 2,
   "id": "497e801c",
   "metadata": {},
   "outputs": [
    {
     "data": {
      "text/html": [
       "<div>\n",
       "<style scoped>\n",
       "    .dataframe tbody tr th:only-of-type {\n",
       "        vertical-align: middle;\n",
       "    }\n",
       "\n",
       "    .dataframe tbody tr th {\n",
       "        vertical-align: top;\n",
       "    }\n",
       "\n",
       "    .dataframe thead th {\n",
       "        text-align: right;\n",
       "    }\n",
       "</style>\n",
       "<table border=\"1\" class=\"dataframe\">\n",
       "  <thead>\n",
       "    <tr style=\"text-align: right;\">\n",
       "      <th></th>\n",
       "      <th>id</th>\n",
       "      <th>full_sq</th>\n",
       "      <th>life_sq</th>\n",
       "      <th>floor</th>\n",
       "      <th>sub_area</th>\n",
       "      <th>preschool_quota</th>\n",
       "      <th>preschool_education_centers_raion</th>\n",
       "      <th>school_quota</th>\n",
       "      <th>school_education_centers_raion</th>\n",
       "      <th>school_education_centers_top_20_raion</th>\n",
       "      <th>...</th>\n",
       "      <th>shopping_centers_km</th>\n",
       "      <th>office_km</th>\n",
       "      <th>additional_education_km</th>\n",
       "      <th>preschool_km</th>\n",
       "      <th>big_church_km</th>\n",
       "      <th>church_synagogue_km</th>\n",
       "      <th>theater_km</th>\n",
       "      <th>museum_km</th>\n",
       "      <th>ecology</th>\n",
       "      <th>price_doc</th>\n",
       "    </tr>\n",
       "  </thead>\n",
       "  <tbody>\n",
       "    <tr>\n",
       "      <th>0</th>\n",
       "      <td>1</td>\n",
       "      <td>43</td>\n",
       "      <td>27.0</td>\n",
       "      <td>4.0</td>\n",
       "      <td>Bibirevo</td>\n",
       "      <td>5001.0</td>\n",
       "      <td>5</td>\n",
       "      <td>11065.0</td>\n",
       "      <td>5</td>\n",
       "      <td>0</td>\n",
       "      <td>...</td>\n",
       "      <td>0.648488</td>\n",
       "      <td>0.637189</td>\n",
       "      <td>0.947962</td>\n",
       "      <td>0.177975</td>\n",
       "      <td>0.625783</td>\n",
       "      <td>0.628187</td>\n",
       "      <td>14.053047</td>\n",
       "      <td>7.389498</td>\n",
       "      <td>good</td>\n",
       "      <td>5850000</td>\n",
       "    </tr>\n",
       "    <tr>\n",
       "      <th>1</th>\n",
       "      <td>2</td>\n",
       "      <td>34</td>\n",
       "      <td>19.0</td>\n",
       "      <td>3.0</td>\n",
       "      <td>Nagatinskij Zaton</td>\n",
       "      <td>3119.0</td>\n",
       "      <td>5</td>\n",
       "      <td>6237.0</td>\n",
       "      <td>8</td>\n",
       "      <td>0</td>\n",
       "      <td>...</td>\n",
       "      <td>0.519311</td>\n",
       "      <td>0.688796</td>\n",
       "      <td>1.072315</td>\n",
       "      <td>0.273345</td>\n",
       "      <td>0.967821</td>\n",
       "      <td>0.471447</td>\n",
       "      <td>6.829889</td>\n",
       "      <td>0.709260</td>\n",
       "      <td>excellent</td>\n",
       "      <td>6000000</td>\n",
       "    </tr>\n",
       "    <tr>\n",
       "      <th>2</th>\n",
       "      <td>3</td>\n",
       "      <td>43</td>\n",
       "      <td>29.0</td>\n",
       "      <td>2.0</td>\n",
       "      <td>Tekstil'shhiki</td>\n",
       "      <td>1463.0</td>\n",
       "      <td>4</td>\n",
       "      <td>5580.0</td>\n",
       "      <td>7</td>\n",
       "      <td>0</td>\n",
       "      <td>...</td>\n",
       "      <td>1.486533</td>\n",
       "      <td>1.543049</td>\n",
       "      <td>0.391957</td>\n",
       "      <td>0.158072</td>\n",
       "      <td>3.178751</td>\n",
       "      <td>0.755946</td>\n",
       "      <td>4.273200</td>\n",
       "      <td>3.156423</td>\n",
       "      <td>poor</td>\n",
       "      <td>5700000</td>\n",
       "    </tr>\n",
       "    <tr>\n",
       "      <th>3</th>\n",
       "      <td>4</td>\n",
       "      <td>89</td>\n",
       "      <td>50.0</td>\n",
       "      <td>9.0</td>\n",
       "      <td>Mitino</td>\n",
       "      <td>6839.0</td>\n",
       "      <td>9</td>\n",
       "      <td>17063.0</td>\n",
       "      <td>10</td>\n",
       "      <td>0</td>\n",
       "      <td>...</td>\n",
       "      <td>0.599914</td>\n",
       "      <td>0.934273</td>\n",
       "      <td>0.892674</td>\n",
       "      <td>0.236455</td>\n",
       "      <td>1.031777</td>\n",
       "      <td>1.561505</td>\n",
       "      <td>16.990677</td>\n",
       "      <td>16.041521</td>\n",
       "      <td>good</td>\n",
       "      <td>13100000</td>\n",
       "    </tr>\n",
       "    <tr>\n",
       "      <th>4</th>\n",
       "      <td>5</td>\n",
       "      <td>77</td>\n",
       "      <td>77.0</td>\n",
       "      <td>4.0</td>\n",
       "      <td>Basmannoe</td>\n",
       "      <td>3240.0</td>\n",
       "      <td>7</td>\n",
       "      <td>7770.0</td>\n",
       "      <td>9</td>\n",
       "      <td>0</td>\n",
       "      <td>...</td>\n",
       "      <td>0.429052</td>\n",
       "      <td>0.077901</td>\n",
       "      <td>0.810801</td>\n",
       "      <td>0.376838</td>\n",
       "      <td>0.378756</td>\n",
       "      <td>0.121681</td>\n",
       "      <td>1.112486</td>\n",
       "      <td>1.800125</td>\n",
       "      <td>excellent</td>\n",
       "      <td>16331452</td>\n",
       "    </tr>\n",
       "  </tbody>\n",
       "</table>\n",
       "<p>5 rows × 56 columns</p>\n",
       "</div>"
      ],
      "text/plain": [
       "   id  full_sq  life_sq  floor           sub_area  preschool_quota  \\\n",
       "0   1       43     27.0    4.0           Bibirevo           5001.0   \n",
       "1   2       34     19.0    3.0  Nagatinskij Zaton           3119.0   \n",
       "2   3       43     29.0    2.0     Tekstil'shhiki           1463.0   \n",
       "3   4       89     50.0    9.0             Mitino           6839.0   \n",
       "4   5       77     77.0    4.0          Basmannoe           3240.0   \n",
       "\n",
       "   preschool_education_centers_raion  school_quota  \\\n",
       "0                                  5       11065.0   \n",
       "1                                  5        6237.0   \n",
       "2                                  4        5580.0   \n",
       "3                                  9       17063.0   \n",
       "4                                  7        7770.0   \n",
       "\n",
       "   school_education_centers_raion  school_education_centers_top_20_raion  ...  \\\n",
       "0                               5                                      0  ...   \n",
       "1                               8                                      0  ...   \n",
       "2                               7                                      0  ...   \n",
       "3                              10                                      0  ...   \n",
       "4                               9                                      0  ...   \n",
       "\n",
       "   shopping_centers_km  office_km  additional_education_km  preschool_km  \\\n",
       "0             0.648488   0.637189                 0.947962      0.177975   \n",
       "1             0.519311   0.688796                 1.072315      0.273345   \n",
       "2             1.486533   1.543049                 0.391957      0.158072   \n",
       "3             0.599914   0.934273                 0.892674      0.236455   \n",
       "4             0.429052   0.077901                 0.810801      0.376838   \n",
       "\n",
       "   big_church_km  church_synagogue_km  theater_km  museum_km    ecology  \\\n",
       "0       0.625783             0.628187   14.053047   7.389498       good   \n",
       "1       0.967821             0.471447    6.829889   0.709260  excellent   \n",
       "2       3.178751             0.755946    4.273200   3.156423       poor   \n",
       "3       1.031777             1.561505   16.990677  16.041521       good   \n",
       "4       0.378756             0.121681    1.112486   1.800125  excellent   \n",
       "\n",
       "   price_doc  \n",
       "0    5850000  \n",
       "1    6000000  \n",
       "2    5700000  \n",
       "3   13100000  \n",
       "4   16331452  \n",
       "\n",
       "[5 rows x 56 columns]"
      ]
     },
     "execution_count": 2,
     "metadata": {},
     "output_type": "execute_result"
    }
   ],
   "source": [
    "data = pd.read_csv('data_flats.csv',sep=\";\")\n",
    "data.head()"
   ]
  },
  {
   "cell_type": "code",
   "execution_count": 4,
   "id": "ec947c80",
   "metadata": {},
   "outputs": [
    {
     "name": "stdout",
     "output_type": "stream",
     "text": [
      "<class 'pandas.core.frame.DataFrame'>\n",
      "RangeIndex: 30469 entries, 0 to 30468\n",
      "Data columns (total 56 columns):\n",
      " #   Column                                 Non-Null Count  Dtype  \n",
      "---  ------                                 --------------  -----  \n",
      " 0   id                                     30469 non-null  int64  \n",
      " 1   full_sq                                30469 non-null  int64  \n",
      " 2   life_sq                                24086 non-null  float64\n",
      " 3   floor                                  30302 non-null  float64\n",
      " 4   sub_area                               30469 non-null  object \n",
      " 5   preschool_quota                        23781 non-null  float64\n",
      " 6   preschool_education_centers_raion      30469 non-null  int64  \n",
      " 7   school_quota                           23784 non-null  float64\n",
      " 8   school_education_centers_raion         30469 non-null  int64  \n",
      " 9   school_education_centers_top_20_raion  30469 non-null  int64  \n",
      " 10  hospital_beds_raion                    16029 non-null  float64\n",
      " 11  healthcare_centers_raion               30469 non-null  int64  \n",
      " 12  university_top_20_raion                30469 non-null  int64  \n",
      " 13  sport_objects_raion                    30469 non-null  int64  \n",
      " 14  additional_education_raion             30469 non-null  int64  \n",
      " 15  culture_objects_top_25_raion           30469 non-null  int64  \n",
      " 16  shopping_centers_raion                 30469 non-null  int64  \n",
      " 17  office_raion                           30469 non-null  int64  \n",
      " 18  metro_min_avto                         30469 non-null  float64\n",
      " 19  metro_km_avto                          30469 non-null  float64\n",
      " 20  metro_min_walk                         30444 non-null  float64\n",
      " 21  metro_km_walk                          30444 non-null  float64\n",
      " 22  kindergarten_km                        30469 non-null  float64\n",
      " 23  school_km                              30469 non-null  float64\n",
      " 24  park_km                                30469 non-null  float64\n",
      " 25  green_zone_km                          30469 non-null  float64\n",
      " 26  industrial_km                          30469 non-null  float64\n",
      " 27  railroad_station_walk_km               30444 non-null  float64\n",
      " 28  railroad_station_walk_min              30444 non-null  float64\n",
      " 29  public_transport_station_km            30469 non-null  float64\n",
      " 30  public_transport_station_min_walk      30469 non-null  float64\n",
      " 31  mkad_km                                30469 non-null  float64\n",
      " 32  ttk_km                                 30469 non-null  float64\n",
      " 33  sadovoe_km                             30469 non-null  float64\n",
      " 34  bulvar_ring_km                         30469 non-null  float64\n",
      " 35  kremlin_km                             30469 non-null  float64\n",
      " 36  big_market_km                          30469 non-null  float64\n",
      " 37  market_shop_km                         30469 non-null  float64\n",
      " 38  fitness_km                             30469 non-null  float64\n",
      " 39  swim_pool_km                           30469 non-null  float64\n",
      " 40  ice_rink_km                            30469 non-null  float64\n",
      " 41  stadium_km                             30469 non-null  float64\n",
      " 42  basketball_km                          30469 non-null  float64\n",
      " 43  hospice_morgue_km                      30469 non-null  float64\n",
      " 44  university_km                          30469 non-null  float64\n",
      " 45  workplaces_km                          30469 non-null  float64\n",
      " 46  shopping_centers_km                    30469 non-null  float64\n",
      " 47  office_km                              30469 non-null  float64\n",
      " 48  additional_education_km                30469 non-null  float64\n",
      " 49  preschool_km                           30469 non-null  float64\n",
      " 50  big_church_km                          30469 non-null  float64\n",
      " 51  church_synagogue_km                    30469 non-null  float64\n",
      " 52  theater_km                             30469 non-null  float64\n",
      " 53  museum_km                              30469 non-null  float64\n",
      " 54  ecology                                30469 non-null  object \n",
      " 55  price_doc                              30469 non-null  int64  \n",
      "dtypes: float64(41), int64(13), object(2)\n",
      "memory usage: 13.0+ MB\n"
     ]
    }
   ],
   "source": [
    "data.info()\n"
   ]
  },
  {
   "cell_type": "code",
   "execution_count": null,
   "id": "f578e7b4",
   "metadata": {},
   "outputs": [],
   "source": []
  },
  {
   "cell_type": "code",
   "execution_count": 130,
   "id": "bb96493f",
   "metadata": {
    "scrolled": true
   },
   "outputs": [
    {
     "name": "stdout",
     "output_type": "stream",
     "text": [
      "<class 'pandas.core.frame.DataFrame'>\n",
      "Int64Index: 13652 entries, 0 to 30468\n",
      "Data columns (total 56 columns):\n",
      " #   Column                                 Non-Null Count  Dtype  \n",
      "---  ------                                 --------------  -----  \n",
      " 0   id                                     13652 non-null  int64  \n",
      " 1   full_sq                                13652 non-null  int64  \n",
      " 2   life_sq                                13652 non-null  float64\n",
      " 3   floor                                  13652 non-null  float64\n",
      " 4   sub_area                               13652 non-null  object \n",
      " 5   preschool_quota                        13652 non-null  float64\n",
      " 6   preschool_education_centers_raion      13652 non-null  int64  \n",
      " 7   school_quota                           13652 non-null  float64\n",
      " 8   school_education_centers_raion         13652 non-null  int64  \n",
      " 9   school_education_centers_top_20_raion  13652 non-null  int64  \n",
      " 10  hospital_beds_raion                    13652 non-null  float64\n",
      " 11  healthcare_centers_raion               13652 non-null  int64  \n",
      " 12  university_top_20_raion                13652 non-null  int64  \n",
      " 13  sport_objects_raion                    13652 non-null  int64  \n",
      " 14  additional_education_raion             13652 non-null  int64  \n",
      " 15  culture_objects_top_25_raion           13652 non-null  int64  \n",
      " 16  shopping_centers_raion                 13652 non-null  int64  \n",
      " 17  office_raion                           13652 non-null  int64  \n",
      " 18  metro_min_avto                         13652 non-null  float64\n",
      " 19  metro_km_avto                          13652 non-null  float64\n",
      " 20  metro_min_walk                         13652 non-null  float64\n",
      " 21  metro_km_walk                          13652 non-null  float64\n",
      " 22  kindergarten_km                        13652 non-null  float64\n",
      " 23  school_km                              13652 non-null  float64\n",
      " 24  park_km                                13652 non-null  float64\n",
      " 25  green_zone_km                          13652 non-null  float64\n",
      " 26  industrial_km                          13652 non-null  float64\n",
      " 27  railroad_station_walk_km               13652 non-null  float64\n",
      " 28  railroad_station_walk_min              13652 non-null  float64\n",
      " 29  public_transport_station_km            13652 non-null  float64\n",
      " 30  public_transport_station_min_walk      13652 non-null  float64\n",
      " 31  mkad_km                                13652 non-null  float64\n",
      " 32  ttk_km                                 13652 non-null  float64\n",
      " 33  sadovoe_km                             13652 non-null  float64\n",
      " 34  bulvar_ring_km                         13652 non-null  float64\n",
      " 35  kremlin_km                             13652 non-null  float64\n",
      " 36  big_market_km                          13652 non-null  float64\n",
      " 37  market_shop_km                         13652 non-null  float64\n",
      " 38  fitness_km                             13652 non-null  float64\n",
      " 39  swim_pool_km                           13652 non-null  float64\n",
      " 40  ice_rink_km                            13652 non-null  float64\n",
      " 41  stadium_km                             13652 non-null  float64\n",
      " 42  basketball_km                          13652 non-null  float64\n",
      " 43  hospice_morgue_km                      13652 non-null  float64\n",
      " 44  university_km                          13652 non-null  float64\n",
      " 45  workplaces_km                          13652 non-null  float64\n",
      " 46  shopping_centers_km                    13652 non-null  float64\n",
      " 47  office_km                              13652 non-null  float64\n",
      " 48  additional_education_km                13652 non-null  float64\n",
      " 49  preschool_km                           13652 non-null  float64\n",
      " 50  big_church_km                          13652 non-null  float64\n",
      " 51  church_synagogue_km                    13652 non-null  float64\n",
      " 52  theater_km                             13652 non-null  float64\n",
      " 53  museum_km                              13652 non-null  float64\n",
      " 54  ecology                                13652 non-null  object \n",
      " 55  price_doc                              13652 non-null  int64  \n",
      "dtypes: float64(41), int64(13), object(2)\n",
      "memory usage: 5.9+ MB\n"
     ]
    }
   ],
   "source": [
    "data = data.dropna()\n",
    "data.info()"
   ]
  },
  {
   "cell_type": "code",
   "execution_count": 3,
   "id": "dccf07af",
   "metadata": {},
   "outputs": [],
   "source": [
    "eria = ['Lefortovo','Perovo','Basmannoe','Bogorodskoe']\n",
    "b = data[data.sub_area.isin(eria)][['sub_area','price_doc']]"
   ]
  },
  {
   "cell_type": "code",
   "execution_count": 139,
   "id": "6167e57a",
   "metadata": {
    "scrolled": true
   },
   "outputs": [
    {
     "data": {
      "text/plain": [
       "['Nekrasovka',\n",
       " 'Krjukovo',\n",
       " 'Tverskoe',\n",
       " 'Solncevo',\n",
       " 'Ljublino',\n",
       " \"Gol'janovo\",\n",
       " 'Nagatinskij Zaton',\n",
       " 'Vyhino-Zhulebino',\n",
       " 'Birjulevo Vostochnoe',\n",
       " 'Izmajlovo',\n",
       " 'Zjuzino',\n",
       " 'Horoshevo-Mnevniki',\n",
       " 'Perovo',\n",
       " 'Severnoe Tushino',\n",
       " 'Zapadnoe Degunino',\n",
       " 'Ochakovo-Matveevskoe',\n",
       " 'Jasenevo',\n",
       " 'Bibirevo',\n",
       " \"Kon'kovo\",\n",
       " 'Golovinskoe',\n",
       " 'Caricyno',\n",
       " \"Tekstil'shhiki\",\n",
       " 'Akademicheskoe',\n",
       " 'Veshnjaki',\n",
       " 'Ramenki',\n",
       " 'Koptevo',\n",
       " 'Novogireevo',\n",
       " 'Mozhajskoe',\n",
       " 'Pechatniki',\n",
       " 'Sokolinaja Gora',\n",
       " 'Presnenskoe',\n",
       " 'Kuncevo',\n",
       " 'Danilovskoe',\n",
       " 'Severnoe Butovo',\n",
       " 'Hovrino',\n",
       " 'Dmitrovskoe',\n",
       " 'Taganskoe',\n",
       " 'Losinoostrovskoe',\n",
       " 'Beskudnikovskoe',\n",
       " 'Cheremushki',\n",
       " 'Vostochnoe Izmajlovo',\n",
       " 'Shhukino',\n",
       " 'Preobrazhenskoe',\n",
       " 'Nagatino-Sadovniki',\n",
       " 'Obruchevskoe',\n",
       " 'Filevskij Park',\n",
       " 'Novo-Peredelkino',\n",
       " 'Timirjazevskoe',\n",
       " 'Juzhnoe Medvedkovo',\n",
       " 'Lomonosovskoe',\n",
       " 'Pokrovskoe Streshnevo',\n",
       " 'Zjablikovo',\n",
       " 'Juzhnoportovoe',\n",
       " 'Ajeroport',\n",
       " 'Levoberezhnoe',\n",
       " 'Jaroslavskoe',\n",
       " 'Donskoe',\n",
       " 'Babushkinskoe',\n",
       " 'Lefortovo',\n",
       " 'Sviblovo',\n",
       " 'Savelki',\n",
       " \"Mar'ina Roshha\",\n",
       " \"Moskvorech'e-Saburovo\",\n",
       " 'Basmannoe',\n",
       " 'Alekseevskoe',\n",
       " 'Prospekt Vernadskogo',\n",
       " 'Meshhanskoe',\n",
       " 'Hamovniki',\n",
       " 'Savelovskoe',\n",
       " 'Ostankinskoe',\n",
       " 'Jakimanka',\n",
       " 'Sokol',\n",
       " 'Rostokino',\n",
       " 'Kurkino',\n",
       " \"Sokol'niki\",\n",
       " 'Begovoe',\n",
       " 'Metrogorodok',\n",
       " \"Zamoskvorech'e\",\n",
       " 'Vnukovo',\n",
       " 'Kapotnja',\n",
       " 'Severnoe',\n",
       " 'Arbat',\n",
       " 'Vostochnoe']"
      ]
     },
     "execution_count": 139,
     "metadata": {},
     "output_type": "execute_result"
    }
   ],
   "source": [
    "list(data.sub_area.value_counts().keys())"
   ]
  },
  {
   "cell_type": "code",
   "execution_count": 141,
   "id": "39d3bd73",
   "metadata": {},
   "outputs": [
    {
     "data": {
      "text/html": [
       "<div>\n",
       "<style scoped>\n",
       "    .dataframe tbody tr th:only-of-type {\n",
       "        vertical-align: middle;\n",
       "    }\n",
       "\n",
       "    .dataframe tbody tr th {\n",
       "        vertical-align: top;\n",
       "    }\n",
       "\n",
       "    .dataframe thead th {\n",
       "        text-align: right;\n",
       "    }\n",
       "</style>\n",
       "<table border=\"1\" class=\"dataframe\">\n",
       "  <thead>\n",
       "    <tr style=\"text-align: right;\">\n",
       "      <th></th>\n",
       "      <th>sub_area</th>\n",
       "    </tr>\n",
       "  </thead>\n",
       "  <tbody>\n",
       "    <tr>\n",
       "      <th>Bogorodskoe</th>\n",
       "      <td>305</td>\n",
       "    </tr>\n",
       "    <tr>\n",
       "      <th>Perovo</th>\n",
       "      <td>247</td>\n",
       "    </tr>\n",
       "    <tr>\n",
       "      <th>Lefortovo</th>\n",
       "      <td>119</td>\n",
       "    </tr>\n",
       "    <tr>\n",
       "      <th>Basmannoe</th>\n",
       "      <td>98</td>\n",
       "    </tr>\n",
       "  </tbody>\n",
       "</table>\n",
       "</div>"
      ],
      "text/plain": [
       "             sub_area\n",
       "Bogorodskoe       305\n",
       "Perovo            247\n",
       "Lefortovo         119\n",
       "Basmannoe          98"
      ]
     },
     "execution_count": 141,
     "metadata": {},
     "output_type": "execute_result"
    }
   ],
   "source": [
    "\n",
    "b = pd.DataFrame(data[data.sub_area.isin(eria)].sub_area.value_counts())\n",
    "b"
   ]
  },
  {
   "cell_type": "code",
   "execution_count": 11,
   "id": "84fe0086",
   "metadata": {},
   "outputs": [
    {
     "data": {
      "text/plain": [
       "<AxesSubplot:xlabel='sub_area', ylabel='price_doc'>"
      ]
     },
     "execution_count": 11,
     "metadata": {},
     "output_type": "execute_result"
    },
    {
     "data": {
      "image/png": "[encoded data removed]",
      "text/plain": [
       "<Figure size 1440x1440 with 1 Axes>"
      ]
     },
     "metadata": {},
     "output_type": "display_data"
    }
   ],
   "source": [
    "import seaborn as sns\n",
    "df = sns.load_dataset('iris')\n",
    "sns.set(rc={'figure.figsize':(20, 20)})\n",
    "sns.boxplot( x=b[\"sub_area\"], y=b[\"price_doc\"] )"
   ]
  },
  {
   "cell_type": "code",
   "execution_count": null,
   "id": "bde6578c",
   "metadata": {},
   "outputs": [],
   "source": []
  },
  {
   "cell_type": "code",
   "execution_count": 5,
   "id": "e91fac1c",
   "metadata": {},
   "outputs": [],
   "source": [
    "test_data = pd.DataFrame([[1, 2, np.nan], [3, np.nan, 4],\n",
    "                          [0, 1, 2]], columns=['one', 'two', 'three'])"
   ]
  },
  {
   "cell_type": "code",
   "execution_count": 6,
   "id": "7d8bbb05",
   "metadata": {},
   "outputs": [
    {
     "data": {
      "text/html": [
       "<div>\n",
       "<style scoped>\n",
       "    .dataframe tbody tr th:only-of-type {\n",
       "        vertical-align: middle;\n",
       "    }\n",
       "\n",
       "    .dataframe tbody tr th {\n",
       "        vertical-align: top;\n",
       "    }\n",
       "\n",
       "    .dataframe thead th {\n",
       "        text-align: right;\n",
       "    }\n",
       "</style>\n",
       "<table border=\"1\" class=\"dataframe\">\n",
       "  <thead>\n",
       "    <tr style=\"text-align: right;\">\n",
       "      <th></th>\n",
       "      <th>one</th>\n",
       "      <th>two</th>\n",
       "      <th>three</th>\n",
       "    </tr>\n",
       "  </thead>\n",
       "  <tbody>\n",
       "    <tr>\n",
       "      <th>0</th>\n",
       "      <td>False</td>\n",
       "      <td>False</td>\n",
       "      <td>True</td>\n",
       "    </tr>\n",
       "    <tr>\n",
       "      <th>1</th>\n",
       "      <td>False</td>\n",
       "      <td>True</td>\n",
       "      <td>False</td>\n",
       "    </tr>\n",
       "    <tr>\n",
       "      <th>2</th>\n",
       "      <td>False</td>\n",
       "      <td>False</td>\n",
       "      <td>False</td>\n",
       "    </tr>\n",
       "  </tbody>\n",
       "</table>\n",
       "</div>"
      ],
      "text/plain": [
       "     one    two  three\n",
       "0  False  False   True\n",
       "1  False   True  False\n",
       "2  False  False  False"
      ]
     },
     "execution_count": 6,
     "metadata": {},
     "output_type": "execute_result"
    }
   ],
   "source": [
    "test_data.isna()"
   ]
  },
  {
   "cell_type": "code",
   "execution_count": 7,
   "id": "0d338cd7",
   "metadata": {},
   "outputs": [
    {
     "data": {
      "text/html": [
       "<div>\n",
       "<style scoped>\n",
       "    .dataframe tbody tr th:only-of-type {\n",
       "        vertical-align: middle;\n",
       "    }\n",
       "\n",
       "    .dataframe tbody tr th {\n",
       "        vertical-align: top;\n",
       "    }\n",
       "\n",
       "    .dataframe thead th {\n",
       "        text-align: right;\n",
       "    }\n",
       "</style>\n",
       "<table border=\"1\" class=\"dataframe\">\n",
       "  <thead>\n",
       "    <tr style=\"text-align: right;\">\n",
       "      <th></th>\n",
       "      <th>one</th>\n",
       "      <th>two</th>\n",
       "      <th>three</th>\n",
       "    </tr>\n",
       "  </thead>\n",
       "  <tbody>\n",
       "    <tr>\n",
       "      <th>2</th>\n",
       "      <td>0</td>\n",
       "      <td>1.0</td>\n",
       "      <td>2.0</td>\n",
       "    </tr>\n",
       "  </tbody>\n",
       "</table>\n",
       "</div>"
      ],
      "text/plain": [
       "   one  two  three\n",
       "2    0  1.0    2.0"
      ]
     },
     "execution_count": 7,
     "metadata": {},
     "output_type": "execute_result"
    }
   ],
   "source": [
    "test_data.dropna(axis=0)"
   ]
  },
  {
   "cell_type": "code",
   "execution_count": 8,
   "id": "15d6df4e",
   "metadata": {},
   "outputs": [
    {
     "data": {
      "text/html": [
       "<div>\n",
       "<style scoped>\n",
       "    .dataframe tbody tr th:only-of-type {\n",
       "        vertical-align: middle;\n",
       "    }\n",
       "\n",
       "    .dataframe tbody tr th {\n",
       "        vertical-align: top;\n",
       "    }\n",
       "\n",
       "    .dataframe thead th {\n",
       "        text-align: right;\n",
       "    }\n",
       "</style>\n",
       "<table border=\"1\" class=\"dataframe\">\n",
       "  <thead>\n",
       "    <tr style=\"text-align: right;\">\n",
       "      <th></th>\n",
       "      <th>one</th>\n",
       "      <th>two</th>\n",
       "      <th>three</th>\n",
       "    </tr>\n",
       "  </thead>\n",
       "  <tbody>\n",
       "    <tr>\n",
       "      <th>0</th>\n",
       "      <td>1</td>\n",
       "      <td>2.0</td>\n",
       "      <td>-1.0</td>\n",
       "    </tr>\n",
       "    <tr>\n",
       "      <th>1</th>\n",
       "      <td>3</td>\n",
       "      <td>-1.0</td>\n",
       "      <td>4.0</td>\n",
       "    </tr>\n",
       "    <tr>\n",
       "      <th>2</th>\n",
       "      <td>0</td>\n",
       "      <td>1.0</td>\n",
       "      <td>2.0</td>\n",
       "    </tr>\n",
       "  </tbody>\n",
       "</table>\n",
       "</div>"
      ],
      "text/plain": [
       "   one  two  three\n",
       "0    1  2.0   -1.0\n",
       "1    3 -1.0    4.0\n",
       "2    0  1.0    2.0"
      ]
     },
     "execution_count": 8,
     "metadata": {},
     "output_type": "execute_result"
    }
   ],
   "source": [
    "test_data.fillna(-1)"
   ]
  },
  {
   "cell_type": "code",
   "execution_count": 55,
   "id": "abeb6b22",
   "metadata": {},
   "outputs": [],
   "source": [
    "vis_data = pd.read_csv(\"train.csv\", encoding = 'ISO-8859-1', low_memory = False)"
   ]
  },
  {
   "cell_type": "code",
   "execution_count": 38,
   "id": "bfc3bed9",
   "metadata": {},
   "outputs": [
    {
     "data": {
      "text/plain": [
       "Index(['ticket_id', 'agency_name', 'inspector_name', 'violator_name',\n",
       "       'violation_street_number', 'violation_street_name',\n",
       "       'violation_zip_code', 'mailing_address_str_number',\n",
       "       'mailing_address_str_name', 'city', 'state', 'zip_code',\n",
       "       'non_us_str_code', 'country', 'ticket_issued_date', 'hearing_date',\n",
       "       'violation_code', 'violation_description', 'disposition', 'fine_amount',\n",
       "       'admin_fee', 'state_fee', 'late_fee', 'discount_amount',\n",
       "       'clean_up_cost', 'judgment_amount', 'payment_amount', 'balance_due',\n",
       "       'payment_date', 'payment_status', 'collection_status',\n",
       "       'grafitti_status', 'compliance_detail', 'compliance'],\n",
       "      dtype='object')"
      ]
     },
     "execution_count": 38,
     "metadata": {},
     "output_type": "execute_result"
    }
   ],
   "source": [
    "vis_data.columns"
   ]
  },
  {
   "cell_type": "code",
   "execution_count": 27,
   "id": "a8d75fe7",
   "metadata": {},
   "outputs": [
    {
     "name": "stdout",
     "output_type": "stream",
     "text": [
      "<class 'pandas.core.frame.DataFrame'>\n",
      "RangeIndex: 250306 entries, 0 to 250305\n",
      "Data columns (total 34 columns):\n",
      " #   Column                      Non-Null Count   Dtype  \n",
      "---  ------                      --------------   -----  \n",
      " 0   ticket_id                   250306 non-null  int64  \n",
      " 1   agency_name                 250306 non-null  object \n",
      " 2   inspector_name              250306 non-null  object \n",
      " 3   violator_name               250272 non-null  object \n",
      " 4   violation_street_number     250306 non-null  float64\n",
      " 5   violation_street_name       250306 non-null  object \n",
      " 6   violation_zip_code          0 non-null       float64\n",
      " 7   mailing_address_str_number  246704 non-null  float64\n",
      " 8   mailing_address_str_name    250302 non-null  object \n",
      " 9   city                        250306 non-null  object \n",
      " 10  state                       250213 non-null  object \n",
      " 11  zip_code                    250305 non-null  object \n",
      " 12  non_us_str_code             3 non-null       object \n",
      " 13  country                     250306 non-null  object \n",
      " 14  ticket_issued_date          250306 non-null  object \n",
      " 15  hearing_date                237815 non-null  object \n",
      " 16  violation_code              250306 non-null  object \n",
      " 17  violation_description       250306 non-null  object \n",
      " 18  disposition                 250306 non-null  object \n",
      " 19  fine_amount                 250305 non-null  float64\n",
      " 20  admin_fee                   250306 non-null  float64\n",
      " 21  state_fee                   250306 non-null  float64\n",
      " 22  late_fee                    250306 non-null  float64\n",
      " 23  discount_amount             250306 non-null  float64\n",
      " 24  clean_up_cost               250306 non-null  float64\n",
      " 25  judgment_amount             250306 non-null  float64\n",
      " 26  payment_amount              250306 non-null  float64\n",
      " 27  balance_due                 250306 non-null  float64\n",
      " 28  payment_date                41113 non-null   object \n",
      " 29  payment_status              250306 non-null  object \n",
      " 30  collection_status           36897 non-null   object \n",
      " 31  grafitti_status             1 non-null       object \n",
      " 32  compliance_detail           250306 non-null  object \n",
      " 33  compliance                  159880 non-null  float64\n",
      "dtypes: float64(13), int64(1), object(20)\n",
      "memory usage: 64.9+ MB\n"
     ]
    }
   ],
   "source": [
    "vis_data.info()"
   ]
  },
  {
   "cell_type": "code",
   "execution_count": 28,
   "id": "22a972e3",
   "metadata": {},
   "outputs": [],
   "source": [
    "\n",
    "result = vis_data.fillna(vis_data['state'].mode())"
   ]
  },
  {
   "cell_type": "code",
   "execution_count": 31,
   "id": "4dad5d8e",
   "metadata": {
    "scrolled": true
   },
   "outputs": [
    {
     "data": {
      "text/plain": [
       "MI    228694\n",
       "CA      5020\n",
       "TX      2420\n",
       "FL      2237\n",
       "IL      1310\n",
       "SC      1304\n",
       "OH       967\n",
       "NY       673\n",
       "MN       632\n",
       "GA       535\n",
       "NV       484\n",
       "UT       477\n",
       "PA       466\n",
       "NJ       395\n",
       "VA       385\n",
       "NC       353\n",
       "MD       349\n",
       "AZ       329\n",
       "ME       261\n",
       "OK       248\n",
       "AL       215\n",
       "TN       207\n",
       "WA       192\n",
       "MA       182\n",
       "WI       159\n",
       "IA       159\n",
       "OR       153\n",
       "MO       151\n",
       "CO       147\n",
       "KY       146\n",
       "IN       106\n",
       "AR        82\n",
       "LA        81\n",
       "AK        79\n",
       "UK        77\n",
       "NB        77\n",
       "MS        64\n",
       "CT        60\n",
       "DC        58\n",
       "ON        51\n",
       "DE        50\n",
       "KS        37\n",
       "RI        35\n",
       "SD        33\n",
       "ID        33\n",
       "MT        28\n",
       "NM        21\n",
       "BC        17\n",
       "WY        12\n",
       "HI        10\n",
       "NH         9\n",
       "VT         7\n",
       "VI         6\n",
       "WV         6\n",
       "QC         5\n",
       "PR         5\n",
       "QL         3\n",
       "ND         2\n",
       "BL         2\n",
       "Name: state, dtype: int64"
      ]
     },
     "execution_count": 31,
     "metadata": {},
     "output_type": "execute_result"
    }
   ],
   "source": [
    "vis_data['state'].fillna(vis_data['state'].mode()[0]).value_counts()"
   ]
  },
  {
   "cell_type": "code",
   "execution_count": 39,
   "id": "2a2c7694",
   "metadata": {},
   "outputs": [
    {
     "data": {
      "text/plain": [
       "0         305.0\n",
       "1          75.0\n",
       "2           0.0\n",
       "3           0.0\n",
       "4           0.0\n",
       "          ...  \n",
       "250301      0.0\n",
       "250302      0.0\n",
       "250303      0.0\n",
       "250304      0.0\n",
       "250305      0.0\n",
       "Name: balance_due, Length: 250306, dtype: float64"
      ]
     },
     "execution_count": 39,
     "metadata": {},
     "output_type": "execute_result"
    }
   ],
   "source": [
    "vis_data.balance_due"
   ]
  },
  {
   "cell_type": "code",
   "execution_count": 73,
   "id": "7158074d",
   "metadata": {},
   "outputs": [
    {
     "data": {
      "text/plain": [
       "-13.147334652567258"
      ]
     },
     "execution_count": 73,
     "metadata": {},
     "output_type": "execute_result"
    }
   ],
   "source": [
    "from sklearn.preprocessing import StandardScaler\n",
    "scaler = StandardScaler()\n",
    "np.min(scaler.fit_transform(np.array(vis_data.balance_due,ndmin=2).T))"
   ]
  },
  {
   "cell_type": "code",
   "execution_count": 71,
   "id": "ab9364fb",
   "metadata": {},
   "outputs": [
    {
     "data": {
      "text/plain": [
       "array([[305.],\n",
       "       [ 75.],\n",
       "       [  0.],\n",
       "       ...,\n",
       "       [  0.],\n",
       "       [  0.],\n",
       "       [  0.]])"
      ]
     },
     "execution_count": 71,
     "metadata": {},
     "output_type": "execute_result"
    }
   ],
   "source": [
    "np.array(vis_data.balance_due,ndmin=2).T"
   ]
  },
  {
   "cell_type": "code",
   "execution_count": 66,
   "id": "acc30d6a",
   "metadata": {},
   "outputs": [
    {
     "data": {
      "text/plain": [
       "(250306,)"
      ]
     },
     "execution_count": 66,
     "metadata": {},
     "output_type": "execute_result"
    }
   ],
   "source": [
    "vis_data.balance_due.shape"
   ]
  },
  {
   "cell_type": "code",
   "execution_count": 74,
   "id": "3bfe50ee",
   "metadata": {},
   "outputs": [
    {
     "data": {
      "text/plain": [
       "<AxesSubplot:>"
      ]
     },
     "execution_count": 74,
     "metadata": {},
     "output_type": "execute_result"
    },
    {
     "data": {
      "image/png": "[encoded data removed]",
      "text/plain": [
       "<Figure size 432x288 with 1 Axes>"
      ]
     },
     "metadata": {
      "needs_background": "light"
     },
     "output_type": "display_data"
    }
   ],
   "source": [
    "np.log(vis_data.balance_due[vis_data.balance_due > 0]).hist()"
   ]
  },
  {
   "cell_type": "code",
   "execution_count": 75,
   "id": "87536fc1",
   "metadata": {},
   "outputs": [
    {
     "data": {
      "text/plain": [
       "<AxesSubplot:>"
      ]
     },
     "execution_count": 75,
     "metadata": {},
     "output_type": "execute_result"
    },
    {
     "data": {
      "image/png": "[encoded data removed]",
      "text/plain": [
       "<Figure size 432x288 with 1 Axes>"
      ]
     },
     "metadata": {
      "needs_background": "light"
     },
     "output_type": "display_data"
    }
   ],
   "source": [
    "np.sqrt(vis_data.balance_due[vis_data.balance_due > 0]).hist()"
   ]
  },
  {
   "cell_type": "code",
   "execution_count": 76,
   "id": "56acc50a",
   "metadata": {},
   "outputs": [
    {
     "data": {
      "text/html": [
       "<style  type=\"text/css\" >\n",
       "    #T_cac87_ th {\n",
       "          font-size: 7pt;\n",
       "    }    #T_cac87_ td {\n",
       "          padding: 0em 0em;\n",
       "    }    #T_cac87_ th:hover {\n",
       "          font-size: 12pt;\n",
       "    }    #T_cac87_ tr:hover td:hover {\n",
       "          max-width: 200px;\n",
       "          font-size: 12pt;\n",
       "    }#T_cac87_row0_col0,#T_cac87_row1_col1,#T_cac87_row1_col2,#T_cac87_row2_col1,#T_cac87_row2_col2,#T_cac87_row3_col3,#T_cac87_row4_col4,#T_cac87_row5_col5,#T_cac87_row6_col6{\n",
       "            background-color:  #4479bb;\n",
       "            color:  #000000;\n",
       "            max-width:  80px;\n",
       "            font-size:  10pt;\n",
       "        }#T_cac87_row0_col1,#T_cac87_row0_col2,#T_cac87_row1_col0,#T_cac87_row2_col0,#T_cac87_row3_col4,#T_cac87_row4_col0,#T_cac87_row4_col6,#T_cac87_row5_col0,#T_cac87_row6_col4{\n",
       "            background-color:  #d73c5b;\n",
       "            color:  #f1f1f1;\n",
       "            max-width:  80px;\n",
       "            font-size:  10pt;\n",
       "        }#T_cac87_row0_col3{\n",
       "            background-color:  #d94663;\n",
       "            color:  #f1f1f1;\n",
       "            max-width:  80px;\n",
       "            font-size:  10pt;\n",
       "        }#T_cac87_row0_col4{\n",
       "            background-color:  #d8415f;\n",
       "            color:  #f1f1f1;\n",
       "            max-width:  80px;\n",
       "            font-size:  10pt;\n",
       "        }#T_cac87_row0_col5{\n",
       "            background-color:  #d84462;\n",
       "            color:  #f1f1f1;\n",
       "            max-width:  80px;\n",
       "            font-size:  10pt;\n",
       "        }#T_cac87_row0_col6{\n",
       "            background-color:  #d94a67;\n",
       "            color:  #000000;\n",
       "            max-width:  80px;\n",
       "            font-size:  10pt;\n",
       "        }#T_cac87_row1_col3,#T_cac87_row2_col3{\n",
       "            background-color:  #e8adb8;\n",
       "            color:  #000000;\n",
       "            max-width:  80px;\n",
       "            font-size:  10pt;\n",
       "        }#T_cac87_row1_col4,#T_cac87_row2_col4{\n",
       "            background-color:  #db526e;\n",
       "            color:  #000000;\n",
       "            max-width:  80px;\n",
       "            font-size:  10pt;\n",
       "        }#T_cac87_row1_col5,#T_cac87_row2_col5{\n",
       "            background-color:  #eab9c3;\n",
       "            color:  #000000;\n",
       "            max-width:  80px;\n",
       "            font-size:  10pt;\n",
       "        }#T_cac87_row1_col6,#T_cac87_row2_col6{\n",
       "            background-color:  #e8aab6;\n",
       "            color:  #000000;\n",
       "            max-width:  80px;\n",
       "            font-size:  10pt;\n",
       "        }#T_cac87_row3_col0{\n",
       "            background-color:  #d83e5d;\n",
       "            color:  #f1f1f1;\n",
       "            max-width:  80px;\n",
       "            font-size:  10pt;\n",
       "        }#T_cac87_row3_col1,#T_cac87_row3_col2{\n",
       "            background-color:  #e7a7b4;\n",
       "            color:  #000000;\n",
       "            max-width:  80px;\n",
       "            font-size:  10pt;\n",
       "        }#T_cac87_row3_col5,#T_cac87_row5_col3{\n",
       "            background-color:  #477bbb;\n",
       "            color:  #000000;\n",
       "            max-width:  80px;\n",
       "            font-size:  10pt;\n",
       "        }#T_cac87_row3_col6{\n",
       "            background-color:  #5585c0;\n",
       "            color:  #000000;\n",
       "            max-width:  80px;\n",
       "            font-size:  10pt;\n",
       "        }#T_cac87_row4_col1,#T_cac87_row4_col2{\n",
       "            background-color:  #da4b68;\n",
       "            color:  #000000;\n",
       "            max-width:  80px;\n",
       "            font-size:  10pt;\n",
       "        }#T_cac87_row4_col3{\n",
       "            background-color:  #d73d5c;\n",
       "            color:  #f1f1f1;\n",
       "            max-width:  80px;\n",
       "            font-size:  10pt;\n",
       "        }#T_cac87_row4_col5{\n",
       "            background-color:  #da516c;\n",
       "            color:  #000000;\n",
       "            max-width:  80px;\n",
       "            font-size:  10pt;\n",
       "        }#T_cac87_row5_col1,#T_cac87_row5_col2{\n",
       "            background-color:  #e9b4be;\n",
       "            color:  #000000;\n",
       "            max-width:  80px;\n",
       "            font-size:  10pt;\n",
       "        }#T_cac87_row5_col4{\n",
       "            background-color:  #da4e6a;\n",
       "            color:  #000000;\n",
       "            max-width:  80px;\n",
       "            font-size:  10pt;\n",
       "        }#T_cac87_row5_col6,#T_cac87_row6_col5{\n",
       "            background-color:  #5786c1;\n",
       "            color:  #000000;\n",
       "            max-width:  80px;\n",
       "            font-size:  10pt;\n",
       "        }#T_cac87_row6_col0{\n",
       "            background-color:  #d84361;\n",
       "            color:  #f1f1f1;\n",
       "            max-width:  80px;\n",
       "            font-size:  10pt;\n",
       "        }#T_cac87_row6_col1,#T_cac87_row6_col2{\n",
       "            background-color:  #e7a4b1;\n",
       "            color:  #000000;\n",
       "            max-width:  80px;\n",
       "            font-size:  10pt;\n",
       "        }#T_cac87_row6_col3{\n",
       "            background-color:  #5484c0;\n",
       "            color:  #000000;\n",
       "            max-width:  80px;\n",
       "            font-size:  10pt;\n",
       "        }</style><table id=\"T_cac87_\" ><caption>Hover to magify</caption><thead>    <tr>        <th class=\"blank level0\" ></th>        <th class=\"col_heading level0 col0\" >ticket_id</th>        <th class=\"col_heading level0 col1\" >admin_fee</th>        <th class=\"col_heading level0 col2\" >state_fee</th>        <th class=\"col_heading level0 col3\" >late_fee</th>        <th class=\"col_heading level0 col4\" >discount_amount</th>        <th class=\"col_heading level0 col5\" >judgment_amount</th>        <th class=\"col_heading level0 col6\" >balance_due</th>    </tr></thead><tbody>\n",
       "                <tr>\n",
       "                        <th id=\"T_cac87_level0_row0\" class=\"row_heading level0 row0\" >ticket_id</th>\n",
       "                        <td id=\"T_cac87_row0_col0\" class=\"data row0 col0\" >1.00</td>\n",
       "                        <td id=\"T_cac87_row0_col1\" class=\"data row0 col1\" >-0.04</td>\n",
       "                        <td id=\"T_cac87_row0_col2\" class=\"data row0 col2\" >-0.04</td>\n",
       "                        <td id=\"T_cac87_row0_col3\" class=\"data row0 col3\" >-0.01</td>\n",
       "                        <td id=\"T_cac87_row0_col4\" class=\"data row0 col4\" >-0.02</td>\n",
       "                        <td id=\"T_cac87_row0_col5\" class=\"data row0 col5\" >-0.01</td>\n",
       "                        <td id=\"T_cac87_row0_col6\" class=\"data row0 col6\" >0.00</td>\n",
       "            </tr>\n",
       "            <tr>\n",
       "                        <th id=\"T_cac87_level0_row1\" class=\"row_heading level0 row1\" >admin_fee</th>\n",
       "                        <td id=\"T_cac87_row1_col0\" class=\"data row1 col0\" >-0.04</td>\n",
       "                        <td id=\"T_cac87_row1_col1\" class=\"data row1 col1\" >1.00</td>\n",
       "                        <td id=\"T_cac87_row1_col2\" class=\"data row1 col2\" >1.00</td>\n",
       "                        <td id=\"T_cac87_row1_col3\" class=\"data row1 col3\" >0.29</td>\n",
       "                        <td id=\"T_cac87_row1_col4\" class=\"data row1 col4\" >0.03</td>\n",
       "                        <td id=\"T_cac87_row1_col5\" class=\"data row1 col5\" >0.32</td>\n",
       "                        <td id=\"T_cac87_row1_col6\" class=\"data row1 col6\" >0.28</td>\n",
       "            </tr>\n",
       "            <tr>\n",
       "                        <th id=\"T_cac87_level0_row2\" class=\"row_heading level0 row2\" >state_fee</th>\n",
       "                        <td id=\"T_cac87_row2_col0\" class=\"data row2 col0\" >-0.04</td>\n",
       "                        <td id=\"T_cac87_row2_col1\" class=\"data row2 col1\" >1.00</td>\n",
       "                        <td id=\"T_cac87_row2_col2\" class=\"data row2 col2\" >1.00</td>\n",
       "                        <td id=\"T_cac87_row2_col3\" class=\"data row2 col3\" >0.29</td>\n",
       "                        <td id=\"T_cac87_row2_col4\" class=\"data row2 col4\" >0.03</td>\n",
       "                        <td id=\"T_cac87_row2_col5\" class=\"data row2 col5\" >0.32</td>\n",
       "                        <td id=\"T_cac87_row2_col6\" class=\"data row2 col6\" >0.28</td>\n",
       "            </tr>\n",
       "            <tr>\n",
       "                        <th id=\"T_cac87_level0_row3\" class=\"row_heading level0 row3\" >late_fee</th>\n",
       "                        <td id=\"T_cac87_row3_col0\" class=\"data row3 col0\" >-0.01</td>\n",
       "                        <td id=\"T_cac87_row3_col1\" class=\"data row3 col1\" >0.29</td>\n",
       "                        <td id=\"T_cac87_row3_col2\" class=\"data row3 col2\" >0.29</td>\n",
       "                        <td id=\"T_cac87_row3_col3\" class=\"data row3 col3\" >1.00</td>\n",
       "                        <td id=\"T_cac87_row3_col4\" class=\"data row3 col4\" >-0.01</td>\n",
       "                        <td id=\"T_cac87_row3_col5\" class=\"data row3 col5\" >0.99</td>\n",
       "                        <td id=\"T_cac87_row3_col6\" class=\"data row3 col6\" >0.95</td>\n",
       "            </tr>\n",
       "            <tr>\n",
       "                        <th id=\"T_cac87_level0_row4\" class=\"row_heading level0 row4\" >discount_amount</th>\n",
       "                        <td id=\"T_cac87_row4_col0\" class=\"data row4 col0\" >-0.02</td>\n",
       "                        <td id=\"T_cac87_row4_col1\" class=\"data row4 col1\" >0.03</td>\n",
       "                        <td id=\"T_cac87_row4_col2\" class=\"data row4 col2\" >0.03</td>\n",
       "                        <td id=\"T_cac87_row4_col3\" class=\"data row4 col3\" >-0.01</td>\n",
       "                        <td id=\"T_cac87_row4_col4\" class=\"data row4 col4\" >1.00</td>\n",
       "                        <td id=\"T_cac87_row4_col5\" class=\"data row4 col5\" >0.04</td>\n",
       "                        <td id=\"T_cac87_row4_col6\" class=\"data row4 col6\" >-0.02</td>\n",
       "            </tr>\n",
       "            <tr>\n",
       "                        <th id=\"T_cac87_level0_row5\" class=\"row_heading level0 row5\" >judgment_amount</th>\n",
       "                        <td id=\"T_cac87_row5_col0\" class=\"data row5 col0\" >-0.01</td>\n",
       "                        <td id=\"T_cac87_row5_col1\" class=\"data row5 col1\" >0.32</td>\n",
       "                        <td id=\"T_cac87_row5_col2\" class=\"data row5 col2\" >0.32</td>\n",
       "                        <td id=\"T_cac87_row5_col3\" class=\"data row5 col3\" >0.99</td>\n",
       "                        <td id=\"T_cac87_row5_col4\" class=\"data row5 col4\" >0.04</td>\n",
       "                        <td id=\"T_cac87_row5_col5\" class=\"data row5 col5\" >1.00</td>\n",
       "                        <td id=\"T_cac87_row5_col6\" class=\"data row5 col6\" >0.94</td>\n",
       "            </tr>\n",
       "            <tr>\n",
       "                        <th id=\"T_cac87_level0_row6\" class=\"row_heading level0 row6\" >balance_due</th>\n",
       "                        <td id=\"T_cac87_row6_col0\" class=\"data row6 col0\" >0.00</td>\n",
       "                        <td id=\"T_cac87_row6_col1\" class=\"data row6 col1\" >0.28</td>\n",
       "                        <td id=\"T_cac87_row6_col2\" class=\"data row6 col2\" >0.28</td>\n",
       "                        <td id=\"T_cac87_row6_col3\" class=\"data row6 col3\" >0.95</td>\n",
       "                        <td id=\"T_cac87_row6_col4\" class=\"data row6 col4\" >-0.02</td>\n",
       "                        <td id=\"T_cac87_row6_col5\" class=\"data row6 col5\" >0.94</td>\n",
       "                        <td id=\"T_cac87_row6_col6\" class=\"data row6 col6\" >1.00</td>\n",
       "            </tr>\n",
       "    </tbody></table>"
      ],
      "text/plain": [
       "<pandas.io.formats.style.Styler at 0x7f473f714d30>"
      ]
     },
     "execution_count": 76,
     "metadata": {},
     "output_type": "execute_result"
    }
   ],
   "source": [
    "import seaborn as sns\n",
    "\n",
    "corr = vis_data.drop(['violation_zip_code', 'payment_amount', \n",
    "                      'clean_up_cost', \n",
    "                      'violation_street_number'], axis=1).\\\n",
    "                dropna(axis=1).\\\n",
    "                corr()\n",
    "cmap = sns.diverging_palette(5, 250, as_cmap=True)\n",
    "\n",
    "def magnify():\n",
    "    return [dict(selector=\"th\",\n",
    "                 props=[(\"font-size\", \"7pt\")]),\n",
    "            dict(selector=\"td\",\n",
    "                 props=[('padding', \"0em 0em\")]),\n",
    "            dict(selector=\"th:hover\",\n",
    "                 props=[(\"font-size\", \"12pt\")]),\n",
    "            dict(selector=\"tr:hover td:hover\",\n",
    "                 props=[('max-width', '200px'),\n",
    "                        ('font-size', '12pt')])\n",
    "]\n",
    "\n",
    "corr.style.background_gradient(cmap, axis=1)\\\n",
    "    .set_properties(**{'max-width': '80px', 'font-size': '10pt'})\\\n",
    "    .set_caption(\"Hover to magify\")\\\n",
    "    .set_precision(2)\\\n",
    "    .set_table_styles(magnify())"
   ]
  },
  {
   "cell_type": "code",
   "execution_count": 77,
   "id": "033e1dcf",
   "metadata": {},
   "outputs": [
    {
     "data": {
      "text/plain": [
       "<AxesSubplot:>"
      ]
     },
     "execution_count": 77,
     "metadata": {},
     "output_type": "execute_result"
    },
    {
     "data": {
      "image/png": "[encoded data removed]",
      "text/plain": [
       "<Figure size 432x288 with 1 Axes>"
      ]
     },
     "metadata": {
      "needs_background": "light"
     },
     "output_type": "display_data"
    }
   ],
   "source": [
    "np.sqrt(vis_data.balance_due[vis_data.balance_due > 0]).hist()"
   ]
  },
  {
   "cell_type": "code",
   "execution_count": 81,
   "id": "889fb47a",
   "metadata": {},
   "outputs": [
    {
     "data": {
      "text/plain": [
       "0.4525960609393067"
      ]
     },
     "execution_count": 81,
     "metadata": {},
     "output_type": "execute_result"
    }
   ],
   "source": [
    "abs(np.median(np.sqrt(vis_data.balance_due[vis_data.balance_due > 0]))-\\\n",
    "np.mean(np.sqrt(vis_data.balance_due[vis_data.balance_due > 0])))"
   ]
  },
  {
   "cell_type": "code",
   "execution_count": 79,
   "id": "8af0fd24",
   "metadata": {},
   "outputs": [
    {
     "data": {
      "text/plain": [
       "17.011653135633672"
      ]
     },
     "execution_count": 79,
     "metadata": {},
     "output_type": "execute_result"
    }
   ],
   "source": []
  },
  {
   "cell_type": "code",
   "execution_count": null,
   "id": "ae970d80",
   "metadata": {},
   "outputs": [],
   "source": [
    ")"
   ]
  }
 ],
 "metadata": {
  "kernelspec": {
   "display_name": "Python 3",
   "language": "python",
   "name": "python3"
  },
  "language_info": {
   "codemirror_mode": {
    "name": "ipython",
    "version": 3
   },
   "file_extension": ".py",
   "mimetype": "text/x-python",
   "name": "python",
   "nbconvert_exporter": "python",
   "pygments_lexer": "ipython3",
   "version": "3.8.8"
  }
 },
 "nbformat": 4,
 "nbformat_minor": 5
}
