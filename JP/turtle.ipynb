{
 "cells": [
  {
   "cell_type": "code",
   "execution_count": 2,
   "metadata": {},
   "outputs": [],
   "source": [
    "import turtle"
   ]
  },
  {
   "cell_type": "code",
   "execution_count": 2,
   "metadata": {},
   "outputs": [],
   "source": [
    "axiom = \"F+F+F+F\"\n",
    "tempAx = \"\""
   ]
  },
  {
   "cell_type": "code",
   "execution_count": 3,
   "metadata": {},
   "outputs": [
    {
     "name": "stdout",
     "output_type": "stream",
     "text": [
      "F+F-F-F+F+F+F-F-F+F-F+F-F-F+F-F+F-F-F+F+F+F-F-F+F+F+F-F-F+F+F+F-F-F+F-F+F-F-F+F-F+F-F-F+F+F+F-F-F+F-F+F-F-F+F+F+F-F-F+F-F+F-F-F+F-F+F-F-F+F+F+F-F-F+F-F+F-F-F+F+F+F-F-F+F-F+F-F-F+F-F+F-F-F+F+F+F-F-F+F+F+F-F-F+F+F+F-F-F+F-F+F-F-F+F-F+F-F-F+F+F+F-F-F+F+F+F-F-F+F+F+F-F-F+F-F+F-F-F+F-F+F-F-F+F+F+F-F-F+F+F+F-F-F+F+F+F-F-F+F-F+F-F-F+F-F+F-F-F+F+F+F-F-F+F-F+F-F-F+F+F+F-F-F+F-F+F-F-F+F-F+F-F-F+F+F+F-F-F+F-F+F-F-F+F+F+F-F-F+F-F+F-F-F+F-F+F-F-F+F+F+F-F-F+F+F+F-F-F+F+F+F-F-F+F-F+F-F-F+F-F+F-F-F+F+F+F-F-F+F+F+F-F-F+F+F+F-F-F+F-F+F-F-F+F-F+F-F-F+F+F+F-F-F+F+F+F-F-F+F+F+F-F-F+F-F+F-F-F+F-F+F-F-F+F+F+F-F-F+F-F+F-F-F+F+F+F-F-F+F-F+F-F-F+F-F+F-F-F+F+F+F-F-F+F-F+F-F-F+F+F+F-F-F+F-F+F-F-F+F-F+F-F-F+F+F+F-F-F+F+F+F-F-F+F+F+F-F-F+F-F+F-F-F+F-F+F-F-F+F+F+F-F-F+F+F+F-F-F+F+F+F-F-F+F-F+F-F-F+F-F+F-F-F+F+F+F-F-F+F+F+F-F-F+F+F+F-F-F+F-F+F-F-F+F-F+F-F-F+F+F+F-F-F+F-F+F-F-F+F+F+F-F-F+F-F+F-F-F+F-F+F-F-F+F+F+F-F-F+F-F+F-F-F+F+F+F-F-F+F-F+F-F-F+F-F+F-F-F+F+F+F-F-F+F+F+F-F-F+F+F+F-F-F+F-F+F-F-F+F-F+F-F-F+F+F+F-F-F+F\n"
     ]
    }
   ],
   "source": [
    "for k in range(3):\n",
    "    ln = len(axiom)\n",
    "    for i in range(ln):\n",
    "        if axiom[i] == \"+\":\n",
    "            tempAx = tempAx + \"+\"\n",
    "        elif axiom[i] == \"-\":\n",
    "            tempAx = tempAx + \"-\"\n",
    "        else: # F\n",
    "            tempAx = tempAx + \"F+F-F-F+F\"\n",
    "    axiom = tempAx\n",
    "    tempAx = \"\"\n",
    "print(axiom)"
   ]
  },
  {
   "cell_type": "code",
   "execution_count": 4,
   "metadata": {},
   "outputs": [],
   "source": [
    "turtle.hideturtle()\n",
    "turtle.tracer(0)\n",
    "turtle.penup()\n",
    "turtle.setposition(-380,300)\n",
    "turtle.pendown()\n",
    "turtle.pensize(2)\n",
    "\n",
    "ln - len(axiom)\n",
    "for i in range(ln):\n",
    "    if axiom[i] == \"+\":\n",
    "        turtle.right(90)\n",
    "    elif axiom[i] == \"-\":\n",
    "        turtle.left(90)\n",
    "    else:\n",
    "        turtle.forward(15)\n",
    "turtle.update()\n",
    "turtle.done()"
   ]
  },
  {
   "cell_type": "code",
   "execution_count": null,
   "metadata": {},
   "outputs": [],
   "source": [
    "\n",
    "itr = 5\n",
    "dl = 3\n",
    "\n",
    "axiom = \"F\"\n",
    "axmTemp = \"\"\n",
    "\n",
    "turtle.pensize(1)\n",
    "turtle.fillcolor(\"#000000\")\n",
    "turtle.tracer(0)\n",
    "turtle.penup()\n",
    "turtle.setpos(-360,-350)\n",
    "turtle.pendown()\n",
    "\n",
    "# код переделан,\n",
    "# если символ переходит в новую строку без изменений,\n",
    "# то его не обязательно вносить в правила\n",
    "translate={\"F\":\"FfFfF-f+F-f+F--f--F--f--F+f-F+f-\",\n",
    "           \"f\":\"fff\"   }\n",
    "\n",
    "for k in range(itr):\n",
    "    for ch in axiom:\n",
    "        if ch in translate:\n",
    "            axmTemp += translate[ch]\n",
    "        else:\n",
    "            axmTemp += ch\n",
    "    axiom = axmTemp\n",
    "    axmTemp = \"\"\n",
    "\n",
    "for i in axiom:\n",
    "    if  i==\"F\":\n",
    "        turtle.begin_fill()\n",
    "        turtle.forward(dl)\n",
    "        turtle.left(90)\n",
    "        turtle.forward(dl)\n",
    "        turtle.left(90)\n",
    "        turtle.forward(dl)\n",
    "        turtle.left(90)\n",
    "        turtle.forward(dl)\n",
    "        turtle.left(90)\n",
    "        turtle.end_fill()\n",
    "    elif i==\"f\":\n",
    "    \tturtle.penup()\n",
    "    \tturtle.forward(dl)\n",
    "    \tturtle.pendown() \t\n",
    "    elif  i==\"+\":\n",
    "    \tturtle.right(90)\n",
    "    elif  i==\"-\":\n",
    "        turtle.left(90)\n",
    "        \n",
    "turtle.hideturtle()        \n",
    "turtle.update()\n",
    "turtle.mainloop() "
   ]
  },
  {
   "cell_type": "code",
   "execution_count": null,
   "metadata": {},
   "outputs": [],
   "source": []
  }
 ],
 "metadata": {
  "kernelspec": {
   "display_name": "Python 3",
   "language": "python",
   "name": "python3"
  },
  "language_info": {
   "codemirror_mode": {
    "name": "ipython",
    "version": 3
   },
   "file_extension": ".py",
   "mimetype": "text/x-python",
   "name": "python",
   "nbconvert_exporter": "python",
   "pygments_lexer": "ipython3",
   "version": "3.8.5"
  }
 },
 "nbformat": 4,
 "nbformat_minor": 4
}
