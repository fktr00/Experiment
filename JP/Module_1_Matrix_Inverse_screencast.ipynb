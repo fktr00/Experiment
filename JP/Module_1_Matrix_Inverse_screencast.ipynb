{
 "cells": [
  {
   "cell_type": "code",
   "execution_count": 9,
   "metadata": {},
   "outputs": [],
   "source": [
    "import numpy as np"
   ]
  },
  {
   "cell_type": "code",
   "execution_count": 10,
   "metadata": {},
   "outputs": [
    {
     "name": "stdout",
     "output_type": "stream",
     "text": [
      "A1:\n",
      " [[ 1  2  3]\n",
      " [ 4  5  6]\n",
      " [ 7  8 10]]\n"
     ]
    }
   ],
   "source": [
    "# обратная матрица - все ок\n",
    "A1=np.array([[1,2,3],[4,5,6],[7,8,10]])\n",
    "print('A1:\\n',A1)"
   ]
  },
  {
   "cell_type": "code",
   "execution_count": 11,
   "metadata": {},
   "outputs": [
    {
     "name": "stdout",
     "output_type": "stream",
     "text": [
      "rk(A3):\n",
      " 3\n"
     ]
    }
   ],
   "source": [
    "print('rk(A3):\\n',np.linalg.matrix_rank(A1))"
   ]
  },
  {
   "cell_type": "code",
   "execution_count": 12,
   "metadata": {},
   "outputs": [
    {
     "name": "stdout",
     "output_type": "stream",
     "text": [
      "A1 inversed:\n",
      " [[-0.66666667 -1.33333333  1.        ]\n",
      " [-0.66666667  3.66666667 -2.        ]\n",
      " [ 1.         -2.          1.        ]]\n"
     ]
    }
   ],
   "source": [
    "# обратная матрица - все ок\n",
    "A1_inv=np.linalg.inv(A1)\n",
    "print('A1 inversed:\\n',A1_inv)\n"
   ]
  },
  {
   "cell_type": "code",
   "execution_count": 13,
   "metadata": {},
   "outputs": [
    {
     "name": "stdout",
     "output_type": "stream",
     "text": [
      "A1 @ A1 inversed=E check:\n",
      " [[ 1.00000000e+00 -4.44089210e-16 -1.11022302e-16]\n",
      " [ 4.44089210e-16  1.00000000e+00 -2.22044605e-16]\n",
      " [ 4.44089210e-16  8.88178420e-16  1.00000000e+00]] 1\n",
      "[[ 1. -0. -0.]\n",
      " [ 0.  1. -0.]\n",
      " [ 0.  0.  1.]]\n",
      "check OK\n"
     ]
    }
   ],
   "source": [
    "# обратная матрица - все ок\n",
    "print('A1 @ A1 inversed=E check:\\n',A1@A1_inv,1)\n",
    "print(np.round(A1@A1_inv,1))\n",
    "print('check OK')"
   ]
  },
  {
   "cell_type": "code",
   "execution_count": 14,
   "metadata": {},
   "outputs": [
    {
     "name": "stdout",
     "output_type": "stream",
     "text": [
      "A2:\n",
      " [[1 2 3]\n",
      " [4 5 6]\n",
      " [1 2 3]]\n"
     ]
    }
   ],
   "source": [
    "# обратная матрица - вырожденный случай\n",
    "A2=np.array([[1,2,3],[4,5,6],[1,2,3]])\n",
    "print('A2:\\n',A2)"
   ]
  },
  {
   "cell_type": "code",
   "execution_count": 15,
   "metadata": {},
   "outputs": [
    {
     "name": "stdout",
     "output_type": "stream",
     "text": [
      "rk(A3):\n",
      " 2\n"
     ]
    }
   ],
   "source": [
    "# обратная матрица - вырожденный случай\n",
    "print('rk(A3):\\n',np.linalg.matrix_rank(A2))"
   ]
  },
  {
   "cell_type": "code",
   "execution_count": 16,
   "metadata": {},
   "outputs": [],
   "source": [
    "# обратная матрица - вырожденный случай\n",
    "# np.linalg.inv(A2)"
   ]
  },
  {
   "cell_type": "code",
   "execution_count": 17,
   "metadata": {},
   "outputs": [
    {
     "name": "stdout",
     "output_type": "stream",
     "text": [
      "A3:\n",
      " [[1 2 3]\n",
      " [4 5 6]\n",
      " [7 8 9]]\n"
     ]
    }
   ],
   "source": [
    "# обратная матрица - magic\n",
    "A3=np.array([[1,2,3],[4,5,6],[7,8,9]])\n",
    "print('A3:\\n',A3)"
   ]
  },
  {
   "cell_type": "code",
   "execution_count": 18,
   "metadata": {},
   "outputs": [
    {
     "name": "stdout",
     "output_type": "stream",
     "text": [
      "rk(A3):\n",
      " 2\n"
     ]
    }
   ],
   "source": [
    "# обратная матрица - magic\n",
    "print('rk(A3):\\n',np.linalg.matrix_rank(A3))"
   ]
  },
  {
   "cell_type": "code",
   "execution_count": 19,
   "metadata": {},
   "outputs": [
    {
     "name": "stdout",
     "output_type": "stream",
     "text": [
      "A3 inversed:\n",
      " [[ 3.15251974e+15 -6.30503948e+15  3.15251974e+15]\n",
      " [-6.30503948e+15  1.26100790e+16 -6.30503948e+15]\n",
      " [ 3.15251974e+15 -6.30503948e+15  3.15251974e+15]]\n"
     ]
    }
   ],
   "source": [
    "# обратная матрица - magic\n",
    "print('A3 inversed:\\n',np.linalg.inv(A3))"
   ]
  },
  {
   "cell_type": "code",
   "execution_count": 20,
   "metadata": {},
   "outputs": [
    {
     "name": "stdout",
     "output_type": "stream",
     "text": [
      "A3 @ A3 inversed = E check:\n",
      " [[ 0.   1.  -0.5]\n",
      " [ 0.   2.  -1. ]\n",
      " [ 0.   3.   2.5]]\n",
      "check failed\n"
     ]
    }
   ],
   "source": [
    "# обратная матрица - magic\n",
    "print('A3 @ A3 inversed = E check:\\n',A3@np.linalg.inv(A3))\n",
    "print('check failed')"
   ]
  },
  {
   "cell_type": "code",
   "execution_count": 21,
   "metadata": {},
   "outputs": [
    {
     "name": "stdout",
     "output_type": "stream",
     "text": [
      "det(A1)):\n",
      " -3.000000000000001\n"
     ]
    }
   ],
   "source": [
    "print('det(A1)):\\n',np.linalg.det(A1))"
   ]
  },
  {
   "cell_type": "code",
   "execution_count": 22,
   "metadata": {},
   "outputs": [
    {
     "name": "stdout",
     "output_type": "stream",
     "text": [
      "det(A2)):\n",
      " 0.0\n"
     ]
    }
   ],
   "source": [
    "print('det(A2)):\\n',np.linalg.det(A2))"
   ]
  },
  {
   "cell_type": "code",
   "execution_count": 23,
   "metadata": {},
   "outputs": [
    {
     "name": "stdout",
     "output_type": "stream",
     "text": [
      "det(A3)):\n",
      " -9.51619735392994e-16\n"
     ]
    }
   ],
   "source": [
    "print('det(A3)):\\n',np.linalg.det(A3))"
   ]
  },
  {
   "cell_type": "code",
   "execution_count": 24,
   "metadata": {},
   "outputs": [
    {
     "name": "stdout",
     "output_type": "stream",
     "text": [
      "A4:\n",
      " [[1.      2.      3.     ]\n",
      " [4.      5.      6.     ]\n",
      " [1.      2.      3.00005]]\n",
      "rk(A4):\n",
      " 3\n",
      "det(A4):\n",
      " -0.00014999999999965044\n",
      "A4 inverse:\n",
      " [[-2.00016667e+04  6.66666667e-01  2.00000000e+04]\n",
      " [ 4.00013333e+04 -3.33333333e-01 -4.00000000e+04]\n",
      " [-2.00000000e+04  0.00000000e+00  2.00000000e+04]]\n"
     ]
    }
   ],
   "source": [
    "# обратная матрица - нестойчивость\n",
    "A4=np.array([[1,2,3],[4,5,6],[1,2,3.00005]])\n",
    "print('A4:\\n',A4)\n",
    "print('rk(A4):\\n',np.linalg.matrix_rank(A4))\n",
    "print('det(A4):\\n',np.linalg.det(A4))\n",
    "print('A4 inverse:\\n',np.linalg.inv(A4))"
   ]
  },
  {
   "cell_type": "code",
   "execution_count": 25,
   "metadata": {},
   "outputs": [
    {
     "name": "stdout",
     "output_type": "stream",
     "text": [
      "A5:\n",
      " [[1.         2.         3.        ]\n",
      " [4.         5.         6.        ]\n",
      " [1.         2.         3.00000005]]\n",
      "rk(A5):\n",
      " 3\n",
      "det(A5):\n",
      " -1.5000000042064706e-07\n",
      "A5 inverse:\n",
      " [[-2.00000016e+07  6.66666667e-01  1.99999999e+07]\n",
      " [ 4.00000012e+07 -3.33333333e-01 -3.99999999e+07]\n",
      " [-1.99999999e+07  0.00000000e+00  1.99999999e+07]]\n"
     ]
    }
   ],
   "source": [
    "# обратная матрица - нестойчивость вблизи нулевого определителя\n",
    "A5=np.array([[1,2,3],[4,5,6],[1,2,3.00000005]])\n",
    "print('A5:\\n',A5)\n",
    "print('rk(A5):\\n',np.linalg.matrix_rank(A5))\n",
    "print('det(A5):\\n',np.linalg.det(A5))\n",
    "print('A5 inverse:\\n',np.linalg.inv(A5))"
   ]
  },
  {
   "cell_type": "code",
   "execution_count": 26,
   "metadata": {},
   "outputs": [
    {
     "name": "stdout",
     "output_type": "stream",
     "text": [
      "A:\n",
      " [[1 1]\n",
      " [2 1]\n",
      " [1 1]]\n",
      "Матрица Грама:\n",
      " [[6 4]\n",
      " [4 3]]\n"
     ]
    }
   ],
   "source": [
    "# обратимость матрицы Грама линейно независимой системы векторов\n",
    "v1=np.array([1,2,1])\n",
    "v2=np.array([1,1,1])\n",
    "A=np.array([v1,v2]).T\n",
    "print('A:\\n',A)\n",
    "print('Матрица Грама:\\n',A.T@A)"
   ]
  },
  {
   "cell_type": "code",
   "execution_count": 27,
   "metadata": {},
   "outputs": [
    {
     "name": "stdout",
     "output_type": "stream",
     "text": [
      "Ранг матрицы Грама:\n",
      " 2\n"
     ]
    }
   ],
   "source": [
    "print('Ранг матрицы Грама:\\n',np.linalg.matrix_rank(A.T@A))"
   ]
  },
  {
   "cell_type": "code",
   "execution_count": 28,
   "metadata": {},
   "outputs": [
    {
     "name": "stdout",
     "output_type": "stream",
     "text": [
      "Определитель матрицы Грама:\n",
      " 2.0000000000000004\n"
     ]
    }
   ],
   "source": [
    "print('Определитель матрицы Грама:\\n',np.linalg.det(A.T@A))"
   ]
  },
  {
   "cell_type": "code",
   "execution_count": 29,
   "metadata": {},
   "outputs": [
    {
     "name": "stdout",
     "output_type": "stream",
     "text": [
      "Обратная к матрице Грама:\n",
      " [[ 1.5 -2. ]\n",
      " [-2.   3. ]]\n"
     ]
    }
   ],
   "source": [
    "print('Обратная к матрице Грама:\\n',np.linalg.inv(A.T@A))"
   ]
  },
  {
   "cell_type": "code",
   "execution_count": null,
   "metadata": {},
   "outputs": [],
   "source": []
  }
 ],
 "metadata": {
  "kernelspec": {
   "display_name": "Python 3",
   "language": "python",
   "name": "python3"
  },
  "language_info": {
   "codemirror_mode": {
    "name": "ipython",
    "version": 3
   },
   "file_extension": ".py",
   "mimetype": "text/x-python",
   "name": "python",
   "nbconvert_exporter": "python",
   "pygments_lexer": "ipython3",
   "version": "3.8.8"
  }
 },
 "nbformat": 4,
 "nbformat_minor": 2
}
