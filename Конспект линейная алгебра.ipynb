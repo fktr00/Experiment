{
 "cells": [
  {
   "cell_type": "code",
   "execution_count": 1,
   "id": "912d93d1",
   "metadata": {},
   "outputs": [],
   "source": [
    "import numpy as np "
   ]
  },
  {
   "cell_type": "code",
   "execution_count": 2,
   "id": "1e037df5",
   "metadata": {},
   "outputs": [
    {
     "data": {
      "text/plain": [
       "array([33, 65, 50, 45])"
      ]
     },
     "execution_count": 2,
     "metadata": {},
     "output_type": "execute_result"
    }
   ],
   "source": [
    "s=np.array([33,65,50,45])\n",
    "s"
   ]
  },
  {
   "cell_type": "code",
   "execution_count": 3,
   "id": "5b72f742",
   "metadata": {},
   "outputs": [
    {
     "data": {
      "text/plain": [
       "50"
      ]
     },
     "execution_count": 3,
     "metadata": {},
     "output_type": "execute_result"
    }
   ],
   "source": [
    "s[2]"
   ]
  },
  {
   "cell_type": "code",
   "execution_count": 4,
   "id": "d101fd8b",
   "metadata": {},
   "outputs": [
    {
     "data": {
      "text/plain": [
       "4"
      ]
     },
     "execution_count": 4,
     "metadata": {},
     "output_type": "execute_result"
    }
   ],
   "source": [
    "len(s)"
   ]
  },
  {
   "cell_type": "code",
   "execution_count": 11,
   "id": "b1333b75",
   "metadata": {},
   "outputs": [],
   "source": [
    "apartment = np.array([59.50, 31.40, 19, 22, 60550, 2])"
   ]
  },
  {
   "cell_type": "code",
   "execution_count": 6,
   "id": "47373a4f",
   "metadata": {
    "collapsed": true
   },
   "outputs": [
    {
     "ename": "NameError",
     "evalue": "name 'x' is not defined",
     "output_type": "error",
     "traceback": [
      "\u001b[0;31m---------------------------------------------------------------------------\u001b[0m",
      "\u001b[0;31mNameError\u001b[0m                                 Traceback (most recent call last)",
      "\u001b[0;32m<ipython-input-6-5a0194931fab>\u001b[0m in \u001b[0;36m<module>\u001b[0;34m\u001b[0m\n\u001b[1;32m      3\u001b[0m \u001b[0;31m# где один из атрибутов shape равен 1.\u001b[0m\u001b[0;34m\u001b[0m\u001b[0;34m\u001b[0m\u001b[0;34m\u001b[0m\u001b[0m\n\u001b[1;32m      4\u001b[0m \u001b[0;34m\u001b[0m\u001b[0m\n\u001b[0;32m----> 5\u001b[0;31m \u001b[0mprint\u001b[0m\u001b[0;34m(\u001b[0m\u001b[0;34m\"ndim:\"\u001b[0m\u001b[0;34m,\u001b[0m \u001b[0mx\u001b[0m\u001b[0;34m.\u001b[0m\u001b[0mndim\u001b[0m\u001b[0;34m)\u001b[0m \u001b[0;31m# число осей (измерений) массива - n.dim: 1\u001b[0m\u001b[0;34m\u001b[0m\u001b[0;34m\u001b[0m\u001b[0m\n\u001b[0m\u001b[1;32m      6\u001b[0m \u001b[0mprint\u001b[0m\u001b[0;34m(\u001b[0m\u001b[0;34m\"shape:\"\u001b[0m\u001b[0;34m,\u001b[0m \u001b[0mx\u001b[0m\u001b[0;34m.\u001b[0m\u001b[0mshape\u001b[0m\u001b[0;34m)\u001b[0m \u001b[0;31m# размеры массива, для вектора определена только длина - shape: (6, )\u001b[0m\u001b[0;34m\u001b[0m\u001b[0;34m\u001b[0m\u001b[0m\n",
      "\u001b[0;31mNameError\u001b[0m: name 'x' is not defined"
     ]
    }
   ],
   "source": [
    "# В NumPy вектор и массив - одно и то же. \n",
    "# Исключение - понятие вектор-столбец и вектор-строка - фактически двумерные массивы, \n",
    "# где один из атрибутов shape равен 1.\n",
    "\n",
    "# print(\"ndim:\", x.ndim) # число осей (измерений) массива - n.dim: 1\n",
    "# print(\"shape:\", x.shape) # размеры массива, для вектора определена только длина - shape: (6, )"
   ]
  },
  {
   "cell_type": "code",
   "execution_count": 12,
   "id": "7ebfbe10",
   "metadata": {},
   "outputs": [],
   "source": [
    "share_living_space = apartment[1]/apartment[0]"
   ]
  },
  {
   "cell_type": "code",
   "execution_count": 13,
   "id": "cdbfc2e8",
   "metadata": {},
   "outputs": [],
   "source": [
    "apartment = np.delete(apartment, [0, 1])"
   ]
  },
  {
   "cell_type": "code",
   "execution_count": 14,
   "id": "722a86b7",
   "metadata": {},
   "outputs": [],
   "source": [
    "apartment = np.append(apartment, share_living_space)"
   ]
  },
  {
   "cell_type": "code",
   "execution_count": 25,
   "id": "68ec1a57",
   "metadata": {},
   "outputs": [
    {
     "data": {
      "text/plain": [
       "(5,)"
      ]
     },
     "execution_count": 25,
     "metadata": {},
     "output_type": "execute_result"
    }
   ],
   "source": [
    "apartment.shape"
   ]
  },
  {
   "cell_type": "code",
   "execution_count": 22,
   "id": "6bb7e9cc",
   "metadata": {},
   "outputs": [],
   "source": [
    "np.set_printoptions(precision=3)\n",
    "np.set_printoptions(suppress=True)"
   ]
  },
  {
   "cell_type": "code",
   "execution_count": 27,
   "id": "cf4cba8c",
   "metadata": {},
   "outputs": [],
   "source": [
    "a = np.array([120, 150, 90])\n",
    "b = np.array([130, 130, 130])\n",
    "c = np.array([2, 3, 2.5])\n",
    "c *= 72"
   ]
  },
  {
   "cell_type": "code",
   "execution_count": 29,
   "id": "7ce31fb1",
   "metadata": {},
   "outputs": [
    {
     "data": {
      "text/plain": [
       "array([394., 496., 400.])"
      ]
     },
     "execution_count": 29,
     "metadata": {},
     "output_type": "execute_result"
    }
   ],
   "source": [
    "a+b+c"
   ]
  },
  {
   "cell_type": "code",
   "execution_count": null,
   "id": "7b074c7b",
   "metadata": {},
   "outputs": [],
   "source": []
  }
 ],
 "metadata": {
  "kernelspec": {
   "display_name": "Python 3",
   "language": "python",
   "name": "python3"
  },
  "language_info": {
   "codemirror_mode": {
    "name": "ipython",
    "version": 3
   },
   "file_extension": ".py",
   "mimetype": "text/x-python",
   "name": "python",
   "nbconvert_exporter": "python",
   "pygments_lexer": "ipython3",
   "version": "3.8.8"
  }
 },
 "nbformat": 4,
 "nbformat_minor": 5
}
