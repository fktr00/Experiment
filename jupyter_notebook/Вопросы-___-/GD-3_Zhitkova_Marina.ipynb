{
 "cells": [
  {
   "cell_type": "markdown",
   "metadata": {},
   "source": [
    "# Цели:\n",
    "\n",
    "1.Существует ли разница во времени между событиями регистрации и оплаты для разных групп пользователей с разным уровнем сложности?\n",
    "2.Зависит ли вероятность оплаты от выбранного пользователем уровня сложности?"
   ]
  },
  {
   "cell_type": "code",
   "execution_count": 1,
   "metadata": {},
   "outputs": [
    {
     "name": "stderr",
     "output_type": "stream",
     "text": [
      "/home/fktr0/anaconda3/lib/python3.8/site-packages/pandas/core/generic.py:5494: SettingWithCopyWarning: \n",
      "A value is trying to be set on a copy of a slice from a DataFrame.\n",
      "Try using .loc[row_indexer,col_indexer] = value instead\n",
      "\n",
      "See the caveats in the documentation: https://pandas.pydata.org/pandas-docs/stable/user_guide/indexing.html#returning-a-view-versus-a-copy\n",
      "  self[name] = value\n"
     ]
    }
   ],
   "source": [
    "import pandas as pd\n",
    "from datetime import datetime, timedelta\n",
    "#https://drive.google.com/drive/folders/1LnZQNmVtp2ui29W5xgOIe-0cszMz88Bz?usp=sharing датасет\n",
    "events_df=pd.read_csv('./data/Events.csv')\n",
    "#Создание списка пользователей, зарегестировавшихся в 2018 году\n",
    "cond=(events_df.start_time>='2018-01-01') & (events_df.start_time<'2019-01-01') & (events_df.event_type=='registration')\n",
    "registered=events_df[cond].user_id.to_list()\n",
    "events=events_df[events_df.user_id.isin(registered)] #сортировка по дате\n",
    "#Преобразование формата даты\n",
    "events.start_time=pd.to_datetime(events.start_time, format='%Y-%m-%dT%H:%M:%S')"
   ]
  },
  {
   "cell_type": "code",
   "execution_count": 2,
   "metadata": {},
   "outputs": [],
   "source": [
    "#https://drive.google.com/drive/folders/1LnZQNmVtp2ui29W5xgOIe-0cszMz88Bz?usp=sharing датасет\n",
    "purchase_df=pd.read_csv('./data/purchase.csv')\n",
    "purchase_df['event_type']='purchase' # создание столбца event_type со значением purchase\n",
    "purchase=purchase_df[purchase_df.user_id.isin(registered)] #сортировка по дате\n",
    "#Преобразование формата даты\n",
    "purchase.event_datetime=pd.to_datetime(purchase.event_datetime, format='%Y-%m-%dT%H:%M:%S')"
   ]
  },
  {
   "cell_type": "markdown",
   "metadata": {},
   "source": [
    "# Определение промежутков времени между регистрацией и выборов одного из уровней сложности"
   ]
  },
  {
   "cell_type": "code",
   "execution_count": 3,
   "metadata": {},
   "outputs": [
    {
     "name": "stdout",
     "output_type": "stream",
     "text": [
      "1.0\n"
     ]
    }
   ],
   "source": [
    "#Создадим датафрейм, в котором будут храниться только собития с event_type=registration и проверим, чтобы на одного пользователя\n",
    "#была одна регестрация\n",
    "registration_df=events[events['event_type']=='registration']\n",
    "print(registration_df['user_id'].value_counts().mean())\n",
    "#Оставим в датафрейме только те данные, которые нам нужны для анализа\n",
    "registration_df=registration_df[['user_id','start_time']].rename(columns={'start_time':'registration_time'})"
   ]
  },
  {
   "cell_type": "code",
   "execution_count": 4,
   "metadata": {},
   "outputs": [
    {
     "name": "stdout",
     "output_type": "stream",
     "text": [
      "1.0\n"
     ]
    }
   ],
   "source": [
    "#Создание датафрейма, в котором содержаться данные о пользователях, которые выбрали уровень сложности и проверим, чтобы на \n",
    "#одного пользователя было одно событие\n",
    "level_choice_df=events[events['event_type']=='level_choice']\n",
    "print(level_choice_df['user_id'].value_counts().mean())\n"
   ]
  },
  {
   "cell_type": "code",
   "execution_count": 5,
   "metadata": {},
   "outputs": [],
   "source": [
    "#Объединение датафреймов level_choice_df и purchase\n",
    "level_choice_df=level_choice_df.rename(columns={'id':'level_choice_id'})\n",
    "purchase=purchase.rename(columns={'id':'purchase_id'})\n",
    "total_events=pd.concat([events,purchase],sort=False)\n",
    "total_events= total_events.reset_index(drop=True).sort_values('start_time')\n"
   ]
  },
  {
   "cell_type": "code",
   "execution_count": 6,
   "metadata": {},
   "outputs": [],
   "source": [
    "#Создадим датафреймы с выбором каждого уровня сложности и создадим массив из уникальных user_id\n",
    "level_choice_easy_df=level_choice_df[level_choice_df['selected_level']=='easy']['user_id'].unique()\n",
    "level_choice_medium_df=level_choice_df[level_choice_df['selected_level']=='medium']['user_id'].unique()\n",
    "level_choice_hard_df=level_choice_df[level_choice_df['selected_level']=='hard']['user_id'].unique()\n",
    "#Отфильтруем датафрейм purchase\n",
    "purchase_easy_df=purchase[purchase['user_id'].isin(level_choice_easy_df)]\n",
    "purchase_medium_df=purchase[purchase['user_id'].isin(level_choice_medium_df)]\n",
    "purchase_hard_df=purchase[purchase['user_id'].isin(level_choice_hard_df)]\n",
    "#Оставим в датафреймах только те данные, которые нужны для анализа\n",
    "purchase_easy_df=purchase_easy_df[['user_id','event_datetime','amount']].rename(columns={'event_datetime':'easy_choice_time'})\n",
    "purchase_medium_df=purchase_medium_df[['user_id','event_datetime','amount']].rename(columns={'event_datetime':'medium_choice_time'})\n",
    "purchase_hard_df=purchase_hard_df[['user_id','event_datetime','amount']].rename(columns={'event_datetime':'hard_choice_time'})"
   ]
  },
  {
   "cell_type": "markdown",
   "metadata": {},
   "source": [
    "### Определим время между регистрацией и оплатой пользователей, которые выбрали уровень easy"
   ]
  },
  {
   "cell_type": "code",
   "execution_count": 7,
   "metadata": {},
   "outputs": [
    {
     "name": "stdout",
     "output_type": "stream",
     "text": [
      "count                          189\n",
      "mean     3 days 22:10:23.211640211\n",
      "std      2 days 07:14:41.062010764\n",
      "min                0 days 04:36:58\n",
      "25%                2 days 01:12:12\n",
      "50%                3 days 11:00:23\n",
      "75%                5 days 10:24:59\n",
      "max               11 days 00:35:04\n",
      "Name: timedelta, dtype: object\n"
     ]
    }
   ],
   "source": [
    "merged_easy_df=registration_df.merge(purchase_easy_df,on='user_id',how='inner')\n",
    "merged_easy_df['timedelta']=merged_easy_df['easy_choice_time']-merged_easy_df['registration_time']\n",
    "print(merged_easy_df['timedelta'].describe())"
   ]
  },
  {
   "cell_type": "markdown",
   "metadata": {},
   "source": [
    "### Определим время между регистрацией и оплатой пользователей, которые выбрали уровень medium"
   ]
  },
  {
   "cell_type": "code",
   "execution_count": 8,
   "metadata": {},
   "outputs": [
    {
     "name": "stdout",
     "output_type": "stream",
     "text": [
      "4 days 06:12:06.576883384\n",
      "count                          969\n",
      "mean     4 days 06:12:06.576883384\n",
      "std      2 days 06:25:57.480868026\n",
      "min                0 days 08:39:24\n",
      "25%                2 days 08:46:51\n",
      "50%                4 days 03:35:26\n",
      "75%                5 days 23:51:27\n",
      "max               10 days 20:34:02\n",
      "Name: timedelta, dtype: object\n"
     ]
    }
   ],
   "source": [
    "merged_medium_df=registration_df.merge(purchase_medium_df,on='user_id',how='inner')\n",
    "merged_medium_df['timedelta']=merged_medium_df['medium_choice_time']-merged_medium_df['registration_time']\n",
    "print(merged_medium_df['timedelta'].mean())\n",
    "print(merged_medium_df['timedelta'].describe())"
   ]
  },
  {
   "cell_type": "markdown",
   "metadata": {},
   "source": [
    "### Определим время между регистрацией и оплатой пользователей, которые выбрали уровень hard"
   ]
  },
  {
   "cell_type": "code",
   "execution_count": 9,
   "metadata": {},
   "outputs": [
    {
     "name": "stdout",
     "output_type": "stream",
     "text": [
      "count                          442\n",
      "mean     3 days 14:55:19.257918552\n",
      "std      1 days 22:22:52.441896774\n",
      "min                0 days 09:41:39\n",
      "25%         1 days 23:36:25.500000\n",
      "50%         3 days 10:10:04.500000\n",
      "75%         5 days 03:30:07.750000\n",
      "max                8 days 14:21:29\n",
      "Name: timedelta, dtype: object\n"
     ]
    }
   ],
   "source": [
    "merged_hard_df=registration_df.merge(purchase_hard_df,on='user_id',how='inner')\n",
    "merged_hard_df['timedelta']=merged_hard_df['hard_choice_time']-merged_hard_df['registration_time']\n",
    "print(merged_hard_df['timedelta'].describe())"
   ]
  },
  {
   "cell_type": "markdown",
   "metadata": {},
   "source": [
    "# Определение зависимости оплаты от выбранного уровня сложности"
   ]
  },
  {
   "cell_type": "markdown",
   "metadata": {},
   "source": [
    "### Процент совершивших оплату от числа пользователей, которые выбрали уровень easy"
   ]
  },
  {
   "cell_type": "code",
   "execution_count": 10,
   "metadata": {},
   "outputs": [
    {
     "name": "stdout",
     "output_type": "stream",
     "text": [
      "Процент совершивших оплату от числа пользователей, которые выбрали уровень easy: 7.72%\n",
      "Средний размер платежа: 114.94708994708995\n"
     ]
    }
   ],
   "source": [
    "persent_easy=len(purchase_easy_df)/len(level_choice_easy_df)\n",
    "print('Процент совершивших оплату от числа пользователей, которые выбрали уровень easy: {:.2%}'.format(persent_easy))\n",
    "print('Средний размер платежа: {}'.format(purchase_easy_df['amount'].mean()))"
   ]
  },
  {
   "cell_type": "markdown",
   "metadata": {},
   "source": [
    "### Процент совершивших оплату от числа пользователей, которые выбрали уровень medium"
   ]
  },
  {
   "cell_type": "code",
   "execution_count": 11,
   "metadata": {},
   "outputs": [
    {
     "name": "stdout",
     "output_type": "stream",
     "text": [
      "Процент совершивших оплату от числа пользователей, которые выбрали уровень medium: 20.86%\n",
      "Средний размер платежа: 109.52012383900929\n"
     ]
    }
   ],
   "source": [
    "persent_medium=len(purchase_medium_df)/len(level_choice_medium_df)\n",
    "print('Процент совершивших оплату от числа пользователей, которые выбрали уровень medium: {:.2%}'.format(persent_medium))\n",
    "print('Средний размер платежа: {}'.format(purchase_medium_df['amount'].mean()))"
   ]
  },
  {
   "cell_type": "markdown",
   "metadata": {},
   "source": [
    "### Процент совершивших оплату от числа пользователей, которые выбрали уровень hard"
   ]
  },
  {
   "cell_type": "code",
   "execution_count": 12,
   "metadata": {},
   "outputs": [
    {
     "name": "stdout",
     "output_type": "stream",
     "text": [
      "Процент совершивших оплату от числа пользователей, которые выбрали уровень medium: 35.39%\n",
      "Средний размер платежа: 111.59502262443439\n"
     ]
    }
   ],
   "source": [
    "persent_hard=len(purchase_hard_df)/len(level_choice_hard_df)\n",
    "print('Процент совершивших оплату от числа пользователей, которые выбрали уровень medium: {:.2%}'.format(persent_hard))\n",
    "print('Средний размер платежа: {}'.format(purchase_hard_df['amount'].mean()))"
   ]
  },
  {
   "cell_type": "markdown",
   "metadata": {},
   "source": [
    "# Выводы\n",
    "## 1.Существует ли разница во времени между событиями регистрации и оплаты для разных групп пользователей с разным уровнем сложности?\n",
    "### Уровень easy:\n",
    "Среднее время: 3 дня 22:10:23  \n",
    "Медианное время: 3 дня 11:00:23  \n",
    "### Уровень medium:\n",
    "Среднее время: 4 дня 06:12:06  \n",
    "Медианное время: 4 дня 03:35:26  \n",
    "### Уровень hard:\n",
    "Среднее время: 3 дня 14:55:19  \n",
    "Медианное время: 3 дня 10:10:04  \n",
    "  \n",
    "У пользователей, которые выбрали разных уровень сложности, нет значительной разницы во времени от момента регистрации до момента оплаты. Однако, быстрее всего оплачивают пакет вопросов пользователи, которые выбрали уровень hard, а медленнее всего плавичают пользователи, которые выбрали уровень medium.\n",
    "  \n",
    "## 2.Зависит ли вероятность оплаты от выбранного пользователем уровня сложности?\n",
    "### Уровень easy:\n",
    "Процент совершивших оплату от числа пользователей, которые выбрали уровень easy: 7.72%\n",
    "### Уровень medium:\n",
    "Процент совершивших оплату от числа пользователей, которые выбрали уровень medium: 20.86%\n",
    "### Уровень hard:\n",
    "Процент совершивших оплату от числа пользователей, которые выбрали уровень medium: 35.39%  \n",
    "  \n",
    "Есть прямая зависимость между выбором пользоваетелем уровня сложности и вероятности покупки пакета вопросов. Чем более высокий уровень сложности выбирает пользователь, тем выше вероятность покупки им пакета вопросов."
   ]
  }
 ],
 "metadata": {
  "kernelspec": {
   "display_name": "Python 3",
   "language": "python",
   "name": "python3"
  },
  "language_info": {
   "codemirror_mode": {
    "name": "ipython",
    "version": 3
   },
   "file_extension": ".py",
   "mimetype": "text/x-python",
   "name": "python",
   "nbconvert_exporter": "python",
   "pygments_lexer": "ipython3",
   "version": "3.8.8"
  }
 },
 "nbformat": 4,
 "nbformat_minor": 4
}
