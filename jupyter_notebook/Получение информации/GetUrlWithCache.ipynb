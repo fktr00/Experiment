{
 "cells": [
  {
   "cell_type": "code",
   "execution_count": null,
   "metadata": {},
   "outputs": [],
   "source": [
    "import urllib\n",
    "import sys\n",
    "import time\n",
    "\n",
    "cache = dict()\n",
    "\n",
    "def GetUrlWithCache(url):\n",
    "    startTime = time.time()\n",
    "\n",
    "    result = ''\n",
    "    if url in cache:\n",
    "        print(\"from cache\")\n",
    "        result = cache[url]\n",
    "    else:\n",
    "        print(\"from net\")\n",
    "        result = urllib.request.urlopen(url).read()\n",
    "        cache[url] = result\n",
    "\n",
    "    finishTime = time.time()\n",
    "    print(str((finishTime - startTime) * 1000) + \"ms\")\n",
    "\n",
    "    return result"
   ]
  },
  {
   "cell_type": "code",
   "execution_count": null,
   "metadata": {},
   "outputs": [],
   "source": [
    "GetUrlWithCache(\"https://www.youtube.com/\")"
   ]
  }
 ],
 "metadata": {
  "kernelspec": {
   "display_name": "Python 3",
   "language": "python",
   "name": "python3"
  },
  "language_info": {
   "name": "python",
   "version": "3.10.7 (tags/v3.10.7:6cc6b13, Sep  5 2022, 14:08:36) [MSC v.1933 64 bit (AMD64)]"
  },
  "orig_nbformat": 4,
  "vscode": {
   "interpreter": {
    "hash": "fb4569285eef3a3450cb62085a5b1e0da4bce0af555edc33dcf29baf3acc1368"
   }
  }
 },
 "nbformat": 4,
 "nbformat_minor": 2
}
