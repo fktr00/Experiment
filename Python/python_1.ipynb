{
 "cells": [
  {
   "cell_type": "markdown",
   "metadata": {},
   "source": [
    "# Python\n",
    "\n",
    "Workbook of Python *note one*."
   ]
  },
  {
   "cell_type": "markdown",
   "metadata": {},
   "source": [
    "###### 1"
   ]
  },
  {
   "cell_type": "markdown",
   "metadata": {},
   "source": [
    "|Operation|Syntax|Function|\n",
    "|-|-|-|\n",
    "|Addition|a + b|add(a, b)|\n",
    "|Concatenation|seq1 + seq2|concat(seq1, seq2)\n",
    "|Containment Test|obj in seq|contains(seq, obj)\n",
    "|Division|a / b|truediv(a, b)\n",
    "|Division|a // b|floordiv(a, b)\n",
    "|Bitwise And|a & b|and_(a, b)\n",
    "|Bitwise Exclusive Or|a ^ b|xor(a, b)\n",
    "|Bitwise Inversion|~ a|invert(a)\n",
    "|Bitwise Or|a \\| b|or_(a, b)\n",
    "|Exponentiation|a ** b|pow(a, b)\n",
    "|Identity|a is b|is_(a, b)\n",
    "|Identity|a is not b|is_not(a, b)\n",
    "|Indexed Assignment|obj[k] = v|setitem(obj, k, v)\n",
    "|Indexed Deletion|del obj[k]|delitem(obj, k)\n",
    "|Indexing|obj[k]|getitem(obj, k)\n",
    "|Left Shift|a << b|lshift(a, b)\n",
    "|Modulo|a % b|mod(a, b)\n",
    "|Multiplication|a * b|mul(a, b)\n",
    "|Matrix Multiplication|a @ b|matmul(a, b)\n",
    "|Negation (Arithmetic)|- a|neg(a)\n",
    "|Negation (Logical)|not a|not_(a)\n",
    "|Positive|+ a|pos(a)\n",
    "|Right Shift|a >> b|rshift(a, b)\n",
    "|Slice Assignment|seq[i:j] = values|setitem(seq, slice(i, j), values)\n",
    "|Slice Deletion|del seq[i:j]|delitem(seq, slice(i, j))\n",
    "|Slicing|seq[i:j]|getitem(seq, slice(i, j))\n",
    "|String Formatting|s % obj|mod(s, obj)\n",
    "|Subtraction|a - b|sub(a, b)\n",
    "|Truth Test|obj|truth(obj)\n",
    "|Ordering|a < b|lt(a, b)\n",
    "|Ordering|a <= b|le(a, b)\n",
    "|Equality|a == b|eq(a, b)\n",
    "|Difference|a != b|ne(a, b)\n",
    "|Ordering|a >= b|ge(a, b)\n",
    "|Ordering|a > b|gt(a, b)"
   ]
  },
  {
   "cell_type": "markdown",
   "metadata": {},
   "source": [
    "###### 2 [Built-in Types](https://docs.python.org/3/library/stdtypes.html#str)"
   ]
  },
  {
   "cell_type": "markdown",
   "metadata": {},
   "source": [
    "###### 3 "
   ]
  },
  {
   "cell_type": "code",
   "execution_count": 10,
   "metadata": {},
   "outputs": [
    {
     "name": "stdout",
     "output_type": "stream",
     "text": [
      "test\n",
      "Help on package test:\n",
      "\n",
      "NAME\n",
      "    test - # Dummy file to make this directory a package.\n",
      "\n",
      "MODULE REFERENCE\n",
      "    https://docs.python.org/3.11/library/test.html\n",
      "    \n",
      "    The following documentation is automatically generated from the Python\n",
      "    source files.  It may be incomplete, incorrect or include features that\n",
      "    are considered implementation detail and may vary between Python\n",
      "    implementations.  When in doubt, consult the module reference at the\n",
      "    location listed above.\n",
      "\n",
      "PACKAGE CONTENTS\n",
      "    support (package)\n",
      "\n",
      "FILE\n",
      "    d:\\anaconda3\\lib\\test\\__init__.py\n",
      "\n",
      "\n"
     ]
    }
   ],
   "source": [
    "# tests\n",
    "print('test') \n",
    "type('test') #str\n",
    "help('test') #*!%^@&"
   ]
  },
  {
   "cell_type": "markdown",
   "metadata": {},
   "source": [
    "###### 4\n",
    "\n",
    "[`pprint()`](https://docs.python.org/3/library/pprint.html?highlight=print#module-pprint)"
   ]
  },
  {
   "cell_type": "markdown",
   "metadata": {},
   "source": [
    "###### 5\n",
    "\n",
    "`pip install` vs `python -m pip install` \n",
    "When installing packages using pip, the [recommended approach](https://docs.python.org/3/installing/index.html) is to use `python -m pip install` instead of `pip install`. Refer the [Installing Python Modules](https://docs.python.org/3/installing/index.html) documentation.\n",
    "\n",
    "`!pip install` vs `%pip install` \n",
    "Any command prefixed with `!` is treated as a shell command in Jupyter cells. Thus `!pip install <module>` is treated as a simple shell command that translates to `pip install <module>`. However the recommendation is to use `python -m pip install <module>`. To get this desired behavior one must use `%pip install <module>`\n",
    "\n",
    "`%conda install`\n",
    "However when installing packages in Jupyter into a conda environment, use of `conda install` is preferred over `pip install`. Hence its highly recommended that one use `%conda install` in jupyter notebooks when dealing with Conda enviornments.\n",
    "\n",
    "More information\n",
    "See here for further details https://jakevdp.github.io/blog/2017/12/05/installing-python-packages-from-jupyter/"
   ]
  },
  {
   "cell_type": "markdown",
   "metadata": {},
   "source": [
    "6 [operation order](https://www.mathsisfun.com/operation-order-pemdas.html)\n",
    "\n",
    "left to right ==>\n",
    "\n",
    "1. P Parentheses first \"()\"\n",
    "2. E Exponents (ie Powers and Square Roots, etc.) \"**\"\n",
    "3. MD Multiplication and Division (left-to-right) \"*,/\"\n",
    "4. AS Addition and Subtraction (left-to-right) \"+,-\"\n",
    "\n",
    "Divide and Multiply rank equally (and go left to right).\n",
    "\n",
    "Add and Subtract rank equally (and go left to right)\n",
    "\n",
    "![text][def]\n",
    "\n",
    "After you have done \"P\" and \"E\", just go from left to right doing any \"M\" or \"D\" as you find them.\n",
    "\n",
    "Then go from left to right doing any \"A\" or \"S\" as you find them.\n",
    "\n",
    "\n",
    "\n",
    "[def]: https://www.mathsisfun.com/algebra/images/pemdas.svg"
   ]
  }
 ],
 "metadata": {
  "kernelspec": {
   "display_name": "base",
   "language": "python",
   "name": "python3"
  },
  "language_info": {
   "codemirror_mode": {
    "name": "ipython",
    "version": 3
   },
   "file_extension": ".py",
   "mimetype": "text/x-python",
   "name": "python",
   "nbconvert_exporter": "python",
   "pygments_lexer": "ipython3",
   "version": "3.11.5"
  },
  "orig_nbformat": 4
 },
 "nbformat": 4,
 "nbformat_minor": 2
}
