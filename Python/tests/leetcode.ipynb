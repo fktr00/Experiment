{
 "cells": [
  {
   "cell_type": "code",
   "execution_count": 46,
   "metadata": {},
   "outputs": [],
   "source": [
    "from typing import Optional, List\n",
    "\n",
    "\n",
    "# Definition for a binary tree node.\n",
    "class TreeNode:\n",
    "    def __init__(self, val=0, left=None, right=None):\n",
    "        self.val = val\n",
    "        self.left = left\n",
    "        self.right = right\n",
    "\n",
    "\n",
    "def list_to_tree(lst: List[Optional[int]]) -> Optional[TreeNode]:\n",
    "    if not lst:\n",
    "        return None\n",
    "\n",
    "    nodes = [None if val is None else TreeNode(val) for val in lst]\n",
    "\n",
    "    root = nodes[0]\n",
    "    queue = [root]\n",
    "    index = 1\n",
    "\n",
    "    while queue and index < len(lst):\n",
    "        node = queue.pop(0)\n",
    "\n",
    "        if node is not None:\n",
    "            node.left = nodes[index]\n",
    "            index += 1\n",
    "            queue.append(node.left)\n",
    "\n",
    "            if index < len(lst):\n",
    "                node.right = nodes[index]\n",
    "                index += 1\n",
    "                queue.append(node.right)\n",
    "\n",
    "    return root\n",
    "\n",
    "\n",
    "# Test the function with the given list\n",
    "input_list = [3, 9, 20, None, None, 15, 7]\n",
    "root = list_to_tree(input_list)\n",
    "\n",
    "\n",
    "class Solution:\n",
    "    def sumOfLeftLeaves(self, root: Optional[TreeNode]) -> int:\n",
    "\n",
    "        total = 0\n",
    "        stack = [(root, 0)]\n",
    "        while stack:\n",
    "            root, pos = stack.pop()\n",
    "            if pos and not root.left and not root.right:\n",
    "                total += root.val\n",
    "            if root.left:\n",
    "                stack.append((root.left, 1))\n",
    "            if root.right:\n",
    "                stack.append((root.right, 0))\n",
    "\n",
    "        return total"
   ]
  },
  {
   "cell_type": "code",
   "execution_count": 47,
   "metadata": {},
   "outputs": [
    {
     "data": {
      "text/plain": [
       "24"
      ]
     },
     "execution_count": 47,
     "metadata": {},
     "output_type": "execute_result"
    }
   ],
   "source": [
    "Solution.sumOfLeftLeaves(\n",
    "    self=Solution, root=list_to_tree([3, 9, 20, None, None, 15, 7])\n",
    ")\n",
    "\n",
    "\n",
    "# 6"
   ]
  }
 ],
 "metadata": {
  "kernelspec": {
   "display_name": "base",
   "language": "python",
   "name": "python3"
  },
  "language_info": {
   "codemirror_mode": {
    "name": "ipython",
    "version": 3
   },
   "file_extension": ".py",
   "mimetype": "text/x-python",
   "name": "python",
   "nbconvert_exporter": "python",
   "pygments_lexer": "ipython3",
   "version": "3.11.7"
  }
 },
 "nbformat": 4,
 "nbformat_minor": 2
}
