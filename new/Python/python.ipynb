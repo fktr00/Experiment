{
 "cells": [
  {
   "cell_type": "markdown",
   "metadata": {},
   "source": [
    "# 1.1 Python\n",
    "\n",
    "Workbook of Python *note one*.\n",
    "\n",
    "\n",
    "###### 1.1.1 Standard operators as functions"
   ]
  },
  {
   "cell_type": "markdown",
   "metadata": {},
   "source": [
    "|Operation|Syntax|Function|\n",
    "|-|-|-|\n",
    "|Addition|a + b|add(a, b)|\n",
    "|Concatenation|seq1 + seq2|concat(seq1, seq2)\n",
    "|Containment Test|obj in seq|contains(seq, obj)\n",
    "|Division|a / b|truediv(a, b)\n",
    "|Division|a // b|floordiv(a, b)\n",
    "|Bitwise And|a & b|and_(a, b)\n",
    "|Bitwise Exclusive Or|a ^ b|xor(a, b)\n",
    "|Bitwise Inversion|~ a|invert(a)\n",
    "|Bitwise Or|a \\| b|or_(a, b)\n",
    "|Exponentiation|a ** b|pow(a, b)\n",
    "|Identity|a is b|is_(a, b)\n",
    "|Identity|a is not b|is_not(a, b)\n",
    "|Indexed Assignment|obj[k] = v|setitem(obj, k, v)\n",
    "|Indexed Deletion|del obj[k]|delitem(obj, k)\n",
    "|Indexing|obj[k]|getitem(obj, k)\n",
    "|Left Shift|a << b|lshift(a, b)\n",
    "|Modulo|a % b|mod(a, b)\n",
    "|Multiplication|a * b|mul(a, b)\n",
    "|Matrix Multiplication|a @ b|matmul(a, b)\n",
    "|Negation (Arithmetic)|- a|neg(a)\n",
    "|Negation (Logical)|not a|not_(a)\n",
    "|Positive|+ a|pos(a)\n",
    "|Right Shift|a >> b|rshift(a, b)\n",
    "|Slice Assignment|seq[i:j] = values|setitem(seq, slice(i, j), values)\n",
    "|Slice Deletion|del seq[i:j]|delitem(seq, slice(i, j))\n",
    "|Slicing|seq[i:j]|getitem(seq, slice(i, j))\n",
    "|String Formatting|s % obj|mod(s, obj)\n",
    "|Subtraction|a - b|sub(a, b)\n",
    "|Truth Test|obj|truth(obj)\n",
    "|Ordering|a < b|lt(a, b)\n",
    "|Ordering|a <= b|le(a, b)\n",
    "|Equality|a == b|eq(a, b)\n",
    "|Difference|a != b|ne(a, b)\n",
    "|Ordering|a >= b|ge(a, b)\n",
    "|Ordering|a > b|gt(a, b)"
   ]
  }
 ],
 "metadata": {
  "language_info": {
   "name": "python"
  },
  "orig_nbformat": 4
 },
 "nbformat": 4,
 "nbformat_minor": 2
}
