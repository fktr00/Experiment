{
 "cells": [
  {
   "cell_type": "code",
   "execution_count": 1,
   "metadata": {},
   "outputs": [
    {
     "name": "stdout",
     "output_type": "stream",
     "text": [
      "Collecting unrpa\n",
      "  Downloading unrpa-2.3.0-py3-none-any.whl.metadata (5.8 kB)\n",
      "Downloading unrpa-2.3.0-py3-none-any.whl (27 kB)\n",
      "Installing collected packages: unrpa\n",
      "Successfully installed unrpa-2.3.0\n"
     ]
    }
   ],
   "source": [
    "!pip install \"unrpa\"\n",
    "import unrpa"
   ]
  },
  {
   "cell_type": "code",
   "execution_count": null,
   "metadata": {},
   "outputs": [],
   "source": [
    "!unrpa -mp \"\\to\" \"Images.rpa\""
   ]
  },
  {
   "cell_type": "code",
   "execution_count": null,
   "metadata": {},
   "outputs": [],
   "source": [
    "!unrpa -mp \"\\to\" \"Animations.rpa\""
   ]
  },
  {
   "cell_type": "code",
   "execution_count": null,
   "metadata": {},
   "outputs": [],
   "source": [
    "!unrpa -mp \"\\to\" H:\\...\\Fonts.rpa"
   ]
  },
  {
   "cell_type": "code",
   "execution_count": 2,
   "metadata": {},
   "outputs": [
    {
     "name": "stdout",
     "output_type": "stream",
     "text": [
      "'First notebook.ipynb'\t     'Unzipping .rpa arhive.ipynb'\n",
      " GD-3_Zhitkova_Marina.ipynb\n"
     ]
    }
   ],
   "source": [
    "!ls"
   ]
  },
  {
   "cell_type": "code",
   "execution_count": 5,
   "metadata": {},
   "outputs": [
    {
     "name": "stdout",
     "output_type": "stream",
     "text": [
      "usage: unrpa [-h] [-v] [-s] [-l | -t] [-p PATH] [-m] [--version]\n",
      "             [--continue-on-error] [-f VERSION] [-o OFFSET] [-k KEY]\n",
      "             FILENAME [FILENAME ...]\n",
      "unrpa: error: No such file: “~/Downloads/Stormside-v0.23.1.2-win/game/images.rpa”.\n"
     ]
    }
   ],
   "source": [
    "!unrpa -mp \"~\\home\\oleksii\\Downloads\\to\\2\" \"~/Downloads/Stormside-v0.23.1.2-win/game/images.rpa\""
   ]
  }
 ],
 "metadata": {
  "kernelspec": {
   "display_name": ".venv",
   "language": "python",
   "name": "python3"
  },
  "language_info": {
   "codemirror_mode": {
    "name": "ipython",
    "version": 3
   },
   "file_extension": ".py",
   "mimetype": "text/x-python",
   "name": "python",
   "nbconvert_exporter": "python",
   "pygments_lexer": "ipython3",
   "version": "3.12.3"
  }
 },
 "nbformat": 4,
 "nbformat_minor": 4
}
