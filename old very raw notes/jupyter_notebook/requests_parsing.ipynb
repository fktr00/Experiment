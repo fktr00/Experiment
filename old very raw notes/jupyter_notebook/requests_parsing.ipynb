{
 "cells": [
  {
   "cell_type": "code",
   "execution_count": 30,
   "metadata": {},
   "outputs": [],
   "source": [
    "import requests\n",
    "from pprint import pprint\n",
    "\n",
    "response = requests.get(\"https://www.cbr-xml-daily.ru/daily_json.js\")"
   ]
  },
  {
   "cell_type": "code",
   "execution_count": 31,
   "metadata": {},
   "outputs": [
    {
     "name": "stdout",
     "output_type": "stream",
     "text": [
      "<Response [200]>\n"
     ]
    }
   ],
   "source": [
    "print(response)"
   ]
  },
  {
   "cell_type": "code",
   "execution_count": 32,
   "metadata": {},
   "outputs": [
    {
     "name": "stdout",
     "output_type": "stream",
     "text": [
      "200\n"
     ]
    }
   ],
   "source": [
    "print(response.status_code)"
   ]
  },
  {
   "cell_type": "code",
   "execution_count": 33,
   "metadata": {},
   "outputs": [
    {
     "name": "stdout",
     "output_type": "stream",
     "text": [
      "{\n",
      "    \"Date\": \"2021-11-20T11:30:00+03:00\",\n",
      "    \"PreviousDate\": \"2021-11-19T11:30:00+03:00\",\n",
      "    \"PreviousURL\": \"\\/\\/www.cbr-xml-daily.ru\\/archive\\/2021\\/11\\/19\\/daily_json.js\",\n",
      "    \"Timestamp\": \"2021-11-20T23:00:00+03:00\",\n",
      "    \"Valute\": {\n",
      "        \"AUD\": {\n",
      "            \"ID\": \"R01010\",\n",
      "            \"NumCode\": \"036\",\n",
      "            \"CharCode\": \"AUD\",\n",
      "            \"Nominal\": 1,\n",
      "            \"Name\": \"Австралийский доллар\",\n",
      "            \"Value\": 52.9851,\n",
      "            \"Previous\": 52.9052\n",
      "        },\n",
      "        \"AZN\": {\n",
      "            \"ID\": \"R01020A\",\n",
      "            \"NumCode\": \"944\",\n",
      "            \"CharCode\": \"AZN\",\n",
      "            \"Nominal\": 1,\n",
      "            \"Name\": \"Азербайджанский манат\",\n",
      "            \"Value\": 42.8262,\n",
      "            \"Previous\": 42.7323\n",
      "        },\n",
      "        \"GBP\": {\n",
      "            \"ID\": \"R01035\",\n",
      "            \"NumCode\": \"826\",\n",
      "            \"CharCode\": \"GBP\",\n",
      "            \"Nominal\": 1,\n",
      "            \"Name\": \"Фунт стерлингов Соединенного королевства\",\n",
      "            \"Value\": 98.141,\n",
      "            \"Previous\": 98.0202\n",
      "        },\n",
      "        \"AMD\": {\n",
      "            \"ID\": \"R01060\",\n",
      "            \"NumCode\": \"051\",\n",
      "            \"CharCode\": \"AMD\",\n",
      "            \"Nominal\": 100,\n",
      "            \"Name\": \"Армянских драмов\",\n",
      "            \"Value\": 15.2508,\n",
      "            \"Previous\": 15.2398\n",
      "        },\n",
      "        \"BYN\": {\n",
      "            \"ID\": \"R01090B\",\n",
      "            \"NumCode\": \"933\",\n",
      "            \"CharCode\": \"BYN\",\n",
      "            \"Nominal\": 1,\n",
      "            \"Name\": \"Белорусский рубль\",\n",
      "            \"Value\": 29.4868,\n",
      "            \"Previous\": 29.4162\n",
      "        },\n",
      "        \"BGN\": {\n",
      "            \"ID\": \"R01100\",\n",
      "            \"NumCode\": \"975\",\n",
      "            \"CharCode\": \"BGN\",\n",
      "            \"Nominal\": 1,\n",
      "            \"Name\": \"Болгарский лев\",\n",
      "            \"Value\": 42.1734,\n",
      "            \"Previous\": 42.0858\n",
      "        },\n",
      "        \"BRL\": {\n",
      "            \"ID\": \"R01115\",\n",
      "            \"NumCode\": \"986\",\n",
      "            \"CharCode\": \"BRL\",\n",
      "            \"Nominal\": 1,\n",
      "            \"Name\": \"Бразильский реал\",\n",
      "            \"Value\": 13.0911,\n",
      "            \"Previous\": 13.1295\n",
      "        },\n",
      "        \"HUF\": {\n",
      "            \"ID\": \"R01135\",\n",
      "            \"NumCode\": \"348\",\n",
      "            \"CharCode\": \"HUF\",\n",
      "            \"Nominal\": 100,\n",
      "            \"Name\": \"Венгерских форинтов\",\n",
      "            \"Value\": 22.6792,\n",
      "            \"Previous\": 22.6468\n",
      "        },\n",
      "        \"HKD\": {\n",
      "            \"ID\": \"R01200\",\n",
      "            \"NumCode\": \"344\",\n",
      "            \"CharCode\": \"HKD\",\n",
      "            \"Nominal\": 10,\n",
      "            \"Name\": \"Гонконгских долларов\",\n",
      "            \"Value\": 93.3752,\n",
      "            \"Previous\": 93.21\n",
      "        },\n",
      "        \"DKK\": {\n",
      "            \"ID\": \"R01215\",\n",
      "            \"NumCode\": \"208\",\n",
      "            \"CharCode\": \"DKK\",\n",
      "            \"Nominal\": 1,\n",
      "            \"Name\": \"Датская крона\",\n",
      "            \"Value\": 11.0919,\n",
      "            \"Previous\": 11.0699\n",
      "        },\n",
      "        \"USD\": {\n",
      "            \"ID\": \"R01235\",\n",
      "            \"NumCode\": \"840\",\n",
      "            \"CharCode\": \"USD\",\n",
      "            \"Nominal\": 1,\n",
      "            \"Name\": \"Доллар США\",\n",
      "            \"Value\": 72.7617,\n",
      "            \"Previous\": 72.6022\n",
      "        },\n",
      "        \"EUR\": {\n",
      "            \"ID\": \"R01239\",\n",
      "            \"NumCode\": \"978\",\n",
      "            \"CharCode\": \"EUR\",\n",
      "            \"Nominal\": 1,\n",
      "            \"Name\": \"Евро\",\n",
      "            \"Value\": 82.5845,\n",
      "            \"Previous\": 82.2583\n",
      "        },\n",
      "        \"INR\": {\n",
      "            \"ID\": \"R01270\",\n",
      "            \"NumCode\": \"356\",\n",
      "            \"CharCode\": \"INR\",\n",
      "            \"Nominal\": 100,\n",
      "            \"Name\": \"Индийских рупий\",\n",
      "            \"Value\": 98.0444,\n",
      "            \"Previous\": 97.8334\n",
      "        },\n",
      "        \"KZT\": {\n",
      "            \"ID\": \"R01335\",\n",
      "            \"NumCode\": \"398\",\n",
      "            \"CharCode\": \"KZT\",\n",
      "            \"Nominal\": 100,\n",
      "            \"Name\": \"Казахстанских тенге\",\n",
      "            \"Value\": 16.8391,\n",
      "            \"Previous\": 16.7518\n",
      "        },\n",
      "        \"CAD\": {\n",
      "            \"ID\": \"R01350\",\n",
      "            \"NumCode\": \"124\",\n",
      "            \"CharCode\": \"CAD\",\n",
      "            \"Nominal\": 1,\n",
      "            \"Name\": \"Канадский доллар\",\n",
      "            \"Value\": 57.7474,\n",
      "            \"Previous\": 57.5751\n",
      "        },\n",
      "        \"KGS\": {\n",
      "            \"ID\": \"R01370\",\n",
      "            \"NumCode\": \"417\",\n",
      "            \"CharCode\": \"KGS\",\n",
      "            \"Nominal\": 100,\n",
      "            \"Name\": \"Киргизских сомов\",\n",
      "            \"Value\": 85.7764,\n",
      "            \"Previous\": 85.5993\n",
      "        },\n",
      "        \"CNY\": {\n",
      "            \"ID\": \"R01375\",\n",
      "            \"NumCode\": \"156\",\n",
      "            \"CharCode\": \"CNY\",\n",
      "            \"Nominal\": 1,\n",
      "            \"Name\": \"Китайский юань\",\n",
      "            \"Value\": 11.4016,\n",
      "            \"Previous\": 11.3773\n",
      "        },\n",
      "        \"MDL\": {\n",
      "            \"ID\": \"R01500\",\n",
      "            \"NumCode\": \"498\",\n",
      "            \"CharCode\": \"MDL\",\n",
      "            \"Nominal\": 10,\n",
      "            \"Name\": \"Молдавских леев\",\n",
      "            \"Value\": 41.1315,\n",
      "            \"Previous\": 41.0599\n",
      "        },\n",
      "        \"NOK\": {\n",
      "            \"ID\": \"R01535\",\n",
      "            \"NumCode\": \"578\",\n",
      "            \"CharCode\": \"NOK\",\n",
      "            \"Nominal\": 10,\n",
      "            \"Name\": \"Норвежских крон\",\n",
      "            \"Value\": 82.5187,\n",
      "            \"Previous\": 82.9465\n",
      "        },\n",
      "        \"PLN\": {\n",
      "            \"ID\": \"R01565\",\n",
      "            \"NumCode\": \"985\",\n",
      "            \"CharCode\": \"PLN\",\n",
      "            \"Nominal\": 1,\n",
      "            \"Name\": \"Польский злотый\",\n",
      "            \"Value\": 17.6666,\n",
      "            \"Previous\": 17.6884\n",
      "        },\n",
      "        \"RON\": {\n",
      "            \"ID\": \"R01585F\",\n",
      "            \"NumCode\": \"946\",\n",
      "            \"CharCode\": \"RON\",\n",
      "            \"Nominal\": 1,\n",
      "            \"Name\": \"Румынский лей\",\n",
      "            \"Value\": 16.6663,\n",
      "            \"Previous\": 16.6309\n",
      "        },\n",
      "        \"XDR\": {\n",
      "            \"ID\": \"R01589\",\n",
      "            \"NumCode\": \"960\",\n",
      "            \"CharCode\": \"XDR\",\n",
      "            \"Nominal\": 1,\n",
      "            \"Name\": \"СДР (специальные права заимствования)\",\n",
      "            \"Value\": 101.9217,\n",
      "            \"Previous\": 101.5944\n",
      "        },\n",
      "        \"SGD\": {\n",
      "            \"ID\": \"R01625\",\n",
      "            \"NumCode\": \"702\",\n",
      "            \"CharCode\": \"SGD\",\n",
      "            \"Nominal\": 1,\n",
      "            \"Name\": \"Сингапурский доллар\",\n",
      "            \"Value\": 53.5288,\n",
      "            \"Previous\": 53.5178\n",
      "        },\n",
      "        \"TJS\": {\n",
      "            \"ID\": \"R01670\",\n",
      "            \"NumCode\": \"972\",\n",
      "            \"CharCode\": \"TJS\",\n",
      "            \"Nominal\": 10,\n",
      "            \"Name\": \"Таджикских сомони\",\n",
      "            \"Value\": 64.4194,\n",
      "            \"Previous\": 64.3351\n",
      "        },\n",
      "        \"TRY\": {\n",
      "            \"ID\": \"R01700J\",\n",
      "            \"NumCode\": \"949\",\n",
      "            \"CharCode\": \"TRY\",\n",
      "            \"Nominal\": 10,\n",
      "            \"Name\": \"Турецких лир\",\n",
      "            \"Value\": 66.6255,\n",
      "            \"Previous\": 67.5665\n",
      "        },\n",
      "        \"TMT\": {\n",
      "            \"ID\": \"R01710A\",\n",
      "            \"NumCode\": \"934\",\n",
      "            \"CharCode\": \"TMT\",\n",
      "            \"Nominal\": 1,\n",
      "            \"Name\": \"Новый туркменский манат\",\n",
      "            \"Value\": 20.8188,\n",
      "            \"Previous\": 20.7732\n",
      "        },\n",
      "        \"UZS\": {\n",
      "            \"ID\": \"R01717\",\n",
      "            \"NumCode\": \"860\",\n",
      "            \"CharCode\": \"UZS\",\n",
      "            \"Nominal\": 10000,\n",
      "            \"Name\": \"Узбекских сумов\",\n",
      "            \"Value\": 67.5715,\n",
      "            \"Previous\": 67.5039\n",
      "        },\n",
      "        \"UAH\": {\n",
      "            \"ID\": \"R01720\",\n",
      "            \"NumCode\": \"980\",\n",
      "            \"CharCode\": \"UAH\",\n",
      "            \"Nominal\": 10,\n",
      "            \"Name\": \"Украинских гривен\",\n",
      "            \"Value\": 27.3877,\n",
      "            \"Previous\": 27.4891\n",
      "        },\n",
      "        \"CZK\": {\n",
      "            \"ID\": \"R01760\",\n",
      "            \"NumCode\": \"203\",\n",
      "            \"CharCode\": \"CZK\",\n",
      "            \"Nominal\": 10,\n",
      "            \"Name\": \"Чешских крон\",\n",
      "            \"Value\": 32.6044,\n",
      "            \"Previous\": 32.6258\n",
      "        },\n",
      "        \"SEK\": {\n",
      "            \"ID\": \"R01770\",\n",
      "            \"NumCode\": \"752\",\n",
      "            \"CharCode\": \"SEK\",\n",
      "            \"Nominal\": 10,\n",
      "            \"Name\": \"Шведских крон\",\n",
      "            \"Value\": 81.7547,\n",
      "            \"Previous\": 82.0475\n",
      "        },\n",
      "        \"CHF\": {\n",
      "            \"ID\": \"R01775\",\n",
      "            \"NumCode\": \"756\",\n",
      "            \"CharCode\": \"CHF\",\n",
      "            \"Nominal\": 1,\n",
      "            \"Name\": \"Швейцарский франк\",\n",
      "            \"Value\": 78.4493,\n",
      "            \"Previous\": 78.2604\n",
      "        },\n",
      "        \"ZAR\": {\n",
      "            \"ID\": \"R01810\",\n",
      "            \"NumCode\": \"710\",\n",
      "            \"CharCode\": \"ZAR\",\n",
      "            \"Nominal\": 10,\n",
      "            \"Name\": \"Южноафриканских рэндов\",\n",
      "            \"Value\": 46.5559,\n",
      "            \"Previous\": 46.7638\n",
      "        },\n",
      "        \"KRW\": {\n",
      "            \"ID\": \"R01815\",\n",
      "            \"NumCode\": \"410\",\n",
      "            \"CharCode\": \"KRW\",\n",
      "            \"Nominal\": 1000,\n",
      "            \"Name\": \"Вон Республики Корея\",\n",
      "            \"Value\": 61.3821,\n",
      "            \"Previous\": 61.5247\n",
      "        },\n",
      "        \"JPY\": {\n",
      "            \"ID\": \"R01820\",\n",
      "            \"NumCode\": \"392\",\n",
      "            \"CharCode\": \"JPY\",\n",
      "            \"Nominal\": 100,\n",
      "            \"Name\": \"Японских иен\",\n",
      "            \"Value\": 63.5695,\n",
      "            \"Previous\": 63.6275\n",
      "        }\n",
      "    }\n",
      "}\n"
     ]
    }
   ],
   "source": [
    "print(response.text)"
   ]
  },
  {
   "cell_type": "code",
   "execution_count": 34,
   "metadata": {},
   "outputs": [
    {
     "name": "stdout",
     "output_type": "stream",
     "text": [
      "{'Date': '2021-11-20T11:30:00+03:00',\n",
      " 'PreviousDate': '2021-11-19T11:30:00+03:00',\n",
      " 'PreviousURL': '//www.cbr-xml-daily.ru/archive/2021/11/19/daily_json.js',\n",
      " 'Timestamp': '2021-11-20T23:00:00+03:00',\n",
      " 'Valute': {'AMD': {'CharCode': 'AMD',\n",
      "                    'ID': 'R01060',\n",
      "                    'Name': 'Армянских драмов',\n",
      "                    'Nominal': 100,\n",
      "                    'NumCode': '051',\n",
      "                    'Previous': 15.2398,\n",
      "                    'Value': 15.2508},\n",
      "            'AUD': {'CharCode': 'AUD',\n",
      "                    'ID': 'R01010',\n",
      "                    'Name': 'Австралийский доллар',\n",
      "                    'Nominal': 1,\n",
      "                    'NumCode': '036',\n",
      "                    'Previous': 52.9052,\n",
      "                    'Value': 52.9851},\n",
      "            'AZN': {'CharCode': 'AZN',\n",
      "                    'ID': 'R01020A',\n",
      "                    'Name': 'Азербайджанский манат',\n",
      "                    'Nominal': 1,\n",
      "                    'NumCode': '944',\n",
      "                    'Previous': 42.7323,\n",
      "                    'Value': 42.8262},\n",
      "            'BGN': {'CharCode': 'BGN',\n",
      "                    'ID': 'R01100',\n",
      "                    'Name': 'Болгарский лев',\n",
      "                    'Nominal': 1,\n",
      "                    'NumCode': '975',\n",
      "                    'Previous': 42.0858,\n",
      "                    'Value': 42.1734},\n",
      "            'BRL': {'CharCode': 'BRL',\n",
      "                    'ID': 'R01115',\n",
      "                    'Name': 'Бразильский реал',\n",
      "                    'Nominal': 1,\n",
      "                    'NumCode': '986',\n",
      "                    'Previous': 13.1295,\n",
      "                    'Value': 13.0911},\n",
      "            'BYN': {'CharCode': 'BYN',\n",
      "                    'ID': 'R01090B',\n",
      "                    'Name': 'Белорусский рубль',\n",
      "                    'Nominal': 1,\n",
      "                    'NumCode': '933',\n",
      "                    'Previous': 29.4162,\n",
      "                    'Value': 29.4868},\n",
      "            'CAD': {'CharCode': 'CAD',\n",
      "                    'ID': 'R01350',\n",
      "                    'Name': 'Канадский доллар',\n",
      "                    'Nominal': 1,\n",
      "                    'NumCode': '124',\n",
      "                    'Previous': 57.5751,\n",
      "                    'Value': 57.7474},\n",
      "            'CHF': {'CharCode': 'CHF',\n",
      "                    'ID': 'R01775',\n",
      "                    'Name': 'Швейцарский франк',\n",
      "                    'Nominal': 1,\n",
      "                    'NumCode': '756',\n",
      "                    'Previous': 78.2604,\n",
      "                    'Value': 78.4493},\n",
      "            'CNY': {'CharCode': 'CNY',\n",
      "                    'ID': 'R01375',\n",
      "                    'Name': 'Китайский юань',\n",
      "                    'Nominal': 1,\n",
      "                    'NumCode': '156',\n",
      "                    'Previous': 11.3773,\n",
      "                    'Value': 11.4016},\n",
      "            'CZK': {'CharCode': 'CZK',\n",
      "                    'ID': 'R01760',\n",
      "                    'Name': 'Чешских крон',\n",
      "                    'Nominal': 10,\n",
      "                    'NumCode': '203',\n",
      "                    'Previous': 32.6258,\n",
      "                    'Value': 32.6044},\n",
      "            'DKK': {'CharCode': 'DKK',\n",
      "                    'ID': 'R01215',\n",
      "                    'Name': 'Датская крона',\n",
      "                    'Nominal': 1,\n",
      "                    'NumCode': '208',\n",
      "                    'Previous': 11.0699,\n",
      "                    'Value': 11.0919},\n",
      "            'EUR': {'CharCode': 'EUR',\n",
      "                    'ID': 'R01239',\n",
      "                    'Name': 'Евро',\n",
      "                    'Nominal': 1,\n",
      "                    'NumCode': '978',\n",
      "                    'Previous': 82.2583,\n",
      "                    'Value': 82.5845},\n",
      "            'GBP': {'CharCode': 'GBP',\n",
      "                    'ID': 'R01035',\n",
      "                    'Name': 'Фунт стерлингов Соединенного королевства',\n",
      "                    'Nominal': 1,\n",
      "                    'NumCode': '826',\n",
      "                    'Previous': 98.0202,\n",
      "                    'Value': 98.141},\n",
      "            'HKD': {'CharCode': 'HKD',\n",
      "                    'ID': 'R01200',\n",
      "                    'Name': 'Гонконгских долларов',\n",
      "                    'Nominal': 10,\n",
      "                    'NumCode': '344',\n",
      "                    'Previous': 93.21,\n",
      "                    'Value': 93.3752},\n",
      "            'HUF': {'CharCode': 'HUF',\n",
      "                    'ID': 'R01135',\n",
      "                    'Name': 'Венгерских форинтов',\n",
      "                    'Nominal': 100,\n",
      "                    'NumCode': '348',\n",
      "                    'Previous': 22.6468,\n",
      "                    'Value': 22.6792},\n",
      "            'INR': {'CharCode': 'INR',\n",
      "                    'ID': 'R01270',\n",
      "                    'Name': 'Индийских рупий',\n",
      "                    'Nominal': 100,\n",
      "                    'NumCode': '356',\n",
      "                    'Previous': 97.8334,\n",
      "                    'Value': 98.0444},\n",
      "            'JPY': {'CharCode': 'JPY',\n",
      "                    'ID': 'R01820',\n",
      "                    'Name': 'Японских иен',\n",
      "                    'Nominal': 100,\n",
      "                    'NumCode': '392',\n",
      "                    'Previous': 63.6275,\n",
      "                    'Value': 63.5695},\n",
      "            'KGS': {'CharCode': 'KGS',\n",
      "                    'ID': 'R01370',\n",
      "                    'Name': 'Киргизских сомов',\n",
      "                    'Nominal': 100,\n",
      "                    'NumCode': '417',\n",
      "                    'Previous': 85.5993,\n",
      "                    'Value': 85.7764},\n",
      "            'KRW': {'CharCode': 'KRW',\n",
      "                    'ID': 'R01815',\n",
      "                    'Name': 'Вон Республики Корея',\n",
      "                    'Nominal': 1000,\n",
      "                    'NumCode': '410',\n",
      "                    'Previous': 61.5247,\n",
      "                    'Value': 61.3821},\n",
      "            'KZT': {'CharCode': 'KZT',\n",
      "                    'ID': 'R01335',\n",
      "                    'Name': 'Казахстанских тенге',\n",
      "                    'Nominal': 100,\n",
      "                    'NumCode': '398',\n",
      "                    'Previous': 16.7518,\n",
      "                    'Value': 16.8391},\n",
      "            'MDL': {'CharCode': 'MDL',\n",
      "                    'ID': 'R01500',\n",
      "                    'Name': 'Молдавских леев',\n",
      "                    'Nominal': 10,\n",
      "                    'NumCode': '498',\n",
      "                    'Previous': 41.0599,\n",
      "                    'Value': 41.1315},\n",
      "            'NOK': {'CharCode': 'NOK',\n",
      "                    'ID': 'R01535',\n",
      "                    'Name': 'Норвежских крон',\n",
      "                    'Nominal': 10,\n",
      "                    'NumCode': '578',\n",
      "                    'Previous': 82.9465,\n",
      "                    'Value': 82.5187},\n",
      "            'PLN': {'CharCode': 'PLN',\n",
      "                    'ID': 'R01565',\n",
      "                    'Name': 'Польский злотый',\n",
      "                    'Nominal': 1,\n",
      "                    'NumCode': '985',\n",
      "                    'Previous': 17.6884,\n",
      "                    'Value': 17.6666},\n",
      "            'RON': {'CharCode': 'RON',\n",
      "                    'ID': 'R01585F',\n",
      "                    'Name': 'Румынский лей',\n",
      "                    'Nominal': 1,\n",
      "                    'NumCode': '946',\n",
      "                    'Previous': 16.6309,\n",
      "                    'Value': 16.6663},\n",
      "            'SEK': {'CharCode': 'SEK',\n",
      "                    'ID': 'R01770',\n",
      "                    'Name': 'Шведских крон',\n",
      "                    'Nominal': 10,\n",
      "                    'NumCode': '752',\n",
      "                    'Previous': 82.0475,\n",
      "                    'Value': 81.7547},\n",
      "            'SGD': {'CharCode': 'SGD',\n",
      "                    'ID': 'R01625',\n",
      "                    'Name': 'Сингапурский доллар',\n",
      "                    'Nominal': 1,\n",
      "                    'NumCode': '702',\n",
      "                    'Previous': 53.5178,\n",
      "                    'Value': 53.5288},\n",
      "            'TJS': {'CharCode': 'TJS',\n",
      "                    'ID': 'R01670',\n",
      "                    'Name': 'Таджикских сомони',\n",
      "                    'Nominal': 10,\n",
      "                    'NumCode': '972',\n",
      "                    'Previous': 64.3351,\n",
      "                    'Value': 64.4194},\n",
      "            'TMT': {'CharCode': 'TMT',\n",
      "                    'ID': 'R01710A',\n",
      "                    'Name': 'Новый туркменский манат',\n",
      "                    'Nominal': 1,\n",
      "                    'NumCode': '934',\n",
      "                    'Previous': 20.7732,\n",
      "                    'Value': 20.8188},\n",
      "            'TRY': {'CharCode': 'TRY',\n",
      "                    'ID': 'R01700J',\n",
      "                    'Name': 'Турецких лир',\n",
      "                    'Nominal': 10,\n",
      "                    'NumCode': '949',\n",
      "                    'Previous': 67.5665,\n",
      "                    'Value': 66.6255},\n",
      "            'UAH': {'CharCode': 'UAH',\n",
      "                    'ID': 'R01720',\n",
      "                    'Name': 'Украинских гривен',\n",
      "                    'Nominal': 10,\n",
      "                    'NumCode': '980',\n",
      "                    'Previous': 27.4891,\n",
      "                    'Value': 27.3877},\n",
      "            'USD': {'CharCode': 'USD',\n",
      "                    'ID': 'R01235',\n",
      "                    'Name': 'Доллар США',\n",
      "                    'Nominal': 1,\n",
      "                    'NumCode': '840',\n",
      "                    'Previous': 72.6022,\n",
      "                    'Value': 72.7617},\n",
      "            'UZS': {'CharCode': 'UZS',\n",
      "                    'ID': 'R01717',\n",
      "                    'Name': 'Узбекских сумов',\n",
      "                    'Nominal': 10000,\n",
      "                    'NumCode': '860',\n",
      "                    'Previous': 67.5039,\n",
      "                    'Value': 67.5715},\n",
      "            'XDR': {'CharCode': 'XDR',\n",
      "                    'ID': 'R01589',\n",
      "                    'Name': 'СДР (специальные права заимствования)',\n",
      "                    'Nominal': 1,\n",
      "                    'NumCode': '960',\n",
      "                    'Previous': 101.5944,\n",
      "                    'Value': 101.9217},\n",
      "            'ZAR': {'CharCode': 'ZAR',\n",
      "                    'ID': 'R01810',\n",
      "                    'Name': 'Южноафриканских рэндов',\n",
      "                    'Nominal': 10,\n",
      "                    'NumCode': '710',\n",
      "                    'Previous': 46.7638,\n",
      "                    'Value': 46.5559}}}\n"
     ]
    }
   ],
   "source": [
    "currencies = response.json()\n",
    "pprint(currencies)"
   ]
  },
  {
   "cell_type": "code",
   "execution_count": 35,
   "metadata": {},
   "outputs": [
    {
     "data": {
      "text/plain": [
       "{'ID': 'R01760',\n",
       " 'NumCode': '203',\n",
       " 'CharCode': 'CZK',\n",
       " 'Nominal': 10,\n",
       " 'Name': 'Чешских крон',\n",
       " 'Value': 32.6044,\n",
       " 'Previous': 32.6258}"
      ]
     },
     "execution_count": 35,
     "metadata": {},
     "output_type": "execute_result"
    }
   ],
   "source": [
    "currencies[\"Valute\"][\"CZK\"]"
   ]
  },
  {
   "cell_type": "code",
   "execution_count": 36,
   "metadata": {},
   "outputs": [
    {
     "name": "stdout",
     "output_type": "stream",
     "text": [
      "Чешских крон\n"
     ]
    }
   ],
   "source": [
    "print(currencies[\"Valute\"][\"CZK\"][\"Name\"])"
   ]
  },
  {
   "cell_type": "code",
   "execution_count": 37,
   "metadata": {},
   "outputs": [],
   "source": [
    "def exchange_rates(currency, format=\"full\"):\n",
    "    response = requests.get(\"https://www.cbr-xml-daily.ru/daily_json.js\")\n",
    "    currencies = response.json()[\"Valute\"]\n",
    "    d = currencies[currency]\n",
    "    if format == \"full\":\n",
    "        return d\n",
    "    elif format == \"value\":\n",
    "        return d[\"Value\"]"
   ]
  },
  {
   "cell_type": "code",
   "execution_count": 38,
   "metadata": {},
   "outputs": [
    {
     "data": {
      "text/plain": [
       "82.5845"
      ]
     },
     "execution_count": 38,
     "metadata": {},
     "output_type": "execute_result"
    }
   ],
   "source": [
    "exchange_rates(\"EUR\", format=\"value\")"
   ]
  },
  {
   "cell_type": "code",
   "execution_count": 39,
   "metadata": {},
   "outputs": [
    {
     "data": {
      "text/plain": [
       "{'ID': 'R01239',\n",
       " 'NumCode': '978',\n",
       " 'CharCode': 'EUR',\n",
       " 'Nominal': 1,\n",
       " 'Name': 'Евро',\n",
       " 'Value': 82.5845,\n",
       " 'Previous': 82.2583}"
      ]
     },
     "execution_count": 39,
     "metadata": {},
     "output_type": "execute_result"
    }
   ],
   "source": [
    "requests.get(\"https://www.cbr-xml-daily.ru/daily_json.js\")\n",
    "currencies = response.json()[\"Valute\"]\n",
    "currencies[\"EUR\"]"
   ]
  },
  {
   "cell_type": "code",
   "execution_count": 40,
   "metadata": {},
   "outputs": [],
   "source": [
    "def currency_name(g):\n",
    "    url = \"https://www.cbr-xml-daily.ru/daily_json.js\"\n",
    "    response = requests.get(url).json()[\"Valute\"]\n",
    "    for i in response:\n",
    "        if currencies[i][\"ID\"] == g:\n",
    "            return currencies[i][\"Name\"]"
   ]
  },
  {
   "cell_type": "code",
   "execution_count": 41,
   "metadata": {},
   "outputs": [
    {
     "data": {
      "text/plain": [
       "'Турецких лир'"
      ]
     },
     "execution_count": 41,
     "metadata": {},
     "output_type": "execute_result"
    }
   ],
   "source": [
    "currency_name(\"R01700J\")"
   ]
  },
  {
   "cell_type": "code",
   "execution_count": 42,
   "metadata": {},
   "outputs": [
    {
     "data": {
      "text/plain": [
       "'Турецких лир'"
      ]
     },
     "execution_count": 42,
     "metadata": {},
     "output_type": "execute_result"
    }
   ],
   "source": [
    "currency_name(\"R01700J\")"
   ]
  },
  {
   "cell_type": "code",
   "execution_count": 43,
   "metadata": {},
   "outputs": [
    {
     "name": "stdout",
     "output_type": "stream",
     "text": [
      "200\n"
     ]
    }
   ],
   "source": [
    "import requests\n",
    "\n",
    "url = \"https://nplus1.ru/news/2019/06/04/slothbot\"\n",
    "\n",
    "response = requests.get(url)\n",
    "\n",
    "# Убедимся, что мы успешно получили ответ\n",
    "print(response.status_code)\n",
    "# => 200"
   ]
  },
  {
   "cell_type": "code",
   "execution_count": 44,
   "metadata": {},
   "outputs": [
    {
     "name": "stdout",
     "output_type": "stream",
     "text": [
      "<!doctype html>\n",
      "<html class=\"no-js bg-fixed _no-bg\" style=\"background-image:url(https://nplus1.ru/images/2019/06/04/b32b62189fb87cce895e229e1d6d27b4.jpeg)\" lang=\"\">\n",
      "<head>\n",
      "    \n",
      "    <meta charset=\"utf-8\">\n",
      "    <meta http-equiv=\"x-ua-compatible\" content=\"ie=edge\">\n",
      "    <meta name=\"viewport\" content=\"width=device-width, initial-scale=1\">\n",
      "        <meta name=\"apple-mobile-web-app-capable\" content=\"yes\">\n",
      "    <meta name=\"apple-mobile-web-app-status-bar-style\" content=\"black\">\n",
      "                <meta name='wmail-verification' content='7991d7eb02d759f05b9050e111a7e3eb' />\n",
      "\n",
      "    <link rel=\"canonical\" href=\"https://nplus1.ru/news/2019/06/04/slothbot\" />\n",
      "\n",
      "        <title>Робота-ленивца научили лазать по паутине из тросов</title>\n",
      "\n",
      "    \t    <meta itemprop=\"datePublished\" content=\"2019-06-04\"/>\n",
      "\t\n",
      "\t    <meta name=\"mediator_author\" content=\"Григорий Копиев\"/> \n",
      "\t\n",
      "        <!-- amp page -->\n",
      "    <link rel=\"amphtml\" href=\"https://nplus1.ru/news/2019/06/04/slothbot/amp\">\n",
      "    \n",
      "\n",
      "        <!-- for Google -->\n",
      "        <meta name=\"description\" content=\"Он сам добывает энергию с помощью солнечных панелей\" />\n",
      "        \n",
      "        <meta name=\"author\" content=\"Григорий Копиев\" />\n",
      "        <meta name=\"copyright\" content=\"\" />\n",
      "\n",
      "        <!-- for Facebook -->\n",
      "        <meta property=\"og:title\" content=\"Робота-ленивца научили лазать по паутине из тросов\" />\n",
      "                <meta property=\"og:image\" content=\"https://nplus1.ru/images/2019/06/04/000d995dad5ab0988b764af18abf6da5.jpeg\" />\n",
      "        <meta property=\"og:url\" content=\"https://nplus1.ru/news/2019/06/04/slothbot\" />\n",
      "        <meta property=\"og:description\" content=\"Он сам добывает энергию с помощью солнечных панелей\" />\n",
      "        <!-- for Twitter -->\n",
      "        <meta name=\"twitter:card\" content=\"summary_large_image\">\n",
      "        <meta name=\"twitter:site\" content=\"@nplusodin\" />\n",
      "        <meta name=\"twitter:title\" content=\"Робота-ленивца научили лазать по паутине из тросов\" />\n",
      "        <meta name=\"twitter:description\" content=\"Он сам добывает энергию с помощью солнечных панелей\" />\n",
      "        <meta name=\"twitter:image\" content=\"https://nplus1.ru/images/2019/06/04/000d995dad5ab0988b764af18abf6da5.jpeg\" />\n",
      "        \n",
      "        <meta name=\"yandex-verification\" content=\"8c90b02c84ac3b72\" />\n",
      "        \n",
      "\n",
      "        <link rel='alternate' type='application/rss+xml' title='RSS' href='https://nplus1.ru/rss'>\n",
      "\n",
      "    <link rel=\"stylesheet\" href=\"/css/font-awesome.min.css\">\n",
      "    <link rel=\"stylesheet\" href=\"/css/main.min.css?v=1637317933\">\n",
      "    <link rel=\"stylesheet\" href=\"/css/desktop.min.css?v=1452887696\">\n",
      "    <link rel=\"stylesheet\" href=\"/css/tablet.min.css?v=1499281342\">\n",
      "    <link rel=\"stylesheet\" href=\"/css/mobile.min.css?v=1635965090\">\n",
      "    \n",
      "    <script src=\"//ajax.googleapis.com/ajax/libs/jquery/1.11.2/jquery.min.js\"></script>\n",
      "\n",
      "    <script src=\"//cdnjs.cloudflare.com/ajax/libs/modernizr/2.8.3/modernizr.min.js\"></script>     \n",
      "    \n",
      "            <script type=\"text/javascript\" src=\"/js/lib/adfox.asyn.code.ver3.js\"> </script>\n",
      "\t\t<script type=\"text/javascript\" src=\"/js/lib/adfox.asyn.code.scroll.js\"> </script>\n",
      "\t    <script src=\"https://yastatic.net/pcode/adfox/loader.js\" crossorigin=\"anonymous\"></script>\n",
      "        <script async id=\"__lxGc__rtr\" type=\"text/javascript\" src=\"//s.clickiocdn.com/t/195458/360.js\"></script>\n",
      "        <script async type=\"text/javascript\" src=\"//s.luxupcdnc.com/t/common_402.js\"></script>\t\t\n",
      "\n",
      "\t\t<!--  ad -->\n",
      "\t\t<script type=\"text/javascript\">\n",
      "\t\t    var __colAdLoaded = false;\n",
      "\t\t    var __topAdLoaded = false;\n",
      "\t\t    \n",
      "\t\t    var __id = \"\";\n",
      "\t\t    \n",
      "\t\t    function detectAd(id){\n",
      "\t\t        var _ad = document.getElementById(\"AdFox_banner_\"+id);\n",
      "\t\t    \t    console.debug(_ad);\n",
      "\t\t        \n",
      "\t\t        __id = id;\n",
      "\t\t        if(_ad != null && _ad.innerHTML == \"\"){\n",
      "\t\t            $(\".col-ad\").remove();\n",
      "\t\t        }\n",
      "\t\t        __colAdLoaded = true;\n",
      "\t\t    }\n",
      "\t\t    function detectAdTop(id){\n",
      "\t\t        __topAdLoaded = true;\n",
      "\t\t    }\n",
      "\t\t</script>\n",
      "\t\t<!-- /ad -->\n",
      "\t\t\n",
      "\t\t\n",
      "\t\t    \n",
      "\n",
      "\n",
      "<script type=\"application/ld+json\">{\"@context\":\"http://schema.org\",\"@type\":\"NewsArticle\",\"mainEntityOfPage\":{\"@type\":\"WebPage\",\"@id\":\"https://nplus1.ru/news/2019/06/04/slothbot\"},\"headline\":\"Робота-ленивца научили лазать по паутине из тросов\",\"description\":\"Он сам добывает энергию с помощью солнечных панелей\",\"image\":\"https://nplus1.ru/images/2019/06/04/000d995dad5ab0988b764af18abf6da5.jpeg\",\"author\":{\"@type\":\"Person\",\"name\":\"Григорий Копиев\"},\"publisher\":{\"@type\":\"Organization\",\"name\":\"N + 1\",\"logo\":{\"@type\":\"ImageObject\",\"url\":\"https://nplus1.ru/i/logo-alt.png\"}},\"datePublished\":\"2019-06-04\"}</script>\n",
      "</head>\n",
      "<body style=\"background-image:url(https://nplus1.ru/images/2019/06/04/b32b62189fb87cce895e229e1d6d27b4.jpeg)\" class=\"_inner  \">\n",
      "\n",
      "<div class=\"shadow-overlay\"></div>\n",
      "<link property='' rel='stylesheet' href='//s.luxupcdnc.com/cp/all/cookies_policy.css' />\n",
      "<script type='text/javascript'>_cookies_policy = {dark:0,bottom:1,text:'Этот сайт использует cookies для улучшения качества работы',link:'Подробнее',href:'https://nplus1.ru/cookies-policy',button:'Закрыть'};</script>\n",
      "<script async type='text/javascript' src='//s.luxupcdnc.com/cp/all/cookies_policy.js'></script>\n",
      "\n",
      "\n",
      "\n",
      "\n",
      "\n",
      "\n",
      "\n",
      "    <div id=\"viewport\">\n",
      "\t<div id=\"shadow\"></div>\n",
      "        <div class=\"ad ad-top\">\n",
      "        \n",
      "                                                    \n",
      "                    \n",
      "    \n",
      "    \n",
      "                        \t    <!-- bh1 -->\n",
      "\n",
      "\n",
      "<!--AdFox START-->\n",
      "<!--yandex_nplus1adv-->\n",
      "<!--Площадка: N + 1 / * / *-->\n",
      "<!--Тип баннера: Растяжка_100%х250-->\n",
      "<!--Расположение: <верх страницы>-->\n",
      "<div id=\"adfox_162739969569252320\"></div>\n",
      "<script>\n",
      "    window.yaContextCb.push(()=>{\n",
      "        Ya.adfoxCode.create({\n",
      "            ownerId: 386110,\n",
      "        containerId: 'adfox_162739969569252320',\n",
      "            params: {\n",
      "                pp: 'g',\n",
      "            ps: 'fbio',\n",
      "            p2: 'hhkj'\n",
      "            }\n",
      "        })\n",
      "    })\n",
      "</script>\n",
      "\n",
      "\n",
      "\n",
      "\t\t                        \n",
      "        </div>\n",
      "        <header id=\"header-mobile\">\n",
      "            \n",
      "            <div class=\"container\">\n",
      "                <a href=\"#\" class=\"action-menu pull-left\"><i class=\"icon icon-navicon\"></i></a>\n",
      "                <a href=\"/\" class=\"link-logo\"><img src=\"/i/logo-mobile.png\"/></a>\n",
      "                <a href=\"#\" class=\"action-search pull-right\"><i class=\"icon icon-search\"></i></a>\n",
      "                <form action=\"/search\" method=\"get\" class=\"form-search\">\n",
      "                    <div class=\"control\">\n",
      "                        <input type=\"text\" name=\"q\" placeholder=\"Найти\" value=\"\"/>\n",
      "                    </div>\n",
      "                    <a href=\"#\" class=\"action-search-close\">×</a>\n",
      "                </form>\n",
      "            </div>\n",
      "            <nav class=\"nav-rubrics\">\n",
      "    <ul>\n",
      "                <li>\n",
      "            <a href=\"/rubric/astronomy\" class=\"\">Астрономия</a>\n",
      "        </li>    \n",
      "                <li>\n",
      "            <a href=\"/rubric/physics\" class=\"\">Физика</a>\n",
      "        </li>    \n",
      "                <li>\n",
      "            <a href=\"/rubric/biology\" class=\"\">Биология</a>\n",
      "        </li>    \n",
      "                <li>\n",
      "            <a href=\"/rubric/robots-drones\" class=\"\">Роботы и дроны</a>\n",
      "        </li>    \n",
      "        \n",
      "                                    <li>\n",
      "                    <a href=\"/theme/applying-statistics\" class=\"\">Характеристика статистики</a>\n",
      "                </li>\n",
      "                            <li>\n",
      "                    <a href=\"/theme/bookshelf\" class=\"\">Книжная полка</a>\n",
      "                </li>\n",
      "                            <li>\n",
      "                    <a href=\"/theme/Courses\" class=\"\">Курсы</a>\n",
      "                </li>\n",
      "                            <li>\n",
      "                    <a href=\"/theme/coronavirus-history\" class=\"\">Коронавирусные хроники</a>\n",
      "                </li>\n",
      "                            <li>\n",
      "                    <a href=\"/theme/offline\" class=\"\">N + Offline</a>\n",
      "                </li>\n",
      "                    \n",
      "            </ul>\n",
      "</nav>\n",
      "\n",
      "        </header>\n",
      "        \n",
      "    \n",
      "        <div id=\"layout\" class=\"js-mediator-container\">\n",
      "            <!-- header -->\n",
      "                        <header id=\"header\" class=\"_middle\">\n",
      "    <div class=\"row\">\n",
      "        \n",
      "        <div class=\"col col-logo\">\n",
      "            <a href=\"/\" class=\"link-logo\"></a>\n",
      "        </div>\n",
      "        <div class=\"col col-nav-main\">\n",
      "            <form action=\"/search\" method=\"get\" class=\"form-search\">\n",
      "                <div class=\"control\">\n",
      "                    <input type=\"text\" name=\"q\" placeholder=\"Найти\" value=\"\"/>\n",
      "                </div>\n",
      "                <a href=\"#\" class=\"action-search-close\">×</a>\n",
      "            </form>\n",
      "            \n",
      "            <nav class=\"nav-rubrics\">\n",
      "    <ul>\n",
      "                <li>\n",
      "            <a href=\"/rubric/astronomy\" class=\"\">Астрономия</a>\n",
      "        </li>    \n",
      "                <li>\n",
      "            <a href=\"/rubric/physics\" class=\"\">Физика</a>\n",
      "        </li>    \n",
      "                <li>\n",
      "            <a href=\"/rubric/biology\" class=\"\">Биология</a>\n",
      "        </li>    \n",
      "                <li>\n",
      "            <a href=\"/rubric/robots-drones\" class=\"\">Роботы и дроны</a>\n",
      "        </li>    \n",
      "        \n",
      "        \n",
      "                <li>\n",
      "            <a href=\"#\" class=\"action-search\"><i class=\"icon icon-search\"></i></a>\n",
      "        </li>\n",
      "            </ul>\n",
      "</nav>            <nav class=\"nav-themes\">\n",
      "    <ul>\n",
      "                <li data-name=\"applying-statistics\">\n",
      "            <a href=\"/theme/applying-statistics\" class=\"\">Характеристика статистики</a>\n",
      "        </li>    \n",
      "                <li data-name=\"bookshelf\">\n",
      "            <a href=\"/theme/bookshelf\" class=\"\">Книжная полка</a>\n",
      "        </li>    \n",
      "                <li data-name=\"Courses\">\n",
      "            <a href=\"/theme/Courses\" class=\"\">Курсы</a>\n",
      "        </li>    \n",
      "                <li data-name=\"coronavirus-history\">\n",
      "            <a href=\"/theme/coronavirus-history\" class=\"\">Коронавирусные хроники</a>\n",
      "        </li>    \n",
      "                <li data-name=\"offline\">\n",
      "            <a href=\"/theme/offline\" class=\"\">N + Offline</a>\n",
      "        </li>    \n",
      "            </ul>\n",
      "</nav>            \n",
      "        </div>\n",
      "    </div>\n",
      "        <div class=\"container line-up\">\n",
      "        <div class=\"line line-second\">\n",
      "                                            <a href=\"https://nplus1.ru/blog/2021/11/02/rudalle\" class=\"action-line-toggle\">\n",
      "                    <div class=\"heading\"><span></span></div>\n",
      "                </a>\n",
      "                                <a href=\"https://nplus1.ru/blog/2021/11/02/rudalle\" class=\"container-link\">\n",
      "                    <div class=\"heading\"><span>Мезонин</span></div>\n",
      "                    <div class=\"link\"><span>Лучше синица в руках: о трудностях перевода</span></div>\n",
      "                </a>\n",
      "                                <a href=\"https://nplus1.ru/blog/2021/11/03/dune-climate\" class=\"container-link\">\n",
      "                    <div class=\"heading\"><span>Эксперименты</span></div>\n",
      "                    <div class=\"link\"><span>Дюна: мы сделали модель планеты Арракис, чтобы узнать, выживет ли там человек</span></div>\n",
      "                </a>\n",
      "                                <a href=\"https://nplus1.ru/blog/2021/11/03/tales-from-both-sides-of-the-brain\" class=\"container-link\">\n",
      "                    <div class=\"heading\"><span>Книжная полка</span></div>\n",
      "                    <div class=\"link\"><span>Майкл Газзанига &laquo;Истории от разных полушарий мозга. Жизнь в нейронауке&raquo;</span></div>\n",
      "                </a>\n",
      "                                <a href=\"https://nplus1.ru/blog/2021/10/29/enlightenment-now\" class=\"container-link\">\n",
      "                    <div class=\"heading\"><span>Книжная полка</span></div>\n",
      "                    <div class=\"link\"><span>Стивен Пинкер &laquo;Просвещение продолжается: В защиту разума, науки, гуманизма и прогресса&raquo;</span></div>\n",
      "                </a>\n",
      "                                <a href=\"https://nplus1.ru/blog/2021/10/26/spoon-fed\" class=\"container-link\">\n",
      "                    <div class=\"heading\"><span>Книжная полка</span></div>\n",
      "                    <div class=\"link\"><span>Тим Спектор &laquo;Обязательный завтрак, вредный кофе и опасный фастфуд. Почему почти все, что нам рассказывали о еде, неправда&raquo;</span></div>\n",
      "                </a>\n",
      "                                <a href=\"https://nplus1.ru/blog/2021/10/22/exact-thinking-in-demented-times\" class=\"container-link\">\n",
      "                    <div class=\"heading\"><span>Книжная полка</span></div>\n",
      "                    <div class=\"link\"><span>Карл Зигмунд &laquo;Точное мышление в безумные времена. Венский кружок и крестовый поход за основаниями науки&raquo;</span></div>\n",
      "                </a>\n",
      "                                <a href=\"https://nplus1.ru/blog/2021/10/20/six-impossible-things\" class=\"container-link\">\n",
      "                    <div class=\"heading\"><span>Книжная полка</span></div>\n",
      "                    <div class=\"link\"><span>Джон Гриббин &laquo;Шесть невозможностей: Загадки квантового мира&raquo;</span></div>\n",
      "                </a>\n",
      "                                <a href=\"https://nplus1.ru/blog/2021/10/12/sodom-wasnt-bombed\" class=\"container-link\">\n",
      "                    <div class=\"heading\"><span>Давайте разберемся</span></div>\n",
      "                    <div class=\"link\"><span>Здесь звезда не падала: что не так с гипотезой о &laquo;содомском метеорите&raquo;</span></div>\n",
      "                </a>\n",
      "                                <a href=\"https://nplus1.ru/blog/2021/10/07/the-inside-story-on-headaches\" class=\"container-link\">\n",
      "                    <div class=\"heading\"><span>Книжная полка</span></div>\n",
      "                    <div class=\"link\"><span>Аманда Эллисон &laquo;Боль в твоей голове: Откуда она берется и как от нее избавиться&raquo;</span></div>\n",
      "                </a>\n",
      "                                                \t\t           \t<a href=\"https://nplus1.ru/blog/2021/11/11/a-surgeons-notes-on-performance\" class=\"container-link active\">\n",
      "        \t        \t<div class=\"heading\"><span>Книжная полка</span></div>\n",
      "            \t    \t<div class=\"link\"><span>Атул Гаванде &laquo;Все возможное: Как врачи спасают наши жизни&raquo;</span></div>\n",
      "\t\t            </a>\n",
      "\t                                    \n",
      "            <!-- here -->\n",
      "                    </div>\n",
      "        \n",
      "    </div>\n",
      "    </header>                        <!-- /header -->\n",
      "            <!--  hero -->\n",
      "                            <!-- /hero -->\n",
      "            <!-- main section -->\n",
      "            <section id=\"main\">\n",
      "                \n",
      "                \n",
      "    <div class=\"container _middle\">\n",
      "        <div class=\"row\" data-adaptive=\"1\" data-tablet-class=\"row-wrap\" data-mobile-class=\"row-wrap\">\n",
      "            <div class=\"col col-3\" data-adaptive=\"1\" data-mobile-class=\"col-1\">\n",
      "\n",
      "                <article class=\"content\" id=\"article\" data-id=\"20774\" data-visit=\"1\" data-type=\"0\">\n",
      "                                        <div class=\"meta\">\n",
      "    <div class=\"tables\">\n",
      "        <p class=\"table\">\n",
      "                        <a data-rubric=\"robots-drones\" href=\"/rubric/robots-drones\">Роботы и дроны</a>\n",
      "                                            </p>\n",
      "        <p class=\"table\">\n",
      "            <a href=\"/news/2019/06/04\">\n",
      "                <time itemprop=\"datePublished\" content=\"2019-06-04\" data-unix=\"1559662033\">\n",
      "                    <span>18:27</span>\n",
      "                    <span>04 Июнь 2019</span>\n",
      "                </time>\n",
      "            </a>\n",
      "        </p>\n",
      "        <p class=\"table\">\n",
      "            <a href=\"/difficult/2.2\">\n",
      "                <span>Сложность</span>\n",
      "                <span class=\"difficult-value\">2.2</span>\n",
      "            </a>\n",
      "        </p>\n",
      "    </div>\n",
      "</div>\n",
      "<script type=\"text/javascript\">\n",
      "    var _dlData = {custom_rubric: []};\n",
      "        _dlData.custom_author = 'Григорий Копиев';\n",
      "        _dlData.custom_difficult = '2.2';\n",
      "        _dlData.custom_rubric.push('Роботы и дроны');\n",
      "                \n",
      "    window.dataLayer = window.dataLayer || [];\n",
      "    window.dataLayer.push(_dlData);\n",
      "</script>\n",
      "                                        <div class=\"share-mobile\">\n",
      "                        <nav class=\"nav-share\">\n",
      "    <ul class=\"social-likes\">\n",
      "\t\t<li class=\"facebook\"></li>\n",
      "\t\t<li class=\"twitter\"></li>\n",
      "\t\t<li class=\"vkontakte\"></li>\n",
      "\t\t<li class=\"odnoklassniki\"></li>\n",
      "    </ul>\n",
      "</nav>\n",
      "                    </div>\n",
      "\n",
      "                    <header class=\"hero hero-lite\">\n",
      "                        <div>\n",
      "                            <h1>Робота-ленивца научили лазать по паутине из тросов</h1>\n",
      "                        </div>\n",
      "                    </header>\n",
      "                                        <div class=\"body js-mediator-article\">\n",
      "                                                                                                                            <div class=\"article-image\">\n",
      "                            <figure>\n",
      "                                <img src=\"https://nplus1.ru/images/2019/06/04/b32b62189fb87cce895e229e1d6d27b4.jpeg\"/>\n",
      "                                                                <figcaption>\n",
      "                                    <p class=\"title\"></p>\n",
      "                                    <p class=\"credits\">Allison Carter, Georgia Tech</p>\n",
      "                                </figcaption>\n",
      "                                                            </figure>\n",
      "                        </div>\n",
      "                                                \n",
      "                                                    <!-- -->\n",
      "                                                        <!-- -->\n",
      "                            \n",
      "                                                                                            <p>Американские инженеры разработали робота-ленивца, способного лазать по&nbsp;тросам и&nbsp;перемещаться с&nbsp;одного троса на&nbsp;другой. Благодаря относительно малому потреблению энергии и&nbsp;использованию солнечных панелей подобного робота можно практически неограниченное время использовать для наблюдений на деревьях в лесу, рассказывают авторы <a href=\"https://ieeexplore.ieee.org/document/8642808\" target=\"_blank\" rel=\"nofollow\">статьи</a>, представленной на&nbsp;конференции ICRA 2019.</p>\n",
      "<p>Создание роботов, способных лазать по&nbsp;тросам&nbsp;— важная технологическая задача, наработки из&nbsp;которой потенциально применимы во&nbsp;многих областях. К&nbsp;примеру, в&nbsp;2016 году в&nbsp;России <a href=\"https://nplus1.ru/news/2016/09/28/robot\" target=\"_blank\">создали</a> робота для проверки высоковольтных линий электропередачи. Дрон спускает такого робота на&nbsp;грозозащитный трос, после чего тот самостоятельно перемещается вдоль основных проводов и&nbsp;осматривает&nbsp;их. Кроме того, потенциально таких роботов можно применять для исследований в&nbsp;густых лесах, в&nbsp;которых ветки соседних деревьев соприкасаются.</p>\n",
      "<p>Инженеры из&nbsp;Технологического института Джорджии под руководством Магнуса Эгерштедта (Magnus Egerstedt) вдохновились ленивцами и&nbsp;решили создать энергоэффективного робота, на&nbsp;основе которого можно было&nbsp;бы создать робота, способного лазать по&nbsp;веткам. Робот состоит из&nbsp;двух частей и передвигается благодаря колесу в&nbsp;каждой части, соприкасающемуся с&nbsp;тросом.<br></p>\n",
      "<p><iframe frameborder=\"0\" src=\"//www.youtube.com/embed/Sx-WL6BIK3s\" width=\"620\" height=\"349\" allowfullscreen=\"true\" class=\"embed-responsive-item\"></iframe><br></p>\n",
      "<p>Кроме того, в&nbsp;каждой части робота есть две полноценные шестерни и&nbsp;две связанные с&nbsp;ними, но&nbsp;с&nbsp;вырезанным сектором. Внутрь такой шестерни продет\n",
      "трос. При движении вперед шестерня расположена таким образом, чтобы трос не&nbsp;мог выйти за&nbsp;ее&nbsp;пределы. Если&nbsp;же роботу необходимо перейти на&nbsp;смежный трос, шестерня поворачивается так, чтобы вырез располагался горизонтально. Перемещаться между смежными тросами роботу помогает еще один двигатель в&nbsp;петле, соединяющей две части.<br></p>\n",
      "<p><div class=\"incut incut-gallery \" data-id=\"20774\">\n",
      "    <div class=\"swiper-container\">\n",
      "        <div class=\"swiper-wrapper\">\n",
      "                        <div class=\"swiper-slide\">\n",
      "                <figure>\n",
      "                    <div class=\"img\">\n",
      "                        <img src=\"https://nplus1.ru/images/2019/06/04/e5fbb06230c74d541b319677af5ccd79.jpg\"/>\n",
      "                    </div>\n",
      "                    <figcaption>\n",
      "                    <p class=\"title\">Компоненты одной из двух частей робота</p>\n",
      "\n",
      "                                            \t    <p class=\"credits\">Gennaro Notomista et al. / IEEE Robotics and Automation Letters, 2019</p>\n",
      "                    \t\n",
      "                    </figcaption>\n",
      "                </figure>\n",
      "                <div class=\"share-incut\">\n",
      "<div class=\"title\"><i class=\"fa fa-share\"></i><span>Поделиться</span></div>\n",
      "<nav class=\"nav-share\">\n",
      "    <ul class=\"social-likes\" data-title=\"Робота-ленивца научили лазать по паутине из тросов\">\n",
      "\t\t<li class=\"facebook\" data-service='facebook' data-image='https://nplus1.ru/images/2019/06/04/e5fbb06230c74d541b319677af5ccd79.jpg', data-description='Gennaro Notomista et al. / IEEE Robotics and Automation Letters, 2019'></li>\n",
      "\t\t<li class=\"twitter\" data-service='twitter' data-image='https://nplus1.ru/images/2019/06/04/e5fbb06230c74d541b319677af5ccd79.jpg', data-description='Gennaro Notomista et al. / IEEE Robotics and Automation Letters, 2019'></li>\n",
      "\t\t<li class=\"vkontakte\" data-service='vkontakte' data-image='https://nplus1.ru/images/2019/06/04/e5fbb06230c74d541b319677af5ccd79.jpg', data-description='Gennaro Notomista et al. / IEEE Robotics and Automation Letters, 2019'></li>\n",
      "\t\t<li class=\"odnoklassniki\" data-service='odnoklassniki' data-image='https://nplus1.ru/images/2019/06/04/e5fbb06230c74d541b319677af5ccd79.jpg', data-description='Gennaro Notomista et al. / IEEE Robotics and Automation Letters, 2019'></li>\n",
      "            </ul>\n",
      "</nav>\n",
      "</div>\n",
      "            </div>\n",
      "                    </div>\n",
      "        <div class=\"pagination\">\n",
      "            <div class=\"swiper-button-prev\"></div>\n",
      "            <div class=\"swiper-counter\"></div>\n",
      "            <div class=\"swiper-button-next\"></div>\n",
      "        </div>\n",
      "    </div>\n",
      "</div>Для питания робот использует аккумулятор емкостью 1000 миллиампер-часов, а&nbsp;также две солнечные панели, располагающиеся по&nbsp;бокам одной из&nbsp;частей. Разработчики отмечают, что благодаря применению колес для движения по&nbsp;тросам, а&nbsp;также пассивному механизму удержания, робот имеет большую энергоэффективность, чем другие роботы, предназначенные для перемещения по&nbsp;тросам.<br></p>\n",
      "<p><div class=\"incut incut-gallery \" data-id=\"20774\">\n",
      "    <div class=\"swiper-container\">\n",
      "        <div class=\"swiper-wrapper\">\n",
      "                        <div class=\"swiper-slide\">\n",
      "                <figure>\n",
      "                    <div class=\"img\">\n",
      "                        <img src=\"https://nplus1.ru/images/2019/06/04/54a85341c9518ba141a7bbbf5e4566e4.jpg\"/>\n",
      "                    </div>\n",
      "                    <figcaption>\n",
      "                    <p class=\"title\">Механизм блокировки троса</p>\n",
      "\n",
      "                                            \t    <p class=\"credits\">Gennaro Notomista et al. / IEEE Robotics and Automation Letters, 2019</p>\n",
      "                    \t\n",
      "                    </figcaption>\n",
      "                </figure>\n",
      "                <div class=\"share-incut\">\n",
      "<div class=\"title\"><i class=\"fa fa-share\"></i><span>Поделиться</span></div>\n",
      "<nav class=\"nav-share\">\n",
      "    <ul class=\"social-likes\" data-title=\"Робота-ленивца научили лазать по паутине из тросов\">\n",
      "\t\t<li class=\"facebook\" data-service='facebook' data-image='https://nplus1.ru/images/2019/06/04/54a85341c9518ba141a7bbbf5e4566e4.jpg', data-description='Gennaro Notomista et al. / IEEE Robotics and Automation Letters, 2019'></li>\n",
      "\t\t<li class=\"twitter\" data-service='twitter' data-image='https://nplus1.ru/images/2019/06/04/54a85341c9518ba141a7bbbf5e4566e4.jpg', data-description='Gennaro Notomista et al. / IEEE Robotics and Automation Letters, 2019'></li>\n",
      "\t\t<li class=\"vkontakte\" data-service='vkontakte' data-image='https://nplus1.ru/images/2019/06/04/54a85341c9518ba141a7bbbf5e4566e4.jpg', data-description='Gennaro Notomista et al. / IEEE Robotics and Automation Letters, 2019'></li>\n",
      "\t\t<li class=\"odnoklassniki\" data-service='odnoklassniki' data-image='https://nplus1.ru/images/2019/06/04/54a85341c9518ba141a7bbbf5e4566e4.jpg', data-description='Gennaro Notomista et al. / IEEE Robotics and Automation Letters, 2019'></li>\n",
      "            </ul>\n",
      "</nav>\n",
      "</div>\n",
      "            </div>\n",
      "                    </div>\n",
      "        <div class=\"pagination\">\n",
      "            <div class=\"swiper-button-prev\"></div>\n",
      "            <div class=\"swiper-counter\"></div>\n",
      "            <div class=\"swiper-button-next\"></div>\n",
      "        </div>\n",
      "    </div>\n",
      "</div>Кроме создания аппаратной платформы инженеры также написали для робота программное обеспечение, позволяющее ему самому прокладывать путь по&nbsp;тросам. Пользователь может указать точку, за&nbsp;которой необходимо наблюдать, после чего робот, имея карту системы тросов, самостоятельно рассчитает путь до&nbsp;наиболее близкой к заданной точке наблюдательной позиции.</p>\n",
      "<p>Ранее инженеры из&nbsp;Технологического института Джорджии <a href=\"https://nplus1.ru/news/2017/04/13/tarzan\" target=\"_blank\" title=\"Link: https://nplus1.ru/news/2017/04/13/tarzan\">создали</a> другого робота-ленивца для работы на&nbsp;тросе. Он&nbsp;так&nbsp;же состоит из&nbsp;двух частей, но&nbsp;имеет совершенно другую конструкцию и&nbsp;принцип работы. Он&nbsp;способен зацепляться концом одной части за&nbsp;трос и&nbsp;раскачивать другую, чтобы затем зацепиться&nbsp;ей. После этого он&nbsp;может отпустить первую часть и&nbsp;снова начать раскачиваться для того, чтобы двигаться дальше.<br></p>\n",
      "<p><i>Григорий Копиев</i></p>\n",
      "                            \n",
      "                            \n",
      "                                                \n",
      "                        \n",
      "                                            </div>\n",
      "                </article>\n",
      "\n",
      "                \n",
      "\t\t\t\t    <!-- ba1 -->\n",
      "<!--AdFox START-->\n",
      "<!--nplus1_dir-->\n",
      "<!--Площадка: https://nplus1.ru/ / * / *-->\n",
      "<!--Тип баннера: CLICKIO html5-->\n",
      "<!--Расположение: мобильный-->\n",
      "<div id=\"adfox_155980540701252236\"></div>\n",
      "<script>\n",
      "    window.Ya.adfoxCode.createAdaptive({\n",
      "        ownerId: 248569,\n",
      "        containerId: 'adfox_155980540701252236',\n",
      "        params: {\n",
      "            pp: 'ssg',\n",
      "            ps: 'cggm',\n",
      "            p2: 'fpum',\n",
      "            puid1: ''\n",
      "        }\n",
      "    }, ['phone'], {\n",
      "        tabletWidth: 1024,\n",
      "        phoneWidth: 767,\n",
      "        isAutoReloads: false\n",
      "    });\n",
      "</script>\n",
      "\n",
      "\n",
      "\t\t                <meter class=\"bottom\"></meter>\n",
      "            </div>\n",
      "            <div class=\"col col-1 sidebar\" data-adaptive=\"1\" data-tablet-class=\"col-full\">\n",
      "                                <nav class=\"nav-share\">\n",
      "    <ul class=\"social-likes\">\n",
      "\t\t<li class=\"facebook\"></li>\n",
      "\t\t<li class=\"twitter\"></li>\n",
      "\t\t<li class=\"vkontakte\"></li>\n",
      "\t\t<li class=\"odnoklassniki\"></li>\n",
      "    </ul>\n",
      "</nav>\n",
      "                \n",
      "                                <div class=\"ad\">\n",
      "                                                                \t                            \t<!-- ba2 -->\n",
      "<!--AdFox START-->\n",
      "<!--nplus1_dir-->\n",
      "<!--Площадка: https://nplus1.ru/ / * / *-->\n",
      "<!--Тип баннера: CLICKIO html5-->\n",
      "<!--Расположение: <верх страницы>-->\n",
      "<div id=\"adfox_153934342663011746\"></div>\n",
      "<script>\n",
      "    (function(w, n) {\n",
      "    w[n] = w[n] || [];\n",
      "    w[n].push({\n",
      "        ownerId: 248569,\n",
      "        containerId: 'adfox_153934342663011746',\n",
      "        params: {\n",
      "            pp: 'g',\n",
      "            ps: 'cggm',\n",
      "            p2: 'fpum',\n",
      "            puid1: ''\n",
      "        }\n",
      "    });})(window, 'adfoxAsyncParams');\n",
      "</script>\n",
      "\n",
      "\t\n",
      "                    \t                                                                </div>\n",
      "                \n",
      "\t\t\t\t\n",
      "                <meter class=\"top\"></meter>\n",
      "                    \n",
      "\n",
      "\n",
      "\n",
      "                    <div id=\"latest\" data-adaptive=\"1\" data-tablet-class=\"fixed\" data-mobile-class=\"fixed\">\n",
      "\n",
      "                        <h2 class=\"_tablet-hidden _mobile-hidden\">Свежее</h2>\n",
      "                        <div class=\"latest-container\">\n",
      "                        <article class=\"item item-news item-news-latest-first  _exist-image\" data-relevance=\"\" data-image=\"\" >\n",
      "\n",
      "    <a href=\"/news/2021/11/20/toliman\" data-id=\"31384\" >\n",
      "        <div class=\"caption\">\n",
      "                                                                    \t                \t\t<img src=\"https://nplus1.ru/images/2021/11/20/c2de5ceae1ea16830633fd984135d6ca.jpg\"/>\n",
      "                \t                                \n",
      "                \n",
      "                                \n",
      "                                    <div>\n",
      "                        <div class=\"date\">\n",
      "                            <span class=\"name\" title=\"2021-11-20\">вчера</span>\n",
      "                        </div>\n",
      "                        <h3>Breakthrough Initiatives создаст космический телескоп для поиска экзопланет у Альфы Центавра</h3>\n",
      "                    </div>\n",
      "                                \n",
      "                \n",
      "                \n",
      "                \n",
      "                \n",
      "                                                </div>\n",
      "    </a>\n",
      "    </article>                                                                                <article class=\"item item-news item-news-  _exist-image\" data-relevance=\"\" data-image=\"\" >\n",
      "\n",
      "    <a href=\"/news/2021/11/20/ltv-artemis\" data-id=\"31383\" >\n",
      "        <div class=\"caption\">\n",
      "                                                                    \n",
      "                \n",
      "                                <div class=\"date\">\n",
      "                    <span class=\"name\" title=\"2021-11-20\">вчера</span>\n",
      "                </div>\n",
      "                                \n",
      "                                    <h3>Northrop Grumman показала концепт лунного вездехода для &laquo;Артемиды&raquo;</h3>\n",
      "                                \n",
      "                \n",
      "                \n",
      "                \n",
      "                \n",
      "                                                </div>\n",
      "    </a>\n",
      "    </article>                                                        <article class=\"item item-news item-news-  _exist-image\" data-relevance=\"\" data-image=\"\" >\n",
      "\n",
      "    <a href=\"/news/2021/11/20/ancient-korea\" data-id=\"31380\" >\n",
      "        <div class=\"caption\">\n",
      "                                                                    \n",
      "                \n",
      "                                <div class=\"date\">\n",
      "                    <span class=\"name\" title=\"2021-11-20\">вчера</span>\n",
      "                </div>\n",
      "                                \n",
      "                                    <h3>Фазаны и дрофы оказались любимой пищей древнекорейской знати</h3>\n",
      "                                \n",
      "                \n",
      "                \n",
      "                \n",
      "                \n",
      "                                                </div>\n",
      "    </a>\n",
      "    </article>                                                        <article class=\"item item-news item-news-  _exist-image\" data-relevance=\"\" data-image=\"\" >\n",
      "\n",
      "    <a href=\"/news/2021/11/20/astra-success\" data-id=\"31381\" >\n",
      "        <div class=\"caption\">\n",
      "                                                                    \n",
      "                \n",
      "                                <div class=\"date\">\n",
      "                    <span class=\"name\" title=\"2021-11-20\">вчера</span>\n",
      "                </div>\n",
      "                                \n",
      "                                    <h3>Легкая ракета Astra достигла орбиты с четвертой попытки</h3>\n",
      "                                \n",
      "                \n",
      "                \n",
      "                \n",
      "                \n",
      "                                                </div>\n",
      "    </a>\n",
      "    </article>                                                        <article class=\"item item-news item-news-  _exist-image\" data-relevance=\"\" data-image=\"\" >\n",
      "\n",
      "    <a href=\"/news/2021/11/20/plague\" data-id=\"31375\" >\n",
      "        <div class=\"caption\">\n",
      "                                                                    \n",
      "                \n",
      "                                <div class=\"date\">\n",
      "                    <span class=\"name\" title=\"2021-11-20\">вчера</span>\n",
      "                </div>\n",
      "                                \n",
      "                                    <h3>Биоархеологи обнаружили жертв последней чумы Имолы</h3>\n",
      "                                \n",
      "                \n",
      "                \n",
      "                \n",
      "                \n",
      "                                                </div>\n",
      "    </a>\n",
      "    </article>                                                </div>\n",
      "\n",
      "\n",
      "\n",
      "\n",
      "\n",
      "\n",
      "                    </div>\n",
      "\n",
      "                    \n",
      "\n",
      "                </div>\n",
      "                                \n",
      "                <footer class=\"article-footer\">\n",
      "                    <div class=\"row\">\n",
      "                        <div class=\"col col-3\" data-adaptive=\"1\" data-mobile-class=\"col-1\">\n",
      "                            <p>Нашли опечатку? Выделите фрагмент и нажмите Ctrl+Enter.</p>\n",
      "                        </div>\n",
      "                        <div class=\"col col-1 _mobile-hidden _tablet-hidden\">\n",
      "                            <nav class=\"nav-share\">\n",
      "    <ul class=\"social-likes\">\n",
      "\t\t<li class=\"facebook\"></li>\n",
      "\t\t<li class=\"twitter\"></li>\n",
      "\t\t<li class=\"vkontakte\"></li>\n",
      "\t\t<li class=\"odnoklassniki\"></li>\n",
      "    </ul>\n",
      "</nav>\n",
      "                        </div>\n",
      "                    </div>\n",
      "                </footer>\n",
      "\n",
      "                <div class=\"ad ad-footer\">\n",
      "                    \t\t\t                                                                                        </div>\n",
      "                \n",
      "                \n",
      "            </div>\n",
      "\n",
      "                                        \n",
      "            <div class=\"row row-wrap\">\n",
      "                            </div>\n",
      "            <div class=\"row row-wrap\">\n",
      "                <div class=\"col col-full\" data-adaptive=\"1\"  data-mobile-class=\"col-1\">\n",
      "                                        \n",
      "                                    </div>\n",
      "            </div>\n",
      "            <div class=\"row\" data-adaptive=\"1\" data-tablet-class=\"row-wrap\" data-mobile-class=\"row-wrap\" data-type=\"also\">\n",
      "                <div class=\"col col-3\" data-adaptive=\"1\" data-mobile-class=\"col-1\">\n",
      "                    \n",
      "                                        <section id=\"also\">\n",
      "                                                <h4 class=\"pull-left\">Читайте также</h4>\n",
      "                        <div class=\"col col-also\">\n",
      "                                                            <article class=\"item item-news item-news-ill  _exist-image\" data-relevance=\"\" data-image=\"\" >\n",
      "\n",
      "    <a href=\"/news/2021/11/19/sherpa\" data-id=\"31358\" >\n",
      "        <div class=\"caption\">\n",
      "                            <div style=\"background-image:url(https://nplus1.ru/images/2021/11/19/82be2d303e011837c2b29217f4c71dc8.jpg)\" class=\"ill\"></div>\n",
      "                                                                    \n",
      "                \n",
      "                                \n",
      "                                    <h3>Китайские генетики нашли предков шерпов в долине реки Хуанхэ</h3>\n",
      "                                \n",
      "                \n",
      "                \n",
      "                \n",
      "                \n",
      "                                                </div>\n",
      "    </a>\n",
      "    </article>                                                            <article class=\"item item-news item-news-ill  _exist-image\" data-relevance=\"\" data-image=\"\" >\n",
      "\n",
      "    <a href=\"/news/2021/11/19/spiritofinnovationrecord\" data-id=\"31374\" >\n",
      "        <div class=\"caption\">\n",
      "                            <div style=\"background-image:url(https://nplus1.ru/images/2021/11/19/86d32267395de156b52b847290de3612.jpg)\" class=\"ill\"></div>\n",
      "                                                                    \n",
      "                \n",
      "                                \n",
      "                                    <h3>Электросамолет Rolls-Royce разогнался до 623 километров в час</h3>\n",
      "                                \n",
      "                \n",
      "                \n",
      "                \n",
      "                \n",
      "                                                </div>\n",
      "    </a>\n",
      "    </article>                                                            <article class=\"item item-news item-news-ill  _exist-image\" data-relevance=\"\" data-image=\"\" >\n",
      "\n",
      "    <a href=\"/news/2021/11/19/double-BH-bouble-stars\" data-id=\"31326\" >\n",
      "        <div class=\"caption\">\n",
      "                            <div style=\"background-image:url(https://nplus1.ru/images/2021/11/16/1a66da16c9960ce5bc6498c76f66d9e9.jpg)\" class=\"ill\"></div>\n",
      "                                                                    \n",
      "                \n",
      "                                \n",
      "                                    <h3>Гравитационные обсерватории подтвердили гипотезу происхождения пар черных дыр</h3>\n",
      "                                \n",
      "                \n",
      "                \n",
      "                \n",
      "                \n",
      "                                                </div>\n",
      "    </a>\n",
      "    </article>                                                    </div>\n",
      "\n",
      "                    </section>\n",
      "                                    </div>\n",
      "                <div class=\"col col-1\" data-adaptive=\"1\" data-tablet-class=\"col-full _indent-bottom\">\n",
      "                    <section id=\"next\">\n",
      "                        <div class=\"col col-1\" data-adaptive=\"1\" data-tablet-class=\"col-2\">\n",
      "                                                        <article class=\"item item-article item-article-secondary  _exist-image\" data-relevance=\"\" data-image=\"https://nplus1.ru/images/2021/11/18/e3cc9704788088756c1b4cac6d9e7186.jpg\" style=background-image:url(https://nplus1.ru/images/2021/11/18/bb77fc0ab35b030fc8e5f1ff20c4caa7.jpg)>\n",
      "\n",
      "    <a href=\"/material/2021/11/19/new-normal\" data-id=\"31367\" >\n",
      "        <div class=\"caption\">\n",
      "                                                                                    <h3>Это (будет) нормально</h3>\n",
      "                    <p class=\"subtitle\">Как научиться жить с коронавирусом без волн и локдаунов</p>\n",
      "                                    </div>\n",
      "    </a>\n",
      "        <nav class=\"nav-rubricator\">\n",
      "        <ul>\n",
      "            \n",
      "                        <li>\n",
      "                <a class=\"link-rubric\" href=\"/rubric/medicine\">Медицина</a>\n",
      "            </li>\n",
      "                                    <li>\n",
      "                <a class=\"link-theme\" href=\"/theme/coronavirus-history\">Коронавирусные хроники</a>\n",
      "            </li>\n",
      "                    </ul>\n",
      "    </nav>\n",
      "    </article>                                                    </div>\n",
      "                    </section>\n",
      "                </div>\n",
      "            </div>\n",
      "        </div>\n",
      "    <!--/div-->\n",
      "    \n",
      "    <div id=\"_mistake\">\n",
      "        <input type=\"hidden\" name=\"_token\" value=\"HUNZuF9eq9rrD50u0i11eOVXhDTLA9Zw67oS9rXu\">\n",
      "        <input type=\"hidden\" name=\"id_news\" value=\"20774\">\n",
      "        <input type=\"hidden\" name=\"id_author\" value=\"102\">\n",
      "        <input type=\"hidden\" name=\"id_editor\" value=\"0\">\n",
      "    </div>\n",
      "    <div id=\"_post\">\n",
      "        <input type=\"hidden\" name=\"_token\" value=\"HUNZuF9eq9rrD50u0i11eOVXhDTLA9Zw67oS9rXu\">\n",
      "        <input type=\"hidden\" name=\"id_news\" value=\"20774\">\n",
      "    </div>\n",
      "            </section>\n",
      "            <!-- / main section -->\n",
      "            \n",
      "\n",
      "            <div id=\"wrapper-footer\">\n",
      "            <section id=\"difficult\" class=\"_middle\">\n",
      "    <!-- Slider main container -->\n",
      "    <div class=\"swiper-container\">\n",
      "        <!-- Additional required wrapper -->\n",
      "        <div class=\"swiper-wrapper\">\n",
      "                        <div class=\"swiper-slide\">\n",
      "                <div class=\"heading\">\n",
      "                    <div class=\"num\">\n",
      "                        <div class=\"value\">6.5</div>\n",
      "                    </div>\n",
      "                    <p>Коэффициент сложности</p>\n",
      "                </div>\n",
      "                <h3><a href=\"/news/2021/11/15/photo-cross-coupling\">Химики получили четвертичные атомы углерода с помощью кросс-сочетания</a></h3>\n",
      "            </div>\n",
      "                        <div class=\"swiper-slide\">\n",
      "                <div class=\"heading\">\n",
      "                    <div class=\"num\">\n",
      "                        <div class=\"value\">6.1</div>\n",
      "                    </div>\n",
      "                    <p>Коэффициент сложности</p>\n",
      "                </div>\n",
      "                <h3><a href=\"/news/2021/11/18/pauli-blocking-light\">Физики экспериментально обнаружили паулевскую блокировку светорассеяния</a></h3>\n",
      "            </div>\n",
      "                        <div class=\"swiper-slide\">\n",
      "                <div class=\"heading\">\n",
      "                    <div class=\"num\">\n",
      "                        <div class=\"value\">5.8</div>\n",
      "                    </div>\n",
      "                    <p>Коэффициент сложности</p>\n",
      "                </div>\n",
      "                <h3><a href=\"/news/2021/11/18/wigner-delay-measure\">Задержку фотоионизации измерили без привлечения аттосекундных импульсов</a></h3>\n",
      "            </div>\n",
      "                        <div class=\"swiper-slide\">\n",
      "                <div class=\"heading\">\n",
      "                    <div class=\"num\">\n",
      "                        <div class=\"value\">5.8</div>\n",
      "                    </div>\n",
      "                    <p>Коэффициент сложности</p>\n",
      "                </div>\n",
      "                <h3><a href=\"/news/2021/11/15/no-dark-matter\">Эксперимент COSINE-100 не увидел обнаруженной DAMA/LIBRE темной материи</a></h3>\n",
      "            </div>\n",
      "                        <div class=\"swiper-slide\">\n",
      "                <div class=\"heading\">\n",
      "                    <div class=\"num\">\n",
      "                        <div class=\"value\">5.7</div>\n",
      "                    </div>\n",
      "                    <p>Коэффициент сложности</p>\n",
      "                </div>\n",
      "                <h3><a href=\"/news/2021/11/19/double-BH-bouble-stars\">Гравитационные обсерватории подтвердили гипотезу происхождения пар черных дыр</a></h3>\n",
      "            </div>\n",
      "                        <div class=\"swiper-slide\">\n",
      "                <div class=\"heading\">\n",
      "                    <div class=\"num\">\n",
      "                        <div class=\"value\">5.6</div>\n",
      "                    </div>\n",
      "                    <p>Коэффициент сложности</p>\n",
      "                </div>\n",
      "                <h3><a href=\"/news/2021/11/15/bomb-the-halo\">Свойства квантового гало предложили исследовать бомбардировкой</a></h3>\n",
      "            </div>\n",
      "                        <div class=\"swiper-slide\">\n",
      "                <div class=\"heading\">\n",
      "                    <div class=\"num\">\n",
      "                        <div class=\"value\">5.4</div>\n",
      "                    </div>\n",
      "                    <p>Коэффициент сложности</p>\n",
      "                </div>\n",
      "                <h3><a href=\"/news/2021/11/16/dark-matter-exponential-growth\">Физики предложили новый механизм образования темной материи</a></h3>\n",
      "            </div>\n",
      "                        <div class=\"swiper-slide\">\n",
      "                <div class=\"heading\">\n",
      "                    <div class=\"num\">\n",
      "                        <div class=\"value\">5.4</div>\n",
      "                    </div>\n",
      "                    <p>Коэффициент сложности</p>\n",
      "                </div>\n",
      "                <h3><a href=\"/news/2021/11/16/erecting-molecule\">Физики разобрались в стабильности стоячей молекулы</a></h3>\n",
      "            </div>\n",
      "                        <div class=\"swiper-slide\">\n",
      "                <div class=\"heading\">\n",
      "                    <div class=\"num\">\n",
      "                        <div class=\"value\">5.3</div>\n",
      "                    </div>\n",
      "                    <p>Коэффициент сложности</p>\n",
      "                </div>\n",
      "                <h3><a href=\"/news/2021/11/19/3-in-1\">Физики придумали рентгеноскоп &laquo;три в одном&raquo;</a></h3>\n",
      "            </div>\n",
      "                        <div class=\"swiper-slide\">\n",
      "                <div class=\"heading\">\n",
      "                    <div class=\"num\">\n",
      "                        <div class=\"value\">4.8</div>\n",
      "                    </div>\n",
      "                    <p>Коэффициент сложности</p>\n",
      "                </div>\n",
      "                <h3><a href=\"/material/2021/11/19/new-normal\">Это (будет) нормально</a></h3>\n",
      "            </div>\n",
      "                        \n",
      "        </div>\n",
      "        <!-- If we need pagination -->\n",
      "        <div class=\"swiper-pagination\"></div>\n",
      "        <div class=\"swiper-button-prev\"></div>\n",
      "        <div class=\"swiper-button-next\"></div>\n",
      "    </div>\n",
      "    <h6>Самое сложное</h6>\n",
      "</section>\n",
      "\n",
      "\n",
      "            <div class=\"ad ad-col border\">\n",
      "                    \t    </div>\n",
      "\n",
      "            <!-- footer -->\n",
      "            <footer id=\"footer\">\n",
      "    <div class=\"row\" data-adaptive=\"1\" data-middle-class=\"row-wrap\" data-tablet-class=\"row-wrap\" data-mobile-class=\"row-wrap\">\n",
      "        <div class=\"col col-logo\">\n",
      "            <a href=\"/\" class=\"link-logo\"><img src=\"/i/logo-alt.png\"/></a>\n",
      "        </div>\n",
      "        <div class=\"col col-footer-desc\">\n",
      "            <nav class=\"nav-pages\">\n",
      "                <ul>\n",
      "                    <li>\n",
      "                        <a href=\"/about\">О нас</a>\n",
      "                    </li>\n",
      "                    <li>\n",
      "                        <a href=\"https://nplus.pro\" target=\"_blank\">N + Production</a>\n",
      "                    </li>\n",
      "                    <li>\n",
      "                        <a href=\"/adv\">Рекламодателям</a>\n",
      "                    </li>\n",
      "                    <li>\n",
      "                        <a href=\"/rules\">Наши материалы</a>\n",
      "                    </li>\n",
      "                    <li>\n",
      "                        <a href=\"/vacancy\">Вакансии</a>\n",
      "                    </li>\n",
      "                    <li>\n",
      "                        <a href=\"/difficult\">Сложность</a>\n",
      "                    </li>\n",
      "                </ul>\n",
      "            </nav>\n",
      "            <div class=\"desc\">\n",
      "                <p>&copy; 2021 <i>N&nbsp;+&nbsp;1</i> Интернет-издание &nbsp; Свидетельство о регистрации СМИ Эл № ФС77-67614</p>\n",
      "                                \n",
      "                    <p>Использование всех текстовых материалов без изменений в некоммерческих целях разрешается со ссылкой на <i>N&nbsp;+&nbsp;1</i>. \n",
      "                        Все аудиовизуальные произведения являются собственностью своих авторов и правообладателей и используются \n",
      "                        только в образовательных и информационных целях. Если вы являетесь собственником того или иного произведения \n",
      "                        и не согласны с его размещением на нашем сайте, пожалуйста, напишите на kirill@nplus1.ru</p>\n",
      "                    <p>Материалы, опубликованные в разделе «Блоги», отражают позиции их авторов, которые могут не совпадать с мнением редакции.</p>\n",
      "                    <p>Сайт может содержать контент, не предназначенный для лиц младше 18 лет.</p>\n",
      "                    <p>Связь с редакцией: <a href=\"mailto:info@nplus1.ru\">info@nplus1.ru</a></p>\n",
      "                    <p>\n",
      "                        <a href=\"https://nplus1.ru/personal-data-policy\" class=\"pd\">Политика обработки персональных данных пользователей сайта</a>\n",
      "                    </p>\n",
      "                    <p>\n",
      "                        <script async type=\"text/javascript\" src=\"//s.luxupcdnc.com/t/consent_195458.js\"></script> \n",
      "                        <a href=\"#\" onclick=\"if(window.__lxG__consent__ !== undefined) {window.__lxG__consent__.showConsent()} else {alert('This function works only for users from the European Economic Area (EEA).')}; return false\">Change privacy settings</a>\n",
      "                    </p>\n",
      "                \n",
      "                <p>\n",
      "                                    </p>\n",
      "            </div>\n",
      "        </div>\n",
      "        <div class=\"col col-1 pull-right\">\n",
      "            <nav class=\"nav-social\">\n",
      "                <ul>\n",
      "                    <li>\n",
      "                        <a href=\"https://t.me/nplusone\"><i class=\"fa fa-telegram\"></i></a>\n",
      "                    </li>\n",
      "                    <li>\n",
      "                        <a href=\"http://vk.com/nplusone\"><i class=\"fa fa-vk\"></i></a>\n",
      "                    </li>\n",
      "                    <li>\n",
      "                        <a href=\"https://www.facebook.com/nplusone\"><i class=\"fa fa-facebook\"></i></a>\n",
      "                    </li>\n",
      "                    <li>\n",
      "                        <a href=\"https://twitter.com/nplusodin\"><i class=\"fa fa-twitter\"></i></a>\n",
      "                    </li>\n",
      "                    <li>\n",
      "                        <a href=\"https://ok.ru/nplus1\"><i class=\"fa fa-odnoklassniki\"></i></a>\n",
      "                    </li>\n",
      "                    <li>\n",
      "                        <a href=\"https://soundcloud.com/nplus_1\"><i class=\"fa fa-soundcloud\"></i></a>\n",
      "                    </li>\n",
      "                    <li>\n",
      "                        <a href=\"/rss\"><i class=\"fa fa-rss\"></i></a>\n",
      "                    </li>\n",
      "                </ul>\n",
      "            </nav>\n",
      "            <div class=\"partners\">\n",
      "                \t\t\t\t\t\t\t\t\t\t\t\t\n",
      "\t\t\t\t\n",
      "                <!-- Rating@Mail.ru counter -->\n",
      "<script type=\"text/javascript\">\n",
      "var _tmr = window._tmr || (window._tmr = []);\n",
      "_tmr.push({id: \"3084572\", type: \"pageView\", start: (new Date()).getTime()});\n",
      "(function (d, w, id) {\n",
      "  if (d.getElementById(id)) return;\n",
      "  var ts = d.createElement(\"script\"); ts.type = \"text/javascript\"; ts.async = true; ts.id = id;\n",
      "  ts.src = \"https://top-fwz1.mail.ru/js/code.js\";\n",
      "  var f = function () {var s = d.getElementsByTagName(\"script\")[0]; s.parentNode.insertBefore(ts, s);};\n",
      "  if (w.opera == \"[object Opera]\") { d.addEventListener(\"DOMContentLoaded\", f, false); } else { f(); }\n",
      "})(document, window, \"topmailru-code\");\n",
      "</script><noscript><div>\n",
      "<img src=\"https://top-fwz1.mail.ru/counter?id=3084572;js=na\" style=\"border:0;position:absolute;left:-9999px;\" alt=\"Top.Mail.Ru\" />\n",
      "</div></noscript>\n",
      "<!-- //Rating@Mail.ru counter -->\n",
      "\n",
      "\n",
      "\n",
      "            </div>\n",
      "        </div>\n",
      "    </div>\n",
      "</footer>            <!-- / footer -->\n",
      "            </div>\n",
      "        </div>\n",
      "    \n",
      "    </div>\n",
      "    \n",
      "\n",
      "<!-- Google Tag Manager -->\n",
      "<script>(function(w,d,s,l,i){w[l]=w[l]||[];w[l].push({'gtm.start':\n",
      "new Date().getTime(),event:'gtm.js'});var f=d.getElementsByTagName(s)[0],\n",
      "j=d.createElement(s),dl=l!='dataLayer'?'&l='+l:'';j.async=true;j.src=\n",
      "'https://www.googletagmanager.com/gtm.js?id='+i+dl;f.parentNode.insertBefore(j,f);\n",
      "})(window,document,'script','dataLayer','GTM-MNJC58');</script>\n",
      "<!-- End Google Tag Manager -->\n",
      "\n",
      "<!-- Google Tag Manager (noscript) -->\n",
      "<noscript><iframe src=\"https://www.googletagmanager.com/ns.html?id=GTM-MNJC58\"\n",
      "height=\"0\" width=\"0\" style=\"display:none;visibility:hidden\"></iframe></noscript>\n",
      "<!-- End Google Tag Manager (noscript) -->\n",
      "\n",
      "\n",
      "\n",
      "    <noscript><div><img src=\"//mc.yandex.ru/watch/29654565\" style=\"position:absolute; left:-9999px;\" alt=\"\" /></div></noscript>\n",
      "\t\t\n",
      "\t\n",
      "\t</div>\n",
      "\n",
      "\n",
      "\n",
      "<script src=\"/js/lib/js.cookie.js\"></script>\n",
      "<script src=\"/js/lib/jquery.swap.js\"></script>\n",
      "<script src=\"/js/lib/swiper.jquery.min.js\"></script>\n",
      "<script src=\"/js/lib/svg.js\"></script>\n",
      "<script src=\"/js/lib/jquery.mobile-events.min.js\"></script>\n",
      "<script src=\"/js/lib/social-likes.min.js\"></script>\n",
      "<script src=\"/js/lib/jquery.sticky.js\"></script>\n",
      "\n",
      "\n",
      "<script src=\"/js/lib/ts.js\"></script>\n",
      "<script src=\"/js/lib/js.cookie.js\"></script>\n",
      "\n",
      "\n",
      "<script async src=\"https://cdn.onthe.io/io.js/QCyUUwp6IVuR\"></script>\n",
      "<script>\n",
      "window._io_config = window._io_config || {};\n",
      "window._io_config[\"0.2.0\"] = window._io_config[\"0.2.0\"] || [];\n",
      "window._io_config[\"0.2.0\"].push({\n",
      "    page_url: document.location.toString(),\n",
      "    page_url_canonical: document.querySelector('link[rel=\"canonical\"]').href,\n",
      "    page_title: document.querySelector('title').innerHTML,\n",
      "    page_type: \"article\",\n",
      "    page_language: \"ru\",\n",
      "    article_authors: [document.querySelector('meta[name=\"author\"]').content || ''],\n",
      "    article_publication_date: (new Date(document.querySelector('meta[itemprop=\"datePublished\"]').content).toUTCString()).toString()\n",
      "});\n",
      "</script>\n",
      "\n",
      "<!--   project scripts -->\n",
      "<script src=\"/js/main.min.js?v=1633360304\"></script>\n",
      "<!-- / project scripts -->\n",
      "\n",
      "\n",
      "\n",
      "\n",
      "<!-- Quantcast Tag -->\n",
      "<script type=\"text/javascript\">\n",
      "var _qevents = _qevents || [];\n",
      "\n",
      "(function() {\n",
      "var elem = document.createElement('script');\n",
      "elem.src = (document.location.protocol == \"https:\" ? \"https://secure\" : \"http://edge\") + \".quantserve.com/quant.js\";\n",
      "elem.async = true;\n",
      "elem.type = \"text/javascript\";\n",
      "var scpt = document.getElementsByTagName('script')[0];\n",
      "scpt.parentNode.insertBefore(elem, scpt);\n",
      "})();\n",
      "\n",
      "_qevents.push({\n",
      "qacct:\"p-s3ftDEFzEW5x7\"\n",
      "});\n",
      "</script>\n",
      "\n",
      "<noscript>\n",
      "<div style=\"display:none;\">\n",
      "<img src=\"//pixel.quantserve.com/pixel/p-s3ftDEFzEW5x7.gif\" border=\"0\" height=\"1\" width=\"1\" alt=\"Quantcast\"/>\n",
      "</div>\n",
      "</noscript>\n",
      "<!-- End Quantcast tag -->\n",
      "</body>\n",
      "</html>\n"
     ]
    }
   ],
   "source": [
    "print(response.text)"
   ]
  },
  {
   "cell_type": "code",
   "execution_count": 45,
   "metadata": {},
   "outputs": [
    {
     "name": "stdout",
     "output_type": "stream",
     "text": [
      "<title>Робота-ленивца научили лазать по паутине из тросов</title>\n"
     ]
    },
    {
     "data": {
      "text/plain": [
       "'Робота-ленивца научили лазать по паутине из тросов'"
      ]
     },
     "execution_count": 45,
     "metadata": {},
     "output_type": "execute_result"
    }
   ],
   "source": [
    "from bs4 import BeautifulSoup\n",
    "import requests\n",
    "\n",
    "# Получаем данные, как и ранее\n",
    "url = \"https://nplus1.ru/news/2019/06/04/slothbot\"\n",
    "response = requests.get(url)\n",
    "\n",
    "# Теперь создаим объект BeautifulSoup, указывая html парсер\n",
    "page = BeautifulSoup(response.text, \"html.parser\")\n",
    "\n",
    "# Всё готово, чтобы получать данные из страницы\n",
    "# Для начала получим title, отображающийся на закладках браузера\n",
    "print(page.title)\n",
    "# => <title>Робота-ленивца научили лазать по паутине из тросов</title>\n",
    "\n",
    "# Мы получили тэг. Чтобы достать из него текст, вызовем атрибут text\n",
    "page.title.text\n",
    "# => 'Робота-ленивца научили лазать по паутине из тросов'"
   ]
  },
  {
   "cell_type": "code",
   "execution_count": 46,
   "metadata": {},
   "outputs": [
    {
     "data": {
      "text/plain": [
       "'Робота-ленивца научили лазать по паутине из тросов'"
      ]
     },
     "execution_count": 46,
     "metadata": {},
     "output_type": "execute_result"
    }
   ],
   "source": [
    "soup = BeautifulSoup(response.text, \"html.parser\")\n",
    "soup.title.text"
   ]
  },
  {
   "cell_type": "code",
   "execution_count": 47,
   "metadata": {},
   "outputs": [
    {
     "name": "stdout",
     "output_type": "stream",
     "text": [
      "<h1>Робота-ленивца научили лазать по паутине из тросов</h1>\n"
     ]
    }
   ],
   "source": [
    "print(soup.find(\"h1\"))"
   ]
  },
  {
   "cell_type": "code",
   "execution_count": 48,
   "metadata": {},
   "outputs": [
    {
     "name": "stdout",
     "output_type": "stream",
     "text": [
      "\n",
      "18:27\n",
      "04 Июнь 2019\n",
      "\n"
     ]
    }
   ],
   "source": [
    "print(soup.find(\"time\").text)"
   ]
  },
  {
   "cell_type": "code",
   "execution_count": 49,
   "metadata": {},
   "outputs": [],
   "source": [
    "j = requests.get(\"https://ru.wikipedia.org/wiki/Pink_Floyd\")"
   ]
  },
  {
   "cell_type": "code",
   "execution_count": 50,
   "metadata": {},
   "outputs": [],
   "source": [
    "h = BeautifulSoup(j.text, \"html.parser\")"
   ]
  },
  {
   "cell_type": "code",
   "execution_count": 51,
   "metadata": {},
   "outputs": [
    {
     "name": "stdout",
     "output_type": "stream",
     "text": [
      "Pink Floyd\n"
     ]
    }
   ],
   "source": [
    "print(h.find(\"h1\").text)"
   ]
  },
  {
   "cell_type": "code",
   "execution_count": 52,
   "metadata": {},
   "outputs": [],
   "source": [
    "def wiki_header(k):\n",
    "    j = requests.get(k)\n",
    "    h = BeautifulSoup(j.text, \"html.parser\")\n",
    "    return h.find(\"h1\").text"
   ]
  },
  {
   "cell_type": "code",
   "execution_count": 53,
   "metadata": {},
   "outputs": [
    {
     "data": {
      "text/plain": [
       "'Operating system'"
      ]
     },
     "execution_count": 53,
     "metadata": {},
     "output_type": "execute_result"
    }
   ],
   "source": [
    "wiki_header(\"https://en.wikipedia.org/wiki/Operating_system\")"
   ]
  },
  {
   "cell_type": "code",
   "execution_count": 54,
   "metadata": {
    "scrolled": true
   },
   "outputs": [
    {
     "name": "stdout",
     "output_type": "stream",
     "text": [
      "\n",
      "\n",
      "\n",
      "\n",
      "\n",
      "\n",
      "Allison Carter, Georgia Tech\n",
      "\n",
      "\n",
      "\n",
      "\n",
      "\n",
      "Американские инженеры разработали робота-ленивца, способного лазать по тросам и перемещаться с одного троса на другой. Благодаря относительно малому потреблению энергии и использованию солнечных панелей подобного робота можно практически неограниченное время использовать для наблюдений на деревьях в лесу, рассказывают авторы статьи, представленной на конференции ICRA 2019.\n",
      "Создание роботов, способных лазать по тросам — важная технологическая задача, наработки из которой потенциально применимы во многих областях. К примеру, в 2016 году в России создали робота для проверки высоковольтных линий электропередачи. Дрон спускает такого робота на грозозащитный трос, после чего тот самостоятельно перемещается вдоль основных проводов и осматривает их. Кроме того, потенциально таких роботов можно применять для исследований в густых лесах, в которых ветки соседних деревьев соприкасаются.\n",
      "Инженеры из Технологического института Джорджии под руководством Магнуса Эгерштедта (Magnus Egerstedt) вдохновились ленивцами и решили создать энергоэффективного робота, на основе которого можно было бы создать робота, способного лазать по веткам. Робот состоит из двух частей и передвигается благодаря колесу в каждой части, соприкасающемуся с тросом.\n",
      "\n",
      "Кроме того, в каждой части робота есть две полноценные шестерни и две связанные с ними, но с вырезанным сектором. Внутрь такой шестерни продет\n",
      "трос. При движении вперед шестерня расположена таким образом, чтобы трос не мог выйти за ее пределы. Если же роботу необходимо перейти на смежный трос, шестерня поворачивается так, чтобы вырез располагался горизонтально. Перемещаться между смежными тросами роботу помогает еще один двигатель в петле, соединяющей две части.\n",
      "\n",
      "\n",
      "\n",
      "\n",
      "\n",
      "\n",
      "\n",
      "\n",
      "\n",
      "Компоненты одной из двух частей робота\n",
      "Gennaro Notomista et al. / IEEE Robotics and Automation Letters, 2019\n",
      "\n",
      "\n",
      "\n",
      "Поделиться\n",
      "\n",
      "\n",
      "\n",
      "\n",
      "\n",
      "\n",
      "\n",
      "\n",
      "\n",
      "\n",
      "\n",
      "\n",
      "\n",
      "\n",
      "\n",
      "\n",
      "\n",
      "Для питания робот использует аккумулятор емкостью 1000 миллиампер-часов, а также две солнечные панели, располагающиеся по бокам одной из частей. Разработчики отмечают, что благодаря применению колес для движения по тросам, а также пассивному механизму удержания, робот имеет большую энергоэффективность, чем другие роботы, предназначенные для перемещения по тросам.\n",
      "\n",
      "\n",
      "\n",
      "\n",
      "\n",
      "\n",
      "\n",
      "\n",
      "\n",
      "Механизм блокировки троса\n",
      "Gennaro Notomista et al. / IEEE Robotics and Automation Letters, 2019\n",
      "\n",
      "\n",
      "\n",
      "Поделиться\n",
      "\n",
      "\n",
      "\n",
      "\n",
      "\n",
      "\n",
      "\n",
      "\n",
      "\n",
      "\n",
      "\n",
      "\n",
      "\n",
      "\n",
      "\n",
      "\n",
      "\n",
      "Кроме создания аппаратной платформы инженеры также написали для робота программное обеспечение, позволяющее ему самому прокладывать путь по тросам. Пользователь может указать точку, за которой необходимо наблюдать, после чего робот, имея карту системы тросов, самостоятельно рассчитает путь до наиболее близкой к заданной точке наблюдательной позиции.\n",
      "Ранее инженеры из Технологического института Джорджии создали другого робота-ленивца для работы на тросе. Он так же состоит из двух частей, но имеет совершенно другую конструкцию и принцип работы. Он способен зацепляться концом одной части за трос и раскачивать другую, чтобы затем зацепиться ей. После этого он может отпустить первую часть и снова начать раскачиваться для того, чтобы двигаться дальше.\n",
      "Григорий Копиев\n",
      "\n"
     ]
    }
   ],
   "source": [
    "print(soup.find(\"div\", class_=\"body\").text)"
   ]
  },
  {
   "cell_type": "code",
   "execution_count": 55,
   "metadata": {},
   "outputs": [],
   "source": [
    "value = page.find(\"span\", id_=\"target\")"
   ]
  },
  {
   "cell_type": "code",
   "execution_count": 56,
   "metadata": {},
   "outputs": [
    {
     "name": "stdout",
     "output_type": "stream",
     "text": [
      "<span></span>\n"
     ]
    }
   ],
   "source": [
    "print(soup.find(\"span\"))"
   ]
  },
  {
   "cell_type": "code",
   "execution_count": 57,
   "metadata": {},
   "outputs": [
    {
     "name": "stdout",
     "output_type": "stream",
     "text": [
      "<a id=\"top\"></a>\n"
     ]
    }
   ],
   "source": [
    "url = \"https://en.wikipedia.org/wiki/List_of_programming_languages\"\n",
    "\n",
    "response = requests.get(url)\n",
    "page = BeautifulSoup(response.text)\n",
    "print(page.find(\"a\"))"
   ]
  },
  {
   "cell_type": "code",
   "execution_count": 58,
   "metadata": {},
   "outputs": [],
   "source": [
    "#  = page.find_all('a')"
   ]
  },
  {
   "cell_type": "code",
   "execution_count": 59,
   "metadata": {},
   "outputs": [
    {
     "data": {
      "text/plain": [
       "929"
      ]
     },
     "execution_count": 59,
     "metadata": {},
     "output_type": "execute_result"
    }
   ],
   "source": [
    "links = page.find_all(\"a\")\n",
    "# Посмотрим, сколько всего мы получили\n",
    "len(links)\n",
    "# => 946"
   ]
  },
  {
   "cell_type": "code",
   "execution_count": 60,
   "metadata": {},
   "outputs": [
    {
     "name": "stdout",
     "output_type": "stream",
     "text": [
      "['Orc', 'ORCA/Modula-2', 'Oriel', 'Orwell', 'Oxygene', 'Oz', 'edit', 'P', 'P4', 'P′′']\n"
     ]
    }
   ],
   "source": [
    "# Посмотрим на некоторые из ссылок\n",
    "print([link.text for link in links[500:510]])\n",
    "# => ['Opa', 'Opal', 'OpenCL', 'OpenEdge ABL', 'OPL', 'OpenVera', 'OPS5', 'OptimJ', 'Orc', 'ORCA/Modula-2']"
   ]
  },
  {
   "cell_type": "code",
   "execution_count": 61,
   "metadata": {},
   "outputs": [
    {
     "name": "stdout",
     "output_type": "stream",
     "text": [
      "['A.NET (A#/A sharp)', 'A-0 System', 'A+ (A plus)', 'ABAP', 'ABC', 'ABC ALGOL', 'ACC', 'Accent (Rational Synergy)', 'Ace DASL (Distributed Application Specification Language)', 'Action!']\n"
     ]
    }
   ],
   "source": [
    "first_block = page.find(\"div\", class_=\"div-col\")\n",
    "\n",
    "# Берём оттуда все ссылки\n",
    "links = first_block.find_all(\"a\")\n",
    "print([link.text for link in links[:10]])\n",
    "# => ['A# .NET', 'A-0 System', 'A+', 'A++', 'ABAP', 'ABC', 'ABC ALGOL', 'ABSET', 'ABSYS', 'ACC']"
   ]
  },
  {
   "cell_type": "code",
   "execution_count": 62,
   "metadata": {},
   "outputs": [
    {
     "ename": "ConnectionError",
     "evalue": "HTTPSConnectionPool(host='www.kinopoisk.ru', port=443): Max retries exceeded with url: /film/42326/ (Caused by NewConnectionError('<urllib3.connection.HTTPSConnection object at 0x7f0260d72bb0>: Failed to establish a new connection: [Errno 111] Connection refused'))",
     "output_type": "error",
     "traceback": [
      "\u001b[0;31m---------------------------------------------------------------------------\u001b[0m",
      "\u001b[0;31mConnectionRefusedError\u001b[0m                    Traceback (most recent call last)",
      "\u001b[0;32m~/anaconda3/lib/python3.8/site-packages/urllib3/connection.py\u001b[0m in \u001b[0;36m_new_conn\u001b[0;34m(self)\u001b[0m\n\u001b[1;32m    168\u001b[0m         \u001b[0;32mtry\u001b[0m\u001b[0;34m:\u001b[0m\u001b[0;34m\u001b[0m\u001b[0;34m\u001b[0m\u001b[0m\n\u001b[0;32m--> 169\u001b[0;31m             conn = connection.create_connection(\n\u001b[0m\u001b[1;32m    170\u001b[0m                 \u001b[0;34m(\u001b[0m\u001b[0mself\u001b[0m\u001b[0;34m.\u001b[0m\u001b[0m_dns_host\u001b[0m\u001b[0;34m,\u001b[0m \u001b[0mself\u001b[0m\u001b[0;34m.\u001b[0m\u001b[0mport\u001b[0m\u001b[0;34m)\u001b[0m\u001b[0;34m,\u001b[0m \u001b[0mself\u001b[0m\u001b[0;34m.\u001b[0m\u001b[0mtimeout\u001b[0m\u001b[0;34m,\u001b[0m \u001b[0;34m**\u001b[0m\u001b[0mextra_kw\u001b[0m\u001b[0;34m\u001b[0m\u001b[0;34m\u001b[0m\u001b[0m\n",
      "\u001b[0;32m~/anaconda3/lib/python3.8/site-packages/urllib3/util/connection.py\u001b[0m in \u001b[0;36mcreate_connection\u001b[0;34m(address, timeout, source_address, socket_options)\u001b[0m\n\u001b[1;32m     95\u001b[0m     \u001b[0;32mif\u001b[0m \u001b[0merr\u001b[0m \u001b[0;32mis\u001b[0m \u001b[0;32mnot\u001b[0m \u001b[0;32mNone\u001b[0m\u001b[0;34m:\u001b[0m\u001b[0;34m\u001b[0m\u001b[0;34m\u001b[0m\u001b[0m\n\u001b[0;32m---> 96\u001b[0;31m         \u001b[0;32mraise\u001b[0m \u001b[0merr\u001b[0m\u001b[0;34m\u001b[0m\u001b[0;34m\u001b[0m\u001b[0m\n\u001b[0m\u001b[1;32m     97\u001b[0m \u001b[0;34m\u001b[0m\u001b[0m\n",
      "\u001b[0;32m~/anaconda3/lib/python3.8/site-packages/urllib3/util/connection.py\u001b[0m in \u001b[0;36mcreate_connection\u001b[0;34m(address, timeout, source_address, socket_options)\u001b[0m\n\u001b[1;32m     85\u001b[0m                 \u001b[0msock\u001b[0m\u001b[0;34m.\u001b[0m\u001b[0mbind\u001b[0m\u001b[0;34m(\u001b[0m\u001b[0msource_address\u001b[0m\u001b[0;34m)\u001b[0m\u001b[0;34m\u001b[0m\u001b[0;34m\u001b[0m\u001b[0m\n\u001b[0;32m---> 86\u001b[0;31m             \u001b[0msock\u001b[0m\u001b[0;34m.\u001b[0m\u001b[0mconnect\u001b[0m\u001b[0;34m(\u001b[0m\u001b[0msa\u001b[0m\u001b[0;34m)\u001b[0m\u001b[0;34m\u001b[0m\u001b[0;34m\u001b[0m\u001b[0m\n\u001b[0m\u001b[1;32m     87\u001b[0m             \u001b[0;32mreturn\u001b[0m \u001b[0msock\u001b[0m\u001b[0;34m\u001b[0m\u001b[0;34m\u001b[0m\u001b[0m\n",
      "\u001b[0;31mConnectionRefusedError\u001b[0m: [Errno 111] Connection refused",
      "\nDuring handling of the above exception, another exception occurred:\n",
      "\u001b[0;31mNewConnectionError\u001b[0m                        Traceback (most recent call last)",
      "\u001b[0;32m~/anaconda3/lib/python3.8/site-packages/urllib3/connectionpool.py\u001b[0m in \u001b[0;36murlopen\u001b[0;34m(self, method, url, body, headers, retries, redirect, assert_same_host, timeout, pool_timeout, release_conn, chunked, body_pos, **response_kw)\u001b[0m\n\u001b[1;32m    698\u001b[0m             \u001b[0;31m# Make the request on the httplib connection object.\u001b[0m\u001b[0;34m\u001b[0m\u001b[0;34m\u001b[0m\u001b[0;34m\u001b[0m\u001b[0m\n\u001b[0;32m--> 699\u001b[0;31m             httplib_response = self._make_request(\n\u001b[0m\u001b[1;32m    700\u001b[0m                 \u001b[0mconn\u001b[0m\u001b[0;34m,\u001b[0m\u001b[0;34m\u001b[0m\u001b[0;34m\u001b[0m\u001b[0m\n",
      "\u001b[0;32m~/anaconda3/lib/python3.8/site-packages/urllib3/connectionpool.py\u001b[0m in \u001b[0;36m_make_request\u001b[0;34m(self, conn, method, url, timeout, chunked, **httplib_request_kw)\u001b[0m\n\u001b[1;32m    381\u001b[0m         \u001b[0;32mtry\u001b[0m\u001b[0;34m:\u001b[0m\u001b[0;34m\u001b[0m\u001b[0;34m\u001b[0m\u001b[0m\n\u001b[0;32m--> 382\u001b[0;31m             \u001b[0mself\u001b[0m\u001b[0;34m.\u001b[0m\u001b[0m_validate_conn\u001b[0m\u001b[0;34m(\u001b[0m\u001b[0mconn\u001b[0m\u001b[0;34m)\u001b[0m\u001b[0;34m\u001b[0m\u001b[0;34m\u001b[0m\u001b[0m\n\u001b[0m\u001b[1;32m    383\u001b[0m         \u001b[0;32mexcept\u001b[0m \u001b[0;34m(\u001b[0m\u001b[0mSocketTimeout\u001b[0m\u001b[0;34m,\u001b[0m \u001b[0mBaseSSLError\u001b[0m\u001b[0;34m)\u001b[0m \u001b[0;32mas\u001b[0m \u001b[0me\u001b[0m\u001b[0;34m:\u001b[0m\u001b[0;34m\u001b[0m\u001b[0;34m\u001b[0m\u001b[0m\n",
      "\u001b[0;32m~/anaconda3/lib/python3.8/site-packages/urllib3/connectionpool.py\u001b[0m in \u001b[0;36m_validate_conn\u001b[0;34m(self, conn)\u001b[0m\n\u001b[1;32m   1009\u001b[0m         \u001b[0;32mif\u001b[0m \u001b[0;32mnot\u001b[0m \u001b[0mgetattr\u001b[0m\u001b[0;34m(\u001b[0m\u001b[0mconn\u001b[0m\u001b[0;34m,\u001b[0m \u001b[0;34m\"sock\"\u001b[0m\u001b[0;34m,\u001b[0m \u001b[0;32mNone\u001b[0m\u001b[0;34m)\u001b[0m\u001b[0;34m:\u001b[0m  \u001b[0;31m# AppEngine might not have  `.sock`\u001b[0m\u001b[0;34m\u001b[0m\u001b[0;34m\u001b[0m\u001b[0m\n\u001b[0;32m-> 1010\u001b[0;31m             \u001b[0mconn\u001b[0m\u001b[0;34m.\u001b[0m\u001b[0mconnect\u001b[0m\u001b[0;34m(\u001b[0m\u001b[0;34m)\u001b[0m\u001b[0;34m\u001b[0m\u001b[0;34m\u001b[0m\u001b[0m\n\u001b[0m\u001b[1;32m   1011\u001b[0m \u001b[0;34m\u001b[0m\u001b[0m\n",
      "\u001b[0;32m~/anaconda3/lib/python3.8/site-packages/urllib3/connection.py\u001b[0m in \u001b[0;36mconnect\u001b[0;34m(self)\u001b[0m\n\u001b[1;32m    352\u001b[0m         \u001b[0;31m# Add certificate verification\u001b[0m\u001b[0;34m\u001b[0m\u001b[0;34m\u001b[0m\u001b[0;34m\u001b[0m\u001b[0m\n\u001b[0;32m--> 353\u001b[0;31m         \u001b[0mconn\u001b[0m \u001b[0;34m=\u001b[0m \u001b[0mself\u001b[0m\u001b[0;34m.\u001b[0m\u001b[0m_new_conn\u001b[0m\u001b[0;34m(\u001b[0m\u001b[0;34m)\u001b[0m\u001b[0;34m\u001b[0m\u001b[0;34m\u001b[0m\u001b[0m\n\u001b[0m\u001b[1;32m    354\u001b[0m         \u001b[0mhostname\u001b[0m \u001b[0;34m=\u001b[0m \u001b[0mself\u001b[0m\u001b[0;34m.\u001b[0m\u001b[0mhost\u001b[0m\u001b[0;34m\u001b[0m\u001b[0;34m\u001b[0m\u001b[0m\n",
      "\u001b[0;32m~/anaconda3/lib/python3.8/site-packages/urllib3/connection.py\u001b[0m in \u001b[0;36m_new_conn\u001b[0;34m(self)\u001b[0m\n\u001b[1;32m    180\u001b[0m         \u001b[0;32mexcept\u001b[0m \u001b[0mSocketError\u001b[0m \u001b[0;32mas\u001b[0m \u001b[0me\u001b[0m\u001b[0;34m:\u001b[0m\u001b[0;34m\u001b[0m\u001b[0;34m\u001b[0m\u001b[0m\n\u001b[0;32m--> 181\u001b[0;31m             raise NewConnectionError(\n\u001b[0m\u001b[1;32m    182\u001b[0m                 \u001b[0mself\u001b[0m\u001b[0;34m,\u001b[0m \u001b[0;34m\"Failed to establish a new connection: %s\"\u001b[0m \u001b[0;34m%\u001b[0m \u001b[0me\u001b[0m\u001b[0;34m\u001b[0m\u001b[0;34m\u001b[0m\u001b[0m\n",
      "\u001b[0;31mNewConnectionError\u001b[0m: <urllib3.connection.HTTPSConnection object at 0x7f0260d72bb0>: Failed to establish a new connection: [Errno 111] Connection refused",
      "\nDuring handling of the above exception, another exception occurred:\n",
      "\u001b[0;31mMaxRetryError\u001b[0m                             Traceback (most recent call last)",
      "\u001b[0;32m~/anaconda3/lib/python3.8/site-packages/requests/adapters.py\u001b[0m in \u001b[0;36msend\u001b[0;34m(self, request, stream, timeout, verify, cert, proxies)\u001b[0m\n\u001b[1;32m    438\u001b[0m             \u001b[0;32mif\u001b[0m \u001b[0;32mnot\u001b[0m \u001b[0mchunked\u001b[0m\u001b[0;34m:\u001b[0m\u001b[0;34m\u001b[0m\u001b[0;34m\u001b[0m\u001b[0m\n\u001b[0;32m--> 439\u001b[0;31m                 resp = conn.urlopen(\n\u001b[0m\u001b[1;32m    440\u001b[0m                     \u001b[0mmethod\u001b[0m\u001b[0;34m=\u001b[0m\u001b[0mrequest\u001b[0m\u001b[0;34m.\u001b[0m\u001b[0mmethod\u001b[0m\u001b[0;34m,\u001b[0m\u001b[0;34m\u001b[0m\u001b[0;34m\u001b[0m\u001b[0m\n",
      "\u001b[0;32m~/anaconda3/lib/python3.8/site-packages/urllib3/connectionpool.py\u001b[0m in \u001b[0;36murlopen\u001b[0;34m(self, method, url, body, headers, retries, redirect, assert_same_host, timeout, pool_timeout, release_conn, chunked, body_pos, **response_kw)\u001b[0m\n\u001b[1;32m    754\u001b[0m \u001b[0;34m\u001b[0m\u001b[0m\n\u001b[0;32m--> 755\u001b[0;31m             retries = retries.increment(\n\u001b[0m\u001b[1;32m    756\u001b[0m                 \u001b[0mmethod\u001b[0m\u001b[0;34m,\u001b[0m \u001b[0murl\u001b[0m\u001b[0;34m,\u001b[0m \u001b[0merror\u001b[0m\u001b[0;34m=\u001b[0m\u001b[0me\u001b[0m\u001b[0;34m,\u001b[0m \u001b[0m_pool\u001b[0m\u001b[0;34m=\u001b[0m\u001b[0mself\u001b[0m\u001b[0;34m,\u001b[0m \u001b[0m_stacktrace\u001b[0m\u001b[0;34m=\u001b[0m\u001b[0msys\u001b[0m\u001b[0;34m.\u001b[0m\u001b[0mexc_info\u001b[0m\u001b[0;34m(\u001b[0m\u001b[0;34m)\u001b[0m\u001b[0;34m[\u001b[0m\u001b[0;36m2\u001b[0m\u001b[0;34m]\u001b[0m\u001b[0;34m\u001b[0m\u001b[0;34m\u001b[0m\u001b[0m\n",
      "\u001b[0;32m~/anaconda3/lib/python3.8/site-packages/urllib3/util/retry.py\u001b[0m in \u001b[0;36mincrement\u001b[0;34m(self, method, url, response, error, _pool, _stacktrace)\u001b[0m\n\u001b[1;32m    573\u001b[0m         \u001b[0;32mif\u001b[0m \u001b[0mnew_retry\u001b[0m\u001b[0;34m.\u001b[0m\u001b[0mis_exhausted\u001b[0m\u001b[0;34m(\u001b[0m\u001b[0;34m)\u001b[0m\u001b[0;34m:\u001b[0m\u001b[0;34m\u001b[0m\u001b[0;34m\u001b[0m\u001b[0m\n\u001b[0;32m--> 574\u001b[0;31m             \u001b[0;32mraise\u001b[0m \u001b[0mMaxRetryError\u001b[0m\u001b[0;34m(\u001b[0m\u001b[0m_pool\u001b[0m\u001b[0;34m,\u001b[0m \u001b[0murl\u001b[0m\u001b[0;34m,\u001b[0m \u001b[0merror\u001b[0m \u001b[0;32mor\u001b[0m \u001b[0mResponseError\u001b[0m\u001b[0;34m(\u001b[0m\u001b[0mcause\u001b[0m\u001b[0;34m)\u001b[0m\u001b[0;34m)\u001b[0m\u001b[0;34m\u001b[0m\u001b[0;34m\u001b[0m\u001b[0m\n\u001b[0m\u001b[1;32m    575\u001b[0m \u001b[0;34m\u001b[0m\u001b[0m\n",
      "\u001b[0;31mMaxRetryError\u001b[0m: HTTPSConnectionPool(host='www.kinopoisk.ru', port=443): Max retries exceeded with url: /film/42326/ (Caused by NewConnectionError('<urllib3.connection.HTTPSConnection object at 0x7f0260d72bb0>: Failed to establish a new connection: [Errno 111] Connection refused'))",
      "\nDuring handling of the above exception, another exception occurred:\n",
      "\u001b[0;31mConnectionError\u001b[0m                           Traceback (most recent call last)",
      "\u001b[0;32m<ipython-input-62-92e18509fc78>\u001b[0m in \u001b[0;36m<module>\u001b[0;34m\u001b[0m\n\u001b[1;32m      3\u001b[0m \u001b[0murl\u001b[0m \u001b[0;34m=\u001b[0m \u001b[0;34m'https://www.kinopoisk.ru/film/42326/'\u001b[0m\u001b[0;34m\u001b[0m\u001b[0;34m\u001b[0m\u001b[0m\n\u001b[1;32m      4\u001b[0m \u001b[0;34m\u001b[0m\u001b[0m\n\u001b[0;32m----> 5\u001b[0;31m \u001b[0mresponse\u001b[0m \u001b[0;34m=\u001b[0m \u001b[0mrequests\u001b[0m\u001b[0;34m.\u001b[0m\u001b[0mget\u001b[0m\u001b[0;34m(\u001b[0m\u001b[0murl\u001b[0m\u001b[0;34m)\u001b[0m\u001b[0;34m\u001b[0m\u001b[0;34m\u001b[0m\u001b[0m\n\u001b[0m\u001b[1;32m      6\u001b[0m \u001b[0;34m\u001b[0m\u001b[0m\n\u001b[1;32m      7\u001b[0m \u001b[0;31m# Убедимся, что мы успешно получили ответ\u001b[0m\u001b[0;34m\u001b[0m\u001b[0;34m\u001b[0m\u001b[0;34m\u001b[0m\u001b[0m\n",
      "\u001b[0;32m~/anaconda3/lib/python3.8/site-packages/requests/api.py\u001b[0m in \u001b[0;36mget\u001b[0;34m(url, params, **kwargs)\u001b[0m\n\u001b[1;32m     74\u001b[0m \u001b[0;34m\u001b[0m\u001b[0m\n\u001b[1;32m     75\u001b[0m     \u001b[0mkwargs\u001b[0m\u001b[0;34m.\u001b[0m\u001b[0msetdefault\u001b[0m\u001b[0;34m(\u001b[0m\u001b[0;34m'allow_redirects'\u001b[0m\u001b[0;34m,\u001b[0m \u001b[0;32mTrue\u001b[0m\u001b[0;34m)\u001b[0m\u001b[0;34m\u001b[0m\u001b[0;34m\u001b[0m\u001b[0m\n\u001b[0;32m---> 76\u001b[0;31m     \u001b[0;32mreturn\u001b[0m \u001b[0mrequest\u001b[0m\u001b[0;34m(\u001b[0m\u001b[0;34m'get'\u001b[0m\u001b[0;34m,\u001b[0m \u001b[0murl\u001b[0m\u001b[0;34m,\u001b[0m \u001b[0mparams\u001b[0m\u001b[0;34m=\u001b[0m\u001b[0mparams\u001b[0m\u001b[0;34m,\u001b[0m \u001b[0;34m**\u001b[0m\u001b[0mkwargs\u001b[0m\u001b[0;34m)\u001b[0m\u001b[0;34m\u001b[0m\u001b[0;34m\u001b[0m\u001b[0m\n\u001b[0m\u001b[1;32m     77\u001b[0m \u001b[0;34m\u001b[0m\u001b[0m\n\u001b[1;32m     78\u001b[0m \u001b[0;34m\u001b[0m\u001b[0m\n",
      "\u001b[0;32m~/anaconda3/lib/python3.8/site-packages/requests/api.py\u001b[0m in \u001b[0;36mrequest\u001b[0;34m(method, url, **kwargs)\u001b[0m\n\u001b[1;32m     59\u001b[0m     \u001b[0;31m# cases, and look like a memory leak in others.\u001b[0m\u001b[0;34m\u001b[0m\u001b[0;34m\u001b[0m\u001b[0;34m\u001b[0m\u001b[0m\n\u001b[1;32m     60\u001b[0m     \u001b[0;32mwith\u001b[0m \u001b[0msessions\u001b[0m\u001b[0;34m.\u001b[0m\u001b[0mSession\u001b[0m\u001b[0;34m(\u001b[0m\u001b[0;34m)\u001b[0m \u001b[0;32mas\u001b[0m \u001b[0msession\u001b[0m\u001b[0;34m:\u001b[0m\u001b[0;34m\u001b[0m\u001b[0;34m\u001b[0m\u001b[0m\n\u001b[0;32m---> 61\u001b[0;31m         \u001b[0;32mreturn\u001b[0m \u001b[0msession\u001b[0m\u001b[0;34m.\u001b[0m\u001b[0mrequest\u001b[0m\u001b[0;34m(\u001b[0m\u001b[0mmethod\u001b[0m\u001b[0;34m=\u001b[0m\u001b[0mmethod\u001b[0m\u001b[0;34m,\u001b[0m \u001b[0murl\u001b[0m\u001b[0;34m=\u001b[0m\u001b[0murl\u001b[0m\u001b[0;34m,\u001b[0m \u001b[0;34m**\u001b[0m\u001b[0mkwargs\u001b[0m\u001b[0;34m)\u001b[0m\u001b[0;34m\u001b[0m\u001b[0;34m\u001b[0m\u001b[0m\n\u001b[0m\u001b[1;32m     62\u001b[0m \u001b[0;34m\u001b[0m\u001b[0m\n\u001b[1;32m     63\u001b[0m \u001b[0;34m\u001b[0m\u001b[0m\n",
      "\u001b[0;32m~/anaconda3/lib/python3.8/site-packages/requests/sessions.py\u001b[0m in \u001b[0;36mrequest\u001b[0;34m(self, method, url, params, data, headers, cookies, files, auth, timeout, allow_redirects, proxies, hooks, stream, verify, cert, json)\u001b[0m\n\u001b[1;32m    540\u001b[0m         }\n\u001b[1;32m    541\u001b[0m         \u001b[0msend_kwargs\u001b[0m\u001b[0;34m.\u001b[0m\u001b[0mupdate\u001b[0m\u001b[0;34m(\u001b[0m\u001b[0msettings\u001b[0m\u001b[0;34m)\u001b[0m\u001b[0;34m\u001b[0m\u001b[0;34m\u001b[0m\u001b[0m\n\u001b[0;32m--> 542\u001b[0;31m         \u001b[0mresp\u001b[0m \u001b[0;34m=\u001b[0m \u001b[0mself\u001b[0m\u001b[0;34m.\u001b[0m\u001b[0msend\u001b[0m\u001b[0;34m(\u001b[0m\u001b[0mprep\u001b[0m\u001b[0;34m,\u001b[0m \u001b[0;34m**\u001b[0m\u001b[0msend_kwargs\u001b[0m\u001b[0;34m)\u001b[0m\u001b[0;34m\u001b[0m\u001b[0;34m\u001b[0m\u001b[0m\n\u001b[0m\u001b[1;32m    543\u001b[0m \u001b[0;34m\u001b[0m\u001b[0m\n\u001b[1;32m    544\u001b[0m         \u001b[0;32mreturn\u001b[0m \u001b[0mresp\u001b[0m\u001b[0;34m\u001b[0m\u001b[0;34m\u001b[0m\u001b[0m\n",
      "\u001b[0;32m~/anaconda3/lib/python3.8/site-packages/requests/sessions.py\u001b[0m in \u001b[0;36msend\u001b[0;34m(self, request, **kwargs)\u001b[0m\n\u001b[1;32m    653\u001b[0m \u001b[0;34m\u001b[0m\u001b[0m\n\u001b[1;32m    654\u001b[0m         \u001b[0;31m# Send the request\u001b[0m\u001b[0;34m\u001b[0m\u001b[0;34m\u001b[0m\u001b[0;34m\u001b[0m\u001b[0m\n\u001b[0;32m--> 655\u001b[0;31m         \u001b[0mr\u001b[0m \u001b[0;34m=\u001b[0m \u001b[0madapter\u001b[0m\u001b[0;34m.\u001b[0m\u001b[0msend\u001b[0m\u001b[0;34m(\u001b[0m\u001b[0mrequest\u001b[0m\u001b[0;34m,\u001b[0m \u001b[0;34m**\u001b[0m\u001b[0mkwargs\u001b[0m\u001b[0;34m)\u001b[0m\u001b[0;34m\u001b[0m\u001b[0;34m\u001b[0m\u001b[0m\n\u001b[0m\u001b[1;32m    656\u001b[0m \u001b[0;34m\u001b[0m\u001b[0m\n\u001b[1;32m    657\u001b[0m         \u001b[0;31m# Total elapsed time of the request (approximately)\u001b[0m\u001b[0;34m\u001b[0m\u001b[0;34m\u001b[0m\u001b[0;34m\u001b[0m\u001b[0m\n",
      "\u001b[0;32m~/anaconda3/lib/python3.8/site-packages/requests/adapters.py\u001b[0m in \u001b[0;36msend\u001b[0;34m(self, request, stream, timeout, verify, cert, proxies)\u001b[0m\n\u001b[1;32m    514\u001b[0m                 \u001b[0;32mraise\u001b[0m \u001b[0mSSLError\u001b[0m\u001b[0;34m(\u001b[0m\u001b[0me\u001b[0m\u001b[0;34m,\u001b[0m \u001b[0mrequest\u001b[0m\u001b[0;34m=\u001b[0m\u001b[0mrequest\u001b[0m\u001b[0;34m)\u001b[0m\u001b[0;34m\u001b[0m\u001b[0;34m\u001b[0m\u001b[0m\n\u001b[1;32m    515\u001b[0m \u001b[0;34m\u001b[0m\u001b[0m\n\u001b[0;32m--> 516\u001b[0;31m             \u001b[0;32mraise\u001b[0m \u001b[0mConnectionError\u001b[0m\u001b[0;34m(\u001b[0m\u001b[0me\u001b[0m\u001b[0;34m,\u001b[0m \u001b[0mrequest\u001b[0m\u001b[0;34m=\u001b[0m\u001b[0mrequest\u001b[0m\u001b[0;34m)\u001b[0m\u001b[0;34m\u001b[0m\u001b[0;34m\u001b[0m\u001b[0m\n\u001b[0m\u001b[1;32m    517\u001b[0m \u001b[0;34m\u001b[0m\u001b[0m\n\u001b[1;32m    518\u001b[0m         \u001b[0;32mexcept\u001b[0m \u001b[0mClosedPoolError\u001b[0m \u001b[0;32mas\u001b[0m \u001b[0me\u001b[0m\u001b[0;34m:\u001b[0m\u001b[0;34m\u001b[0m\u001b[0;34m\u001b[0m\u001b[0m\n",
      "\u001b[0;31mConnectionError\u001b[0m: HTTPSConnectionPool(host='www.kinopoisk.ru', port=443): Max retries exceeded with url: /film/42326/ (Caused by NewConnectionError('<urllib3.connection.HTTPSConnection object at 0x7f0260d72bb0>: Failed to establish a new connection: [Errno 111] Connection refused'))"
     ]
    }
   ],
   "source": [
    "import requests\n",
    "\n",
    "url = \"https://www.kinopoisk.ru/film/42326/\"\n",
    "\n",
    "response = requests.get(url)\n",
    "\n",
    "# Убедимся, что мы успешно получили ответ\n",
    "print(response.status_code)\n",
    "# => 200"
   ]
  },
  {
   "cell_type": "code",
   "execution_count": null,
   "metadata": {},
   "outputs": [],
   "source": [
    "def get_actors(x):\n",
    "    import requests\n",
    "    from bs4 import BeautifulSoup\n",
    "\n",
    "    url = x\n",
    "    response = requests.get(url)\n",
    "    first_block = page.find(\"ul\", class_=\"styles_list__I97eu\")\n",
    "    links = first_block.find_all(\"a\")\n",
    "    return [link.text for link in links]"
   ]
  },
  {
   "cell_type": "code",
   "execution_count": null,
   "metadata": {},
   "outputs": [],
   "source": [
    "import requests\n",
    "from bs4 import BeautifulSoup\n",
    "\n",
    "\n",
    "def get_actors(x):\n",
    "    url = x\n",
    "    response = requests.get(url)\n",
    "    page = BeautifulSoup(response.text, \"html.parser\")\n",
    "    block = page.find(\"ul\", class_=\"styles_list__I97eu\")\n",
    "    links = block.find_all(\"a\")\n",
    "    return [link.text for link in links]"
   ]
  },
  {
   "cell_type": "code",
   "execution_count": null,
   "metadata": {},
   "outputs": [],
   "source": [
    "from bs4 import BeautifulSoup\n",
    "import requests\n",
    "\n",
    "\n",
    "def get_actors(url):\n",
    "    response = requests.get(url)\n",
    "    page = BeautifulSoup(response.text, \"html.parser\")\n",
    "    block = page.find(\"div\", id=\"actorList\")\n",
    "    links = block.find_all(\"a\")\n",
    "    return [link.text for link in links]"
   ]
  },
  {
   "cell_type": "code",
   "execution_count": null,
   "metadata": {},
   "outputs": [],
   "source": [
    "get_actors(\"https://www.kinopoisk.ru/film/391177/\")"
   ]
  },
  {
   "cell_type": "code",
   "execution_count": null,
   "metadata": {},
   "outputs": [],
   "source": [
    "import pandas as pd\n",
    "\n",
    "url = \"https://www.cbr.ru/key-indicators/\"\n",
    "# Таблица с драгметаллами оказалась второй по счёту\n",
    "pd.read_html(url)[0]"
   ]
  },
  {
   "cell_type": "code",
   "execution_count": null,
   "metadata": {},
   "outputs": [],
   "source": [
    "from bs4 import BeautifulSoup\n",
    "import pandas as pd\n",
    "import requests\n",
    "\n",
    "url = \"https://www.cbr.ru/key-indicators/\"\n",
    "soup = BeautifulSoup(\n",
    "    requests.get(url, headers={\"User-Agent\": \"Mozilla/5.0\"}).text, \"html.parser\"\n",
    ")"
   ]
  },
  {
   "cell_type": "code",
   "execution_count": null,
   "metadata": {
    "scrolled": true
   },
   "outputs": [],
   "source": [
    "all_blocks = soup.find_all(\"div\", class_=\"table key-indicator_table\")\n",
    "\n",
    "data = all_blocks[1].find_all(\"table\")\n",
    "data"
   ]
  },
  {
   "cell_type": "code",
   "execution_count": null,
   "metadata": {},
   "outputs": [],
   "source": [
    "df = pd.read_html(str(data))[0]"
   ]
  },
  {
   "cell_type": "code",
   "execution_count": null,
   "metadata": {},
   "outputs": [],
   "source": [
    "df"
   ]
  },
  {
   "cell_type": "code",
   "execution_count": null,
   "metadata": {},
   "outputs": [],
   "source": [
    "url = \"https://www.banki.ru/banks/ratings/\"\n",
    "soup = BeautifulSoup(\n",
    "    requests.get(url, headers={\"User-Agent\": \"Mozilla/5.0\"}).text, \"html.parser\"\n",
    ")"
   ]
  },
  {
   "cell_type": "code",
   "execution_count": null,
   "metadata": {},
   "outputs": [],
   "source": [
    "data = soup.find_all(\"table\")\n",
    "a = data[0].find_all(\"tbody\")\n",
    "df = pd.read_html(str(data))[0]\n",
    "df"
   ]
  },
  {
   "cell_type": "code",
   "execution_count": null,
   "metadata": {},
   "outputs": [],
   "source": [
    "import requests  # Библиотека для отправки запросов\n",
    "import numpy as np  # Библиотека для матриц, векторов и линала\n",
    "import pandas as pd  # Библиотека для табличек\n",
    "import time  # Библиотека для тайм-менеджмента"
   ]
  },
  {
   "cell_type": "code",
   "execution_count": null,
   "metadata": {},
   "outputs": [],
   "source": [
    "page_link = \"http://knowyourmeme.com/memes/all/page/1\"\n",
    "response = requests.get(page_link)\n",
    "response"
   ]
  },
  {
   "cell_type": "code",
   "execution_count": null,
   "metadata": {},
   "outputs": [],
   "source": [
    "for key, value in response.request.headers.items():\n",
    "    print(key + \": \" + value)"
   ]
  },
  {
   "cell_type": "code",
   "execution_count": null,
   "metadata": {},
   "outputs": [],
   "source": [
    "from fake_useragent import UserAgent\n",
    "\n",
    "UserAgent().chrome"
   ]
  },
  {
   "cell_type": "code",
   "execution_count": null,
   "metadata": {},
   "outputs": [],
   "source": [
    "response = requests.get(page_link, headers={\"User-Agent\": UserAgent().chrome})\n",
    "response"
   ]
  },
  {
   "cell_type": "code",
   "execution_count": null,
   "metadata": {},
   "outputs": [],
   "source": [
    "html = response.content\n",
    "html[:1000]"
   ]
  },
  {
   "cell_type": "code",
   "execution_count": null,
   "metadata": {},
   "outputs": [],
   "source": [
    "from bs4 import BeautifulSoup"
   ]
  },
  {
   "cell_type": "code",
   "execution_count": null,
   "metadata": {},
   "outputs": [],
   "source": [
    "soup = BeautifulSoup(html, \"html.parser\")  # В опции также можно указать lxml,\n",
    "# если предварительно установить одноименный пакет"
   ]
  },
  {
   "cell_type": "code",
   "execution_count": null,
   "metadata": {},
   "outputs": [],
   "source": [
    "soup"
   ]
  },
  {
   "cell_type": "code",
   "execution_count": null,
   "metadata": {},
   "outputs": [],
   "source": [
    "soup.html.head.title"
   ]
  },
  {
   "cell_type": "code",
   "execution_count": null,
   "metadata": {},
   "outputs": [],
   "source": [
    "soup.html.head.title.text"
   ]
  },
  {
   "cell_type": "code",
   "execution_count": null,
   "metadata": {},
   "outputs": [],
   "source": [
    "obj = soup.find(\"a\", attrs={\"class\": \"photo\"})\n",
    "obj"
   ]
  },
  {
   "cell_type": "code",
   "execution_count": null,
   "metadata": {},
   "outputs": [],
   "source": [
    "obj = soup.find(lambda tag: tag.name == \"a\" and tag.get(\"class\") == [\"photo\"])\n",
    "obj"
   ]
  },
  {
   "cell_type": "code",
   "execution_count": null,
   "metadata": {},
   "outputs": [],
   "source": [
    "obj.attrs[\"href\"]"
   ]
  },
  {
   "cell_type": "code",
   "execution_count": null,
   "metadata": {},
   "outputs": [],
   "source": [
    "print(\"Тип данных до вытаскивания ссылки:\", type(obj))\n",
    "print(\"Тип данных после вытаскивания ссылки:\", type(obj.attrs[\"href\"]))"
   ]
  },
  {
   "cell_type": "code",
   "execution_count": null,
   "metadata": {},
   "outputs": [],
   "source": [
    "meme_links = soup.findAll(lambda tag: tag.name == \"a\" and tag.get(\"class\") == [\"photo\"])\n",
    "meme_links[:3]"
   ]
  },
  {
   "cell_type": "code",
   "execution_count": null,
   "metadata": {},
   "outputs": [],
   "source": [
    "meme_links = [link.attrs[\"href\"] for link in meme_links]\n",
    "meme_links[:10]"
   ]
  },
  {
   "cell_type": "code",
   "execution_count": null,
   "metadata": {},
   "outputs": [],
   "source": [
    "def getPageLinks(page_number):\n",
    "    \"\"\"\n",
    "    Возвращает список ссылок на мемы, полученный с текущей страницы\n",
    "\n",
    "    page_number: int/string\n",
    "        номер страницы для парсинга\n",
    "\n",
    "    \"\"\"\n",
    "    # составляем ссылку на страницу поиска\n",
    "    page_link = \"http://knowyourmeme.com/memes/all/page/{}\".format(page_number)\n",
    "\n",
    "    # запрашиваем данные по ней\n",
    "    response = requests.get(page_link, headers={\"User-Agent\": UserAgent().chrome})\n",
    "\n",
    "    if not response.ok:\n",
    "        # если сервер нам отказал, вернем пустой лист для текущей страницы\n",
    "        return []\n",
    "\n",
    "    # получаем содержимое страницы и переводим в суп\n",
    "    html = response.content\n",
    "    soup = BeautifulSoup(html, \"html.parser\")\n",
    "\n",
    "    # наконец, ищем ссылки на мемы и очищаем их от ненужных тэгов\n",
    "    meme_links = soup.findAll(\n",
    "        lambda tag: tag.name == \"a\" and tag.get(\"class\") == [\"photo\"]\n",
    "    )\n",
    "    meme_links = [\"http://knowyourmeme.com\" + link.attrs[\"href\"] for link in meme_links]\n",
    "\n",
    "    return meme_links"
   ]
  },
  {
   "cell_type": "code",
   "execution_count": null,
   "metadata": {},
   "outputs": [],
   "source": [
    "meme_links = getPageLinks(1)\n",
    "meme_links[:2]"
   ]
  },
  {
   "cell_type": "code",
   "execution_count": null,
   "metadata": {},
   "outputs": [],
   "source": [
    "meme_page = \"http://knowyourmeme.com/memes/doge\"\n",
    "response = requests.get(meme_page, headers={\"User-Agent\": UserAgent().chrome})\n",
    "html = response.content\n",
    "soup = BeautifulSoup(html, \"html.parser\")"
   ]
  },
  {
   "cell_type": "code",
   "execution_count": null,
   "metadata": {},
   "outputs": [],
   "source": [
    "views = soup.find_all(\"a\", attrs={\"class\": \"stat-item\"})\n",
    "# views = views.find\n",
    "obj = views[0].div[\"title\"]\n",
    "j = obj.find(\" \")\n",
    "print(obj[:j])"
   ]
  },
  {
   "cell_type": "code",
   "execution_count": null,
   "metadata": {},
   "outputs": [],
   "source": [
    "views = soup.find_all(\"div\", attrs={\"class\": \"stat-item\"})\n",
    "obj = views[0].div[\"title\"]\n",
    "j = obj.find(\" \")\n",
    "obj = int(obj[:j].replace(\",\", \"\"))\n",
    "print(obj)"
   ]
  },
  {
   "cell_type": "code",
   "execution_count": null,
   "metadata": {},
   "outputs": [],
   "source": [
    "views1 = soup.find(\"div\", attrs={\"class\": \"views\"})\n",
    "print(views1)\n",
    "print(views1.attrs[\"title\"])  # [0].get_text())\n",
    "# views = int(views.replace(',', ''))\n",
    "# print(views)"
   ]
  },
  {
   "cell_type": "code",
   "execution_count": null,
   "metadata": {},
   "outputs": [],
   "source": [
    "def getStats(soup, stats):\n",
    "    \"\"\"\n",
    "    Возвращает очищенное число просмотров/коментариев/...\n",
    "\n",
    "    soup: объект bs4.BeautifulSoup\n",
    "        суп текущей страницы\n",
    "\n",
    "    stats: string\n",
    "        views/videos/photos/comments\n",
    "\n",
    "    \"\"\"\n",
    "    if stats != 3:\n",
    "        views = soup.find_all(\"a\", attrs={\"class\": \"stat-item\"})\n",
    "        obj = views[stats].div[\"title\"]\n",
    "        j = obj.find(\" \")\n",
    "        obj = int(obj[:j].replace(\",\", \"\"))\n",
    "    else:\n",
    "        views = soup.find_all(\"div\", attrs={\"class\": \"stat-item\"})\n",
    "        obj = views[0].div[\"title\"]\n",
    "        j = obj.find(\" \")\n",
    "        obj = int(obj[:j].replace(\",\", \"\"))\n",
    "\n",
    "    return obj"
   ]
  },
  {
   "cell_type": "code",
   "execution_count": null,
   "metadata": {},
   "outputs": [],
   "source": [
    "views = getStats(soup, stats=3)\n",
    "videos = getStats(soup, stats=0)\n",
    "photos = getStats(soup, stats=1)\n",
    "comments = getStats(soup, stats=2)\n",
    "\n",
    "print(\n",
    "    \"Просмотры: {}\\nВидео: {}\\nФото: {}\\nКомментарии: {}\".format(\n",
    "        views, videos, photos, comments\n",
    "    )\n",
    ")"
   ]
  },
  {
   "cell_type": "code",
   "execution_count": null,
   "metadata": {},
   "outputs": [],
   "source": [
    "date = soup.find(\"abbr\", attrs={\"class\": \"timeago\"}).attrs[\"title\"]\n",
    "date"
   ]
  },
  {
   "cell_type": "code",
   "execution_count": null,
   "metadata": {},
   "outputs": [],
   "source": [
    "properties = soup.find(\"aside\", attrs={\"class\": \"stats\"})\n",
    "meme_status = properties.find(\"div\")\n",
    "meme_status.text.strip()"
   ]
  },
  {
   "cell_type": "code",
   "execution_count": null,
   "metadata": {},
   "outputs": [],
   "source": [
    "# Делай раз! Ищем статус мема, но не находим его\n",
    "# meme_status = None\n",
    "\n",
    "# Делай два! Пытаемся вытащить его...\n",
    "\n",
    "# ... с исключениями\n",
    "try:\n",
    "    print(meme_status.text.strip())\n",
    "# Ежели возникает ошибка, статус не найден, выдаём пустоту.\n",
    "except:\n",
    "    print(\"\")\n",
    "\n",
    "# ... с проверкой на пустой элемент\n",
    "if meme_status:\n",
    "    print(meme_status.text.strip())\n",
    "else:\n",
    "    print(\"Empty\")"
   ]
  },
  {
   "cell_type": "code",
   "execution_count": null,
   "metadata": {},
   "outputs": [],
   "source": [
    "# снова найдем настоящий статус\n",
    "properties = soup.find(\"aside\", attrs={\"class\": \"stats\"})\n",
    "meme_status = properties.find(\"div\")\n",
    "\n",
    "meme_status = \"\" if not meme_status else meme_status.text.strip()\n",
    "print(meme_status)"
   ]
  },
  {
   "cell_type": "code",
   "execution_count": null,
   "metadata": {},
   "outputs": [],
   "source": [
    "def getProperties(soup):\n",
    "    \"\"\"\n",
    "    Возвращает список (tuple) с названием, статусом, типом,\n",
    "    годом и местом происхождения и тэгами\n",
    "\n",
    "    soup: объект bs4.BeautifulSoup\n",
    "        суп текущей страницы\n",
    "\n",
    "    \"\"\"\n",
    "    # название - идёт с самым большим заголовком h1, легко найти\n",
    "    meme_name = soup.find(\"section\", attrs={\"class\": \"info\"}).find(\"h1\").text.strip()\n",
    "\n",
    "    # достаём все данные справа от картинки\n",
    "    properties = soup.find(\"aside\", attrs={\"class\": \"left\"})\n",
    "\n",
    "    # статус идет первым - можно не уточнять класс\n",
    "    meme_status = properties.find(\"dd\")\n",
    "    # oneliner, заменяющий try-except: если тэга нет в properties, вернётся объект NoneType,\n",
    "    # у которого аттрибут text отсутствует, и в этом случае он заменится на пустую строку\n",
    "    meme_status = \"\" if not meme_status else meme_status.text.strip()\n",
    "\n",
    "    # тип мема - обладает уникальным классом\n",
    "    meme_type = properties.find(\"a\", attrs={\"class\": \"entry-type-link\"})\n",
    "    meme_type = \"\" if not meme_type else meme_type.text\n",
    "\n",
    "    # год происхождения первоисточника можно найти после заголовка Year,\n",
    "    # находим заголовок, определяем родителя и ищем следущего ребенка - наш раздел\n",
    "    meme_origin_year = properties.find(text=\"\\nYear\\n\")\n",
    "    meme_origin_year = (\n",
    "        \"\" if not meme_origin_year else meme_origin_year.parent.find_next()\n",
    "    )\n",
    "    meme_origin_year = meme_origin_year.text.strip()\n",
    "\n",
    "    # сам первоисточник\n",
    "    meme_origin_place = properties.find(\"dd\", attrs={\"class\": \"entry_origin_link\"})\n",
    "    meme_origin_place = \"\" if not meme_origin_place else meme_origin_place.text.strip()\n",
    "\n",
    "    # тэги, связанные с мемом\n",
    "    meme_tags = properties.find(\"dl\", attrs={\"id\": \"entry_tags\"}).find(\"dd\")\n",
    "    meme_tags = \"\" if not meme_tags else meme_tags.text.strip()\n",
    "\n",
    "    return (\n",
    "        meme_name,\n",
    "        meme_status,\n",
    "        meme_type,\n",
    "        meme_origin_year,\n",
    "        meme_origin_place,\n",
    "        meme_tags,\n",
    "    )"
   ]
  },
  {
   "cell_type": "code",
   "execution_count": null,
   "metadata": {},
   "outputs": [],
   "source": [
    "getProperties(soup)"
   ]
  },
  {
   "cell_type": "code",
   "execution_count": null,
   "metadata": {
    "scrolled": true
   },
   "outputs": [],
   "source": [
    "import requests\n",
    "\n",
    "url = \"https://api.vk.com/method/users.get\"\n",
    "params = {\n",
    "    \"user_id\": 1,\n",
    "    \"v\": 5.95,\n",
    "    \"fields\": \"sex,bdate\",\n",
    "    \"access_token\": \"f9e6379cf9e6379cf9e6379c7ff990fc99ff9e6f9e6379c99a14f2aa959ce3cd9594459\",\n",
    "    \"lang\": \"ru\",\n",
    "}\n",
    "\n",
    "# Мы можем выставить параметры запроса через аргумент params\n",
    "response = requests.get(url, params=params)\n",
    "response.text\n",
    "# => '{\"response\":[{\"id\":1,\"first_name\":\"Павел\",\"last_name\":\"Дуров\",\"is_closed\":false,\"can_access_closed\":true,\"sex\":2,\"bdate\":\"10.10.1984\"}]}'"
   ]
  },
  {
   "cell_type": "code",
   "execution_count": null,
   "metadata": {},
   "outputs": [],
   "source": [
    "from pprint import pprint\n",
    "\n",
    "pprint(response.json())\n",
    "# =>\n",
    "# {'response': [{'bdate': '10.10.1984',\n",
    "#                'can_access_closed': True,\n",
    "#                'first_name': 'Павел',\n",
    "#                'id': 1,\n",
    "#                'is_closed': False,\n",
    "#                'last_name': 'Дуров',\n",
    "#                'sex': 2}]}\n",
    "\n",
    "user = response.json()[\"response\"][0]\n",
    "\n",
    "# Выведем дату рождения\n",
    "print(user[\"bdate\"])\n",
    "# => 10.10.1984\n",
    "\n",
    "# Выведем имя\n",
    "print(user[\"first_name\"])\n",
    "# => Павел"
   ]
  },
  {
   "cell_type": "code",
   "execution_count": null,
   "metadata": {},
   "outputs": [],
   "source": [
    "ids = \",\".join(map(str, range(1, 501)))\n",
    "# print(ids)\n",
    "# => 1,2,3\n",
    "\n",
    "params = {\n",
    "    \"user_ids\": ids,\n",
    "    \"v\": 5.95,\n",
    "    \"fields\": \"sex,bday\",\n",
    "    \"access_token\": \"f9e6379cf9e6379cf9e6379c7ff990fc99ff9e6f9e6379c99a14f2aa959ce3cd9594459\",\n",
    "    \"lang\": \"ru\",\n",
    "}\n",
    "\n",
    "pprint(requests.get(url, params=params).json())\n",
    "# {'response': [{'can_access_closed': True,\n",
    "#                'first_name': 'Павел',\n",
    "#                'id': 1,\n",
    "#                ''is_closed': False',\n",
    "#                'last_name': 'Дуров'},\n",
    "#               {'can_access_closed': False,\n",
    "#                'first_name': 'Александра',\n",
    "#                'id': 2,\n",
    "#                'is_closed': True,\n",
    "#                'last_name': 'Владимирова'},\n",
    "#               {'deactivated': 'deleted',\n",
    "#                'first_name': 'DELETED',\n",
    "#                'id': 3,\n",
    "#                'last_name': ''}]}"
   ]
  },
  {
   "cell_type": "code",
   "execution_count": null,
   "metadata": {},
   "outputs": [],
   "source": [
    "jj = requests.get(url, params=params).json()[\"response\"]"
   ]
  },
  {
   "cell_type": "code",
   "execution_count": null,
   "metadata": {},
   "outputs": [],
   "source": [
    "m = 0\n",
    "j = 0\n",
    "u = 0\n",
    "for i in range(len(jj)):\n",
    "    if jj[i][\"sex\"] == 2:\n",
    "        m += 1\n",
    "    elif jj[i][\"sex\"] == 1:\n",
    "        j += 1\n",
    "    else:\n",
    "        u += 1"
   ]
  },
  {
   "cell_type": "code",
   "execution_count": null,
   "metadata": {},
   "outputs": [],
   "source": [
    "print(j / (m + j), u)"
   ]
  },
  {
   "cell_type": "code",
   "execution_count": null,
   "metadata": {
    "scrolled": true
   },
   "outputs": [],
   "source": [
    "import requests\n",
    "\n",
    "url = \"https://api.vk.com/method/groups.getMembers\"\n",
    "params = {\n",
    "    \"group_id\": \"vk\",\n",
    "    \"v\": 5.95,\n",
    "    \"access_token\": \"f9e6379cf9e6379cf9e6379c7ff990fc99ff9e6f9e6379c99a14f2aa959ce3cd9594459\",\n",
    "}\n",
    "response = requests.get(url, params=params)\n",
    "data = response.json()\n",
    "print(data)\n",
    "# => {'response': {'count': 11240724, 'items': [5, 6, 10, 19, 34, 47, 54, 79, 177, 193, 205, 219...\n",
    "\n",
    "len(data[\"response\"][\"items\"])\n",
    "# => 1000"
   ]
  },
  {
   "cell_type": "code",
   "execution_count": null,
   "metadata": {},
   "outputs": [],
   "source": [
    "users_for_checking = data[\"response\"][\"items\"][:20]\n",
    "print(users_for_checking)"
   ]
  },
  {
   "cell_type": "code",
   "execution_count": null,
   "metadata": {},
   "outputs": [],
   "source": [
    "count = 5\n",
    "offset = 0\n",
    "user_ids = []\n",
    "max_count = 20\n",
    "while offset < max_count:\n",
    "    print(\"Выгружаю {} пользователей с offset = {}\".format(count, offset))\n",
    "    params = {\n",
    "        \"group_id\": \"vk\",\n",
    "        \"v\": 5.95,\n",
    "        \"count\": count,\n",
    "        \"offset\": offset,\n",
    "        \"access_token\": \"f9e6379cf9e6379cf9e6379c7ff990fc99ff9e6f9e6379c99a14f2aa959ce3cd9594459\",\n",
    "    }\n",
    "    # такой же запрос как в прошлый раз\n",
    "    r = requests.get(url, params=params)\n",
    "    data = r.json()\n",
    "    user_ids += data[\"response\"][\"items\"]\n",
    "\n",
    "    # увеличиваем смещение на количество строк выгрузки\n",
    "    offset += count\n",
    "\n",
    "# Выгружаю 5 пользователей с offset = 0\n",
    "# Выгружаю 5 пользователей с offset = 5\n",
    "# Выгружаю 5 пользователей с offset = 10\n",
    "# Выгружаю 5 пользователей с offset = 15\n",
    "print(user_ids)\n",
    "# => [5, 6, 10, 19, 34, 47, 54, 79, 177, 193, 205, 219, 239, 243, 345, 404, 406, 407, 467, 485]\n",
    "\n",
    "user_ids == users_for_checking\n",
    "# => True"
   ]
  },
  {
   "cell_type": "code",
   "execution_count": null,
   "metadata": {},
   "outputs": [],
   "source": [
    "def checkIP():\n",
    "    ip = requests.get(\"http://checkip.dyndns.org\").content\n",
    "    soup = BeautifulSoup(ip, \"html.parser\")\n",
    "    print(soup.find(\"body\").text)\n",
    "\n",
    "\n",
    "checkIP()"
   ]
  },
  {
   "cell_type": "code",
   "execution_count": null,
   "metadata": {},
   "outputs": [],
   "source": [
    "import socks\n",
    "import socket\n",
    "\n",
    "socks.set_default_proxy(socks.SOCKS5, \"localhost\", 9150)\n",
    "socket.socket = socks.socksocket"
   ]
  },
  {
   "cell_type": "code",
   "execution_count": null,
   "metadata": {},
   "outputs": [],
   "source": [
    "checkIP()"
   ]
  },
  {
   "cell_type": "code",
   "execution_count": null,
   "metadata": {},
   "outputs": [],
   "source": [
    "import requests\n",
    "\n",
    "url = \"https://api.vk.com/method/groups.getMembers\"\n",
    "params = {\n",
    "    \"group_id\": \"vk\",\n",
    "    \"v\": 5.95,\n",
    "    \"access_token\": \"f9e6379cf9e6379cf9e6379c7ff990fc99ff9e6f9e6379c99a14f2aa959ce3cd9594459\",\n",
    "}\n",
    "response = requests.get(url, params=params)\n",
    "data = response.json()\n",
    "print(data)\n",
    "# => {'response': {'count': 11240724, 'items': [5, 6, 10, 19, 34, 47, 54, 79, 177, 193, 205, 219...\n",
    "\n",
    "len(data[\"response\"][\"items\"])\n",
    "# => 1000"
   ]
  },
  {
   "cell_type": "code",
   "execution_count": null,
   "metadata": {},
   "outputs": [],
   "source": [
    "users_for_checking = data[\"response\"][\"items\"][:20]\n",
    "print(users_for_checking)\n",
    "# => [5, 6, 10, 19, 34, 47, 54, 79, 177, 193, 205, 219, 239, 243, 345, 404, 406, 407, 467, 485]"
   ]
  },
  {
   "cell_type": "code",
   "execution_count": null,
   "metadata": {},
   "outputs": [],
   "source": [
    "count = 1\n",
    "offset = 99999\n",
    "user_ids = []\n",
    "max_count = 100000\n",
    "while offset < max_count:\n",
    "    print(\"Выгружаю {} пользователей с offset = {}\".format(count, offset))\n",
    "    params = {\n",
    "        \"group_id\": \"vk\",\n",
    "        \"v\": 5.95,\n",
    "        \"count\": count,\n",
    "        \"offset\": offset,\n",
    "        \"access_token\": \"f9e6379cf9e6379cf9e6379c7ff990fc99ff9e6f9e6379c99a14f2aa959ce3cd9594459\",\n",
    "    }\n",
    "    # такой же запрос как в прошлый раз\n",
    "    r = requests.get(url, params=params)\n",
    "    data = r.json()\n",
    "    user_ids += data[\"response\"][\"items\"]\n",
    "\n",
    "    # увеличиваем смещение на количество строк выгрузки\n",
    "    offset += count\n",
    "\n",
    "# Выгружаю 5 пользователей с offset = 0\n",
    "# Выгружаю 5 пользователей с offset = 5\n",
    "# Выгружаю 5 пользователей с offset = 10\n",
    "# Выгружаю 5 пользователей с offset = 15\n",
    "print(user_ids)\n",
    "# => [5, 6, 10, 19, 34, 47, 54, 79, 177, 193, 205, 219, 239, 243, 345, 404, 406, 407, 467, 485]\n",
    "\n",
    "user_ids == users_for_checking\n",
    "# => True"
   ]
  },
  {
   "cell_type": "code",
   "execution_count": null,
   "metadata": {},
   "outputs": [],
   "source": [
    "data"
   ]
  },
  {
   "cell_type": "code",
   "execution_count": null,
   "metadata": {},
   "outputs": [],
   "source": [
    "user_ids"
   ]
  },
  {
   "cell_type": "code",
   "execution_count": null,
   "metadata": {},
   "outputs": [],
   "source": [
    "import time\n",
    "\n",
    "count = 1000\n",
    "offset = 0\n",
    "user_ids = []\n",
    "while offset < 10000:\n",
    "    print(\"Выгружаю {} пользователей с offset = {}\".format(count, offset))\n",
    "    params = {\n",
    "        \"group_id\": \"vk\",\n",
    "        \"v\": 5.95,\n",
    "        \"count\": count,\n",
    "        \"offset\": offset,\n",
    "        \"access_token\": \"f9e6379cf9e6379cf9e6379c7ff990fc99ff9e6f9e6379c99a14f2aa959ce3cd9594459\",\n",
    "    }\n",
    "    # такой же запрос, как в прошлый раз\n",
    "    r = requests.get(url, params=params)\n",
    "    data = r.json()\n",
    "    user_ids += data[\"response\"][\"items\"]\n",
    "\n",
    "    # увеличиваем смещение на количество строк выгрузки\n",
    "    offset += count\n",
    "\n",
    "    print(\"Ожидаю 0.5 секунды...\")\n",
    "    time.sleep(0.5)"
   ]
  },
  {
   "cell_type": "code",
   "execution_count": null,
   "metadata": {},
   "outputs": [],
   "source": [
    "import requests\n",
    "from pprint import pprint\n",
    "\n",
    "url = \"https://api.vk.com/method/wall.get\"\n",
    "params = {\n",
    "    \"domain\": \"vk\",\n",
    "    \"filter\": \"owner\",\n",
    "    \"count\": 10,\n",
    "    \"offset\": 0,\n",
    "    \"access_token\": \"f9e6379cf9e6379cf9e6379c7ff990fc99ff9e6f9e6379c99a14f2aa959ce3cd9594459\",\n",
    "    \"v\": 5.95,\n",
    "}\n",
    "response = requests.get(url, params=params)\n",
    "response.json()\n",
    "# => {'response': {'count': 421,\n",
    "#      'items': [{'id': 1132798,\n",
    "#        'from_id': -22822305,\n",
    "#        'owner_id': -22822305,\n",
    "#        'date': 1603796912,\n",
    "#        'marked_as_ads': 0,\n",
    "#        'post_type': 'post',\n",
    "#        'text': 'Встречайте музыкальных кураторов..."
   ]
  },
  {
   "cell_type": "code",
   "execution_count": null,
   "metadata": {
    "scrolled": true
   },
   "outputs": [],
   "source": [
    "response.json()[\"response\"][\"items\"][2]"
   ]
  },
  {
   "cell_type": "code",
   "execution_count": null,
   "metadata": {},
   "outputs": [],
   "source": [
    "stats = {}\n",
    "\n",
    "for record in response.json()[\"response\"][\"items\"][:]:\n",
    "    title = record[\"text\"][:30]\n",
    "    if title:\n",
    "        stats[title] = [\n",
    "            record[\"comments\"][\"count\"],\n",
    "            record[\"likes\"][\"count\"],\n",
    "            record[\"reposts\"][\"count\"],\n",
    "            record[\"date\"],\n",
    "        ]\n",
    "    else:\n",
    "        title = record[\"copy_history\"][0][\"text\"][:30]\n",
    "        stats[title] = [\n",
    "            record[\"comments\"][\"count\"],\n",
    "            record[\"likes\"][\"count\"],\n",
    "            record[\"reposts\"][\"count\"],\n",
    "            record[\"date\"],\n",
    "        ]\n",
    "pprint(stats)\n",
    "\n",
    "# => {'Встречайте музыкальных куратор': [1150, 1762, 260, 1603796912],\n",
    "#     'Встречать день рождения приятн': [763, 2946, 106, 1602320413],\n",
    "#     'Обмениваться сообщениями ВКонт': [1382, 2079, 258, 1601370979],\n",
    "#     'Получать поздравления приятно,': [1189, 2329, 94, 1602506077],\n",
    "#     'Помните то чувство, когда полу': [153, 643, 108, 1600864213],\n",
    "#     'Скоро начнётся розыгрыш суперп': [3453, 8953, 293, 1602338438],\n",
    "#     'Совсем скоро нам исполнится 14': [538, 1828, 159, 1601624922],\n",
    "#     'Уже завтра нам исполнится 14 л': [1395, 2786, 168, 1602238852]}"
   ]
  },
  {
   "cell_type": "code",
   "execution_count": null,
   "metadata": {},
   "outputs": [],
   "source": [
    "token = \"f9e6379cf9e6379cf9e6379c7ff990fc99ff9e6f9e6379c99a14f2aa959ce3cd9594459\"\n",
    "group_name = \"vk\"\n",
    "\n",
    "import requests\n",
    "from pprint import pprint\n",
    "\n",
    "\n",
    "def get_smm_index(group_name, token):\n",
    "    url = \"https://api.vk.com/method/groups.getMembers\"\n",
    "    params = {\n",
    "        \"group_id\": group_name,\n",
    "        \"v\": 5.95,\n",
    "        \"count\": 1,\n",
    "        #'offset': offset,\n",
    "        \"access_token\": token,\n",
    "    }\n",
    "    # такой же запрос, как в прошлый раз\n",
    "    r = requests.get(url, params=params)\n",
    "    data = r.json()\n",
    "\n",
    "    time.sleep(0.5)\n",
    "\n",
    "    url = \"https://api.vk.com/method/wall.get\"\n",
    "    params = {\n",
    "        \"domain\": group_name,\n",
    "        \"filter\": \"owner\",\n",
    "        \"count\": 10,\n",
    "        \"offset\": 0,\n",
    "        \"access_token\": token,\n",
    "        \"v\": 5.95,\n",
    "    }\n",
    "    response = requests.get(url, params=params)\n",
    "    response.json()\n",
    "\n",
    "    stats = 0\n",
    "\n",
    "    for record in response.json()[\"response\"][\"items\"][:]:\n",
    "        title = record[\"text\"][:30]\n",
    "        if title:\n",
    "            stats += (\n",
    "                record[\"likes\"][\"count\"]\n",
    "                + record[\"comments\"][\"count\"]\n",
    "                + record[\"reposts\"][\"count\"]\n",
    "            )\n",
    "\n",
    "    return stats / data[\"response\"][\"count\"]"
   ]
  },
  {
   "cell_type": "code",
   "execution_count": null,
   "metadata": {},
   "outputs": [],
   "source": [
    "get_smm_index(group_name, token)"
   ]
  },
  {
   "cell_type": "code",
   "execution_count": null,
   "metadata": {},
   "outputs": [],
   "source": [
    "id_yandex = 'c5fea66d13a241abbb05e71a7fe1154f' #приложение яндекса https://oauth.yandex.ru/client/c5fea66d13a241abbb05e71a7fe1154f\n",
    "https://oauth.yandex.ru/authorize?response_type=token&client_id=c5fea66d13a241abbb05e71a7fe1154f"
   ]
  },
  {
   "cell_type": "code",
   "execution_count": null,
   "metadata": {},
   "outputs": [],
   "source": [
    "import json\n",
    "import requests\n",
    "from pprint import pprint"
   ]
  },
  {
   "cell_type": "code",
   "execution_count": null,
   "metadata": {},
   "outputs": [],
   "source": [
    "token = \"AgAAAAAi9SWgAAb2OB2emwqJm0hKqwMaECu3w98\"\n",
    "headers = {\"Authorization\": \"OAuth \" + token}"
   ]
  },
  {
   "cell_type": "code",
   "execution_count": null,
   "metadata": {},
   "outputs": [],
   "source": [
    "# url = 'https://api-metrika.yandex.net/stat/v1/data'\n",
    "params = {\n",
    "    \"metrics\": \"ym:s:visits,ym:s:pageviews\",\n",
    "    \"dimensions\": \"ym:s:referer\",\n",
    "    \"date1\": \"2019-06-01\",\n",
    "    \"date2\": \"2019-06-10\",\n",
    "    \"ids\": 30177909,\n",
    "}\n",
    "response = requests.get(\n",
    "    \"https://api-metrika.yandex.net/stat/v1/data\", params=params, headers=headers\n",
    ")"
   ]
  },
  {
   "cell_type": "code",
   "execution_count": null,
   "metadata": {},
   "outputs": [],
   "source": [
    "print(response)"
   ]
  },
  {
   "cell_type": "code",
   "execution_count": null,
   "metadata": {},
   "outputs": [],
   "source": [
    "print(response.status_code)"
   ]
  },
  {
   "cell_type": "code",
   "execution_count": null,
   "metadata": {},
   "outputs": [],
   "source": [
    "metrika_data = response.json()"
   ]
  },
  {
   "cell_type": "code",
   "execution_count": null,
   "metadata": {},
   "outputs": [],
   "source": [
    "metrika_data"
   ]
  },
  {
   "cell_type": "code",
   "execution_count": null,
   "metadata": {},
   "outputs": [],
   "source": [
    "print(metrika_data.keys())"
   ]
  },
  {
   "cell_type": "code",
   "execution_count": null,
   "metadata": {},
   "outputs": [],
   "source": [
    "print(metrika_data[\"total_rows\"])"
   ]
  },
  {
   "cell_type": "code",
   "execution_count": null,
   "metadata": {},
   "outputs": [],
   "source": [
    "h = 0\n",
    "for i in metrika_data[\"data\"]:\n",
    "    if i[\"metrics\"][1] == 1:\n",
    "        h += 1\n",
    "h"
   ]
  },
  {
   "cell_type": "code",
   "execution_count": null,
   "metadata": {},
   "outputs": [],
   "source": [
    "metrika_data"
   ]
  },
  {
   "cell_type": "code",
   "execution_count": null,
   "metadata": {},
   "outputs": [],
   "source": [
    "metrika_data[\"query\"][\"dimensions\"][0]"
   ]
  },
  {
   "cell_type": "code",
   "execution_count": null,
   "metadata": {},
   "outputs": [],
   "source": [
    "metrika_data[\"query\"][\"metrics\"][0]\n",
    "metrika_data[\"query\"][\"metrics\"][1]"
   ]
  },
  {
   "cell_type": "code",
   "execution_count": null,
   "metadata": {},
   "outputs": [],
   "source": [
    "lisf = []\n",
    "metrika_data[\"data\"]\n",
    "for i in metrika_data[\"data\"]:\n",
    "    name = i[\"dimensions\"][0][\"name\"]\n",
    "    visits = i[\"metrics\"][0]\n",
    "    pageviews = i[\"metrics\"][1]\n",
    "    # print({1:name,2:visits,3:pageviews})\n",
    "    lisf.append(\n",
    "        {\n",
    "            metrika_data[\"query\"][\"dimensions\"][0]: name,\n",
    "            metrika_data[\"query\"][\"metrics\"][0]: visits,\n",
    "            metrika_data[\"query\"][\"metrics\"][1]: pageviews,\n",
    "        }\n",
    "    )"
   ]
  },
  {
   "cell_type": "code",
   "execution_count": null,
   "metadata": {},
   "outputs": [],
   "source": [
    "pprint(lisf)"
   ]
  },
  {
   "cell_type": "code",
   "execution_count": null,
   "metadata": {},
   "outputs": [],
   "source": [
    "jj = pd.DataFrame(lisf)"
   ]
  },
  {
   "cell_type": "code",
   "execution_count": null,
   "metadata": {},
   "outputs": [],
   "source": [
    "jj"
   ]
  },
  {
   "cell_type": "code",
   "execution_count": null,
   "metadata": {},
   "outputs": [],
   "source": [
    "# Создаём пустой список, в который будем добавлять словари в новом формате\n",
    "result = []\n",
    "# Начинаем перебор элементов старого отчёта (только раздел с данными)\n",
    "for data_item in metrika_data[\"data\"]:\n",
    "    # Создаём словарь для хранения текущих данных в новом формате\n",
    "    new_dict = {}\n",
    "    # Обращаемся к разделу отчёта, содержащего метаданные\n",
    "    # Перебираем названия группировок, которые использовались в отчёте\n",
    "    for i, dimension in enumerate(data_item[\"dimensions\"]):\n",
    "        # Создаём в новом словаре ключ для каждой группировки\n",
    "        # Устанавливаем значение для каждого ключа\n",
    "        new_dict[metrika_data[\"query\"][\"dimensions\"][i]] = dimension[\"name\"]\n",
    "    # Те же действия выполняем для метрик\n",
    "    for i, metric in enumerate(data_item[\"metrics\"]):\n",
    "        new_dict[metrika_data[\"query\"][\"metrics\"][i]] = metric\n",
    "    # Добавляем созданный словарь в итоговый список result\n",
    "    result.append(new_dict)"
   ]
  },
  {
   "cell_type": "code",
   "execution_count": null,
   "metadata": {},
   "outputs": [],
   "source": []
  },
  {
   "cell_type": "code",
   "execution_count": null,
   "metadata": {},
   "outputs": [],
   "source": [
    "lis = []\n",
    "metrika_data[\"data\"]\n",
    "for i in metrika_data[\"data\"]:\n",
    "    lis.append(i[\"dimensions\"][0][\"favicon\"])"
   ]
  },
  {
   "cell_type": "code",
   "execution_count": null,
   "metadata": {},
   "outputs": [],
   "source": [
    "if \"facebook.ru\" in lis:\n",
    "    print(\"Yes\")"
   ]
  },
  {
   "cell_type": "code",
   "execution_count": null,
   "metadata": {},
   "outputs": [],
   "source": [
    "g = pd.DataFrame(metrika_data[\"data\"])\n",
    "h = pd.DataFrame(metrika_data[\"data\"][\"dimensions\"])"
   ]
  },
  {
   "cell_type": "code",
   "execution_count": null,
   "metadata": {},
   "outputs": [],
   "source": [
    "pd.set_option(\"display.max_columns\", None)"
   ]
  },
  {
   "cell_type": "code",
   "execution_count": null,
   "metadata": {},
   "outputs": [],
   "source": [
    "g"
   ]
  },
  {
   "cell_type": "code",
   "execution_count": null,
   "metadata": {},
   "outputs": [],
   "source": [
    "g[\"dimensions\"]"
   ]
  },
  {
   "cell_type": "code",
   "execution_count": null,
   "metadata": {},
   "outputs": [],
   "source": [
    "params = {\n",
    "    \"metrics\": \"ym:s:users\",\n",
    "    \"dimensions\": \"ym:s:date\",\n",
    "    \"date1\": \"2019-05-01\",\n",
    "    \"date2\": \"2019-05-31\",\n",
    "    \"ids\": 30177909,\n",
    "}\n",
    "response = requests.get(\n",
    "    \"https://api-metrika.yandex.net/stat/v1/data\", params=params, headers=headers\n",
    ")"
   ]
  },
  {
   "cell_type": "code",
   "execution_count": null,
   "metadata": {},
   "outputs": [],
   "source": [
    "print(response)"
   ]
  },
  {
   "cell_type": "code",
   "execution_count": null,
   "metadata": {},
   "outputs": [],
   "source": [
    "metrika_data = response.json()"
   ]
  },
  {
   "cell_type": "code",
   "execution_count": null,
   "metadata": {
    "scrolled": true
   },
   "outputs": [],
   "source": [
    "fhj = 0\n",
    "for i in metrika_data[\"data\"]:\n",
    "    fhj += i[\"metrics\"][0]\n",
    "fhj"
   ]
  },
  {
   "cell_type": "code",
   "execution_count": null,
   "metadata": {},
   "outputs": [],
   "source": [
    "metrika_data[\"totals\"][0] / len(metrika_data[\"data\"])"
   ]
  },
  {
   "cell_type": "code",
   "execution_count": null,
   "metadata": {},
   "outputs": [],
   "source": [
    "fhj / len(metrika_data[\"data\"])"
   ]
  },
  {
   "cell_type": "code",
   "execution_count": null,
   "metadata": {},
   "outputs": [],
   "source": [
    "params = {\n",
    "    \"metrics\": \"ym:s:visits\",\n",
    "    \"dimensions\": \"ym:s:lastSearchPhrase\",\n",
    "    \"limit\": 100000,\n",
    "    \"date1\": \"2019-05-01\",\n",
    "    \"date2\": \"2019-05-31\",\n",
    "    \"ids\": 30177909,\n",
    "}\n",
    "response = requests.get(\n",
    "    \"https://api-metrika.yandex.net/stat/v1/data\", params=params, headers=headers\n",
    ")"
   ]
  },
  {
   "cell_type": "code",
   "execution_count": null,
   "metadata": {},
   "outputs": [],
   "source": [
    "import re"
   ]
  },
  {
   "cell_type": "code",
   "execution_count": null,
   "metadata": {},
   "outputs": [],
   "source": [
    "metrika_data"
   ]
  },
  {
   "cell_type": "code",
   "execution_count": null,
   "metadata": {},
   "outputs": [],
   "source": [
    "hk = 0\n",
    "for i in metrika_data[\"data\"]:\n",
    "    if re.search(\"Python\", i[\"dimensions\"][0][\"name\"], re.IGNORECASE) != None:\n",
    "        print(i[\"dimensions\"][0][\"name\"])\n",
    "        print(i[\"metrics\"][0])\n",
    "        hk += i[\"metrics\"][0]\n",
    "hk"
   ]
  },
  {
   "cell_type": "code",
   "execution_count": null,
   "metadata": {},
   "outputs": [],
   "source": [
    "params = {\n",
    "    \"metrics\": \"ym:s:visits\",\n",
    "    \"dimensions\": \"ym:s:startURL,ym:s:month\",\n",
    "    \"limit\": 100000,\n",
    "    \"date1\": \"2019-04-01\",\n",
    "    \"date2\": \"2019-04-30\",\n",
    "    \"ids\": 30177909,\n",
    "}\n",
    "response = requests.get(\n",
    "    \"https://api-metrika.yandex.net/stat/v1/data\", params=params, headers=headers\n",
    ")"
   ]
  },
  {
   "cell_type": "code",
   "execution_count": null,
   "metadata": {},
   "outputs": [],
   "source": [
    "metrika_dataapr = response.json()"
   ]
  },
  {
   "cell_type": "code",
   "execution_count": null,
   "metadata": {},
   "outputs": [],
   "source": [
    "for i in metrika_datamay[\"data\"]:\n",
    "    if (\n",
    "        re.search(\n",
    "            \"http://datalytics.ru/all/stanovyas-guru-api-yandeks-metriki/\",\n",
    "            i[\"dimensions\"][0][\"name\"],\n",
    "        )\n",
    "        != None\n",
    "    ):\n",
    "        print(i[\"metrics\"][0])\n",
    "        m = i[\"metrics\"][0]"
   ]
  },
  {
   "cell_type": "code",
   "execution_count": null,
   "metadata": {},
   "outputs": [],
   "source": [
    "for i in metrika_dataapr[\"data\"]:\n",
    "    if (\n",
    "        re.search(\n",
    "            \"http://datalytics.ru/all/stanovyas-guru-api-yandeks-metriki/\",\n",
    "            i[\"dimensions\"][0][\"name\"],\n",
    "        )\n",
    "        != None\n",
    "    ):\n",
    "        print(i[\"metrics\"][0])\n",
    "        a = i[\"metrics\"][0]"
   ]
  },
  {
   "cell_type": "code",
   "execution_count": null,
   "metadata": {},
   "outputs": [],
   "source": [
    "m = 0\n",
    "a = 0"
   ]
  },
  {
   "cell_type": "code",
   "execution_count": null,
   "metadata": {},
   "outputs": [],
   "source": [
    "a2 / a1 * 100"
   ]
  },
  {
   "cell_type": "code",
   "execution_count": null,
   "metadata": {},
   "outputs": [],
   "source": [
    "a1 / a2 * 100"
   ]
  },
  {
   "cell_type": "code",
   "execution_count": null,
   "metadata": {},
   "outputs": [],
   "source": [
    "a1 / 100"
   ]
  },
  {
   "cell_type": "code",
   "execution_count": null,
   "metadata": {},
   "outputs": [],
   "source": [
    "a2 / 100"
   ]
  },
  {
   "cell_type": "code",
   "execution_count": null,
   "metadata": {},
   "outputs": [],
   "source": [
    "a2 - a1"
   ]
  },
  {
   "cell_type": "code",
   "execution_count": null,
   "metadata": {},
   "outputs": [],
   "source": [
    "100 // 2.0"
   ]
  },
  {
   "cell_type": "code",
   "execution_count": null,
   "metadata": {},
   "outputs": [],
   "source": [
    "100 // 3.0"
   ]
  },
  {
   "cell_type": "code",
   "execution_count": null,
   "metadata": {},
   "outputs": [],
   "source": [
    "a1 = 200\n",
    "a2 = 300"
   ]
  },
  {
   "cell_type": "code",
   "execution_count": null,
   "metadata": {},
   "outputs": [],
   "source": [
    "import json\n",
    "import requests\n",
    "from pprint import pprint"
   ]
  },
  {
   "cell_type": "code",
   "execution_count": null,
   "metadata": {},
   "outputs": [],
   "source": [
    "token = \"<ваш_токен>\"\n",
    "# token = '<ваш_токен>' # вместо слов \"ваш_токен\" нужно вставить свой токен\n",
    "\n",
    "headers = {\"Authorization\": \"OAuth \" + token}"
   ]
  },
  {
   "cell_type": "code",
   "execution_count": null,
   "metadata": {},
   "outputs": [],
   "source": [
    "token = \"AgAAAAAi9SWgAAb2OB2emwqJm0hKqwMaECu3w98\"\n",
    "\n",
    "headers = {\"Authorization\": \"OAuth \" + token}"
   ]
  },
  {
   "cell_type": "code",
   "execution_count": null,
   "metadata": {},
   "outputs": [],
   "source": [
    "params = {\n",
    "    \"metrics\": \"ym:s:visits,ym:s:goal137595631reaches\",\n",
    "    \"dimensions\": \"ym:s:lastsignTrafficSource\",\n",
    "    \"date1\": \"2020-10-07\",\n",
    "    \"date2\": \"2020-10-09\",\n",
    "    \"ids\": 30177909,\n",
    "    \"accuracy\": \"full\",\n",
    "    \"limit\": 100000,\n",
    "}"
   ]
  },
  {
   "cell_type": "code",
   "execution_count": null,
   "metadata": {},
   "outputs": [],
   "source": [
    "params = {\n",
    "    \"metrics\": \"ym:s:visits,ym:s:goal137595631reaches\",\n",
    "    \"dimensions\": \"ym:s:lastTrafficSource\",\n",
    "    \"date1\": \"2020-10-07\",\n",
    "    \"date2\": \"2020-10-09\",\n",
    "    \"ids\": 30177909,\n",
    "    \"accuracy\": \"full\",\n",
    "    \"limit\": 100000,\n",
    "}"
   ]
  },
  {
   "cell_type": "code",
   "execution_count": null,
   "metadata": {},
   "outputs": [],
   "source": [
    "response = requests.get(\n",
    "    \"https://api-metrika.yandex.net/stat/v1/data\", params=params, headers=headers\n",
    ")\n",
    "print(response.status_code)"
   ]
  },
  {
   "cell_type": "code",
   "execution_count": null,
   "metadata": {},
   "outputs": [],
   "source": [
    "metrika_data = response.json()"
   ]
  },
  {
   "cell_type": "code",
   "execution_count": null,
   "metadata": {},
   "outputs": [],
   "source": [
    "print(type(metrika_data))"
   ]
  },
  {
   "cell_type": "code",
   "execution_count": null,
   "metadata": {},
   "outputs": [],
   "source": [
    "print(metrika_data.keys())"
   ]
  },
  {
   "cell_type": "code",
   "execution_count": null,
   "metadata": {},
   "outputs": [],
   "source": [
    "metrika_data[\"total_rows\"]"
   ]
  },
  {
   "cell_type": "code",
   "execution_count": null,
   "metadata": {},
   "outputs": [],
   "source": [
    "pprint(metrika_data[\"data\"][0:5])"
   ]
  },
  {
   "cell_type": "code",
   "execution_count": null,
   "metadata": {},
   "outputs": [],
   "source": [
    "import pandas as pd  # Обратите внимание, что мы импортируем библиотеку pandas под псевдонимом pd.\n",
    "\n",
    "# Это означает, что в дальнейшем мы сможем обращаться к ней именно под этим псевнонимом"
   ]
  },
  {
   "cell_type": "code",
   "execution_count": null,
   "metadata": {},
   "outputs": [],
   "source": [
    "metrika_df = pd.DataFrame(metrika_data[\"data\"])\n",
    "display(\n",
    "    metrika_df.head(10)\n",
    ")  # Функция .head(10) позволяет выбрать только 10 первые строк датафрейма"
   ]
  },
  {
   "cell_type": "code",
   "execution_count": null,
   "metadata": {},
   "outputs": [],
   "source": [
    "def getMetrikaDataInListOfDicts(metrika_data):\n",
    "    list_of_dicts = []\n",
    "    dimensions_list = metrika_data[\"query\"][\"dimensions\"]\n",
    "    metrics_list = metrika_data[\"query\"][\"metrics\"]\n",
    "    for data_item in metrika_data[\"data\"]:\n",
    "        d = {}\n",
    "        for i, dimension in enumerate(data_item[\"dimensions\"]):\n",
    "            d[dimensions_list[i]] = dimension[\"name\"]\n",
    "        for i, metric in enumerate(data_item[\"metrics\"]):\n",
    "            d[metrics_list[i]] = metric\n",
    "        list_of_dicts.append(d)\n",
    "    return list_of_dicts"
   ]
  },
  {
   "cell_type": "code",
   "execution_count": null,
   "metadata": {},
   "outputs": [],
   "source": [
    "lisf = []\n",
    "\n",
    "for i in metrika_data[\"data\"]:\n",
    "    name = i[\"dimensions\"][0][\"name\"]\n",
    "    visits = i[\"metrics\"][0]\n",
    "    pageviews = i[\"metrics\"][1]\n",
    "    # print({1:name,2:visits,3:pageviews})\n",
    "    lisf.append(\n",
    "        {\n",
    "            metrika_data[\"query\"][\"dimensions\"][0]: name,\n",
    "            metrika_data[\"query\"][\"metrics\"][0]: visits,\n",
    "            metrika_data[\"query\"][\"metrics\"][1]: pageviews,\n",
    "        }\n",
    "    )"
   ]
  },
  {
   "cell_type": "code",
   "execution_count": null,
   "metadata": {},
   "outputs": [],
   "source": [
    "lisf"
   ]
  },
  {
   "cell_type": "code",
   "execution_count": null,
   "metadata": {},
   "outputs": [],
   "source": [
    "metrika_list_of_dicts = getMetrikaDataInListOfDicts(metrika_data)"
   ]
  },
  {
   "cell_type": "code",
   "execution_count": null,
   "metadata": {},
   "outputs": [],
   "source": [
    "metrika_df = pd.DataFrame(metrika_list_of_dicts)\n",
    "display(metrika_df.head(10))"
   ]
  },
  {
   "cell_type": "code",
   "execution_count": null,
   "metadata": {},
   "outputs": [],
   "source": [
    "metrika_df.columns = [\"Source\", \"Visits\", \"Conversions\"]\n",
    "metrika_df[\"Last non-direct CR%\"] = (\n",
    "    metrika_df[\"Conversions\"] / metrika_df[\"Visits\"] * 100\n",
    ")"
   ]
  },
  {
   "cell_type": "code",
   "execution_count": null,
   "metadata": {},
   "outputs": [],
   "source": [
    "# last\n",
    "display(metrika_df.head(10))"
   ]
  },
  {
   "cell_type": "code",
   "execution_count": null,
   "metadata": {},
   "outputs": [],
   "source": [
    "# lastsign\n",
    "display(metrika_df.head(10))"
   ]
  },
  {
   "cell_type": "code",
   "execution_count": null,
   "metadata": {},
   "outputs": [],
   "source": [
    "metrika_df.drop()"
   ]
  },
  {
   "cell_type": "code",
   "execution_count": null,
   "metadata": {},
   "outputs": [],
   "source": [
    "df1 = metrika_df.loc[:, [\"Source\", \"Last non-direct CR%\"]]\n",
    "df2 = metrika_df2.loc[:, [\"Source\", \"Last click CR%\"]]\n",
    "attribution_compare_df = df1.merge(df2, on=\"Source\")\n",
    "attribution_compare_df[\"Last click to Last non-direct Difference\"] = (\n",
    "    attribution_compare_df[\"Last click CR%\"]\n",
    "    / attribution_compare_df[\"Last non-direct CR%\"]\n",
    "    - 1\n",
    ")\n",
    "attribution_compare_df"
   ]
  },
  {
   "cell_type": "code",
   "execution_count": null,
   "metadata": {},
   "outputs": [],
   "source": [
    "import pandas as pd\n",
    "import requests\n",
    "\n",
    "from bs4 import BeautifulSoup"
   ]
  },
  {
   "cell_type": "code",
   "execution_count": 1,
   "metadata": {},
   "outputs": [
    {
     "ename": "NameError",
     "evalue": "name 'requests' is not defined",
     "output_type": "error",
     "traceback": [
      "\u001b[1;31m---------------------------------------------------------------------------\u001b[0m",
      "\u001b[1;31mNameError\u001b[0m                                 Traceback (most recent call last)",
      "Cell \u001b[1;32mIn[1], line 1\u001b[0m\n\u001b[1;32m----> 1\u001b[0m webpage_countries_population \u001b[38;5;241m=\u001b[39m requests\u001b[38;5;241m.\u001b[39mget(\n\u001b[0;32m      2\u001b[0m     \u001b[38;5;124m\"\u001b[39m\u001b[38;5;124mhttps://ru.wikipedia.org/w/index.php?title=\u001b[39m\u001b[38;5;124m%\u001b[39m\u001b[38;5;124mD0\u001b[39m\u001b[38;5;124m%\u001b[39m\u001b[38;5;124mA1\u001b[39m\u001b[38;5;124m%\u001b[39m\u001b[38;5;124mD0\u001b[39m\u001b[38;5;124m%\u001b[39m\u001b[38;5;124mBF\u001b[39m\u001b[38;5;124m%\u001b[39m\u001b[38;5;124mD0\u001b[39m\u001b[38;5;124m%\u001b[39m\u001b[38;5;124mB8\u001b[39m\u001b[38;5;124m%\u001b[39m\u001b[38;5;124mD1\u001b[39m\u001b[38;5;132;01m%81%\u001b[39;00m\u001b[38;5;124mD0\u001b[39m\u001b[38;5;124m%\u001b[39m\u001b[38;5;124mBE\u001b[39m\u001b[38;5;124m%\u001b[39m\u001b[38;5;124mD0\u001b[39m\u001b[38;5;124m%\u001b[39m\u001b[38;5;124mBA_\u001b[39m\u001b[38;5;124m%\u001b[39m\u001b[38;5;124mD0\u001b[39m\u001b[38;5;124m%\u001b[39m\u001b[38;5;124mB3\u001b[39m\u001b[38;5;124m%\u001b[39m\u001b[38;5;124mD0\u001b[39m\u001b[38;5;124m%\u001b[39m\u001b[38;5;124mBE\u001b[39m\u001b[38;5;124m%\u001b[39m\u001b[38;5;124mD1\u001b[39m\u001b[38;5;132;01m%80%\u001b[39;00m\u001b[38;5;124mD0\u001b[39m\u001b[38;5;124m%\u001b[39m\u001b[38;5;124mBE\u001b[39m\u001b[38;5;124m%\u001b[39m\u001b[38;5;124mD0\u001b[39m\u001b[38;5;124m%\u001b[39m\u001b[38;5;124mB4\u001b[39m\u001b[38;5;124m%\u001b[39m\u001b[38;5;124mD0\u001b[39m\u001b[38;5;124m%\u001b[39m\u001b[38;5;124mBE\u001b[39m\u001b[38;5;124m%\u001b[39m\u001b[38;5;124mD0\u001b[39m\u001b[38;5;124m%\u001b[39m\u001b[38;5;124mB2_\u001b[39m\u001b[38;5;124m%\u001b[39m\u001b[38;5;124mD0\u001b[39m\u001b[38;5;124m%\u001b[39m\u001b[38;5;124mA0\u001b[39m\u001b[38;5;124m%\u001b[39m\u001b[38;5;124mD0\u001b[39m\u001b[38;5;124m%\u001b[39m\u001b[38;5;124mBE\u001b[39m\u001b[38;5;124m%\u001b[39m\u001b[38;5;124mD1\u001b[39m\u001b[38;5;132;01m%81%\u001b[39;00m\u001b[38;5;124mD1\u001b[39m\u001b[38;5;132;01m%81%\u001b[39;00m\u001b[38;5;124mD0\u001b[39m\u001b[38;5;124m%\u001b[39m\u001b[38;5;124mB8\u001b[39m\u001b[38;5;124m%\u001b[39m\u001b[38;5;124mD0\u001b[39m\u001b[38;5;124m%\u001b[39m\u001b[38;5;124mB8_\u001b[39m\u001b[38;5;124m%\u001b[39m\u001b[38;5;124mD1\u001b[39m\u001b[38;5;124m%\u001b[39m\u001b[38;5;124m81_\u001b[39m\u001b[38;5;124m%\u001b[39m\u001b[38;5;124mD0\u001b[39m\u001b[38;5;124m%\u001b[39m\u001b[38;5;124mBD\u001b[39m\u001b[38;5;124m%\u001b[39m\u001b[38;5;124mD0\u001b[39m\u001b[38;5;124m%\u001b[39m\u001b[38;5;124mB0\u001b[39m\u001b[38;5;124m%\u001b[39m\u001b[38;5;124mD1\u001b[39m\u001b[38;5;132;01m%81%\u001b[39;00m\u001b[38;5;124mD0\u001b[39m\u001b[38;5;124m%\u001b[39m\u001b[38;5;124mB5\u001b[39m\u001b[38;5;124m%\u001b[39m\u001b[38;5;124mD0\u001b[39m\u001b[38;5;124m%\u001b[39m\u001b[38;5;124mBB\u001b[39m\u001b[38;5;124m%\u001b[39m\u001b[38;5;124mD0\u001b[39m\u001b[38;5;124m%\u001b[39m\u001b[38;5;124mB5\u001b[39m\u001b[38;5;124m%\u001b[39m\u001b[38;5;124mD0\u001b[39m\u001b[38;5;124m%\u001b[39m\u001b[38;5;124mBD\u001b[39m\u001b[38;5;124m%\u001b[39m\u001b[38;5;124mD0\u001b[39m\u001b[38;5;124m%\u001b[39m\u001b[38;5;124mB8\u001b[39m\u001b[38;5;124m%\u001b[39m\u001b[38;5;124mD0\u001b[39m\u001b[38;5;124m%\u001b[39m\u001b[38;5;124mB5\u001b[39m\u001b[38;5;124m%\u001b[39m\u001b[38;5;124mD0\u001b[39m\u001b[38;5;124m%\u001b[39m\u001b[38;5;124mBC_\u001b[39m\u001b[38;5;124m%\u001b[39m\u001b[38;5;124mD0\u001b[39m\u001b[38;5;124m%\u001b[39m\u001b[38;5;124mB1\u001b[39m\u001b[38;5;124m%\u001b[39m\u001b[38;5;124mD0\u001b[39m\u001b[38;5;124m%\u001b[39m\u001b[38;5;124mBE\u001b[39m\u001b[38;5;124m%\u001b[39m\u001b[38;5;124mD0\u001b[39m\u001b[38;5;124m%\u001b[39m\u001b[38;5;124mBB\u001b[39m\u001b[38;5;124m%\u001b[39m\u001b[38;5;124mD0\u001b[39m\u001b[38;5;124m%\u001b[39m\u001b[38;5;124mB5\u001b[39m\u001b[38;5;124m%\u001b[39m\u001b[38;5;124mD0\u001b[39m\u001b[38;5;124m%\u001b[39m\u001b[38;5;124mB5_100_\u001b[39m\u001b[38;5;124m%\u001b[39m\u001b[38;5;124mD1\u001b[39m\u001b[38;5;132;01m%82%\u001b[39;00m\u001b[38;5;124mD1\u001b[39m\u001b[38;5;124m%\u001b[39m\u001b[38;5;124m8B\u001b[39m\u001b[38;5;124m%\u001b[39m\u001b[38;5;124mD1\u001b[39m\u001b[38;5;132;01m%81%\u001b[39;00m\u001b[38;5;124mD1\u001b[39m\u001b[38;5;132;01m%8F\u001b[39;00m\u001b[38;5;124m%\u001b[39m\u001b[38;5;124mD1\u001b[39m\u001b[38;5;124m%\u001b[39m\u001b[38;5;124m87_\u001b[39m\u001b[38;5;124m%\u001b[39m\u001b[38;5;124mD0\u001b[39m\u001b[38;5;124m%\u001b[39m\u001b[38;5;124mB6\u001b[39m\u001b[38;5;124m%\u001b[39m\u001b[38;5;124mD0\u001b[39m\u001b[38;5;124m%\u001b[39m\u001b[38;5;124mB8\u001b[39m\u001b[38;5;124m%\u001b[39m\u001b[38;5;124mD1\u001b[39m\u001b[38;5;132;01m%82%\u001b[39;00m\u001b[38;5;124mD0\u001b[39m\u001b[38;5;124m%\u001b[39m\u001b[38;5;124mB5\u001b[39m\u001b[38;5;124m%\u001b[39m\u001b[38;5;124mD0\u001b[39m\u001b[38;5;124m%\u001b[39m\u001b[38;5;124mBB\u001b[39m\u001b[38;5;124m%\u001b[39m\u001b[38;5;124mD0\u001b[39m\u001b[38;5;124m%\u001b[39m\u001b[38;5;124mB5\u001b[39m\u001b[38;5;124m%\u001b[39m\u001b[38;5;124mD0\u001b[39m\u001b[38;5;124m%\u001b[39m\u001b[38;5;124mB9&stable=1\u001b[39m\u001b[38;5;124m\"\u001b[39m\n\u001b[0;32m      3\u001b[0m )\u001b[38;5;241m.\u001b[39mtext\n\u001b[0;32m      5\u001b[0m souped_webpage \u001b[38;5;241m=\u001b[39m BeautifulSoup(webpage_countries_population, \u001b[38;5;124m\"\u001b[39m\u001b[38;5;124mlxml\u001b[39m\u001b[38;5;124m\"\u001b[39m)\n",
      "\u001b[1;31mNameError\u001b[0m: name 'requests' is not defined"
     ]
    }
   ],
   "source": [
    "webpage_countries_population = requests.get(\n",
    "    \"https://ru.wikipedia.org/w/index.php?title=%D0%A1%D0%BF%D0%B8%D1%81%D0%BE%D0%BA_%D0%B3%D0%BE%D1%80%D0%BE%D0%B4%D0%BE%D0%B2_%D0%A0%D0%BE%D1%81%D1%81%D0%B8%D0%B8_%D1%81_%D0%BD%D0%B0%D1%81%D0%B5%D0%BB%D0%B5%D0%BD%D0%B8%D0%B5%D0%BC_%D0%B1%D0%BE%D0%BB%D0%B5%D0%B5_100_%D1%82%D1%8B%D1%81%D1%8F%D1%87_%D0%B6%D0%B8%D1%82%D0%B5%D0%BB%D0%B5%D0%B9&stable=1\"\n",
    ").text\n",
    "\n",
    "souped_webpage = BeautifulSoup(webpage_countries_population, \"lxml\")"
   ]
  },
  {
   "cell_type": "code",
   "execution_count": null,
   "metadata": {},
   "outputs": [],
   "source": [
    "population_table = souped_webpage.find(\"table\", {\"class\": \"wikitable sortable\"})\n",
    "population_table = pd.read_html(str(population_table))[0]"
   ]
  },
  {
   "cell_type": "code",
   "execution_count": null,
   "metadata": {},
   "outputs": [],
   "source": [
    "pd.read_html(str(population_table))[0]"
   ]
  },
  {
   "cell_type": "code",
   "execution_count": null,
   "metadata": {},
   "outputs": [],
   "source": [
    "population_table[\"Население, тыс. человек\"][\"2020\"]"
   ]
  },
  {
   "cell_type": "code",
   "execution_count": null,
   "metadata": {},
   "outputs": [],
   "source": [
    "population_table[\"Население, тыс. человек\"][\"2020\"].mean()"
   ]
  },
  {
   "cell_type": "code",
   "execution_count": null,
   "metadata": {},
   "outputs": [],
   "source": []
  }
 ],
 "metadata": {
  "kernelspec": {
   "display_name": "Python 3",
   "language": "python",
   "name": "python3"
  },
  "language_info": {
   "codemirror_mode": {
    "name": "ipython",
    "version": 3
   },
   "file_extension": ".py",
   "mimetype": "text/x-python",
   "name": "python",
   "nbconvert_exporter": "python",
   "pygments_lexer": "ipython3",
   "version": "3.11.5"
  }
 },
 "nbformat": 4,
 "nbformat_minor": 4
}
